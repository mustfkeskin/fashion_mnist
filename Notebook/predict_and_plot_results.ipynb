{
 "cells": [
  {
   "cell_type": "markdown",
   "metadata": {},
   "source": [
    "# İçerik\n",
    "\n",
    "# 1.Predict and Plot History \n",
    "1. [Library](#ch0)\n",
    "1. [Load Data for Ensemble and Stacking](#ch1)\n",
    "1. [Load Pickles and Predict](#ch2)\n",
    "1. [Calculate Test Accuracy](#ch3)\n",
    "1. [Majority Voting](#ch4)\n",
    "1. [Stacking](#ch5)\n",
    "1. [Order By Accuracy](#ch6)\n",
    "1. [Plot History](#ch7)\n",
    "1. [Cohen Kappa Scores](#ch8)"
   ]
  },
  {
   "cell_type": "markdown",
   "metadata": {},
   "source": [
    "<a id=\"ch0\"></a>\n",
    "# Library"
   ]
  },
  {
   "cell_type": "code",
   "execution_count": 1,
   "metadata": {},
   "outputs": [
    {
     "name": "stderr",
     "output_type": "stream",
     "text": [
      "Using TensorFlow backend.\n"
     ]
    },
    {
     "name": "stdout",
     "output_type": "stream",
     "text": [
      "Couldn't import dot_parser, loading of dot files will not be possible.\n"
     ]
    },
    {
     "data": {
      "text/html": [
       "<script type=\"text/javascript\">window.PlotlyConfig = {MathJaxConfig: 'local'};</script><script type=\"text/javascript\">if (window.MathJax) {MathJax.Hub.Config({SVG: {font: \"STIX-Web\"}});}</script><script>requirejs.config({paths: { 'plotly': ['https://cdn.plot.ly/plotly-latest.min']},});if(!window._Plotly) {require(['plotly'],function(plotly) {window._Plotly=plotly;});}</script>"
      ],
      "text/vnd.plotly.v1+html": [
       "<script type=\"text/javascript\">window.PlotlyConfig = {MathJaxConfig: 'local'};</script><script type=\"text/javascript\">if (window.MathJax) {MathJax.Hub.Config({SVG: {font: \"STIX-Web\"}});}</script><script>requirejs.config({paths: { 'plotly': ['https://cdn.plot.ly/plotly-latest.min']},});if(!window._Plotly) {require(['plotly'],function(plotly) {window._Plotly=plotly;});}</script>"
      ]
     },
     "metadata": {},
     "output_type": "display_data"
    }
   ],
   "source": [
    "import glob\n",
    "import pickle\n",
    "import pandas as pd\n",
    "import numpy as np\n",
    "\n",
    "import sys\n",
    "sys.path.insert(0,'..')\n",
    "\n",
    "from utils import util, cv_models\n",
    "from keras.utils import to_categorical\n",
    "from keras import backend as K\n",
    "\n",
    "from sklearn.model_selection import train_test_split\n",
    "from sklearn.metrics import accuracy_score\n",
    "\n",
    "from plotly.offline import download_plotlyjs, init_notebook_mode, plot, iplot\n",
    "init_notebook_mode(connected=True)\n",
    "%matplotlib inline \n",
    "\n",
    "\n",
    "pickles = glob.glob('../Models/*.pickle')"
   ]
  },
  {
   "cell_type": "markdown",
   "metadata": {},
   "source": [
    "<a id=\"ch1\"></a>\n",
    "# Load Data for Ensemble and Stacking"
   ]
  },
  {
   "cell_type": "code",
   "execution_count": 2,
   "metadata": {},
   "outputs": [],
   "source": [
    "data_train = pd.read_csv('../Data/fashion-mnist_train.csv')\n",
    "data_test  = pd.read_csv('../Data/fashion-mnist_test.csv')\n",
    "\n",
    "target_names = {0:\"T-shirt/top\",\n",
    "                1:\"Trouser\",\n",
    "                2:\"Pullover\",\n",
    "                3:\"Dress\",\n",
    "                4:\"Coat\",\n",
    "                5:\"Sandal\",\n",
    "                6:\"Shirt\",\n",
    "                7:\"Sneaker\",\n",
    "                8:\"Bag\",\n",
    "                9:\"Ankle boot\"}"
   ]
  },
  {
   "cell_type": "code",
   "execution_count": 3,
   "metadata": {},
   "outputs": [],
   "source": [
    "X = np.array(data_train.iloc[:, 1:])\n",
    "y = to_categorical(np.array(data_train.iloc[:, 0]))\n",
    "\n",
    "# Split train and validation data\n",
    "#set random_state for reproduceable result\n",
    "X_train, X_val, y_train, y_val = train_test_split(X, y, test_size=0.2, random_state=13)\n",
    "\n",
    "\n",
    "#Test data\n",
    "X_test = np.array(data_test.iloc[:, 1:])\n",
    "y_test = to_categorical(np.array(data_test.iloc[:, 0]))\n",
    "\n",
    "X_train = X_train.astype('float32')\n",
    "X_test  = X_test.astype('float32')\n",
    "X_val   = X_val.astype('float32')\n",
    "\n",
    "\n",
    "X_train /= 255\n",
    "X_test  /= 255\n",
    "X_val   /= 255\n",
    "\n",
    "\n",
    "#get the indices to be plotted\n",
    "y_test_true  = data_test.iloc[:, 0]\n",
    "y_train_true = np.argmax(y_train, axis=1, out=None)"
   ]
  },
  {
   "cell_type": "raw",
   "metadata": {},
   "source": [
    "# Flat Input\n",
    "X_train_flat = X_train\n",
    "X_test_flat  = X_test\n",
    "X_val_flat   = X_val\n",
    "\n",
    "# 28x28 Images for simple CNN\n",
    "img_rows, img_cols = 28, 28\n",
    "input_shape = (img_rows, img_cols, 1)\n",
    "\n",
    "X_train28 = X_train.reshape(X_train.shape[0], img_rows, img_cols, 1)\n",
    "X_test28  = X_test.reshape(X_test.shape[0], img_rows, img_cols, 1)\n",
    "X_val28   = X_val.reshape(X_val.shape[0], img_rows, img_cols, 1)\n",
    "\n",
    "# 32x32 Images for Deeper Architecture\n",
    "X_train32 = util.resize_32x32(X_train)\n",
    "X_val32   = util.resize_32x32(X_val)\n",
    "X_test32  = util.resize_32x32(X_test)"
   ]
  },
  {
   "cell_type": "code",
   "execution_count": 4,
   "metadata": {},
   "outputs": [],
   "source": [
    "flat  = ['mlp']\n",
    "\n",
    "inp28 = ['simpleCNN',   \\\n",
    "         'CNNDropout',  \\\n",
    "         'CNNBatchNorm']\n",
    "\n",
    "inp32 = ['Resnet50', \\\n",
    "         'mobileNetV2', \\\n",
    "         'wideResnet', \\\n",
    "         'NASNet', \\\n",
    "         'simpleVGG',      \\\n",
    "         'simpleInception',\\\n",
    "         'simpleResnet' ]"
   ]
  },
  {
   "cell_type": "markdown",
   "metadata": {},
   "source": [
    "<a id=\"ch2\"></a>\n",
    "# Load Pickles and Predict"
   ]
  },
  {
   "cell_type": "raw",
   "metadata": {},
   "source": [
    "dfs = pd.DataFrame()\n",
    "train_pred_df = pd.DataFrame()\n",
    "test_pred_df  = pd.DataFrame()\n",
    "val_pred_df   = pd.DataFrame()\n",
    "history_dict  = {}\n",
    "\n",
    "\n",
    "for pickle_path in pickles:\n",
    "    if(\"metrics\" in pickle_path):\n",
    "        model = pickle_path[10:].split(\"_\")[0]\n",
    "        with open(pickle_path, 'rb') as f:\n",
    "            df = pickle.load(f)\n",
    "        \n",
    "        df[\"model\"] = model\n",
    "        dfs = dfs.append(df)\n",
    "    else:\n",
    "        with open(pickle_path, 'rb') as f:\n",
    "            nn = pickle.load(f)\n",
    "            model = pickle_path[10:].split(\"_\")[0]\n",
    "            if(model in flat):\n",
    "\n",
    "                X_train = X_train_flat\n",
    "                X_test  = X_test_flat\n",
    "                X_val   = X_val_flat   \n",
    "            \n",
    "            elif(model in inp28):\n",
    "                X_train = X_train28\n",
    "                X_test  = X_test28\n",
    "                X_val   = X_val28\n",
    "\n",
    "            elif(model in inp32):\n",
    "                X_train = X_train32\n",
    "                X_test  = X_test32\n",
    "                X_val   = X_val32\n",
    "            \n",
    "            model = pickle_path[10:].split(\".\")[0]\n",
    "            \n",
    "            y_pred  = nn.model.predict(X_train)\n",
    "            y_pred  = np.argmax(y_pred, axis=1)\n",
    "            train_pred_df[model] = y_pred\n",
    "            \n",
    "            y_pred  = nn.model.predict(X_test)\n",
    "            y_pred  = np.argmax(y_pred,axis=1)\n",
    "            test_pred_df[model] = y_pred\n",
    "            \n",
    "            y_pred  = nn.model.predict(X_val)\n",
    "            y_pred  = np.argmax(y_pred,axis=1)\n",
    "            val_pred_df[model] = y_pred\n",
    "            \n",
    "            history_dict[model] = nn.history\n",
    "            \n",
    "            K.clear_session()"
   ]
  },
  {
   "cell_type": "raw",
   "metadata": {},
   "source": [
    "with open(\"../Models/all_prfs.pickle\", \"wb\") as f:\n",
    "    pickle.dump(dfs, f)\n",
    "       \n",
    "with open(\"../Models/pred_train.pickle\", \"wb\") as f:\n",
    "    pickle.dump(train_pred_df, f)\n",
    "    \n",
    "with open(\"../Models/pred_test.pickle\", \"wb\") as f:\n",
    "    pickle.dump(test_pred_df, f)\n",
    "    \n",
    "with open(\"../Models/pred_val.pickle\", \"wb\") as f:\n",
    "    pickle.dump(val_pred_df, f)\n",
    "    \n",
    "with open(\"../Models/all_history.pickle\", \"wb\") as f:\n",
    "    pickle.dump(history_dict, f)"
   ]
  },
  {
   "cell_type": "code",
   "execution_count": 5,
   "metadata": {},
   "outputs": [],
   "source": [
    "with open(\"../Models/all_prfs.pickle\", \"rb\") as f:\n",
    "    dfs = pickle.load(f)\n",
    "       \n",
    "with open(\"../Models/pred_train.pickle\", \"rb\") as f:\n",
    "    train_pred_df = pickle.load(f)\n",
    "    \n",
    "with open(\"../Models/pred_test.pickle\", \"rb\") as f:\n",
    "    test_pred_df = pickle.load(f)\n",
    "    \n",
    "with open(\"../Models/pred_val.pickle\", \"rb\") as f:\n",
    "    val_pred_df = pickle.load(f)\n",
    "    \n",
    "with open(\"../Models/all_history.pickle\", \"rb\") as f:\n",
    "    history_dict = pickle.load(f)"
   ]
  },
  {
   "cell_type": "markdown",
   "metadata": {},
   "source": [
    "<a id=\"ch3\"></a>\n",
    "# Calculate Test Accuracy"
   ]
  },
  {
   "cell_type": "code",
   "execution_count": 6,
   "metadata": {},
   "outputs": [],
   "source": [
    "test_scores = {}\n",
    "\n",
    "for col in test_pred_df:\n",
    "    acc = accuracy_score(y_test_true, test_pred_df[col])\n",
    "    test_scores[col] = acc"
   ]
  },
  {
   "cell_type": "markdown",
   "metadata": {},
   "source": [
    "<a id=\"ch4\"></a>\n",
    "# Majority Voting"
   ]
  },
  {
   "cell_type": "code",
   "execution_count": 7,
   "metadata": {},
   "outputs": [
    {
     "data": {
      "text/plain": [
       "0.9429"
      ]
     },
     "execution_count": 7,
     "metadata": {},
     "output_type": "execute_result"
    }
   ],
   "source": [
    "y_pred      = util.majorityVoting(test_pred_df, y_test_true, target_names)\n",
    "acc         = accuracy_score(y_test_true, y_pred)\n",
    "test_scores[\"majority_voting\"] = acc\n",
    "\n",
    "acc"
   ]
  },
  {
   "cell_type": "markdown",
   "metadata": {},
   "source": [
    "<a id=\"ch5\"></a>\n",
    "# Stacking"
   ]
  },
  {
   "cell_type": "code",
   "execution_count": 8,
   "metadata": {},
   "outputs": [
    {
     "name": "stdout",
     "output_type": "stream",
     "text": [
      "WARNING:tensorflow:From /home/mustafa/anaconda3/lib/python3.6/site-packages/tensorflow/python/framework/op_def_library.py:263: colocate_with (from tensorflow.python.framework.ops) is deprecated and will be removed in a future version.\n",
      "Instructions for updating:\n",
      "Colocations handled automatically by placer.\n",
      "WARNING:tensorflow:From /home/mustafa/anaconda3/lib/python3.6/site-packages/keras/backend/tensorflow_backend.py:3445: calling dropout (from tensorflow.python.ops.nn_ops) with keep_prob is deprecated and will be removed in a future version.\n",
      "Instructions for updating:\n",
      "Please use `rate` instead of `keep_prob`. Rate should be set to `rate = 1 - keep_prob`.\n",
      "WARNING:tensorflow:From /home/mustafa/anaconda3/lib/python3.6/site-packages/tensorflow/python/ops/math_ops.py:3066: to_int32 (from tensorflow.python.ops.math_ops) is deprecated and will be removed in a future version.\n",
      "Instructions for updating:\n",
      "Use tf.cast instead.\n",
      "Test loss: 0.6228298036262393\n",
      "Test accuracy: 0.9204\n"
     ]
    }
   ],
   "source": [
    "X_train = np.array(train_pred_df)\n",
    "X_test  = np.array(test_pred_df)\n",
    "\n",
    "\n",
    "stacking = cv_models.buildStacking()\n",
    "history  = stacking.fit(X_train,\n",
    "                        y_train,\n",
    "                        batch_size=128,\n",
    "                        epochs=10,\n",
    "                        verbose=0)\n",
    "    \n",
    "# evulation\n",
    "score = stacking.evaluate(X_test, y_test, verbose=0)\n",
    "y_pred, metrics = util.get_pred_and_metrics(stacking,\n",
    "                                            X_test,\n",
    "                                            y_test_true,\n",
    "                                            target_names)\n",
    "\n",
    "\n",
    "test_scores[\"stacking\"] = score[1]\n",
    "print('Test loss:', score[0])\n",
    "print('Test accuracy:', score[1])"
   ]
  },
  {
   "cell_type": "markdown",
   "metadata": {},
   "source": [
    "<a id=\"ch6\"></a>\n",
    "# Order By Accuracy"
   ]
  },
  {
   "cell_type": "code",
   "execution_count": 9,
   "metadata": {},
   "outputs": [
    {
     "data": {
      "text/html": [
       "<div>\n",
       "<style scoped>\n",
       "    .dataframe tbody tr th:only-of-type {\n",
       "        vertical-align: middle;\n",
       "    }\n",
       "\n",
       "    .dataframe tbody tr th {\n",
       "        vertical-align: top;\n",
       "    }\n",
       "\n",
       "    .dataframe thead th {\n",
       "        text-align: right;\n",
       "    }\n",
       "</style>\n",
       "<table border=\"1\" class=\"dataframe\">\n",
       "  <thead>\n",
       "    <tr style=\"text-align: right;\">\n",
       "      <th></th>\n",
       "      <th>model_name</th>\n",
       "      <th>test_acc</th>\n",
       "    </tr>\n",
       "  </thead>\n",
       "  <tbody>\n",
       "    <tr>\n",
       "      <th>0</th>\n",
       "      <td>simpleVGG_hist_dataAug</td>\n",
       "      <td>0.9439</td>\n",
       "    </tr>\n",
       "    <tr>\n",
       "      <th>1</th>\n",
       "      <td>majority_voting</td>\n",
       "      <td>0.9429</td>\n",
       "    </tr>\n",
       "    <tr>\n",
       "      <th>2</th>\n",
       "      <td>simpleVGG_hist</td>\n",
       "      <td>0.9366</td>\n",
       "    </tr>\n",
       "    <tr>\n",
       "      <th>3</th>\n",
       "      <td>wideResnet_hist_dataAug</td>\n",
       "      <td>0.9333</td>\n",
       "    </tr>\n",
       "    <tr>\n",
       "      <th>4</th>\n",
       "      <td>CNNBatchNorm_hist</td>\n",
       "      <td>0.9333</td>\n",
       "    </tr>\n",
       "    <tr>\n",
       "      <th>5</th>\n",
       "      <td>wideResnet_hist</td>\n",
       "      <td>0.9270</td>\n",
       "    </tr>\n",
       "    <tr>\n",
       "      <th>6</th>\n",
       "      <td>simpleResnet_hist_dataAug</td>\n",
       "      <td>0.9250</td>\n",
       "    </tr>\n",
       "    <tr>\n",
       "      <th>7</th>\n",
       "      <td>CNNDropout_hist</td>\n",
       "      <td>0.9210</td>\n",
       "    </tr>\n",
       "    <tr>\n",
       "      <th>8</th>\n",
       "      <td>stacking</td>\n",
       "      <td>0.9204</td>\n",
       "    </tr>\n",
       "    <tr>\n",
       "      <th>9</th>\n",
       "      <td>simpleResnet_hist</td>\n",
       "      <td>0.9181</td>\n",
       "    </tr>\n",
       "    <tr>\n",
       "      <th>10</th>\n",
       "      <td>simpleInception_hist</td>\n",
       "      <td>0.9167</td>\n",
       "    </tr>\n",
       "    <tr>\n",
       "      <th>11</th>\n",
       "      <td>mobileNetV2_hist_dataAug</td>\n",
       "      <td>0.9157</td>\n",
       "    </tr>\n",
       "    <tr>\n",
       "      <th>12</th>\n",
       "      <td>mobileNetV2_hist</td>\n",
       "      <td>0.9145</td>\n",
       "    </tr>\n",
       "    <tr>\n",
       "      <th>13</th>\n",
       "      <td>simpleCNN_hist_dataAug</td>\n",
       "      <td>0.9097</td>\n",
       "    </tr>\n",
       "    <tr>\n",
       "      <th>14</th>\n",
       "      <td>simpleCNN_hist</td>\n",
       "      <td>0.9076</td>\n",
       "    </tr>\n",
       "    <tr>\n",
       "      <th>15</th>\n",
       "      <td>CNNBatchNorm_hist_dataAug</td>\n",
       "      <td>0.9049</td>\n",
       "    </tr>\n",
       "    <tr>\n",
       "      <th>16</th>\n",
       "      <td>mlp_hist</td>\n",
       "      <td>0.8917</td>\n",
       "    </tr>\n",
       "    <tr>\n",
       "      <th>17</th>\n",
       "      <td>CNNDropout_hist_dataAug</td>\n",
       "      <td>0.8874</td>\n",
       "    </tr>\n",
       "    <tr>\n",
       "      <th>18</th>\n",
       "      <td>simpleInception_hist_dataAug</td>\n",
       "      <td>0.7164</td>\n",
       "    </tr>\n",
       "  </tbody>\n",
       "</table>\n",
       "</div>"
      ],
      "text/plain": [
       "                      model_name  test_acc\n",
       "0         simpleVGG_hist_dataAug    0.9439\n",
       "1                majority_voting    0.9429\n",
       "2                 simpleVGG_hist    0.9366\n",
       "3        wideResnet_hist_dataAug    0.9333\n",
       "4              CNNBatchNorm_hist    0.9333\n",
       "5                wideResnet_hist    0.9270\n",
       "6      simpleResnet_hist_dataAug    0.9250\n",
       "7                CNNDropout_hist    0.9210\n",
       "8                       stacking    0.9204\n",
       "9              simpleResnet_hist    0.9181\n",
       "10          simpleInception_hist    0.9167\n",
       "11      mobileNetV2_hist_dataAug    0.9157\n",
       "12              mobileNetV2_hist    0.9145\n",
       "13        simpleCNN_hist_dataAug    0.9097\n",
       "14                simpleCNN_hist    0.9076\n",
       "15     CNNBatchNorm_hist_dataAug    0.9049\n",
       "16                      mlp_hist    0.8917\n",
       "17       CNNDropout_hist_dataAug    0.8874\n",
       "18  simpleInception_hist_dataAug    0.7164"
      ]
     },
     "execution_count": 9,
     "metadata": {},
     "output_type": "execute_result"
    }
   ],
   "source": [
    "test_scores = pd.DataFrame(test_scores.items(), columns=[\"model_name\", \"test_acc\"])\n",
    "test_scores = test_scores.sort_values([\"test_acc\"], ascending=False).reset_index(drop = True)\n",
    "test_scores"
   ]
  },
  {
   "cell_type": "markdown",
   "metadata": {},
   "source": [
    "<a id=\"ch7\"></a>\n",
    "# Plot History"
   ]
  },
  {
   "cell_type": "code",
   "execution_count": 10,
   "metadata": {
    "scrolled": false
   },
   "outputs": [
    {
     "name": "stdout",
     "output_type": "stream",
     "text": [
      "CNNDropout_hist_dataAug\n",
      "This is the format of your plot grid:\n",
      "[ (1,1) x1,y1 ]  [ (1,2) x2,y2 ]\n",
      "\n"
     ]
    },
    {
     "data": {
      "application/vnd.plotly.v1+json": {
       "config": {
        "linkText": "Export to plot.ly",
        "plotlyServerURL": "https://plot.ly",
        "showLink": false
       },
       "data": [
        {
         "marker": {
          "color": "Green"
         },
         "mode": "markers+lines",
         "name": "Training accuracy",
         "text": [
          "1",
          "2",
          "3",
          "4",
          "5",
          "6",
          "7",
          "8",
          "9",
          "10",
          "11",
          "12",
          "13",
          "14",
          "15",
          "16",
          "17",
          "18",
          "19",
          "20",
          "21",
          "22",
          "23",
          "24",
          "25",
          "26",
          "27",
          "28",
          "29",
          "30",
          "31",
          "32",
          "33",
          "34",
          "35",
          "36",
          "37",
          "38",
          "39",
          "40",
          "41",
          "42",
          "43",
          "44",
          "45",
          "46",
          "47",
          "48",
          "49",
          "50"
         ],
         "type": "scatter",
         "uid": "b9689b33-d641-4ac9-a9db-8ca7b71d28b7",
         "x": [
          1,
          2,
          3,
          4,
          5,
          6,
          7,
          8,
          9,
          10,
          11,
          12,
          13,
          14,
          15,
          16,
          17,
          18,
          19,
          20,
          21,
          22,
          23,
          24,
          25,
          26,
          27,
          28,
          29,
          30,
          31,
          32,
          33,
          34,
          35,
          36,
          37,
          38,
          39,
          40,
          41,
          42,
          43,
          44,
          45,
          46,
          47,
          48,
          49,
          50
         ],
         "xaxis": "x",
         "y": [
          0.2511041666666667,
          0.5396875,
          0.5958333333333333,
          0.6304583333333333,
          0.6536875,
          0.6751041666666666,
          0.6887291666666666,
          0.7042708333333333,
          0.7158958333333333,
          0.7265625,
          0.73575,
          0.7414375,
          0.7514583333333333,
          0.7586875,
          0.7667708333333333,
          0.766625,
          0.7738958333333333,
          0.7788333333333334,
          0.7821875,
          0.7882291666666666,
          0.7943541666666667,
          0.7977916666666667,
          0.7987916666666667,
          0.8027708333333333,
          0.8029166666666666,
          0.8035,
          0.8077083333333334,
          0.8086666666666666,
          0.8104375,
          0.8126458333333333,
          0.8130416666666667,
          0.8181458333333333,
          0.8167291666666666,
          0.819,
          0.8200416666666667,
          0.8204166666666667,
          0.8178541666666667,
          0.8214583333333333,
          0.8223958333333333,
          0.8220625,
          0.8241875,
          0.8239375,
          0.8260416666666667,
          0.8267083333333334,
          0.8273541666666666,
          0.8268333333333333,
          0.8290416666666667,
          0.8300833333333333,
          0.8302083333333333,
          0.8301875
         ],
         "yaxis": "y"
        },
        {
         "marker": {
          "color": "Red"
         },
         "mode": "markers+lines",
         "name": "Validation accuracy",
         "text": [
          "1",
          "2",
          "3",
          "4",
          "5",
          "6",
          "7",
          "8",
          "9",
          "10",
          "11",
          "12",
          "13",
          "14",
          "15",
          "16",
          "17",
          "18",
          "19",
          "20",
          "21",
          "22",
          "23",
          "24",
          "25",
          "26",
          "27",
          "28",
          "29",
          "30",
          "31",
          "32",
          "33",
          "34",
          "35",
          "36",
          "37",
          "38",
          "39",
          "40",
          "41",
          "42",
          "43",
          "44",
          "45",
          "46",
          "47",
          "48",
          "49",
          "50"
         ],
         "type": "scatter",
         "uid": "2803ce84-4760-464b-816a-f849d1ce9a95",
         "x": [
          1,
          2,
          3,
          4,
          5,
          6,
          7,
          8,
          9,
          10,
          11,
          12,
          13,
          14,
          15,
          16,
          17,
          18,
          19,
          20,
          21,
          22,
          23,
          24,
          25,
          26,
          27,
          28,
          29,
          30,
          31,
          32,
          33,
          34,
          35,
          36,
          37,
          38,
          39,
          40,
          41,
          42,
          43,
          44,
          45,
          46,
          47,
          48,
          49,
          50
         ],
         "xaxis": "x",
         "y": [
          0.6054166666666667,
          0.667,
          0.7056666666666667,
          0.7425,
          0.7614166666666666,
          0.7705833333333333,
          0.7746666666666666,
          0.7906666666666666,
          0.7964166666666667,
          0.8079166666666666,
          0.8129166666666666,
          0.8195,
          0.8205,
          0.8319166666666666,
          0.8383333333333334,
          0.8444166666666667,
          0.84525,
          0.8528333333333333,
          0.8540833333333333,
          0.8588333333333333,
          0.857,
          0.8676666666666667,
          0.8640833333333333,
          0.8725,
          0.87175,
          0.8735,
          0.871,
          0.8738333333333334,
          0.87575,
          0.877,
          0.8761666666666666,
          0.88,
          0.881,
          0.8819166666666667,
          0.8833333333333333,
          0.8820833333333333,
          0.8796666666666667,
          0.88475,
          0.88325,
          0.88525,
          0.8833333333333333,
          0.8869166666666667,
          0.8878333333333334,
          0.8845,
          0.8854166666666666,
          0.8890833333333333,
          0.8878333333333334,
          0.8868333333333334,
          0.8845,
          0.8856666666666667
         ],
         "yaxis": "y"
        },
        {
         "marker": {
          "color": "Blue"
         },
         "mode": "markers+lines",
         "name": "Training loss",
         "text": [
          "1",
          "2",
          "3",
          "4",
          "5",
          "6",
          "7",
          "8",
          "9",
          "10",
          "11",
          "12",
          "13",
          "14",
          "15",
          "16",
          "17",
          "18",
          "19",
          "20",
          "21",
          "22",
          "23",
          "24",
          "25",
          "26",
          "27",
          "28",
          "29",
          "30",
          "31",
          "32",
          "33",
          "34",
          "35",
          "36",
          "37",
          "38",
          "39",
          "40",
          "41",
          "42",
          "43",
          "44",
          "45",
          "46",
          "47",
          "48",
          "49",
          "50"
         ],
         "type": "scatter",
         "uid": "8ffb380b-190c-41c3-b25d-4d62c0f06e8a",
         "x": [
          1,
          2,
          3,
          4,
          5,
          6,
          7,
          8,
          9,
          10,
          11,
          12,
          13,
          14,
          15,
          16,
          17,
          18,
          19,
          20,
          21,
          22,
          23,
          24,
          25,
          26,
          27,
          28,
          29,
          30,
          31,
          32,
          33,
          34,
          35,
          36,
          37,
          38,
          39,
          40,
          41,
          42,
          43,
          44,
          45,
          46,
          47,
          48,
          49,
          50
         ],
         "xaxis": "x2",
         "y": [
          3.366165488084157,
          1.2196680454413096,
          1.0681542768478394,
          0.9795791873137156,
          0.9034603559176128,
          0.8536359426180522,
          0.8165741091569265,
          0.7755577929019928,
          0.7463316422700882,
          0.7206774988174438,
          0.6924395069281261,
          0.6779244126081466,
          0.6568390004237493,
          0.6383773588339487,
          0.6179736079374949,
          0.6114143784840902,
          0.5964462761878967,
          0.5887931452592214,
          0.5765896915594737,
          0.5674839742581049,
          0.5529364688396454,
          0.5428347222407659,
          0.5376069759130477,
          0.5291310827732086,
          0.5308376196622848,
          0.5251030370791753,
          0.5163369739055633,
          0.512810111006101,
          0.5093212697108587,
          0.5118531107107799,
          0.5045474645495415,
          0.4980648502310117,
          0.4921679846843084,
          0.49168901763359707,
          0.49073073983192445,
          0.4910377029776573,
          0.4916876655220985,
          0.4845098000566165,
          0.48165221520264945,
          0.4786855231722196,
          0.4766209002335866,
          0.47710034463802975,
          0.47581748545169833,
          0.4717064172824224,
          0.46699716530243557,
          0.4665214143196742,
          0.46725967607895535,
          0.46416836287577945,
          0.4620674291650454,
          0.45956844089428583
         ],
         "yaxis": "y2"
        },
        {
         "marker": {
          "color": "Magenta"
         },
         "mode": "markers+lines",
         "name": "Validation loss",
         "text": [
          "1",
          "2",
          "3",
          "4",
          "5",
          "6",
          "7",
          "8",
          "9",
          "10",
          "11",
          "12",
          "13",
          "14",
          "15",
          "16",
          "17",
          "18",
          "19",
          "20",
          "21",
          "22",
          "23",
          "24",
          "25",
          "26",
          "27",
          "28",
          "29",
          "30",
          "31",
          "32",
          "33",
          "34",
          "35",
          "36",
          "37",
          "38",
          "39",
          "40",
          "41",
          "42",
          "43",
          "44",
          "45",
          "46",
          "47",
          "48",
          "49",
          "50"
         ],
         "type": "scatter",
         "uid": "feaa9397-a544-4884-bd5a-073089300df8",
         "x": [
          1,
          2,
          3,
          4,
          5,
          6,
          7,
          8,
          9,
          10,
          11,
          12,
          13,
          14,
          15,
          16,
          17,
          18,
          19,
          20,
          21,
          22,
          23,
          24,
          25,
          26,
          27,
          28,
          29,
          30,
          31,
          32,
          33,
          34,
          35,
          36,
          37,
          38,
          39,
          40,
          41,
          42,
          43,
          44,
          45,
          46,
          47,
          48,
          49,
          50
         ],
         "xaxis": "x2",
         "y": [
          1.0286855971018474,
          0.8397514142990112,
          0.7472856820424397,
          0.6639254666964213,
          0.6166188287734985,
          0.5869289026260376,
          0.5756863095760345,
          0.5317719795703888,
          0.5183641764322917,
          0.4990271452267965,
          0.4863603811264038,
          0.4676524341106415,
          0.4549311267534892,
          0.4379876357714335,
          0.42018271327018736,
          0.4078362234433492,
          0.39873589714368185,
          0.38922771469751993,
          0.38299757726987205,
          0.3778137060801188,
          0.37270669523874916,
          0.358526130437851,
          0.3546563016573588,
          0.34297579948107404,
          0.340425009171168,
          0.3371421507994334,
          0.3380035359064738,
          0.3370984862645467,
          0.3300471645991008,
          0.3256085761388143,
          0.32483590324719747,
          0.3207315106391907,
          0.31273864952723185,
          0.313552264213562,
          0.30964445567131044,
          0.31389356263478596,
          0.3174582897027334,
          0.307443793853124,
          0.3097069839636485,
          0.30832130336761476,
          0.30636823137601216,
          0.29567752647399903,
          0.3008799208799998,
          0.3054881773789724,
          0.29749477036794025,
          0.2981771474679311,
          0.29498589475949605,
          0.2968630244731903,
          0.299985090414683,
          0.30907766302426654
         ],
         "yaxis": "y2"
        }
       ],
       "layout": {
        "annotations": [
         {
          "font": {
           "size": 16
          },
          "showarrow": false,
          "text": "Training and validation accuracy",
          "x": 0.225,
          "xanchor": "center",
          "xref": "paper",
          "y": 1,
          "yanchor": "bottom",
          "yref": "paper"
         },
         {
          "font": {
           "size": 16
          },
          "showarrow": false,
          "text": "Training and validation loss",
          "x": 0.775,
          "xanchor": "center",
          "xref": "paper",
          "y": 1,
          "yanchor": "bottom",
          "yref": "paper"
         }
        ],
        "xaxis": {
         "anchor": "y",
         "domain": [
          0,
          0.45
         ],
         "title": {
          "text": "Epoch"
         }
        },
        "xaxis2": {
         "anchor": "y2",
         "domain": [
          0.55,
          1
         ],
         "title": {
          "text": "Epoch"
         }
        },
        "yaxis": {
         "anchor": "x",
         "domain": [
          0,
          1
         ],
         "range": [
          0,
          1
         ],
         "title": {
          "text": "Accuracy"
         }
        },
        "yaxis2": {
         "anchor": "x2",
         "domain": [
          0,
          1
         ],
         "range": [
          0,
          1
         ],
         "title": {
          "text": "Loss"
         }
        }
       }
      },
      "text/html": [
       "<div id=\"86f5a7ae-1047-4893-b648-7cb754979dc6\" style=\"height: 525px; width: 100%;\" class=\"plotly-graph-div\"></div><script type=\"text/javascript\">require([\"plotly\"], function(Plotly) { window.PLOTLYENV=window.PLOTLYENV || {};window.PLOTLYENV.BASE_URL=\"https://plot.ly\";Plotly.newPlot(\"86f5a7ae-1047-4893-b648-7cb754979dc6\", [{\"marker\": {\"color\": \"Green\"}, \"mode\": \"markers+lines\", \"name\": \"Training accuracy\", \"text\": [\"1\", \"2\", \"3\", \"4\", \"5\", \"6\", \"7\", \"8\", \"9\", \"10\", \"11\", \"12\", \"13\", \"14\", \"15\", \"16\", \"17\", \"18\", \"19\", \"20\", \"21\", \"22\", \"23\", \"24\", \"25\", \"26\", \"27\", \"28\", \"29\", \"30\", \"31\", \"32\", \"33\", \"34\", \"35\", \"36\", \"37\", \"38\", \"39\", \"40\", \"41\", \"42\", \"43\", \"44\", \"45\", \"46\", \"47\", \"48\", \"49\", \"50\"], \"uid\": \"b9689b33-d641-4ac9-a9db-8ca7b71d28b7\", \"x\": [1, 2, 3, 4, 5, 6, 7, 8, 9, 10, 11, 12, 13, 14, 15, 16, 17, 18, 19, 20, 21, 22, 23, 24, 25, 26, 27, 28, 29, 30, 31, 32, 33, 34, 35, 36, 37, 38, 39, 40, 41, 42, 43, 44, 45, 46, 47, 48, 49, 50], \"xaxis\": \"x\", \"y\": [0.2511041666666667, 0.5396875, 0.5958333333333333, 0.6304583333333333, 0.6536875, 0.6751041666666666, 0.6887291666666666, 0.7042708333333333, 0.7158958333333333, 0.7265625, 0.73575, 0.7414375, 0.7514583333333333, 0.7586875, 0.7667708333333333, 0.766625, 0.7738958333333333, 0.7788333333333334, 0.7821875, 0.7882291666666666, 0.7943541666666667, 0.7977916666666667, 0.7987916666666667, 0.8027708333333333, 0.8029166666666666, 0.8035, 0.8077083333333334, 0.8086666666666666, 0.8104375, 0.8126458333333333, 0.8130416666666667, 0.8181458333333333, 0.8167291666666666, 0.819, 0.8200416666666667, 0.8204166666666667, 0.8178541666666667, 0.8214583333333333, 0.8223958333333333, 0.8220625, 0.8241875, 0.8239375, 0.8260416666666667, 0.8267083333333334, 0.8273541666666666, 0.8268333333333333, 0.8290416666666667, 0.8300833333333333, 0.8302083333333333, 0.8301875], \"yaxis\": \"y\", \"type\": \"scatter\"}, {\"marker\": {\"color\": \"Red\"}, \"mode\": \"markers+lines\", \"name\": \"Validation accuracy\", \"text\": [\"1\", \"2\", \"3\", \"4\", \"5\", \"6\", \"7\", \"8\", \"9\", \"10\", \"11\", \"12\", \"13\", \"14\", \"15\", \"16\", \"17\", \"18\", \"19\", \"20\", \"21\", \"22\", \"23\", \"24\", \"25\", \"26\", \"27\", \"28\", \"29\", \"30\", \"31\", \"32\", \"33\", \"34\", \"35\", \"36\", \"37\", \"38\", \"39\", \"40\", \"41\", \"42\", \"43\", \"44\", \"45\", \"46\", \"47\", \"48\", \"49\", \"50\"], \"uid\": \"2803ce84-4760-464b-816a-f849d1ce9a95\", \"x\": [1, 2, 3, 4, 5, 6, 7, 8, 9, 10, 11, 12, 13, 14, 15, 16, 17, 18, 19, 20, 21, 22, 23, 24, 25, 26, 27, 28, 29, 30, 31, 32, 33, 34, 35, 36, 37, 38, 39, 40, 41, 42, 43, 44, 45, 46, 47, 48, 49, 50], \"xaxis\": \"x\", \"y\": [0.6054166666666667, 0.667, 0.7056666666666667, 0.7425, 0.7614166666666666, 0.7705833333333333, 0.7746666666666666, 0.7906666666666666, 0.7964166666666667, 0.8079166666666666, 0.8129166666666666, 0.8195, 0.8205, 0.8319166666666666, 0.8383333333333334, 0.8444166666666667, 0.84525, 0.8528333333333333, 0.8540833333333333, 0.8588333333333333, 0.857, 0.8676666666666667, 0.8640833333333333, 0.8725, 0.87175, 0.8735, 0.871, 0.8738333333333334, 0.87575, 0.877, 0.8761666666666666, 0.88, 0.881, 0.8819166666666667, 0.8833333333333333, 0.8820833333333333, 0.8796666666666667, 0.88475, 0.88325, 0.88525, 0.8833333333333333, 0.8869166666666667, 0.8878333333333334, 0.8845, 0.8854166666666666, 0.8890833333333333, 0.8878333333333334, 0.8868333333333334, 0.8845, 0.8856666666666667], \"yaxis\": \"y\", \"type\": \"scatter\"}, {\"marker\": {\"color\": \"Blue\"}, \"mode\": \"markers+lines\", \"name\": \"Training loss\", \"text\": [\"1\", \"2\", \"3\", \"4\", \"5\", \"6\", \"7\", \"8\", \"9\", \"10\", \"11\", \"12\", \"13\", \"14\", \"15\", \"16\", \"17\", \"18\", \"19\", \"20\", \"21\", \"22\", \"23\", \"24\", \"25\", \"26\", \"27\", \"28\", \"29\", \"30\", \"31\", \"32\", \"33\", \"34\", \"35\", \"36\", \"37\", \"38\", \"39\", \"40\", \"41\", \"42\", \"43\", \"44\", \"45\", \"46\", \"47\", \"48\", \"49\", \"50\"], \"uid\": \"8ffb380b-190c-41c3-b25d-4d62c0f06e8a\", \"x\": [1, 2, 3, 4, 5, 6, 7, 8, 9, 10, 11, 12, 13, 14, 15, 16, 17, 18, 19, 20, 21, 22, 23, 24, 25, 26, 27, 28, 29, 30, 31, 32, 33, 34, 35, 36, 37, 38, 39, 40, 41, 42, 43, 44, 45, 46, 47, 48, 49, 50], \"xaxis\": \"x2\", \"y\": [3.366165488084157, 1.2196680454413096, 1.0681542768478394, 0.9795791873137156, 0.9034603559176128, 0.8536359426180522, 0.8165741091569265, 0.7755577929019928, 0.7463316422700882, 0.7206774988174438, 0.6924395069281261, 0.6779244126081466, 0.6568390004237493, 0.6383773588339487, 0.6179736079374949, 0.6114143784840902, 0.5964462761878967, 0.5887931452592214, 0.5765896915594737, 0.5674839742581049, 0.5529364688396454, 0.5428347222407659, 0.5376069759130477, 0.5291310827732086, 0.5308376196622848, 0.5251030370791753, 0.5163369739055633, 0.512810111006101, 0.5093212697108587, 0.5118531107107799, 0.5045474645495415, 0.4980648502310117, 0.4921679846843084, 0.49168901763359707, 0.49073073983192445, 0.4910377029776573, 0.4916876655220985, 0.4845098000566165, 0.48165221520264945, 0.4786855231722196, 0.4766209002335866, 0.47710034463802975, 0.47581748545169833, 0.4717064172824224, 0.46699716530243557, 0.4665214143196742, 0.46725967607895535, 0.46416836287577945, 0.4620674291650454, 0.45956844089428583], \"yaxis\": \"y2\", \"type\": \"scatter\"}, {\"marker\": {\"color\": \"Magenta\"}, \"mode\": \"markers+lines\", \"name\": \"Validation loss\", \"text\": [\"1\", \"2\", \"3\", \"4\", \"5\", \"6\", \"7\", \"8\", \"9\", \"10\", \"11\", \"12\", \"13\", \"14\", \"15\", \"16\", \"17\", \"18\", \"19\", \"20\", \"21\", \"22\", \"23\", \"24\", \"25\", \"26\", \"27\", \"28\", \"29\", \"30\", \"31\", \"32\", \"33\", \"34\", \"35\", \"36\", \"37\", \"38\", \"39\", \"40\", \"41\", \"42\", \"43\", \"44\", \"45\", \"46\", \"47\", \"48\", \"49\", \"50\"], \"uid\": \"feaa9397-a544-4884-bd5a-073089300df8\", \"x\": [1, 2, 3, 4, 5, 6, 7, 8, 9, 10, 11, 12, 13, 14, 15, 16, 17, 18, 19, 20, 21, 22, 23, 24, 25, 26, 27, 28, 29, 30, 31, 32, 33, 34, 35, 36, 37, 38, 39, 40, 41, 42, 43, 44, 45, 46, 47, 48, 49, 50], \"xaxis\": \"x2\", \"y\": [1.0286855971018474, 0.8397514142990112, 0.7472856820424397, 0.6639254666964213, 0.6166188287734985, 0.5869289026260376, 0.5756863095760345, 0.5317719795703888, 0.5183641764322917, 0.4990271452267965, 0.4863603811264038, 0.4676524341106415, 0.4549311267534892, 0.4379876357714335, 0.42018271327018736, 0.4078362234433492, 0.39873589714368185, 0.38922771469751993, 0.38299757726987205, 0.3778137060801188, 0.37270669523874916, 0.358526130437851, 0.3546563016573588, 0.34297579948107404, 0.340425009171168, 0.3371421507994334, 0.3380035359064738, 0.3370984862645467, 0.3300471645991008, 0.3256085761388143, 0.32483590324719747, 0.3207315106391907, 0.31273864952723185, 0.313552264213562, 0.30964445567131044, 0.31389356263478596, 0.3174582897027334, 0.307443793853124, 0.3097069839636485, 0.30832130336761476, 0.30636823137601216, 0.29567752647399903, 0.3008799208799998, 0.3054881773789724, 0.29749477036794025, 0.2981771474679311, 0.29498589475949605, 0.2968630244731903, 0.299985090414683, 0.30907766302426654], \"yaxis\": \"y2\", \"type\": \"scatter\"}], {\"annotations\": [{\"font\": {\"size\": 16}, \"showarrow\": false, \"text\": \"Training and validation accuracy\", \"x\": 0.225, \"xanchor\": \"center\", \"xref\": \"paper\", \"y\": 1.0, \"yanchor\": \"bottom\", \"yref\": \"paper\"}, {\"font\": {\"size\": 16}, \"showarrow\": false, \"text\": \"Training and validation loss\", \"x\": 0.775, \"xanchor\": \"center\", \"xref\": \"paper\", \"y\": 1.0, \"yanchor\": \"bottom\", \"yref\": \"paper\"}], \"xaxis\": {\"anchor\": \"y\", \"domain\": [0.0, 0.45], \"title\": {\"text\": \"Epoch\"}}, \"yaxis\": {\"anchor\": \"x\", \"domain\": [0.0, 1.0], \"range\": [0, 1], \"title\": {\"text\": \"Accuracy\"}}, \"xaxis2\": {\"anchor\": \"y2\", \"domain\": [0.55, 1.0], \"title\": {\"text\": \"Epoch\"}}, \"yaxis2\": {\"anchor\": \"x2\", \"domain\": [0.0, 1.0], \"range\": [0, 1], \"title\": {\"text\": \"Loss\"}}}, {\"showLink\": false, \"linkText\": \"Export to plot.ly\", \"plotlyServerURL\": \"https://plot.ly\"})});</script><script type=\"text/javascript\">window.addEventListener(\"resize\", function(){window._Plotly.Plots.resize(document.getElementById(\"86f5a7ae-1047-4893-b648-7cb754979dc6\"));});</script>"
      ],
      "text/vnd.plotly.v1+html": [
       "<div id=\"86f5a7ae-1047-4893-b648-7cb754979dc6\" style=\"height: 525px; width: 100%;\" class=\"plotly-graph-div\"></div><script type=\"text/javascript\">require([\"plotly\"], function(Plotly) { window.PLOTLYENV=window.PLOTLYENV || {};window.PLOTLYENV.BASE_URL=\"https://plot.ly\";Plotly.newPlot(\"86f5a7ae-1047-4893-b648-7cb754979dc6\", [{\"marker\": {\"color\": \"Green\"}, \"mode\": \"markers+lines\", \"name\": \"Training accuracy\", \"text\": [\"1\", \"2\", \"3\", \"4\", \"5\", \"6\", \"7\", \"8\", \"9\", \"10\", \"11\", \"12\", \"13\", \"14\", \"15\", \"16\", \"17\", \"18\", \"19\", \"20\", \"21\", \"22\", \"23\", \"24\", \"25\", \"26\", \"27\", \"28\", \"29\", \"30\", \"31\", \"32\", \"33\", \"34\", \"35\", \"36\", \"37\", \"38\", \"39\", \"40\", \"41\", \"42\", \"43\", \"44\", \"45\", \"46\", \"47\", \"48\", \"49\", \"50\"], \"uid\": \"b9689b33-d641-4ac9-a9db-8ca7b71d28b7\", \"x\": [1, 2, 3, 4, 5, 6, 7, 8, 9, 10, 11, 12, 13, 14, 15, 16, 17, 18, 19, 20, 21, 22, 23, 24, 25, 26, 27, 28, 29, 30, 31, 32, 33, 34, 35, 36, 37, 38, 39, 40, 41, 42, 43, 44, 45, 46, 47, 48, 49, 50], \"xaxis\": \"x\", \"y\": [0.2511041666666667, 0.5396875, 0.5958333333333333, 0.6304583333333333, 0.6536875, 0.6751041666666666, 0.6887291666666666, 0.7042708333333333, 0.7158958333333333, 0.7265625, 0.73575, 0.7414375, 0.7514583333333333, 0.7586875, 0.7667708333333333, 0.766625, 0.7738958333333333, 0.7788333333333334, 0.7821875, 0.7882291666666666, 0.7943541666666667, 0.7977916666666667, 0.7987916666666667, 0.8027708333333333, 0.8029166666666666, 0.8035, 0.8077083333333334, 0.8086666666666666, 0.8104375, 0.8126458333333333, 0.8130416666666667, 0.8181458333333333, 0.8167291666666666, 0.819, 0.8200416666666667, 0.8204166666666667, 0.8178541666666667, 0.8214583333333333, 0.8223958333333333, 0.8220625, 0.8241875, 0.8239375, 0.8260416666666667, 0.8267083333333334, 0.8273541666666666, 0.8268333333333333, 0.8290416666666667, 0.8300833333333333, 0.8302083333333333, 0.8301875], \"yaxis\": \"y\", \"type\": \"scatter\"}, {\"marker\": {\"color\": \"Red\"}, \"mode\": \"markers+lines\", \"name\": \"Validation accuracy\", \"text\": [\"1\", \"2\", \"3\", \"4\", \"5\", \"6\", \"7\", \"8\", \"9\", \"10\", \"11\", \"12\", \"13\", \"14\", \"15\", \"16\", \"17\", \"18\", \"19\", \"20\", \"21\", \"22\", \"23\", \"24\", \"25\", \"26\", \"27\", \"28\", \"29\", \"30\", \"31\", \"32\", \"33\", \"34\", \"35\", \"36\", \"37\", \"38\", \"39\", \"40\", \"41\", \"42\", \"43\", \"44\", \"45\", \"46\", \"47\", \"48\", \"49\", \"50\"], \"uid\": \"2803ce84-4760-464b-816a-f849d1ce9a95\", \"x\": [1, 2, 3, 4, 5, 6, 7, 8, 9, 10, 11, 12, 13, 14, 15, 16, 17, 18, 19, 20, 21, 22, 23, 24, 25, 26, 27, 28, 29, 30, 31, 32, 33, 34, 35, 36, 37, 38, 39, 40, 41, 42, 43, 44, 45, 46, 47, 48, 49, 50], \"xaxis\": \"x\", \"y\": [0.6054166666666667, 0.667, 0.7056666666666667, 0.7425, 0.7614166666666666, 0.7705833333333333, 0.7746666666666666, 0.7906666666666666, 0.7964166666666667, 0.8079166666666666, 0.8129166666666666, 0.8195, 0.8205, 0.8319166666666666, 0.8383333333333334, 0.8444166666666667, 0.84525, 0.8528333333333333, 0.8540833333333333, 0.8588333333333333, 0.857, 0.8676666666666667, 0.8640833333333333, 0.8725, 0.87175, 0.8735, 0.871, 0.8738333333333334, 0.87575, 0.877, 0.8761666666666666, 0.88, 0.881, 0.8819166666666667, 0.8833333333333333, 0.8820833333333333, 0.8796666666666667, 0.88475, 0.88325, 0.88525, 0.8833333333333333, 0.8869166666666667, 0.8878333333333334, 0.8845, 0.8854166666666666, 0.8890833333333333, 0.8878333333333334, 0.8868333333333334, 0.8845, 0.8856666666666667], \"yaxis\": \"y\", \"type\": \"scatter\"}, {\"marker\": {\"color\": \"Blue\"}, \"mode\": \"markers+lines\", \"name\": \"Training loss\", \"text\": [\"1\", \"2\", \"3\", \"4\", \"5\", \"6\", \"7\", \"8\", \"9\", \"10\", \"11\", \"12\", \"13\", \"14\", \"15\", \"16\", \"17\", \"18\", \"19\", \"20\", \"21\", \"22\", \"23\", \"24\", \"25\", \"26\", \"27\", \"28\", \"29\", \"30\", \"31\", \"32\", \"33\", \"34\", \"35\", \"36\", \"37\", \"38\", \"39\", \"40\", \"41\", \"42\", \"43\", \"44\", \"45\", \"46\", \"47\", \"48\", \"49\", \"50\"], \"uid\": \"8ffb380b-190c-41c3-b25d-4d62c0f06e8a\", \"x\": [1, 2, 3, 4, 5, 6, 7, 8, 9, 10, 11, 12, 13, 14, 15, 16, 17, 18, 19, 20, 21, 22, 23, 24, 25, 26, 27, 28, 29, 30, 31, 32, 33, 34, 35, 36, 37, 38, 39, 40, 41, 42, 43, 44, 45, 46, 47, 48, 49, 50], \"xaxis\": \"x2\", \"y\": [3.366165488084157, 1.2196680454413096, 1.0681542768478394, 0.9795791873137156, 0.9034603559176128, 0.8536359426180522, 0.8165741091569265, 0.7755577929019928, 0.7463316422700882, 0.7206774988174438, 0.6924395069281261, 0.6779244126081466, 0.6568390004237493, 0.6383773588339487, 0.6179736079374949, 0.6114143784840902, 0.5964462761878967, 0.5887931452592214, 0.5765896915594737, 0.5674839742581049, 0.5529364688396454, 0.5428347222407659, 0.5376069759130477, 0.5291310827732086, 0.5308376196622848, 0.5251030370791753, 0.5163369739055633, 0.512810111006101, 0.5093212697108587, 0.5118531107107799, 0.5045474645495415, 0.4980648502310117, 0.4921679846843084, 0.49168901763359707, 0.49073073983192445, 0.4910377029776573, 0.4916876655220985, 0.4845098000566165, 0.48165221520264945, 0.4786855231722196, 0.4766209002335866, 0.47710034463802975, 0.47581748545169833, 0.4717064172824224, 0.46699716530243557, 0.4665214143196742, 0.46725967607895535, 0.46416836287577945, 0.4620674291650454, 0.45956844089428583], \"yaxis\": \"y2\", \"type\": \"scatter\"}, {\"marker\": {\"color\": \"Magenta\"}, \"mode\": \"markers+lines\", \"name\": \"Validation loss\", \"text\": [\"1\", \"2\", \"3\", \"4\", \"5\", \"6\", \"7\", \"8\", \"9\", \"10\", \"11\", \"12\", \"13\", \"14\", \"15\", \"16\", \"17\", \"18\", \"19\", \"20\", \"21\", \"22\", \"23\", \"24\", \"25\", \"26\", \"27\", \"28\", \"29\", \"30\", \"31\", \"32\", \"33\", \"34\", \"35\", \"36\", \"37\", \"38\", \"39\", \"40\", \"41\", \"42\", \"43\", \"44\", \"45\", \"46\", \"47\", \"48\", \"49\", \"50\"], \"uid\": \"feaa9397-a544-4884-bd5a-073089300df8\", \"x\": [1, 2, 3, 4, 5, 6, 7, 8, 9, 10, 11, 12, 13, 14, 15, 16, 17, 18, 19, 20, 21, 22, 23, 24, 25, 26, 27, 28, 29, 30, 31, 32, 33, 34, 35, 36, 37, 38, 39, 40, 41, 42, 43, 44, 45, 46, 47, 48, 49, 50], \"xaxis\": \"x2\", \"y\": [1.0286855971018474, 0.8397514142990112, 0.7472856820424397, 0.6639254666964213, 0.6166188287734985, 0.5869289026260376, 0.5756863095760345, 0.5317719795703888, 0.5183641764322917, 0.4990271452267965, 0.4863603811264038, 0.4676524341106415, 0.4549311267534892, 0.4379876357714335, 0.42018271327018736, 0.4078362234433492, 0.39873589714368185, 0.38922771469751993, 0.38299757726987205, 0.3778137060801188, 0.37270669523874916, 0.358526130437851, 0.3546563016573588, 0.34297579948107404, 0.340425009171168, 0.3371421507994334, 0.3380035359064738, 0.3370984862645467, 0.3300471645991008, 0.3256085761388143, 0.32483590324719747, 0.3207315106391907, 0.31273864952723185, 0.313552264213562, 0.30964445567131044, 0.31389356263478596, 0.3174582897027334, 0.307443793853124, 0.3097069839636485, 0.30832130336761476, 0.30636823137601216, 0.29567752647399903, 0.3008799208799998, 0.3054881773789724, 0.29749477036794025, 0.2981771474679311, 0.29498589475949605, 0.2968630244731903, 0.299985090414683, 0.30907766302426654], \"yaxis\": \"y2\", \"type\": \"scatter\"}], {\"annotations\": [{\"font\": {\"size\": 16}, \"showarrow\": false, \"text\": \"Training and validation accuracy\", \"x\": 0.225, \"xanchor\": \"center\", \"xref\": \"paper\", \"y\": 1.0, \"yanchor\": \"bottom\", \"yref\": \"paper\"}, {\"font\": {\"size\": 16}, \"showarrow\": false, \"text\": \"Training and validation loss\", \"x\": 0.775, \"xanchor\": \"center\", \"xref\": \"paper\", \"y\": 1.0, \"yanchor\": \"bottom\", \"yref\": \"paper\"}], \"xaxis\": {\"anchor\": \"y\", \"domain\": [0.0, 0.45], \"title\": {\"text\": \"Epoch\"}}, \"yaxis\": {\"anchor\": \"x\", \"domain\": [0.0, 1.0], \"range\": [0, 1], \"title\": {\"text\": \"Accuracy\"}}, \"xaxis2\": {\"anchor\": \"y2\", \"domain\": [0.55, 1.0], \"title\": {\"text\": \"Epoch\"}}, \"yaxis2\": {\"anchor\": \"x2\", \"domain\": [0.0, 1.0], \"range\": [0, 1], \"title\": {\"text\": \"Loss\"}}}, {\"showLink\": false, \"linkText\": \"Export to plot.ly\", \"plotlyServerURL\": \"https://plot.ly\"})});</script><script type=\"text/javascript\">window.addEventListener(\"resize\", function(){window._Plotly.Plots.resize(document.getElementById(\"86f5a7ae-1047-4893-b648-7cb754979dc6\"));});</script>"
      ]
     },
     "metadata": {},
     "output_type": "display_data"
    },
    {
     "name": "stdout",
     "output_type": "stream",
     "text": [
      "mobileNetV2_hist_dataAug\n",
      "This is the format of your plot grid:\n",
      "[ (1,1) x1,y1 ]  [ (1,2) x2,y2 ]\n",
      "\n"
     ]
    },
    {
     "data": {
      "application/vnd.plotly.v1+json": {
       "config": {
        "linkText": "Export to plot.ly",
        "plotlyServerURL": "https://plot.ly",
        "showLink": false
       },
       "data": [
        {
         "marker": {
          "color": "Green"
         },
         "mode": "markers+lines",
         "name": "Training accuracy",
         "text": [
          "1",
          "2",
          "3",
          "4",
          "5",
          "6",
          "7",
          "8",
          "9",
          "10",
          "11",
          "12",
          "13",
          "14",
          "15",
          "16",
          "17",
          "18",
          "19",
          "20",
          "21",
          "22",
          "23",
          "24",
          "25",
          "26",
          "27",
          "28",
          "29",
          "30",
          "31",
          "32",
          "33",
          "34",
          "35",
          "36",
          "37",
          "38",
          "39",
          "40",
          "41",
          "42",
          "43",
          "44",
          "45",
          "46",
          "47",
          "48",
          "49",
          "50"
         ],
         "type": "scatter",
         "uid": "cbc17c87-842b-4da4-9f9c-a83ff7b64885",
         "x": [
          1,
          2,
          3,
          4,
          5,
          6,
          7,
          8,
          9,
          10,
          11,
          12,
          13,
          14,
          15,
          16,
          17,
          18,
          19,
          20,
          21,
          22,
          23,
          24,
          25,
          26,
          27,
          28,
          29,
          30,
          31,
          32,
          33,
          34,
          35,
          36,
          37,
          38,
          39,
          40,
          41,
          42,
          43,
          44,
          45,
          46,
          47,
          48,
          49,
          50
         ],
         "xaxis": "x",
         "y": [
          0.7166458333333333,
          0.8308958333333333,
          0.8532916666666667,
          0.8536458333333333,
          0.8768541666666667,
          0.8800625,
          0.8895208333333333,
          0.8952916666666667,
          0.87975,
          0.8014166666666667,
          0.7669583333333333,
          0.8356458333333333,
          0.8572083333333333,
          0.8707291666666667,
          0.8832708333333333,
          0.8909375,
          0.8980208333333334,
          0.9007916666666667,
          0.8964166666666666,
          0.9073125,
          0.9085416666666667,
          0.9105416666666667,
          0.9133125,
          0.9172291666666667,
          0.9195833333333333,
          0.9211875,
          0.924875,
          0.9265833333333333,
          0.9285416666666667,
          0.9293125,
          0.9312708333333334,
          0.9327291666666667,
          0.9373125,
          0.9373541666666667,
          0.9395208333333334,
          0.9388958333333334,
          0.94125,
          0.9427708333333333,
          0.945125,
          0.9441875,
          0.9464375,
          0.946625,
          0.9488541666666667,
          0.9504375,
          0.9520625,
          0.9527708333333333,
          0.9523541666666666,
          0.954125,
          0.9549375,
          0.955875
         ],
         "yaxis": "y"
        },
        {
         "marker": {
          "color": "Red"
         },
         "mode": "markers+lines",
         "name": "Validation accuracy",
         "text": [
          "1",
          "2",
          "3",
          "4",
          "5",
          "6",
          "7",
          "8",
          "9",
          "10",
          "11",
          "12",
          "13",
          "14",
          "15",
          "16",
          "17",
          "18",
          "19",
          "20",
          "21",
          "22",
          "23",
          "24",
          "25",
          "26",
          "27",
          "28",
          "29",
          "30",
          "31",
          "32",
          "33",
          "34",
          "35",
          "36",
          "37",
          "38",
          "39",
          "40",
          "41",
          "42",
          "43",
          "44",
          "45",
          "46",
          "47",
          "48",
          "49",
          "50"
         ],
         "type": "scatter",
         "uid": "e56daa37-3cd2-4e03-aeb9-9a6d79a2f1a9",
         "x": [
          1,
          2,
          3,
          4,
          5,
          6,
          7,
          8,
          9,
          10,
          11,
          12,
          13,
          14,
          15,
          16,
          17,
          18,
          19,
          20,
          21,
          22,
          23,
          24,
          25,
          26,
          27,
          28,
          29,
          30,
          31,
          32,
          33,
          34,
          35,
          36,
          37,
          38,
          39,
          40,
          41,
          42,
          43,
          44,
          45,
          46,
          47,
          48,
          49,
          50
         ],
         "xaxis": "x",
         "y": [
          0.6315833333333334,
          0.5120833333333333,
          0.691,
          0.6174166666666666,
          0.8433333333333334,
          0.7000833333333333,
          0.82525,
          0.8504166666666667,
          0.227,
          0.1545,
          0.4225833333333333,
          0.69975,
          0.8303333333333334,
          0.8395,
          0.8523333333333334,
          0.8609166666666667,
          0.8866666666666667,
          0.8868333333333334,
          0.83225,
          0.779,
          0.8611666666666666,
          0.88375,
          0.88575,
          0.8784166666666666,
          0.8589166666666667,
          0.90425,
          0.8836666666666667,
          0.8949166666666667,
          0.9044166666666666,
          0.9013333333333333,
          0.8938333333333334,
          0.89025,
          0.91225,
          0.9080833333333334,
          0.9016666666666666,
          0.9035833333333333,
          0.9049166666666667,
          0.9071666666666667,
          0.9064166666666666,
          0.9126666666666666,
          0.9049166666666667,
          0.9145833333333333,
          0.913,
          0.9054166666666666,
          0.9093333333333333,
          0.9135,
          0.902,
          0.9095,
          0.9065833333333333,
          0.9146666666666666
         ],
         "yaxis": "y"
        },
        {
         "marker": {
          "color": "Blue"
         },
         "mode": "markers+lines",
         "name": "Training loss",
         "text": [
          "1",
          "2",
          "3",
          "4",
          "5",
          "6",
          "7",
          "8",
          "9",
          "10",
          "11",
          "12",
          "13",
          "14",
          "15",
          "16",
          "17",
          "18",
          "19",
          "20",
          "21",
          "22",
          "23",
          "24",
          "25",
          "26",
          "27",
          "28",
          "29",
          "30",
          "31",
          "32",
          "33",
          "34",
          "35",
          "36",
          "37",
          "38",
          "39",
          "40",
          "41",
          "42",
          "43",
          "44",
          "45",
          "46",
          "47",
          "48",
          "49",
          "50"
         ],
         "type": "scatter",
         "uid": "54b406d2-3364-4df9-9d0e-e5e2eadc629a",
         "x": [
          1,
          2,
          3,
          4,
          5,
          6,
          7,
          8,
          9,
          10,
          11,
          12,
          13,
          14,
          15,
          16,
          17,
          18,
          19,
          20,
          21,
          22,
          23,
          24,
          25,
          26,
          27,
          28,
          29,
          30,
          31,
          32,
          33,
          34,
          35,
          36,
          37,
          38,
          39,
          40,
          41,
          42,
          43,
          44,
          45,
          46,
          47,
          48,
          49,
          50
         ],
         "xaxis": "x2",
         "y": [
          0.7916168179313342,
          0.4726643308798472,
          0.418315051138401,
          0.41795088652769724,
          0.3464346288839976,
          0.3402964946627617,
          0.3085433168113232,
          0.29811372272173564,
          0.36423411693175634,
          0.6482876938978831,
          0.7383240954478582,
          0.4467585234840711,
          0.3839944023688634,
          0.35269911722342173,
          0.32124156966805456,
          0.3021736553609371,
          0.2827727680504322,
          0.27754385469357173,
          0.2915402496953805,
          0.25774106294910115,
          0.2500112431496382,
          0.2468456778228283,
          0.23673375461498897,
          0.22508302634954452,
          0.22534094167749086,
          0.2161616802016894,
          0.20725535332163175,
          0.20362044215202332,
          0.19855606606105963,
          0.19327487775683402,
          0.18819537844260534,
          0.1818203736618161,
          0.17602646117905776,
          0.17409726772209008,
          0.16927656526863574,
          0.16677267381300528,
          0.161754767075181,
          0.15896508573989074,
          0.15289057572185993,
          0.15258512251575787,
          0.1463236560821533,
          0.1466250003700455,
          0.141067673496902,
          0.13702247818062702,
          0.13028717266147335,
          0.13225187008082867,
          0.12812032400568327,
          0.12676173281793793,
          0.12396700501193603,
          0.12084261112039288
         ],
         "yaxis": "y2"
        },
        {
         "marker": {
          "color": "Magenta"
         },
         "mode": "markers+lines",
         "name": "Validation loss",
         "text": [
          "1",
          "2",
          "3",
          "4",
          "5",
          "6",
          "7",
          "8",
          "9",
          "10",
          "11",
          "12",
          "13",
          "14",
          "15",
          "16",
          "17",
          "18",
          "19",
          "20",
          "21",
          "22",
          "23",
          "24",
          "25",
          "26",
          "27",
          "28",
          "29",
          "30",
          "31",
          "32",
          "33",
          "34",
          "35",
          "36",
          "37",
          "38",
          "39",
          "40",
          "41",
          "42",
          "43",
          "44",
          "45",
          "46",
          "47",
          "48",
          "49",
          "50"
         ],
         "type": "scatter",
         "uid": "7f163687-2295-439d-bf3b-6ec1e1552fd4",
         "x": [
          1,
          2,
          3,
          4,
          5,
          6,
          7,
          8,
          9,
          10,
          11,
          12,
          13,
          14,
          15,
          16,
          17,
          18,
          19,
          20,
          21,
          22,
          23,
          24,
          25,
          26,
          27,
          28,
          29,
          30,
          31,
          32,
          33,
          34,
          35,
          36,
          37,
          38,
          39,
          40,
          41,
          42,
          43,
          44,
          45,
          46,
          47,
          48,
          49,
          50
         ],
         "xaxis": "x2",
         "y": [
          2.670714600880941,
          6.217644543965657,
          3.230698552449544,
          4.904544060389201,
          1.0073971339861552,
          2.5600867659250897,
          1.2382255714734396,
          1.1290684844851493,
          10.936292037963867,
          11.169602900187174,
          5.043212979634603,
          1.5195119242668151,
          0.6083818170229593,
          0.5558637062708537,
          0.47362144390741984,
          0.4959909172852834,
          0.36314306338628133,
          0.3757832840283712,
          0.7281222739219666,
          0.7733300081888834,
          0.5489633405208587,
          0.39543097480138145,
          0.37812113988399504,
          0.40529488746325176,
          0.4979581436316172,
          0.31226227136452994,
          0.361271116177241,
          0.32147233138481773,
          0.29360187888145445,
          0.30767310969034833,
          0.33015153419971466,
          0.3327411590019862,
          0.2722887553970019,
          0.27572126777966816,
          0.3141416583855947,
          0.28552261445919674,
          0.32810663600762685,
          0.283225191116333,
          0.27424968167146047,
          0.2738167891899745,
          0.2891256416638692,
          0.2591424903869629,
          0.2690575571656227,
          0.30976674079895017,
          0.2900546758969625,
          0.27348201427857083,
          0.2996830113331477,
          0.2776122487386068,
          0.3047419075568517,
          0.26973904422918954
         ],
         "yaxis": "y2"
        }
       ],
       "layout": {
        "annotations": [
         {
          "font": {
           "size": 16
          },
          "showarrow": false,
          "text": "Training and validation accuracy",
          "x": 0.225,
          "xanchor": "center",
          "xref": "paper",
          "y": 1,
          "yanchor": "bottom",
          "yref": "paper"
         },
         {
          "font": {
           "size": 16
          },
          "showarrow": false,
          "text": "Training and validation loss",
          "x": 0.775,
          "xanchor": "center",
          "xref": "paper",
          "y": 1,
          "yanchor": "bottom",
          "yref": "paper"
         }
        ],
        "xaxis": {
         "anchor": "y",
         "domain": [
          0,
          0.45
         ],
         "title": {
          "text": "Epoch"
         }
        },
        "xaxis2": {
         "anchor": "y2",
         "domain": [
          0.55,
          1
         ],
         "title": {
          "text": "Epoch"
         }
        },
        "yaxis": {
         "anchor": "x",
         "domain": [
          0,
          1
         ],
         "range": [
          0,
          1
         ],
         "title": {
          "text": "Accuracy"
         }
        },
        "yaxis2": {
         "anchor": "x2",
         "domain": [
          0,
          1
         ],
         "range": [
          0,
          1
         ],
         "title": {
          "text": "Loss"
         }
        }
       }
      },
      "text/html": [
       "<div id=\"3596ed76-f9a1-4ea9-bbac-abb443fd7017\" style=\"height: 525px; width: 100%;\" class=\"plotly-graph-div\"></div><script type=\"text/javascript\">require([\"plotly\"], function(Plotly) { window.PLOTLYENV=window.PLOTLYENV || {};window.PLOTLYENV.BASE_URL=\"https://plot.ly\";Plotly.newPlot(\"3596ed76-f9a1-4ea9-bbac-abb443fd7017\", [{\"marker\": {\"color\": \"Green\"}, \"mode\": \"markers+lines\", \"name\": \"Training accuracy\", \"text\": [\"1\", \"2\", \"3\", \"4\", \"5\", \"6\", \"7\", \"8\", \"9\", \"10\", \"11\", \"12\", \"13\", \"14\", \"15\", \"16\", \"17\", \"18\", \"19\", \"20\", \"21\", \"22\", \"23\", \"24\", \"25\", \"26\", \"27\", \"28\", \"29\", \"30\", \"31\", \"32\", \"33\", \"34\", \"35\", \"36\", \"37\", \"38\", \"39\", \"40\", \"41\", \"42\", \"43\", \"44\", \"45\", \"46\", \"47\", \"48\", \"49\", \"50\"], \"uid\": \"cbc17c87-842b-4da4-9f9c-a83ff7b64885\", \"x\": [1, 2, 3, 4, 5, 6, 7, 8, 9, 10, 11, 12, 13, 14, 15, 16, 17, 18, 19, 20, 21, 22, 23, 24, 25, 26, 27, 28, 29, 30, 31, 32, 33, 34, 35, 36, 37, 38, 39, 40, 41, 42, 43, 44, 45, 46, 47, 48, 49, 50], \"xaxis\": \"x\", \"y\": [0.7166458333333333, 0.8308958333333333, 0.8532916666666667, 0.8536458333333333, 0.8768541666666667, 0.8800625, 0.8895208333333333, 0.8952916666666667, 0.87975, 0.8014166666666667, 0.7669583333333333, 0.8356458333333333, 0.8572083333333333, 0.8707291666666667, 0.8832708333333333, 0.8909375, 0.8980208333333334, 0.9007916666666667, 0.8964166666666666, 0.9073125, 0.9085416666666667, 0.9105416666666667, 0.9133125, 0.9172291666666667, 0.9195833333333333, 0.9211875, 0.924875, 0.9265833333333333, 0.9285416666666667, 0.9293125, 0.9312708333333334, 0.9327291666666667, 0.9373125, 0.9373541666666667, 0.9395208333333334, 0.9388958333333334, 0.94125, 0.9427708333333333, 0.945125, 0.9441875, 0.9464375, 0.946625, 0.9488541666666667, 0.9504375, 0.9520625, 0.9527708333333333, 0.9523541666666666, 0.954125, 0.9549375, 0.955875], \"yaxis\": \"y\", \"type\": \"scatter\"}, {\"marker\": {\"color\": \"Red\"}, \"mode\": \"markers+lines\", \"name\": \"Validation accuracy\", \"text\": [\"1\", \"2\", \"3\", \"4\", \"5\", \"6\", \"7\", \"8\", \"9\", \"10\", \"11\", \"12\", \"13\", \"14\", \"15\", \"16\", \"17\", \"18\", \"19\", \"20\", \"21\", \"22\", \"23\", \"24\", \"25\", \"26\", \"27\", \"28\", \"29\", \"30\", \"31\", \"32\", \"33\", \"34\", \"35\", \"36\", \"37\", \"38\", \"39\", \"40\", \"41\", \"42\", \"43\", \"44\", \"45\", \"46\", \"47\", \"48\", \"49\", \"50\"], \"uid\": \"e56daa37-3cd2-4e03-aeb9-9a6d79a2f1a9\", \"x\": [1, 2, 3, 4, 5, 6, 7, 8, 9, 10, 11, 12, 13, 14, 15, 16, 17, 18, 19, 20, 21, 22, 23, 24, 25, 26, 27, 28, 29, 30, 31, 32, 33, 34, 35, 36, 37, 38, 39, 40, 41, 42, 43, 44, 45, 46, 47, 48, 49, 50], \"xaxis\": \"x\", \"y\": [0.6315833333333334, 0.5120833333333333, 0.691, 0.6174166666666666, 0.8433333333333334, 0.7000833333333333, 0.82525, 0.8504166666666667, 0.227, 0.1545, 0.4225833333333333, 0.69975, 0.8303333333333334, 0.8395, 0.8523333333333334, 0.8609166666666667, 0.8866666666666667, 0.8868333333333334, 0.83225, 0.779, 0.8611666666666666, 0.88375, 0.88575, 0.8784166666666666, 0.8589166666666667, 0.90425, 0.8836666666666667, 0.8949166666666667, 0.9044166666666666, 0.9013333333333333, 0.8938333333333334, 0.89025, 0.91225, 0.9080833333333334, 0.9016666666666666, 0.9035833333333333, 0.9049166666666667, 0.9071666666666667, 0.9064166666666666, 0.9126666666666666, 0.9049166666666667, 0.9145833333333333, 0.913, 0.9054166666666666, 0.9093333333333333, 0.9135, 0.902, 0.9095, 0.9065833333333333, 0.9146666666666666], \"yaxis\": \"y\", \"type\": \"scatter\"}, {\"marker\": {\"color\": \"Blue\"}, \"mode\": \"markers+lines\", \"name\": \"Training loss\", \"text\": [\"1\", \"2\", \"3\", \"4\", \"5\", \"6\", \"7\", \"8\", \"9\", \"10\", \"11\", \"12\", \"13\", \"14\", \"15\", \"16\", \"17\", \"18\", \"19\", \"20\", \"21\", \"22\", \"23\", \"24\", \"25\", \"26\", \"27\", \"28\", \"29\", \"30\", \"31\", \"32\", \"33\", \"34\", \"35\", \"36\", \"37\", \"38\", \"39\", \"40\", \"41\", \"42\", \"43\", \"44\", \"45\", \"46\", \"47\", \"48\", \"49\", \"50\"], \"uid\": \"54b406d2-3364-4df9-9d0e-e5e2eadc629a\", \"x\": [1, 2, 3, 4, 5, 6, 7, 8, 9, 10, 11, 12, 13, 14, 15, 16, 17, 18, 19, 20, 21, 22, 23, 24, 25, 26, 27, 28, 29, 30, 31, 32, 33, 34, 35, 36, 37, 38, 39, 40, 41, 42, 43, 44, 45, 46, 47, 48, 49, 50], \"xaxis\": \"x2\", \"y\": [0.7916168179313342, 0.4726643308798472, 0.418315051138401, 0.41795088652769724, 0.3464346288839976, 0.3402964946627617, 0.3085433168113232, 0.29811372272173564, 0.36423411693175634, 0.6482876938978831, 0.7383240954478582, 0.4467585234840711, 0.3839944023688634, 0.35269911722342173, 0.32124156966805456, 0.3021736553609371, 0.2827727680504322, 0.27754385469357173, 0.2915402496953805, 0.25774106294910115, 0.2500112431496382, 0.2468456778228283, 0.23673375461498897, 0.22508302634954452, 0.22534094167749086, 0.2161616802016894, 0.20725535332163175, 0.20362044215202332, 0.19855606606105963, 0.19327487775683402, 0.18819537844260534, 0.1818203736618161, 0.17602646117905776, 0.17409726772209008, 0.16927656526863574, 0.16677267381300528, 0.161754767075181, 0.15896508573989074, 0.15289057572185993, 0.15258512251575787, 0.1463236560821533, 0.1466250003700455, 0.141067673496902, 0.13702247818062702, 0.13028717266147335, 0.13225187008082867, 0.12812032400568327, 0.12676173281793793, 0.12396700501193603, 0.12084261112039288], \"yaxis\": \"y2\", \"type\": \"scatter\"}, {\"marker\": {\"color\": \"Magenta\"}, \"mode\": \"markers+lines\", \"name\": \"Validation loss\", \"text\": [\"1\", \"2\", \"3\", \"4\", \"5\", \"6\", \"7\", \"8\", \"9\", \"10\", \"11\", \"12\", \"13\", \"14\", \"15\", \"16\", \"17\", \"18\", \"19\", \"20\", \"21\", \"22\", \"23\", \"24\", \"25\", \"26\", \"27\", \"28\", \"29\", \"30\", \"31\", \"32\", \"33\", \"34\", \"35\", \"36\", \"37\", \"38\", \"39\", \"40\", \"41\", \"42\", \"43\", \"44\", \"45\", \"46\", \"47\", \"48\", \"49\", \"50\"], \"uid\": \"7f163687-2295-439d-bf3b-6ec1e1552fd4\", \"x\": [1, 2, 3, 4, 5, 6, 7, 8, 9, 10, 11, 12, 13, 14, 15, 16, 17, 18, 19, 20, 21, 22, 23, 24, 25, 26, 27, 28, 29, 30, 31, 32, 33, 34, 35, 36, 37, 38, 39, 40, 41, 42, 43, 44, 45, 46, 47, 48, 49, 50], \"xaxis\": \"x2\", \"y\": [2.670714600880941, 6.217644543965657, 3.230698552449544, 4.904544060389201, 1.0073971339861552, 2.5600867659250897, 1.2382255714734396, 1.1290684844851493, 10.936292037963867, 11.169602900187174, 5.043212979634603, 1.5195119242668151, 0.6083818170229593, 0.5558637062708537, 0.47362144390741984, 0.4959909172852834, 0.36314306338628133, 0.3757832840283712, 0.7281222739219666, 0.7733300081888834, 0.5489633405208587, 0.39543097480138145, 0.37812113988399504, 0.40529488746325176, 0.4979581436316172, 0.31226227136452994, 0.361271116177241, 0.32147233138481773, 0.29360187888145445, 0.30767310969034833, 0.33015153419971466, 0.3327411590019862, 0.2722887553970019, 0.27572126777966816, 0.3141416583855947, 0.28552261445919674, 0.32810663600762685, 0.283225191116333, 0.27424968167146047, 0.2738167891899745, 0.2891256416638692, 0.2591424903869629, 0.2690575571656227, 0.30976674079895017, 0.2900546758969625, 0.27348201427857083, 0.2996830113331477, 0.2776122487386068, 0.3047419075568517, 0.26973904422918954], \"yaxis\": \"y2\", \"type\": \"scatter\"}], {\"annotations\": [{\"font\": {\"size\": 16}, \"showarrow\": false, \"text\": \"Training and validation accuracy\", \"x\": 0.225, \"xanchor\": \"center\", \"xref\": \"paper\", \"y\": 1.0, \"yanchor\": \"bottom\", \"yref\": \"paper\"}, {\"font\": {\"size\": 16}, \"showarrow\": false, \"text\": \"Training and validation loss\", \"x\": 0.775, \"xanchor\": \"center\", \"xref\": \"paper\", \"y\": 1.0, \"yanchor\": \"bottom\", \"yref\": \"paper\"}], \"xaxis\": {\"anchor\": \"y\", \"domain\": [0.0, 0.45], \"title\": {\"text\": \"Epoch\"}}, \"yaxis\": {\"anchor\": \"x\", \"domain\": [0.0, 1.0], \"range\": [0, 1], \"title\": {\"text\": \"Accuracy\"}}, \"xaxis2\": {\"anchor\": \"y2\", \"domain\": [0.55, 1.0], \"title\": {\"text\": \"Epoch\"}}, \"yaxis2\": {\"anchor\": \"x2\", \"domain\": [0.0, 1.0], \"range\": [0, 1], \"title\": {\"text\": \"Loss\"}}}, {\"showLink\": false, \"linkText\": \"Export to plot.ly\", \"plotlyServerURL\": \"https://plot.ly\"})});</script><script type=\"text/javascript\">window.addEventListener(\"resize\", function(){window._Plotly.Plots.resize(document.getElementById(\"3596ed76-f9a1-4ea9-bbac-abb443fd7017\"));});</script>"
      ],
      "text/vnd.plotly.v1+html": [
       "<div id=\"3596ed76-f9a1-4ea9-bbac-abb443fd7017\" style=\"height: 525px; width: 100%;\" class=\"plotly-graph-div\"></div><script type=\"text/javascript\">require([\"plotly\"], function(Plotly) { window.PLOTLYENV=window.PLOTLYENV || {};window.PLOTLYENV.BASE_URL=\"https://plot.ly\";Plotly.newPlot(\"3596ed76-f9a1-4ea9-bbac-abb443fd7017\", [{\"marker\": {\"color\": \"Green\"}, \"mode\": \"markers+lines\", \"name\": \"Training accuracy\", \"text\": [\"1\", \"2\", \"3\", \"4\", \"5\", \"6\", \"7\", \"8\", \"9\", \"10\", \"11\", \"12\", \"13\", \"14\", \"15\", \"16\", \"17\", \"18\", \"19\", \"20\", \"21\", \"22\", \"23\", \"24\", \"25\", \"26\", \"27\", \"28\", \"29\", \"30\", \"31\", \"32\", \"33\", \"34\", \"35\", \"36\", \"37\", \"38\", \"39\", \"40\", \"41\", \"42\", \"43\", \"44\", \"45\", \"46\", \"47\", \"48\", \"49\", \"50\"], \"uid\": \"cbc17c87-842b-4da4-9f9c-a83ff7b64885\", \"x\": [1, 2, 3, 4, 5, 6, 7, 8, 9, 10, 11, 12, 13, 14, 15, 16, 17, 18, 19, 20, 21, 22, 23, 24, 25, 26, 27, 28, 29, 30, 31, 32, 33, 34, 35, 36, 37, 38, 39, 40, 41, 42, 43, 44, 45, 46, 47, 48, 49, 50], \"xaxis\": \"x\", \"y\": [0.7166458333333333, 0.8308958333333333, 0.8532916666666667, 0.8536458333333333, 0.8768541666666667, 0.8800625, 0.8895208333333333, 0.8952916666666667, 0.87975, 0.8014166666666667, 0.7669583333333333, 0.8356458333333333, 0.8572083333333333, 0.8707291666666667, 0.8832708333333333, 0.8909375, 0.8980208333333334, 0.9007916666666667, 0.8964166666666666, 0.9073125, 0.9085416666666667, 0.9105416666666667, 0.9133125, 0.9172291666666667, 0.9195833333333333, 0.9211875, 0.924875, 0.9265833333333333, 0.9285416666666667, 0.9293125, 0.9312708333333334, 0.9327291666666667, 0.9373125, 0.9373541666666667, 0.9395208333333334, 0.9388958333333334, 0.94125, 0.9427708333333333, 0.945125, 0.9441875, 0.9464375, 0.946625, 0.9488541666666667, 0.9504375, 0.9520625, 0.9527708333333333, 0.9523541666666666, 0.954125, 0.9549375, 0.955875], \"yaxis\": \"y\", \"type\": \"scatter\"}, {\"marker\": {\"color\": \"Red\"}, \"mode\": \"markers+lines\", \"name\": \"Validation accuracy\", \"text\": [\"1\", \"2\", \"3\", \"4\", \"5\", \"6\", \"7\", \"8\", \"9\", \"10\", \"11\", \"12\", \"13\", \"14\", \"15\", \"16\", \"17\", \"18\", \"19\", \"20\", \"21\", \"22\", \"23\", \"24\", \"25\", \"26\", \"27\", \"28\", \"29\", \"30\", \"31\", \"32\", \"33\", \"34\", \"35\", \"36\", \"37\", \"38\", \"39\", \"40\", \"41\", \"42\", \"43\", \"44\", \"45\", \"46\", \"47\", \"48\", \"49\", \"50\"], \"uid\": \"e56daa37-3cd2-4e03-aeb9-9a6d79a2f1a9\", \"x\": [1, 2, 3, 4, 5, 6, 7, 8, 9, 10, 11, 12, 13, 14, 15, 16, 17, 18, 19, 20, 21, 22, 23, 24, 25, 26, 27, 28, 29, 30, 31, 32, 33, 34, 35, 36, 37, 38, 39, 40, 41, 42, 43, 44, 45, 46, 47, 48, 49, 50], \"xaxis\": \"x\", \"y\": [0.6315833333333334, 0.5120833333333333, 0.691, 0.6174166666666666, 0.8433333333333334, 0.7000833333333333, 0.82525, 0.8504166666666667, 0.227, 0.1545, 0.4225833333333333, 0.69975, 0.8303333333333334, 0.8395, 0.8523333333333334, 0.8609166666666667, 0.8866666666666667, 0.8868333333333334, 0.83225, 0.779, 0.8611666666666666, 0.88375, 0.88575, 0.8784166666666666, 0.8589166666666667, 0.90425, 0.8836666666666667, 0.8949166666666667, 0.9044166666666666, 0.9013333333333333, 0.8938333333333334, 0.89025, 0.91225, 0.9080833333333334, 0.9016666666666666, 0.9035833333333333, 0.9049166666666667, 0.9071666666666667, 0.9064166666666666, 0.9126666666666666, 0.9049166666666667, 0.9145833333333333, 0.913, 0.9054166666666666, 0.9093333333333333, 0.9135, 0.902, 0.9095, 0.9065833333333333, 0.9146666666666666], \"yaxis\": \"y\", \"type\": \"scatter\"}, {\"marker\": {\"color\": \"Blue\"}, \"mode\": \"markers+lines\", \"name\": \"Training loss\", \"text\": [\"1\", \"2\", \"3\", \"4\", \"5\", \"6\", \"7\", \"8\", \"9\", \"10\", \"11\", \"12\", \"13\", \"14\", \"15\", \"16\", \"17\", \"18\", \"19\", \"20\", \"21\", \"22\", \"23\", \"24\", \"25\", \"26\", \"27\", \"28\", \"29\", \"30\", \"31\", \"32\", \"33\", \"34\", \"35\", \"36\", \"37\", \"38\", \"39\", \"40\", \"41\", \"42\", \"43\", \"44\", \"45\", \"46\", \"47\", \"48\", \"49\", \"50\"], \"uid\": \"54b406d2-3364-4df9-9d0e-e5e2eadc629a\", \"x\": [1, 2, 3, 4, 5, 6, 7, 8, 9, 10, 11, 12, 13, 14, 15, 16, 17, 18, 19, 20, 21, 22, 23, 24, 25, 26, 27, 28, 29, 30, 31, 32, 33, 34, 35, 36, 37, 38, 39, 40, 41, 42, 43, 44, 45, 46, 47, 48, 49, 50], \"xaxis\": \"x2\", \"y\": [0.7916168179313342, 0.4726643308798472, 0.418315051138401, 0.41795088652769724, 0.3464346288839976, 0.3402964946627617, 0.3085433168113232, 0.29811372272173564, 0.36423411693175634, 0.6482876938978831, 0.7383240954478582, 0.4467585234840711, 0.3839944023688634, 0.35269911722342173, 0.32124156966805456, 0.3021736553609371, 0.2827727680504322, 0.27754385469357173, 0.2915402496953805, 0.25774106294910115, 0.2500112431496382, 0.2468456778228283, 0.23673375461498897, 0.22508302634954452, 0.22534094167749086, 0.2161616802016894, 0.20725535332163175, 0.20362044215202332, 0.19855606606105963, 0.19327487775683402, 0.18819537844260534, 0.1818203736618161, 0.17602646117905776, 0.17409726772209008, 0.16927656526863574, 0.16677267381300528, 0.161754767075181, 0.15896508573989074, 0.15289057572185993, 0.15258512251575787, 0.1463236560821533, 0.1466250003700455, 0.141067673496902, 0.13702247818062702, 0.13028717266147335, 0.13225187008082867, 0.12812032400568327, 0.12676173281793793, 0.12396700501193603, 0.12084261112039288], \"yaxis\": \"y2\", \"type\": \"scatter\"}, {\"marker\": {\"color\": \"Magenta\"}, \"mode\": \"markers+lines\", \"name\": \"Validation loss\", \"text\": [\"1\", \"2\", \"3\", \"4\", \"5\", \"6\", \"7\", \"8\", \"9\", \"10\", \"11\", \"12\", \"13\", \"14\", \"15\", \"16\", \"17\", \"18\", \"19\", \"20\", \"21\", \"22\", \"23\", \"24\", \"25\", \"26\", \"27\", \"28\", \"29\", \"30\", \"31\", \"32\", \"33\", \"34\", \"35\", \"36\", \"37\", \"38\", \"39\", \"40\", \"41\", \"42\", \"43\", \"44\", \"45\", \"46\", \"47\", \"48\", \"49\", \"50\"], \"uid\": \"7f163687-2295-439d-bf3b-6ec1e1552fd4\", \"x\": [1, 2, 3, 4, 5, 6, 7, 8, 9, 10, 11, 12, 13, 14, 15, 16, 17, 18, 19, 20, 21, 22, 23, 24, 25, 26, 27, 28, 29, 30, 31, 32, 33, 34, 35, 36, 37, 38, 39, 40, 41, 42, 43, 44, 45, 46, 47, 48, 49, 50], \"xaxis\": \"x2\", \"y\": [2.670714600880941, 6.217644543965657, 3.230698552449544, 4.904544060389201, 1.0073971339861552, 2.5600867659250897, 1.2382255714734396, 1.1290684844851493, 10.936292037963867, 11.169602900187174, 5.043212979634603, 1.5195119242668151, 0.6083818170229593, 0.5558637062708537, 0.47362144390741984, 0.4959909172852834, 0.36314306338628133, 0.3757832840283712, 0.7281222739219666, 0.7733300081888834, 0.5489633405208587, 0.39543097480138145, 0.37812113988399504, 0.40529488746325176, 0.4979581436316172, 0.31226227136452994, 0.361271116177241, 0.32147233138481773, 0.29360187888145445, 0.30767310969034833, 0.33015153419971466, 0.3327411590019862, 0.2722887553970019, 0.27572126777966816, 0.3141416583855947, 0.28552261445919674, 0.32810663600762685, 0.283225191116333, 0.27424968167146047, 0.2738167891899745, 0.2891256416638692, 0.2591424903869629, 0.2690575571656227, 0.30976674079895017, 0.2900546758969625, 0.27348201427857083, 0.2996830113331477, 0.2776122487386068, 0.3047419075568517, 0.26973904422918954], \"yaxis\": \"y2\", \"type\": \"scatter\"}], {\"annotations\": [{\"font\": {\"size\": 16}, \"showarrow\": false, \"text\": \"Training and validation accuracy\", \"x\": 0.225, \"xanchor\": \"center\", \"xref\": \"paper\", \"y\": 1.0, \"yanchor\": \"bottom\", \"yref\": \"paper\"}, {\"font\": {\"size\": 16}, \"showarrow\": false, \"text\": \"Training and validation loss\", \"x\": 0.775, \"xanchor\": \"center\", \"xref\": \"paper\", \"y\": 1.0, \"yanchor\": \"bottom\", \"yref\": \"paper\"}], \"xaxis\": {\"anchor\": \"y\", \"domain\": [0.0, 0.45], \"title\": {\"text\": \"Epoch\"}}, \"yaxis\": {\"anchor\": \"x\", \"domain\": [0.0, 1.0], \"range\": [0, 1], \"title\": {\"text\": \"Accuracy\"}}, \"xaxis2\": {\"anchor\": \"y2\", \"domain\": [0.55, 1.0], \"title\": {\"text\": \"Epoch\"}}, \"yaxis2\": {\"anchor\": \"x2\", \"domain\": [0.0, 1.0], \"range\": [0, 1], \"title\": {\"text\": \"Loss\"}}}, {\"showLink\": false, \"linkText\": \"Export to plot.ly\", \"plotlyServerURL\": \"https://plot.ly\"})});</script><script type=\"text/javascript\">window.addEventListener(\"resize\", function(){window._Plotly.Plots.resize(document.getElementById(\"3596ed76-f9a1-4ea9-bbac-abb443fd7017\"));});</script>"
      ]
     },
     "metadata": {},
     "output_type": "display_data"
    },
    {
     "name": "stdout",
     "output_type": "stream",
     "text": [
      "mobileNetV2_hist\n",
      "This is the format of your plot grid:\n",
      "[ (1,1) x1,y1 ]  [ (1,2) x2,y2 ]\n",
      "\n"
     ]
    },
    {
     "data": {
      "application/vnd.plotly.v1+json": {
       "config": {
        "linkText": "Export to plot.ly",
        "plotlyServerURL": "https://plot.ly",
        "showLink": false
       },
       "data": [
        {
         "marker": {
          "color": "Green"
         },
         "mode": "markers+lines",
         "name": "Training accuracy",
         "text": [
          "1",
          "2",
          "3",
          "4",
          "5",
          "6",
          "7",
          "8",
          "9",
          "10",
          "11",
          "12",
          "13",
          "14",
          "15",
          "16",
          "17",
          "18",
          "19",
          "20"
         ],
         "type": "scatter",
         "uid": "e22dbb6c-f8ac-4faf-9819-ab75f0f73f98",
         "x": [
          1,
          2,
          3,
          4,
          5,
          6,
          7,
          8,
          9,
          10,
          11,
          12,
          13,
          14,
          15,
          16,
          17,
          18,
          19,
          20
         ],
         "xaxis": "x",
         "y": [
          0.7491666666666666,
          0.8429583333333334,
          0.8600625,
          0.8770208333333334,
          0.878125,
          0.8879583333333333,
          0.8882291666666666,
          0.903125,
          0.9068958333333333,
          0.9073541666666667,
          0.9119791666666667,
          0.9127083333333333,
          0.9193958333333333,
          0.9228958333333334,
          0.9231041666666666,
          0.9209166666666667,
          0.9292916666666666,
          0.9349375,
          0.9367708333333333,
          0.9405208333333334
         ],
         "yaxis": "y"
        },
        {
         "marker": {
          "color": "Red"
         },
         "mode": "markers+lines",
         "name": "Validation accuracy",
         "text": [
          "1",
          "2",
          "3",
          "4",
          "5",
          "6",
          "7",
          "8",
          "9",
          "10",
          "11",
          "12",
          "13",
          "14",
          "15",
          "16",
          "17",
          "18",
          "19",
          "20"
         ],
         "type": "scatter",
         "uid": "119aa240-21d3-4128-bdf6-28fb1ee78a02",
         "x": [
          1,
          2,
          3,
          4,
          5,
          6,
          7,
          8,
          9,
          10,
          11,
          12,
          13,
          14,
          15,
          16,
          17,
          18,
          19,
          20
         ],
         "xaxis": "x",
         "y": [
          0.6925833333333333,
          0.829,
          0.44625,
          0.8431666666666666,
          0.61325,
          0.10316666666666667,
          0.5028333333333334,
          0.87225,
          0.8790833333333333,
          0.8021666666666667,
          0.8755,
          0.866,
          0.8781666666666667,
          0.8861666666666667,
          0.902,
          0.892,
          0.9061666666666667,
          0.90325,
          0.9079166666666667,
          0.9089166666666667
         ],
         "yaxis": "y"
        },
        {
         "marker": {
          "color": "Blue"
         },
         "mode": "markers+lines",
         "name": "Training loss",
         "text": [
          "1",
          "2",
          "3",
          "4",
          "5",
          "6",
          "7",
          "8",
          "9",
          "10",
          "11",
          "12",
          "13",
          "14",
          "15",
          "16",
          "17",
          "18",
          "19",
          "20"
         ],
         "type": "scatter",
         "uid": "26da8aa6-f375-4cc5-9676-4844711e37dc",
         "x": [
          1,
          2,
          3,
          4,
          5,
          6,
          7,
          8,
          9,
          10,
          11,
          12,
          13,
          14,
          15,
          16,
          17,
          18,
          19,
          20
         ],
         "xaxis": "x2",
         "y": [
          0.6974318472743034,
          0.44577154457569124,
          0.3984781265457471,
          0.34894030171632767,
          0.34910647390286126,
          0.3194998804330826,
          0.3191605478723844,
          0.2732035452624162,
          0.26176598060131073,
          0.2625643908083439,
          0.24095959426959357,
          0.24828075416386128,
          0.22425061224897702,
          0.21209890528023242,
          0.21291485178967318,
          0.2206576629926761,
          0.1932143311848243,
          0.180716962903738,
          0.17541073882579802,
          0.1631618488629659
         ],
         "yaxis": "y2"
        },
        {
         "marker": {
          "color": "Magenta"
         },
         "mode": "markers+lines",
         "name": "Validation loss",
         "text": [
          "1",
          "2",
          "3",
          "4",
          "5",
          "6",
          "7",
          "8",
          "9",
          "10",
          "11",
          "12",
          "13",
          "14",
          "15",
          "16",
          "17",
          "18",
          "19",
          "20"
         ],
         "type": "scatter",
         "uid": "d8ba4e1e-f2d4-4f6a-bb93-374dcf246060",
         "x": [
          1,
          2,
          3,
          4,
          5,
          6,
          7,
          8,
          9,
          10,
          11,
          12,
          13,
          14,
          15,
          16,
          17,
          18,
          19,
          20
         ],
         "xaxis": "x2",
         "y": [
          2.0655101725260416,
          1.0212804748217266,
          7.127372290293375,
          1.1352585009733835,
          4.829643756866455,
          14.357912213643392,
          6.589828320821126,
          0.8287620343367259,
          0.5416522315740585,
          1.2312073273658752,
          0.5391252707242966,
          0.6641131876309713,
          0.48780708642800646,
          0.4255197832981745,
          0.3786037489970525,
          0.4590394045114517,
          0.34038176971673967,
          0.34898667258024213,
          0.3193880891799927,
          0.3108051581978798
         ],
         "yaxis": "y2"
        }
       ],
       "layout": {
        "annotations": [
         {
          "font": {
           "size": 16
          },
          "showarrow": false,
          "text": "Training and validation accuracy",
          "x": 0.225,
          "xanchor": "center",
          "xref": "paper",
          "y": 1,
          "yanchor": "bottom",
          "yref": "paper"
         },
         {
          "font": {
           "size": 16
          },
          "showarrow": false,
          "text": "Training and validation loss",
          "x": 0.775,
          "xanchor": "center",
          "xref": "paper",
          "y": 1,
          "yanchor": "bottom",
          "yref": "paper"
         }
        ],
        "xaxis": {
         "anchor": "y",
         "domain": [
          0,
          0.45
         ],
         "title": {
          "text": "Epoch"
         }
        },
        "xaxis2": {
         "anchor": "y2",
         "domain": [
          0.55,
          1
         ],
         "title": {
          "text": "Epoch"
         }
        },
        "yaxis": {
         "anchor": "x",
         "domain": [
          0,
          1
         ],
         "range": [
          0,
          1
         ],
         "title": {
          "text": "Accuracy"
         }
        },
        "yaxis2": {
         "anchor": "x2",
         "domain": [
          0,
          1
         ],
         "range": [
          0,
          1
         ],
         "title": {
          "text": "Loss"
         }
        }
       }
      },
      "text/html": [
       "<div id=\"bf1285b3-c893-4960-b9a9-15d443cc4d42\" style=\"height: 525px; width: 100%;\" class=\"plotly-graph-div\"></div><script type=\"text/javascript\">require([\"plotly\"], function(Plotly) { window.PLOTLYENV=window.PLOTLYENV || {};window.PLOTLYENV.BASE_URL=\"https://plot.ly\";Plotly.newPlot(\"bf1285b3-c893-4960-b9a9-15d443cc4d42\", [{\"marker\": {\"color\": \"Green\"}, \"mode\": \"markers+lines\", \"name\": \"Training accuracy\", \"text\": [\"1\", \"2\", \"3\", \"4\", \"5\", \"6\", \"7\", \"8\", \"9\", \"10\", \"11\", \"12\", \"13\", \"14\", \"15\", \"16\", \"17\", \"18\", \"19\", \"20\"], \"uid\": \"e22dbb6c-f8ac-4faf-9819-ab75f0f73f98\", \"x\": [1, 2, 3, 4, 5, 6, 7, 8, 9, 10, 11, 12, 13, 14, 15, 16, 17, 18, 19, 20], \"xaxis\": \"x\", \"y\": [0.7491666666666666, 0.8429583333333334, 0.8600625, 0.8770208333333334, 0.878125, 0.8879583333333333, 0.8882291666666666, 0.903125, 0.9068958333333333, 0.9073541666666667, 0.9119791666666667, 0.9127083333333333, 0.9193958333333333, 0.9228958333333334, 0.9231041666666666, 0.9209166666666667, 0.9292916666666666, 0.9349375, 0.9367708333333333, 0.9405208333333334], \"yaxis\": \"y\", \"type\": \"scatter\"}, {\"marker\": {\"color\": \"Red\"}, \"mode\": \"markers+lines\", \"name\": \"Validation accuracy\", \"text\": [\"1\", \"2\", \"3\", \"4\", \"5\", \"6\", \"7\", \"8\", \"9\", \"10\", \"11\", \"12\", \"13\", \"14\", \"15\", \"16\", \"17\", \"18\", \"19\", \"20\"], \"uid\": \"119aa240-21d3-4128-bdf6-28fb1ee78a02\", \"x\": [1, 2, 3, 4, 5, 6, 7, 8, 9, 10, 11, 12, 13, 14, 15, 16, 17, 18, 19, 20], \"xaxis\": \"x\", \"y\": [0.6925833333333333, 0.829, 0.44625, 0.8431666666666666, 0.61325, 0.10316666666666667, 0.5028333333333334, 0.87225, 0.8790833333333333, 0.8021666666666667, 0.8755, 0.866, 0.8781666666666667, 0.8861666666666667, 0.902, 0.892, 0.9061666666666667, 0.90325, 0.9079166666666667, 0.9089166666666667], \"yaxis\": \"y\", \"type\": \"scatter\"}, {\"marker\": {\"color\": \"Blue\"}, \"mode\": \"markers+lines\", \"name\": \"Training loss\", \"text\": [\"1\", \"2\", \"3\", \"4\", \"5\", \"6\", \"7\", \"8\", \"9\", \"10\", \"11\", \"12\", \"13\", \"14\", \"15\", \"16\", \"17\", \"18\", \"19\", \"20\"], \"uid\": \"26da8aa6-f375-4cc5-9676-4844711e37dc\", \"x\": [1, 2, 3, 4, 5, 6, 7, 8, 9, 10, 11, 12, 13, 14, 15, 16, 17, 18, 19, 20], \"xaxis\": \"x2\", \"y\": [0.6974318472743034, 0.44577154457569124, 0.3984781265457471, 0.34894030171632767, 0.34910647390286126, 0.3194998804330826, 0.3191605478723844, 0.2732035452624162, 0.26176598060131073, 0.2625643908083439, 0.24095959426959357, 0.24828075416386128, 0.22425061224897702, 0.21209890528023242, 0.21291485178967318, 0.2206576629926761, 0.1932143311848243, 0.180716962903738, 0.17541073882579802, 0.1631618488629659], \"yaxis\": \"y2\", \"type\": \"scatter\"}, {\"marker\": {\"color\": \"Magenta\"}, \"mode\": \"markers+lines\", \"name\": \"Validation loss\", \"text\": [\"1\", \"2\", \"3\", \"4\", \"5\", \"6\", \"7\", \"8\", \"9\", \"10\", \"11\", \"12\", \"13\", \"14\", \"15\", \"16\", \"17\", \"18\", \"19\", \"20\"], \"uid\": \"d8ba4e1e-f2d4-4f6a-bb93-374dcf246060\", \"x\": [1, 2, 3, 4, 5, 6, 7, 8, 9, 10, 11, 12, 13, 14, 15, 16, 17, 18, 19, 20], \"xaxis\": \"x2\", \"y\": [2.0655101725260416, 1.0212804748217266, 7.127372290293375, 1.1352585009733835, 4.829643756866455, 14.357912213643392, 6.589828320821126, 0.8287620343367259, 0.5416522315740585, 1.2312073273658752, 0.5391252707242966, 0.6641131876309713, 0.48780708642800646, 0.4255197832981745, 0.3786037489970525, 0.4590394045114517, 0.34038176971673967, 0.34898667258024213, 0.3193880891799927, 0.3108051581978798], \"yaxis\": \"y2\", \"type\": \"scatter\"}], {\"annotations\": [{\"font\": {\"size\": 16}, \"showarrow\": false, \"text\": \"Training and validation accuracy\", \"x\": 0.225, \"xanchor\": \"center\", \"xref\": \"paper\", \"y\": 1.0, \"yanchor\": \"bottom\", \"yref\": \"paper\"}, {\"font\": {\"size\": 16}, \"showarrow\": false, \"text\": \"Training and validation loss\", \"x\": 0.775, \"xanchor\": \"center\", \"xref\": \"paper\", \"y\": 1.0, \"yanchor\": \"bottom\", \"yref\": \"paper\"}], \"xaxis\": {\"anchor\": \"y\", \"domain\": [0.0, 0.45], \"title\": {\"text\": \"Epoch\"}}, \"yaxis\": {\"anchor\": \"x\", \"domain\": [0.0, 1.0], \"range\": [0, 1], \"title\": {\"text\": \"Accuracy\"}}, \"xaxis2\": {\"anchor\": \"y2\", \"domain\": [0.55, 1.0], \"title\": {\"text\": \"Epoch\"}}, \"yaxis2\": {\"anchor\": \"x2\", \"domain\": [0.0, 1.0], \"range\": [0, 1], \"title\": {\"text\": \"Loss\"}}}, {\"showLink\": false, \"linkText\": \"Export to plot.ly\", \"plotlyServerURL\": \"https://plot.ly\"})});</script><script type=\"text/javascript\">window.addEventListener(\"resize\", function(){window._Plotly.Plots.resize(document.getElementById(\"bf1285b3-c893-4960-b9a9-15d443cc4d42\"));});</script>"
      ],
      "text/vnd.plotly.v1+html": [
       "<div id=\"bf1285b3-c893-4960-b9a9-15d443cc4d42\" style=\"height: 525px; width: 100%;\" class=\"plotly-graph-div\"></div><script type=\"text/javascript\">require([\"plotly\"], function(Plotly) { window.PLOTLYENV=window.PLOTLYENV || {};window.PLOTLYENV.BASE_URL=\"https://plot.ly\";Plotly.newPlot(\"bf1285b3-c893-4960-b9a9-15d443cc4d42\", [{\"marker\": {\"color\": \"Green\"}, \"mode\": \"markers+lines\", \"name\": \"Training accuracy\", \"text\": [\"1\", \"2\", \"3\", \"4\", \"5\", \"6\", \"7\", \"8\", \"9\", \"10\", \"11\", \"12\", \"13\", \"14\", \"15\", \"16\", \"17\", \"18\", \"19\", \"20\"], \"uid\": \"e22dbb6c-f8ac-4faf-9819-ab75f0f73f98\", \"x\": [1, 2, 3, 4, 5, 6, 7, 8, 9, 10, 11, 12, 13, 14, 15, 16, 17, 18, 19, 20], \"xaxis\": \"x\", \"y\": [0.7491666666666666, 0.8429583333333334, 0.8600625, 0.8770208333333334, 0.878125, 0.8879583333333333, 0.8882291666666666, 0.903125, 0.9068958333333333, 0.9073541666666667, 0.9119791666666667, 0.9127083333333333, 0.9193958333333333, 0.9228958333333334, 0.9231041666666666, 0.9209166666666667, 0.9292916666666666, 0.9349375, 0.9367708333333333, 0.9405208333333334], \"yaxis\": \"y\", \"type\": \"scatter\"}, {\"marker\": {\"color\": \"Red\"}, \"mode\": \"markers+lines\", \"name\": \"Validation accuracy\", \"text\": [\"1\", \"2\", \"3\", \"4\", \"5\", \"6\", \"7\", \"8\", \"9\", \"10\", \"11\", \"12\", \"13\", \"14\", \"15\", \"16\", \"17\", \"18\", \"19\", \"20\"], \"uid\": \"119aa240-21d3-4128-bdf6-28fb1ee78a02\", \"x\": [1, 2, 3, 4, 5, 6, 7, 8, 9, 10, 11, 12, 13, 14, 15, 16, 17, 18, 19, 20], \"xaxis\": \"x\", \"y\": [0.6925833333333333, 0.829, 0.44625, 0.8431666666666666, 0.61325, 0.10316666666666667, 0.5028333333333334, 0.87225, 0.8790833333333333, 0.8021666666666667, 0.8755, 0.866, 0.8781666666666667, 0.8861666666666667, 0.902, 0.892, 0.9061666666666667, 0.90325, 0.9079166666666667, 0.9089166666666667], \"yaxis\": \"y\", \"type\": \"scatter\"}, {\"marker\": {\"color\": \"Blue\"}, \"mode\": \"markers+lines\", \"name\": \"Training loss\", \"text\": [\"1\", \"2\", \"3\", \"4\", \"5\", \"6\", \"7\", \"8\", \"9\", \"10\", \"11\", \"12\", \"13\", \"14\", \"15\", \"16\", \"17\", \"18\", \"19\", \"20\"], \"uid\": \"26da8aa6-f375-4cc5-9676-4844711e37dc\", \"x\": [1, 2, 3, 4, 5, 6, 7, 8, 9, 10, 11, 12, 13, 14, 15, 16, 17, 18, 19, 20], \"xaxis\": \"x2\", \"y\": [0.6974318472743034, 0.44577154457569124, 0.3984781265457471, 0.34894030171632767, 0.34910647390286126, 0.3194998804330826, 0.3191605478723844, 0.2732035452624162, 0.26176598060131073, 0.2625643908083439, 0.24095959426959357, 0.24828075416386128, 0.22425061224897702, 0.21209890528023242, 0.21291485178967318, 0.2206576629926761, 0.1932143311848243, 0.180716962903738, 0.17541073882579802, 0.1631618488629659], \"yaxis\": \"y2\", \"type\": \"scatter\"}, {\"marker\": {\"color\": \"Magenta\"}, \"mode\": \"markers+lines\", \"name\": \"Validation loss\", \"text\": [\"1\", \"2\", \"3\", \"4\", \"5\", \"6\", \"7\", \"8\", \"9\", \"10\", \"11\", \"12\", \"13\", \"14\", \"15\", \"16\", \"17\", \"18\", \"19\", \"20\"], \"uid\": \"d8ba4e1e-f2d4-4f6a-bb93-374dcf246060\", \"x\": [1, 2, 3, 4, 5, 6, 7, 8, 9, 10, 11, 12, 13, 14, 15, 16, 17, 18, 19, 20], \"xaxis\": \"x2\", \"y\": [2.0655101725260416, 1.0212804748217266, 7.127372290293375, 1.1352585009733835, 4.829643756866455, 14.357912213643392, 6.589828320821126, 0.8287620343367259, 0.5416522315740585, 1.2312073273658752, 0.5391252707242966, 0.6641131876309713, 0.48780708642800646, 0.4255197832981745, 0.3786037489970525, 0.4590394045114517, 0.34038176971673967, 0.34898667258024213, 0.3193880891799927, 0.3108051581978798], \"yaxis\": \"y2\", \"type\": \"scatter\"}], {\"annotations\": [{\"font\": {\"size\": 16}, \"showarrow\": false, \"text\": \"Training and validation accuracy\", \"x\": 0.225, \"xanchor\": \"center\", \"xref\": \"paper\", \"y\": 1.0, \"yanchor\": \"bottom\", \"yref\": \"paper\"}, {\"font\": {\"size\": 16}, \"showarrow\": false, \"text\": \"Training and validation loss\", \"x\": 0.775, \"xanchor\": \"center\", \"xref\": \"paper\", \"y\": 1.0, \"yanchor\": \"bottom\", \"yref\": \"paper\"}], \"xaxis\": {\"anchor\": \"y\", \"domain\": [0.0, 0.45], \"title\": {\"text\": \"Epoch\"}}, \"yaxis\": {\"anchor\": \"x\", \"domain\": [0.0, 1.0], \"range\": [0, 1], \"title\": {\"text\": \"Accuracy\"}}, \"xaxis2\": {\"anchor\": \"y2\", \"domain\": [0.55, 1.0], \"title\": {\"text\": \"Epoch\"}}, \"yaxis2\": {\"anchor\": \"x2\", \"domain\": [0.0, 1.0], \"range\": [0, 1], \"title\": {\"text\": \"Loss\"}}}, {\"showLink\": false, \"linkText\": \"Export to plot.ly\", \"plotlyServerURL\": \"https://plot.ly\"})});</script><script type=\"text/javascript\">window.addEventListener(\"resize\", function(){window._Plotly.Plots.resize(document.getElementById(\"bf1285b3-c893-4960-b9a9-15d443cc4d42\"));});</script>"
      ]
     },
     "metadata": {},
     "output_type": "display_data"
    },
    {
     "name": "stdout",
     "output_type": "stream",
     "text": [
      "mlp_hist\n",
      "This is the format of your plot grid:\n",
      "[ (1,1) x1,y1 ]  [ (1,2) x2,y2 ]\n",
      "\n"
     ]
    },
    {
     "data": {
      "application/vnd.plotly.v1+json": {
       "config": {
        "linkText": "Export to plot.ly",
        "plotlyServerURL": "https://plot.ly",
        "showLink": false
       },
       "data": [
        {
         "marker": {
          "color": "Green"
         },
         "mode": "markers+lines",
         "name": "Training accuracy",
         "text": [
          "1",
          "2",
          "3",
          "4",
          "5",
          "6",
          "7",
          "8",
          "9",
          "10",
          "11",
          "12",
          "13",
          "14",
          "15",
          "16",
          "17",
          "18",
          "19",
          "20"
         ],
         "type": "scatter",
         "uid": "a7b7851c-6766-4527-8010-3efdca3b1ad5",
         "x": [
          1,
          2,
          3,
          4,
          5,
          6,
          7,
          8,
          9,
          10,
          11,
          12,
          13,
          14,
          15,
          16,
          17,
          18,
          19,
          20
         ],
         "xaxis": "x",
         "y": [
          0.8055208333333334,
          0.8494166666666667,
          0.85975,
          0.868375,
          0.8748333333333334,
          0.8785625,
          0.8816666666666667,
          0.8853333333333333,
          0.8867291666666667,
          0.8919166666666667,
          0.894,
          0.8960625,
          0.8986458333333334,
          0.8999375,
          0.9001875,
          0.9045208333333333,
          0.9053541666666667,
          0.9082291666666666,
          0.91075,
          0.9094166666666667
         ],
         "yaxis": "y"
        },
        {
         "marker": {
          "color": "Red"
         },
         "mode": "markers+lines",
         "name": "Validation accuracy",
         "text": [
          "1",
          "2",
          "3",
          "4",
          "5",
          "6",
          "7",
          "8",
          "9",
          "10",
          "11",
          "12",
          "13",
          "14",
          "15",
          "16",
          "17",
          "18",
          "19",
          "20"
         ],
         "type": "scatter",
         "uid": "ba63f50e-efe4-4524-94dd-561423170078",
         "x": [
          1,
          2,
          3,
          4,
          5,
          6,
          7,
          8,
          9,
          10,
          11,
          12,
          13,
          14,
          15,
          16,
          17,
          18,
          19,
          20
         ],
         "xaxis": "x",
         "y": [
          0.8393333333333334,
          0.8474166666666667,
          0.8689166666666667,
          0.8630833333333333,
          0.8710833333333333,
          0.8755,
          0.8743333333333333,
          0.8735833333333334,
          0.88175,
          0.8821666666666667,
          0.8883333333333333,
          0.88725,
          0.8905833333333333,
          0.88275,
          0.8899166666666667,
          0.8904166666666666,
          0.8883333333333333,
          0.89225,
          0.8941666666666667,
          0.8898333333333334
         ],
         "yaxis": "y"
        },
        {
         "marker": {
          "color": "Blue"
         },
         "mode": "markers+lines",
         "name": "Training loss",
         "text": [
          "1",
          "2",
          "3",
          "4",
          "5",
          "6",
          "7",
          "8",
          "9",
          "10",
          "11",
          "12",
          "13",
          "14",
          "15",
          "16",
          "17",
          "18",
          "19",
          "20"
         ],
         "type": "scatter",
         "uid": "1871794c-208a-4c9f-bf90-b461131d726f",
         "x": [
          1,
          2,
          3,
          4,
          5,
          6,
          7,
          8,
          9,
          10,
          11,
          12,
          13,
          14,
          15,
          16,
          17,
          18,
          19,
          20
         ],
         "xaxis": "x2",
         "y": [
          0.5393226269880931,
          0.41512410052617393,
          0.38441438551743823,
          0.35918644003073374,
          0.3395343424280485,
          0.3358301852544149,
          0.3202652721007665,
          0.30780159269769986,
          0.3038346321086089,
          0.2913017776509126,
          0.28739122992753985,
          0.27893701737125715,
          0.2713647077580293,
          0.26731603968640166,
          0.2653483231465022,
          0.2544464989031355,
          0.2522596915165583,
          0.24522188350061574,
          0.23707581532994906,
          0.23968765431642533
         ],
         "yaxis": "y2"
        },
        {
         "marker": {
          "color": "Magenta"
         },
         "mode": "markers+lines",
         "name": "Validation loss",
         "text": [
          "1",
          "2",
          "3",
          "4",
          "5",
          "6",
          "7",
          "8",
          "9",
          "10",
          "11",
          "12",
          "13",
          "14",
          "15",
          "16",
          "17",
          "18",
          "19",
          "20"
         ],
         "type": "scatter",
         "uid": "c4406bbf-adf0-41c0-98ec-af2bd256e858",
         "x": [
          1,
          2,
          3,
          4,
          5,
          6,
          7,
          8,
          9,
          10,
          11,
          12,
          13,
          14,
          15,
          16,
          17,
          18,
          19,
          20
         ],
         "xaxis": "x2",
         "y": [
          0.44800009528795876,
          0.3913907628059387,
          0.3550323056379954,
          0.38044348804155986,
          0.3414859623114268,
          0.34415302125612895,
          0.33607463018099465,
          0.3497092291514079,
          0.3243052585919698,
          0.3203166611989339,
          0.31162607713540397,
          0.3132500261465708,
          0.30604344518979393,
          0.3208220230738322,
          0.3038580543994904,
          0.30945397158463794,
          0.3054085866212845,
          0.30308468151092527,
          0.2959899949232737,
          0.30681129602591195
         ],
         "yaxis": "y2"
        }
       ],
       "layout": {
        "annotations": [
         {
          "font": {
           "size": 16
          },
          "showarrow": false,
          "text": "Training and validation accuracy",
          "x": 0.225,
          "xanchor": "center",
          "xref": "paper",
          "y": 1,
          "yanchor": "bottom",
          "yref": "paper"
         },
         {
          "font": {
           "size": 16
          },
          "showarrow": false,
          "text": "Training and validation loss",
          "x": 0.775,
          "xanchor": "center",
          "xref": "paper",
          "y": 1,
          "yanchor": "bottom",
          "yref": "paper"
         }
        ],
        "xaxis": {
         "anchor": "y",
         "domain": [
          0,
          0.45
         ],
         "title": {
          "text": "Epoch"
         }
        },
        "xaxis2": {
         "anchor": "y2",
         "domain": [
          0.55,
          1
         ],
         "title": {
          "text": "Epoch"
         }
        },
        "yaxis": {
         "anchor": "x",
         "domain": [
          0,
          1
         ],
         "range": [
          0,
          1
         ],
         "title": {
          "text": "Accuracy"
         }
        },
        "yaxis2": {
         "anchor": "x2",
         "domain": [
          0,
          1
         ],
         "range": [
          0,
          1
         ],
         "title": {
          "text": "Loss"
         }
        }
       }
      },
      "text/html": [
       "<div id=\"3565fd56-b8f1-4353-b773-cd8f91250f3a\" style=\"height: 525px; width: 100%;\" class=\"plotly-graph-div\"></div><script type=\"text/javascript\">require([\"plotly\"], function(Plotly) { window.PLOTLYENV=window.PLOTLYENV || {};window.PLOTLYENV.BASE_URL=\"https://plot.ly\";Plotly.newPlot(\"3565fd56-b8f1-4353-b773-cd8f91250f3a\", [{\"marker\": {\"color\": \"Green\"}, \"mode\": \"markers+lines\", \"name\": \"Training accuracy\", \"text\": [\"1\", \"2\", \"3\", \"4\", \"5\", \"6\", \"7\", \"8\", \"9\", \"10\", \"11\", \"12\", \"13\", \"14\", \"15\", \"16\", \"17\", \"18\", \"19\", \"20\"], \"uid\": \"a7b7851c-6766-4527-8010-3efdca3b1ad5\", \"x\": [1, 2, 3, 4, 5, 6, 7, 8, 9, 10, 11, 12, 13, 14, 15, 16, 17, 18, 19, 20], \"xaxis\": \"x\", \"y\": [0.8055208333333334, 0.8494166666666667, 0.85975, 0.868375, 0.8748333333333334, 0.8785625, 0.8816666666666667, 0.8853333333333333, 0.8867291666666667, 0.8919166666666667, 0.894, 0.8960625, 0.8986458333333334, 0.8999375, 0.9001875, 0.9045208333333333, 0.9053541666666667, 0.9082291666666666, 0.91075, 0.9094166666666667], \"yaxis\": \"y\", \"type\": \"scatter\"}, {\"marker\": {\"color\": \"Red\"}, \"mode\": \"markers+lines\", \"name\": \"Validation accuracy\", \"text\": [\"1\", \"2\", \"3\", \"4\", \"5\", \"6\", \"7\", \"8\", \"9\", \"10\", \"11\", \"12\", \"13\", \"14\", \"15\", \"16\", \"17\", \"18\", \"19\", \"20\"], \"uid\": \"ba63f50e-efe4-4524-94dd-561423170078\", \"x\": [1, 2, 3, 4, 5, 6, 7, 8, 9, 10, 11, 12, 13, 14, 15, 16, 17, 18, 19, 20], \"xaxis\": \"x\", \"y\": [0.8393333333333334, 0.8474166666666667, 0.8689166666666667, 0.8630833333333333, 0.8710833333333333, 0.8755, 0.8743333333333333, 0.8735833333333334, 0.88175, 0.8821666666666667, 0.8883333333333333, 0.88725, 0.8905833333333333, 0.88275, 0.8899166666666667, 0.8904166666666666, 0.8883333333333333, 0.89225, 0.8941666666666667, 0.8898333333333334], \"yaxis\": \"y\", \"type\": \"scatter\"}, {\"marker\": {\"color\": \"Blue\"}, \"mode\": \"markers+lines\", \"name\": \"Training loss\", \"text\": [\"1\", \"2\", \"3\", \"4\", \"5\", \"6\", \"7\", \"8\", \"9\", \"10\", \"11\", \"12\", \"13\", \"14\", \"15\", \"16\", \"17\", \"18\", \"19\", \"20\"], \"uid\": \"1871794c-208a-4c9f-bf90-b461131d726f\", \"x\": [1, 2, 3, 4, 5, 6, 7, 8, 9, 10, 11, 12, 13, 14, 15, 16, 17, 18, 19, 20], \"xaxis\": \"x2\", \"y\": [0.5393226269880931, 0.41512410052617393, 0.38441438551743823, 0.35918644003073374, 0.3395343424280485, 0.3358301852544149, 0.3202652721007665, 0.30780159269769986, 0.3038346321086089, 0.2913017776509126, 0.28739122992753985, 0.27893701737125715, 0.2713647077580293, 0.26731603968640166, 0.2653483231465022, 0.2544464989031355, 0.2522596915165583, 0.24522188350061574, 0.23707581532994906, 0.23968765431642533], \"yaxis\": \"y2\", \"type\": \"scatter\"}, {\"marker\": {\"color\": \"Magenta\"}, \"mode\": \"markers+lines\", \"name\": \"Validation loss\", \"text\": [\"1\", \"2\", \"3\", \"4\", \"5\", \"6\", \"7\", \"8\", \"9\", \"10\", \"11\", \"12\", \"13\", \"14\", \"15\", \"16\", \"17\", \"18\", \"19\", \"20\"], \"uid\": \"c4406bbf-adf0-41c0-98ec-af2bd256e858\", \"x\": [1, 2, 3, 4, 5, 6, 7, 8, 9, 10, 11, 12, 13, 14, 15, 16, 17, 18, 19, 20], \"xaxis\": \"x2\", \"y\": [0.44800009528795876, 0.3913907628059387, 0.3550323056379954, 0.38044348804155986, 0.3414859623114268, 0.34415302125612895, 0.33607463018099465, 0.3497092291514079, 0.3243052585919698, 0.3203166611989339, 0.31162607713540397, 0.3132500261465708, 0.30604344518979393, 0.3208220230738322, 0.3038580543994904, 0.30945397158463794, 0.3054085866212845, 0.30308468151092527, 0.2959899949232737, 0.30681129602591195], \"yaxis\": \"y2\", \"type\": \"scatter\"}], {\"annotations\": [{\"font\": {\"size\": 16}, \"showarrow\": false, \"text\": \"Training and validation accuracy\", \"x\": 0.225, \"xanchor\": \"center\", \"xref\": \"paper\", \"y\": 1.0, \"yanchor\": \"bottom\", \"yref\": \"paper\"}, {\"font\": {\"size\": 16}, \"showarrow\": false, \"text\": \"Training and validation loss\", \"x\": 0.775, \"xanchor\": \"center\", \"xref\": \"paper\", \"y\": 1.0, \"yanchor\": \"bottom\", \"yref\": \"paper\"}], \"xaxis\": {\"anchor\": \"y\", \"domain\": [0.0, 0.45], \"title\": {\"text\": \"Epoch\"}}, \"yaxis\": {\"anchor\": \"x\", \"domain\": [0.0, 1.0], \"range\": [0, 1], \"title\": {\"text\": \"Accuracy\"}}, \"xaxis2\": {\"anchor\": \"y2\", \"domain\": [0.55, 1.0], \"title\": {\"text\": \"Epoch\"}}, \"yaxis2\": {\"anchor\": \"x2\", \"domain\": [0.0, 1.0], \"range\": [0, 1], \"title\": {\"text\": \"Loss\"}}}, {\"showLink\": false, \"linkText\": \"Export to plot.ly\", \"plotlyServerURL\": \"https://plot.ly\"})});</script><script type=\"text/javascript\">window.addEventListener(\"resize\", function(){window._Plotly.Plots.resize(document.getElementById(\"3565fd56-b8f1-4353-b773-cd8f91250f3a\"));});</script>"
      ],
      "text/vnd.plotly.v1+html": [
       "<div id=\"3565fd56-b8f1-4353-b773-cd8f91250f3a\" style=\"height: 525px; width: 100%;\" class=\"plotly-graph-div\"></div><script type=\"text/javascript\">require([\"plotly\"], function(Plotly) { window.PLOTLYENV=window.PLOTLYENV || {};window.PLOTLYENV.BASE_URL=\"https://plot.ly\";Plotly.newPlot(\"3565fd56-b8f1-4353-b773-cd8f91250f3a\", [{\"marker\": {\"color\": \"Green\"}, \"mode\": \"markers+lines\", \"name\": \"Training accuracy\", \"text\": [\"1\", \"2\", \"3\", \"4\", \"5\", \"6\", \"7\", \"8\", \"9\", \"10\", \"11\", \"12\", \"13\", \"14\", \"15\", \"16\", \"17\", \"18\", \"19\", \"20\"], \"uid\": \"a7b7851c-6766-4527-8010-3efdca3b1ad5\", \"x\": [1, 2, 3, 4, 5, 6, 7, 8, 9, 10, 11, 12, 13, 14, 15, 16, 17, 18, 19, 20], \"xaxis\": \"x\", \"y\": [0.8055208333333334, 0.8494166666666667, 0.85975, 0.868375, 0.8748333333333334, 0.8785625, 0.8816666666666667, 0.8853333333333333, 0.8867291666666667, 0.8919166666666667, 0.894, 0.8960625, 0.8986458333333334, 0.8999375, 0.9001875, 0.9045208333333333, 0.9053541666666667, 0.9082291666666666, 0.91075, 0.9094166666666667], \"yaxis\": \"y\", \"type\": \"scatter\"}, {\"marker\": {\"color\": \"Red\"}, \"mode\": \"markers+lines\", \"name\": \"Validation accuracy\", \"text\": [\"1\", \"2\", \"3\", \"4\", \"5\", \"6\", \"7\", \"8\", \"9\", \"10\", \"11\", \"12\", \"13\", \"14\", \"15\", \"16\", \"17\", \"18\", \"19\", \"20\"], \"uid\": \"ba63f50e-efe4-4524-94dd-561423170078\", \"x\": [1, 2, 3, 4, 5, 6, 7, 8, 9, 10, 11, 12, 13, 14, 15, 16, 17, 18, 19, 20], \"xaxis\": \"x\", \"y\": [0.8393333333333334, 0.8474166666666667, 0.8689166666666667, 0.8630833333333333, 0.8710833333333333, 0.8755, 0.8743333333333333, 0.8735833333333334, 0.88175, 0.8821666666666667, 0.8883333333333333, 0.88725, 0.8905833333333333, 0.88275, 0.8899166666666667, 0.8904166666666666, 0.8883333333333333, 0.89225, 0.8941666666666667, 0.8898333333333334], \"yaxis\": \"y\", \"type\": \"scatter\"}, {\"marker\": {\"color\": \"Blue\"}, \"mode\": \"markers+lines\", \"name\": \"Training loss\", \"text\": [\"1\", \"2\", \"3\", \"4\", \"5\", \"6\", \"7\", \"8\", \"9\", \"10\", \"11\", \"12\", \"13\", \"14\", \"15\", \"16\", \"17\", \"18\", \"19\", \"20\"], \"uid\": \"1871794c-208a-4c9f-bf90-b461131d726f\", \"x\": [1, 2, 3, 4, 5, 6, 7, 8, 9, 10, 11, 12, 13, 14, 15, 16, 17, 18, 19, 20], \"xaxis\": \"x2\", \"y\": [0.5393226269880931, 0.41512410052617393, 0.38441438551743823, 0.35918644003073374, 0.3395343424280485, 0.3358301852544149, 0.3202652721007665, 0.30780159269769986, 0.3038346321086089, 0.2913017776509126, 0.28739122992753985, 0.27893701737125715, 0.2713647077580293, 0.26731603968640166, 0.2653483231465022, 0.2544464989031355, 0.2522596915165583, 0.24522188350061574, 0.23707581532994906, 0.23968765431642533], \"yaxis\": \"y2\", \"type\": \"scatter\"}, {\"marker\": {\"color\": \"Magenta\"}, \"mode\": \"markers+lines\", \"name\": \"Validation loss\", \"text\": [\"1\", \"2\", \"3\", \"4\", \"5\", \"6\", \"7\", \"8\", \"9\", \"10\", \"11\", \"12\", \"13\", \"14\", \"15\", \"16\", \"17\", \"18\", \"19\", \"20\"], \"uid\": \"c4406bbf-adf0-41c0-98ec-af2bd256e858\", \"x\": [1, 2, 3, 4, 5, 6, 7, 8, 9, 10, 11, 12, 13, 14, 15, 16, 17, 18, 19, 20], \"xaxis\": \"x2\", \"y\": [0.44800009528795876, 0.3913907628059387, 0.3550323056379954, 0.38044348804155986, 0.3414859623114268, 0.34415302125612895, 0.33607463018099465, 0.3497092291514079, 0.3243052585919698, 0.3203166611989339, 0.31162607713540397, 0.3132500261465708, 0.30604344518979393, 0.3208220230738322, 0.3038580543994904, 0.30945397158463794, 0.3054085866212845, 0.30308468151092527, 0.2959899949232737, 0.30681129602591195], \"yaxis\": \"y2\", \"type\": \"scatter\"}], {\"annotations\": [{\"font\": {\"size\": 16}, \"showarrow\": false, \"text\": \"Training and validation accuracy\", \"x\": 0.225, \"xanchor\": \"center\", \"xref\": \"paper\", \"y\": 1.0, \"yanchor\": \"bottom\", \"yref\": \"paper\"}, {\"font\": {\"size\": 16}, \"showarrow\": false, \"text\": \"Training and validation loss\", \"x\": 0.775, \"xanchor\": \"center\", \"xref\": \"paper\", \"y\": 1.0, \"yanchor\": \"bottom\", \"yref\": \"paper\"}], \"xaxis\": {\"anchor\": \"y\", \"domain\": [0.0, 0.45], \"title\": {\"text\": \"Epoch\"}}, \"yaxis\": {\"anchor\": \"x\", \"domain\": [0.0, 1.0], \"range\": [0, 1], \"title\": {\"text\": \"Accuracy\"}}, \"xaxis2\": {\"anchor\": \"y2\", \"domain\": [0.55, 1.0], \"title\": {\"text\": \"Epoch\"}}, \"yaxis2\": {\"anchor\": \"x2\", \"domain\": [0.0, 1.0], \"range\": [0, 1], \"title\": {\"text\": \"Loss\"}}}, {\"showLink\": false, \"linkText\": \"Export to plot.ly\", \"plotlyServerURL\": \"https://plot.ly\"})});</script><script type=\"text/javascript\">window.addEventListener(\"resize\", function(){window._Plotly.Plots.resize(document.getElementById(\"3565fd56-b8f1-4353-b773-cd8f91250f3a\"));});</script>"
      ]
     },
     "metadata": {},
     "output_type": "display_data"
    },
    {
     "name": "stdout",
     "output_type": "stream",
     "text": [
      "simpleVGG_hist_dataAug\n",
      "This is the format of your plot grid:\n",
      "[ (1,1) x1,y1 ]  [ (1,2) x2,y2 ]\n",
      "\n"
     ]
    },
    {
     "data": {
      "application/vnd.plotly.v1+json": {
       "config": {
        "linkText": "Export to plot.ly",
        "plotlyServerURL": "https://plot.ly",
        "showLink": false
       },
       "data": [
        {
         "marker": {
          "color": "Green"
         },
         "mode": "markers+lines",
         "name": "Training accuracy",
         "text": [
          "1",
          "2",
          "3",
          "4",
          "5",
          "6",
          "7",
          "8",
          "9",
          "10",
          "11",
          "12",
          "13",
          "14",
          "15",
          "16",
          "17",
          "18",
          "19",
          "20",
          "21",
          "22",
          "23",
          "24",
          "25",
          "26",
          "27",
          "28",
          "29",
          "30",
          "31",
          "32",
          "33",
          "34",
          "35",
          "36",
          "37",
          "38",
          "39"
         ],
         "type": "scatter",
         "uid": "c400a40d-467d-4aaf-8b98-b8fc4f7119d9",
         "x": [
          1,
          2,
          3,
          4,
          5,
          6,
          7,
          8,
          9,
          10,
          11,
          12,
          13,
          14,
          15,
          16,
          17,
          18,
          19,
          20,
          21,
          22,
          23,
          24,
          25,
          26,
          27,
          28,
          29,
          30,
          31,
          32,
          33,
          34,
          35,
          36,
          37,
          38,
          39
         ],
         "xaxis": "x",
         "y": [
          0.7960416666666666,
          0.8672291666666667,
          0.8858125,
          0.8953958333333333,
          0.9021666666666667,
          0.9073125,
          0.9117708333333333,
          0.9153958333333333,
          0.917875,
          0.9211041666666666,
          0.9235833333333333,
          0.9257083333333334,
          0.9278125,
          0.92825,
          0.9335208333333334,
          0.9316041666666667,
          0.9350833333333334,
          0.936875,
          0.93825,
          0.9385625,
          0.94175,
          0.9423958333333333,
          0.9440416666666667,
          0.9443541666666667,
          0.9451041666666666,
          0.9466041666666667,
          0.9473125,
          0.9475833333333333,
          0.9500833333333333,
          0.9487916666666667,
          0.9520833333333333,
          0.9508541666666667,
          0.9532708333333333,
          0.9538958333333334,
          0.9536875,
          0.9609791666666667,
          0.963875,
          0.9633958333333333,
          0.9648958333333333
         ],
         "yaxis": "y"
        },
        {
         "marker": {
          "color": "Red"
         },
         "mode": "markers+lines",
         "name": "Validation accuracy",
         "text": [
          "1",
          "2",
          "3",
          "4",
          "5",
          "6",
          "7",
          "8",
          "9",
          "10",
          "11",
          "12",
          "13",
          "14",
          "15",
          "16",
          "17",
          "18",
          "19",
          "20",
          "21",
          "22",
          "23",
          "24",
          "25",
          "26",
          "27",
          "28",
          "29",
          "30",
          "31",
          "32",
          "33",
          "34",
          "35",
          "36",
          "37",
          "38",
          "39"
         ],
         "type": "scatter",
         "uid": "f62cfe39-392b-475f-b82a-83e7e024d59f",
         "x": [
          1,
          2,
          3,
          4,
          5,
          6,
          7,
          8,
          9,
          10,
          11,
          12,
          13,
          14,
          15,
          16,
          17,
          18,
          19,
          20,
          21,
          22,
          23,
          24,
          25,
          26,
          27,
          28,
          29,
          30,
          31,
          32,
          33,
          34,
          35,
          36,
          37,
          38,
          39
         ],
         "xaxis": "x",
         "y": [
          0.8600833333333333,
          0.8825833333333334,
          0.9005833333333333,
          0.89925,
          0.9051666666666667,
          0.9116666666666666,
          0.9073333333333333,
          0.9184166666666667,
          0.9179166666666667,
          0.9170833333333334,
          0.9223333333333333,
          0.9255,
          0.9269166666666667,
          0.92725,
          0.925,
          0.9284166666666667,
          0.9319166666666666,
          0.9295833333333333,
          0.9275,
          0.9285833333333333,
          0.9320833333333334,
          0.9304166666666667,
          0.93575,
          0.9275833333333333,
          0.93775,
          0.9345833333333333,
          0.9349166666666666,
          0.9315833333333333,
          0.9375833333333333,
          0.9375833333333333,
          0.9344166666666667,
          0.9370833333333334,
          0.9360833333333334,
          0.9364166666666667,
          0.9375833333333333,
          0.9385833333333333,
          0.9420833333333334,
          0.9425,
          0.93975
         ],
         "yaxis": "y"
        },
        {
         "marker": {
          "color": "Blue"
         },
         "mode": "markers+lines",
         "name": "Training loss",
         "text": [
          "1",
          "2",
          "3",
          "4",
          "5",
          "6",
          "7",
          "8",
          "9",
          "10",
          "11",
          "12",
          "13",
          "14",
          "15",
          "16",
          "17",
          "18",
          "19",
          "20",
          "21",
          "22",
          "23",
          "24",
          "25",
          "26",
          "27",
          "28",
          "29",
          "30",
          "31",
          "32",
          "33",
          "34",
          "35",
          "36",
          "37",
          "38",
          "39"
         ],
         "type": "scatter",
         "uid": "6a4fb330-c6c3-462d-ab55-c571f54191af",
         "x": [
          1,
          2,
          3,
          4,
          5,
          6,
          7,
          8,
          9,
          10,
          11,
          12,
          13,
          14,
          15,
          16,
          17,
          18,
          19,
          20,
          21,
          22,
          23,
          24,
          25,
          26,
          27,
          28,
          29,
          30,
          31,
          32,
          33,
          34,
          35,
          36,
          37,
          38,
          39
         ],
         "xaxis": "x2",
         "y": [
          0.5657931865851085,
          0.36414441412687304,
          0.31425979764262835,
          0.2882971993883451,
          0.27042752839128176,
          0.2556907157699267,
          0.2400037545611461,
          0.2337467055718104,
          0.22475035976370175,
          0.2172190342048804,
          0.20862288382152716,
          0.2030453710357348,
          0.19744986581802368,
          0.1943644059250752,
          0.18524598169326784,
          0.184164817293485,
          0.17642981981486083,
          0.17116802562276523,
          0.16672876309851806,
          0.16617217593391737,
          0.1609160017321507,
          0.15705995011329651,
          0.15284469610949358,
          0.1508901609579722,
          0.14724903875713546,
          0.14063399733354648,
          0.14240544326851765,
          0.13829741605122883,
          0.13622620420902967,
          0.1358095842823386,
          0.1306193471898635,
          0.13166328443586825,
          0.1234681459441781,
          0.12223524229228497,
          0.12202961837872862,
          0.1028114816620946,
          0.09655064416428406,
          0.09812939356639981,
          0.09336462231477102
         ],
         "yaxis": "y2"
        },
        {
         "marker": {
          "color": "Magenta"
         },
         "mode": "markers+lines",
         "name": "Validation loss",
         "text": [
          "1",
          "2",
          "3",
          "4",
          "5",
          "6",
          "7",
          "8",
          "9",
          "10",
          "11",
          "12",
          "13",
          "14",
          "15",
          "16",
          "17",
          "18",
          "19",
          "20",
          "21",
          "22",
          "23",
          "24",
          "25",
          "26",
          "27",
          "28",
          "29",
          "30",
          "31",
          "32",
          "33",
          "34",
          "35",
          "36",
          "37",
          "38",
          "39"
         ],
         "type": "scatter",
         "uid": "d91528ed-a810-4808-b24d-542a21af41f1",
         "x": [
          1,
          2,
          3,
          4,
          5,
          6,
          7,
          8,
          9,
          10,
          11,
          12,
          13,
          14,
          15,
          16,
          17,
          18,
          19,
          20,
          21,
          22,
          23,
          24,
          25,
          26,
          27,
          28,
          29,
          30,
          31,
          32,
          33,
          34,
          35,
          36,
          37,
          38,
          39
         ],
         "xaxis": "x2",
         "y": [
          0.38009269793828326,
          0.3077885572910309,
          0.26718784896532694,
          0.2764650585254033,
          0.2596624312798182,
          0.23438851761817933,
          0.24844989474614462,
          0.22001467629273733,
          0.2376014734506607,
          0.22921651021639505,
          0.22346545628706616,
          0.20120030327637992,
          0.21031558148066204,
          0.19915939476092656,
          0.21084348742167155,
          0.20455951406558354,
          0.19619748703638712,
          0.20598891093333563,
          0.2079627736012141,
          0.19466680349906285,
          0.20547730785608292,
          0.19799974803129833,
          0.1936832993030548,
          0.206360955397288,
          0.19352908966938653,
          0.2055641669432322,
          0.20133312737941741,
          0.2021125598947207,
          0.18815490370988847,
          0.19683150567611057,
          0.20136595795551937,
          0.19571346692244213,
          0.2091638262271881,
          0.20826944803198177,
          0.18850726372003554,
          0.19664430071910222,
          0.1956487859984239,
          0.1938457906295856,
          0.2020922629336516
         ],
         "yaxis": "y2"
        }
       ],
       "layout": {
        "annotations": [
         {
          "font": {
           "size": 16
          },
          "showarrow": false,
          "text": "Training and validation accuracy",
          "x": 0.225,
          "xanchor": "center",
          "xref": "paper",
          "y": 1,
          "yanchor": "bottom",
          "yref": "paper"
         },
         {
          "font": {
           "size": 16
          },
          "showarrow": false,
          "text": "Training and validation loss",
          "x": 0.775,
          "xanchor": "center",
          "xref": "paper",
          "y": 1,
          "yanchor": "bottom",
          "yref": "paper"
         }
        ],
        "xaxis": {
         "anchor": "y",
         "domain": [
          0,
          0.45
         ],
         "title": {
          "text": "Epoch"
         }
        },
        "xaxis2": {
         "anchor": "y2",
         "domain": [
          0.55,
          1
         ],
         "title": {
          "text": "Epoch"
         }
        },
        "yaxis": {
         "anchor": "x",
         "domain": [
          0,
          1
         ],
         "range": [
          0,
          1
         ],
         "title": {
          "text": "Accuracy"
         }
        },
        "yaxis2": {
         "anchor": "x2",
         "domain": [
          0,
          1
         ],
         "range": [
          0,
          1
         ],
         "title": {
          "text": "Loss"
         }
        }
       }
      },
      "text/html": [
       "<div id=\"2f23ddcb-594d-4560-9287-e1f06d49f402\" style=\"height: 525px; width: 100%;\" class=\"plotly-graph-div\"></div><script type=\"text/javascript\">require([\"plotly\"], function(Plotly) { window.PLOTLYENV=window.PLOTLYENV || {};window.PLOTLYENV.BASE_URL=\"https://plot.ly\";Plotly.newPlot(\"2f23ddcb-594d-4560-9287-e1f06d49f402\", [{\"marker\": {\"color\": \"Green\"}, \"mode\": \"markers+lines\", \"name\": \"Training accuracy\", \"text\": [\"1\", \"2\", \"3\", \"4\", \"5\", \"6\", \"7\", \"8\", \"9\", \"10\", \"11\", \"12\", \"13\", \"14\", \"15\", \"16\", \"17\", \"18\", \"19\", \"20\", \"21\", \"22\", \"23\", \"24\", \"25\", \"26\", \"27\", \"28\", \"29\", \"30\", \"31\", \"32\", \"33\", \"34\", \"35\", \"36\", \"37\", \"38\", \"39\"], \"uid\": \"c400a40d-467d-4aaf-8b98-b8fc4f7119d9\", \"x\": [1, 2, 3, 4, 5, 6, 7, 8, 9, 10, 11, 12, 13, 14, 15, 16, 17, 18, 19, 20, 21, 22, 23, 24, 25, 26, 27, 28, 29, 30, 31, 32, 33, 34, 35, 36, 37, 38, 39], \"xaxis\": \"x\", \"y\": [0.7960416666666666, 0.8672291666666667, 0.8858125, 0.8953958333333333, 0.9021666666666667, 0.9073125, 0.9117708333333333, 0.9153958333333333, 0.917875, 0.9211041666666666, 0.9235833333333333, 0.9257083333333334, 0.9278125, 0.92825, 0.9335208333333334, 0.9316041666666667, 0.9350833333333334, 0.936875, 0.93825, 0.9385625, 0.94175, 0.9423958333333333, 0.9440416666666667, 0.9443541666666667, 0.9451041666666666, 0.9466041666666667, 0.9473125, 0.9475833333333333, 0.9500833333333333, 0.9487916666666667, 0.9520833333333333, 0.9508541666666667, 0.9532708333333333, 0.9538958333333334, 0.9536875, 0.9609791666666667, 0.963875, 0.9633958333333333, 0.9648958333333333], \"yaxis\": \"y\", \"type\": \"scatter\"}, {\"marker\": {\"color\": \"Red\"}, \"mode\": \"markers+lines\", \"name\": \"Validation accuracy\", \"text\": [\"1\", \"2\", \"3\", \"4\", \"5\", \"6\", \"7\", \"8\", \"9\", \"10\", \"11\", \"12\", \"13\", \"14\", \"15\", \"16\", \"17\", \"18\", \"19\", \"20\", \"21\", \"22\", \"23\", \"24\", \"25\", \"26\", \"27\", \"28\", \"29\", \"30\", \"31\", \"32\", \"33\", \"34\", \"35\", \"36\", \"37\", \"38\", \"39\"], \"uid\": \"f62cfe39-392b-475f-b82a-83e7e024d59f\", \"x\": [1, 2, 3, 4, 5, 6, 7, 8, 9, 10, 11, 12, 13, 14, 15, 16, 17, 18, 19, 20, 21, 22, 23, 24, 25, 26, 27, 28, 29, 30, 31, 32, 33, 34, 35, 36, 37, 38, 39], \"xaxis\": \"x\", \"y\": [0.8600833333333333, 0.8825833333333334, 0.9005833333333333, 0.89925, 0.9051666666666667, 0.9116666666666666, 0.9073333333333333, 0.9184166666666667, 0.9179166666666667, 0.9170833333333334, 0.9223333333333333, 0.9255, 0.9269166666666667, 0.92725, 0.925, 0.9284166666666667, 0.9319166666666666, 0.9295833333333333, 0.9275, 0.9285833333333333, 0.9320833333333334, 0.9304166666666667, 0.93575, 0.9275833333333333, 0.93775, 0.9345833333333333, 0.9349166666666666, 0.9315833333333333, 0.9375833333333333, 0.9375833333333333, 0.9344166666666667, 0.9370833333333334, 0.9360833333333334, 0.9364166666666667, 0.9375833333333333, 0.9385833333333333, 0.9420833333333334, 0.9425, 0.93975], \"yaxis\": \"y\", \"type\": \"scatter\"}, {\"marker\": {\"color\": \"Blue\"}, \"mode\": \"markers+lines\", \"name\": \"Training loss\", \"text\": [\"1\", \"2\", \"3\", \"4\", \"5\", \"6\", \"7\", \"8\", \"9\", \"10\", \"11\", \"12\", \"13\", \"14\", \"15\", \"16\", \"17\", \"18\", \"19\", \"20\", \"21\", \"22\", \"23\", \"24\", \"25\", \"26\", \"27\", \"28\", \"29\", \"30\", \"31\", \"32\", \"33\", \"34\", \"35\", \"36\", \"37\", \"38\", \"39\"], \"uid\": \"6a4fb330-c6c3-462d-ab55-c571f54191af\", \"x\": [1, 2, 3, 4, 5, 6, 7, 8, 9, 10, 11, 12, 13, 14, 15, 16, 17, 18, 19, 20, 21, 22, 23, 24, 25, 26, 27, 28, 29, 30, 31, 32, 33, 34, 35, 36, 37, 38, 39], \"xaxis\": \"x2\", \"y\": [0.5657931865851085, 0.36414441412687304, 0.31425979764262835, 0.2882971993883451, 0.27042752839128176, 0.2556907157699267, 0.2400037545611461, 0.2337467055718104, 0.22475035976370175, 0.2172190342048804, 0.20862288382152716, 0.2030453710357348, 0.19744986581802368, 0.1943644059250752, 0.18524598169326784, 0.184164817293485, 0.17642981981486083, 0.17116802562276523, 0.16672876309851806, 0.16617217593391737, 0.1609160017321507, 0.15705995011329651, 0.15284469610949358, 0.1508901609579722, 0.14724903875713546, 0.14063399733354648, 0.14240544326851765, 0.13829741605122883, 0.13622620420902967, 0.1358095842823386, 0.1306193471898635, 0.13166328443586825, 0.1234681459441781, 0.12223524229228497, 0.12202961837872862, 0.1028114816620946, 0.09655064416428406, 0.09812939356639981, 0.09336462231477102], \"yaxis\": \"y2\", \"type\": \"scatter\"}, {\"marker\": {\"color\": \"Magenta\"}, \"mode\": \"markers+lines\", \"name\": \"Validation loss\", \"text\": [\"1\", \"2\", \"3\", \"4\", \"5\", \"6\", \"7\", \"8\", \"9\", \"10\", \"11\", \"12\", \"13\", \"14\", \"15\", \"16\", \"17\", \"18\", \"19\", \"20\", \"21\", \"22\", \"23\", \"24\", \"25\", \"26\", \"27\", \"28\", \"29\", \"30\", \"31\", \"32\", \"33\", \"34\", \"35\", \"36\", \"37\", \"38\", \"39\"], \"uid\": \"d91528ed-a810-4808-b24d-542a21af41f1\", \"x\": [1, 2, 3, 4, 5, 6, 7, 8, 9, 10, 11, 12, 13, 14, 15, 16, 17, 18, 19, 20, 21, 22, 23, 24, 25, 26, 27, 28, 29, 30, 31, 32, 33, 34, 35, 36, 37, 38, 39], \"xaxis\": \"x2\", \"y\": [0.38009269793828326, 0.3077885572910309, 0.26718784896532694, 0.2764650585254033, 0.2596624312798182, 0.23438851761817933, 0.24844989474614462, 0.22001467629273733, 0.2376014734506607, 0.22921651021639505, 0.22346545628706616, 0.20120030327637992, 0.21031558148066204, 0.19915939476092656, 0.21084348742167155, 0.20455951406558354, 0.19619748703638712, 0.20598891093333563, 0.2079627736012141, 0.19466680349906285, 0.20547730785608292, 0.19799974803129833, 0.1936832993030548, 0.206360955397288, 0.19352908966938653, 0.2055641669432322, 0.20133312737941741, 0.2021125598947207, 0.18815490370988847, 0.19683150567611057, 0.20136595795551937, 0.19571346692244213, 0.2091638262271881, 0.20826944803198177, 0.18850726372003554, 0.19664430071910222, 0.1956487859984239, 0.1938457906295856, 0.2020922629336516], \"yaxis\": \"y2\", \"type\": \"scatter\"}], {\"annotations\": [{\"font\": {\"size\": 16}, \"showarrow\": false, \"text\": \"Training and validation accuracy\", \"x\": 0.225, \"xanchor\": \"center\", \"xref\": \"paper\", \"y\": 1.0, \"yanchor\": \"bottom\", \"yref\": \"paper\"}, {\"font\": {\"size\": 16}, \"showarrow\": false, \"text\": \"Training and validation loss\", \"x\": 0.775, \"xanchor\": \"center\", \"xref\": \"paper\", \"y\": 1.0, \"yanchor\": \"bottom\", \"yref\": \"paper\"}], \"xaxis\": {\"anchor\": \"y\", \"domain\": [0.0, 0.45], \"title\": {\"text\": \"Epoch\"}}, \"yaxis\": {\"anchor\": \"x\", \"domain\": [0.0, 1.0], \"range\": [0, 1], \"title\": {\"text\": \"Accuracy\"}}, \"xaxis2\": {\"anchor\": \"y2\", \"domain\": [0.55, 1.0], \"title\": {\"text\": \"Epoch\"}}, \"yaxis2\": {\"anchor\": \"x2\", \"domain\": [0.0, 1.0], \"range\": [0, 1], \"title\": {\"text\": \"Loss\"}}}, {\"showLink\": false, \"linkText\": \"Export to plot.ly\", \"plotlyServerURL\": \"https://plot.ly\"})});</script><script type=\"text/javascript\">window.addEventListener(\"resize\", function(){window._Plotly.Plots.resize(document.getElementById(\"2f23ddcb-594d-4560-9287-e1f06d49f402\"));});</script>"
      ],
      "text/vnd.plotly.v1+html": [
       "<div id=\"2f23ddcb-594d-4560-9287-e1f06d49f402\" style=\"height: 525px; width: 100%;\" class=\"plotly-graph-div\"></div><script type=\"text/javascript\">require([\"plotly\"], function(Plotly) { window.PLOTLYENV=window.PLOTLYENV || {};window.PLOTLYENV.BASE_URL=\"https://plot.ly\";Plotly.newPlot(\"2f23ddcb-594d-4560-9287-e1f06d49f402\", [{\"marker\": {\"color\": \"Green\"}, \"mode\": \"markers+lines\", \"name\": \"Training accuracy\", \"text\": [\"1\", \"2\", \"3\", \"4\", \"5\", \"6\", \"7\", \"8\", \"9\", \"10\", \"11\", \"12\", \"13\", \"14\", \"15\", \"16\", \"17\", \"18\", \"19\", \"20\", \"21\", \"22\", \"23\", \"24\", \"25\", \"26\", \"27\", \"28\", \"29\", \"30\", \"31\", \"32\", \"33\", \"34\", \"35\", \"36\", \"37\", \"38\", \"39\"], \"uid\": \"c400a40d-467d-4aaf-8b98-b8fc4f7119d9\", \"x\": [1, 2, 3, 4, 5, 6, 7, 8, 9, 10, 11, 12, 13, 14, 15, 16, 17, 18, 19, 20, 21, 22, 23, 24, 25, 26, 27, 28, 29, 30, 31, 32, 33, 34, 35, 36, 37, 38, 39], \"xaxis\": \"x\", \"y\": [0.7960416666666666, 0.8672291666666667, 0.8858125, 0.8953958333333333, 0.9021666666666667, 0.9073125, 0.9117708333333333, 0.9153958333333333, 0.917875, 0.9211041666666666, 0.9235833333333333, 0.9257083333333334, 0.9278125, 0.92825, 0.9335208333333334, 0.9316041666666667, 0.9350833333333334, 0.936875, 0.93825, 0.9385625, 0.94175, 0.9423958333333333, 0.9440416666666667, 0.9443541666666667, 0.9451041666666666, 0.9466041666666667, 0.9473125, 0.9475833333333333, 0.9500833333333333, 0.9487916666666667, 0.9520833333333333, 0.9508541666666667, 0.9532708333333333, 0.9538958333333334, 0.9536875, 0.9609791666666667, 0.963875, 0.9633958333333333, 0.9648958333333333], \"yaxis\": \"y\", \"type\": \"scatter\"}, {\"marker\": {\"color\": \"Red\"}, \"mode\": \"markers+lines\", \"name\": \"Validation accuracy\", \"text\": [\"1\", \"2\", \"3\", \"4\", \"5\", \"6\", \"7\", \"8\", \"9\", \"10\", \"11\", \"12\", \"13\", \"14\", \"15\", \"16\", \"17\", \"18\", \"19\", \"20\", \"21\", \"22\", \"23\", \"24\", \"25\", \"26\", \"27\", \"28\", \"29\", \"30\", \"31\", \"32\", \"33\", \"34\", \"35\", \"36\", \"37\", \"38\", \"39\"], \"uid\": \"f62cfe39-392b-475f-b82a-83e7e024d59f\", \"x\": [1, 2, 3, 4, 5, 6, 7, 8, 9, 10, 11, 12, 13, 14, 15, 16, 17, 18, 19, 20, 21, 22, 23, 24, 25, 26, 27, 28, 29, 30, 31, 32, 33, 34, 35, 36, 37, 38, 39], \"xaxis\": \"x\", \"y\": [0.8600833333333333, 0.8825833333333334, 0.9005833333333333, 0.89925, 0.9051666666666667, 0.9116666666666666, 0.9073333333333333, 0.9184166666666667, 0.9179166666666667, 0.9170833333333334, 0.9223333333333333, 0.9255, 0.9269166666666667, 0.92725, 0.925, 0.9284166666666667, 0.9319166666666666, 0.9295833333333333, 0.9275, 0.9285833333333333, 0.9320833333333334, 0.9304166666666667, 0.93575, 0.9275833333333333, 0.93775, 0.9345833333333333, 0.9349166666666666, 0.9315833333333333, 0.9375833333333333, 0.9375833333333333, 0.9344166666666667, 0.9370833333333334, 0.9360833333333334, 0.9364166666666667, 0.9375833333333333, 0.9385833333333333, 0.9420833333333334, 0.9425, 0.93975], \"yaxis\": \"y\", \"type\": \"scatter\"}, {\"marker\": {\"color\": \"Blue\"}, \"mode\": \"markers+lines\", \"name\": \"Training loss\", \"text\": [\"1\", \"2\", \"3\", \"4\", \"5\", \"6\", \"7\", \"8\", \"9\", \"10\", \"11\", \"12\", \"13\", \"14\", \"15\", \"16\", \"17\", \"18\", \"19\", \"20\", \"21\", \"22\", \"23\", \"24\", \"25\", \"26\", \"27\", \"28\", \"29\", \"30\", \"31\", \"32\", \"33\", \"34\", \"35\", \"36\", \"37\", \"38\", \"39\"], \"uid\": \"6a4fb330-c6c3-462d-ab55-c571f54191af\", \"x\": [1, 2, 3, 4, 5, 6, 7, 8, 9, 10, 11, 12, 13, 14, 15, 16, 17, 18, 19, 20, 21, 22, 23, 24, 25, 26, 27, 28, 29, 30, 31, 32, 33, 34, 35, 36, 37, 38, 39], \"xaxis\": \"x2\", \"y\": [0.5657931865851085, 0.36414441412687304, 0.31425979764262835, 0.2882971993883451, 0.27042752839128176, 0.2556907157699267, 0.2400037545611461, 0.2337467055718104, 0.22475035976370175, 0.2172190342048804, 0.20862288382152716, 0.2030453710357348, 0.19744986581802368, 0.1943644059250752, 0.18524598169326784, 0.184164817293485, 0.17642981981486083, 0.17116802562276523, 0.16672876309851806, 0.16617217593391737, 0.1609160017321507, 0.15705995011329651, 0.15284469610949358, 0.1508901609579722, 0.14724903875713546, 0.14063399733354648, 0.14240544326851765, 0.13829741605122883, 0.13622620420902967, 0.1358095842823386, 0.1306193471898635, 0.13166328443586825, 0.1234681459441781, 0.12223524229228497, 0.12202961837872862, 0.1028114816620946, 0.09655064416428406, 0.09812939356639981, 0.09336462231477102], \"yaxis\": \"y2\", \"type\": \"scatter\"}, {\"marker\": {\"color\": \"Magenta\"}, \"mode\": \"markers+lines\", \"name\": \"Validation loss\", \"text\": [\"1\", \"2\", \"3\", \"4\", \"5\", \"6\", \"7\", \"8\", \"9\", \"10\", \"11\", \"12\", \"13\", \"14\", \"15\", \"16\", \"17\", \"18\", \"19\", \"20\", \"21\", \"22\", \"23\", \"24\", \"25\", \"26\", \"27\", \"28\", \"29\", \"30\", \"31\", \"32\", \"33\", \"34\", \"35\", \"36\", \"37\", \"38\", \"39\"], \"uid\": \"d91528ed-a810-4808-b24d-542a21af41f1\", \"x\": [1, 2, 3, 4, 5, 6, 7, 8, 9, 10, 11, 12, 13, 14, 15, 16, 17, 18, 19, 20, 21, 22, 23, 24, 25, 26, 27, 28, 29, 30, 31, 32, 33, 34, 35, 36, 37, 38, 39], \"xaxis\": \"x2\", \"y\": [0.38009269793828326, 0.3077885572910309, 0.26718784896532694, 0.2764650585254033, 0.2596624312798182, 0.23438851761817933, 0.24844989474614462, 0.22001467629273733, 0.2376014734506607, 0.22921651021639505, 0.22346545628706616, 0.20120030327637992, 0.21031558148066204, 0.19915939476092656, 0.21084348742167155, 0.20455951406558354, 0.19619748703638712, 0.20598891093333563, 0.2079627736012141, 0.19466680349906285, 0.20547730785608292, 0.19799974803129833, 0.1936832993030548, 0.206360955397288, 0.19352908966938653, 0.2055641669432322, 0.20133312737941741, 0.2021125598947207, 0.18815490370988847, 0.19683150567611057, 0.20136595795551937, 0.19571346692244213, 0.2091638262271881, 0.20826944803198177, 0.18850726372003554, 0.19664430071910222, 0.1956487859984239, 0.1938457906295856, 0.2020922629336516], \"yaxis\": \"y2\", \"type\": \"scatter\"}], {\"annotations\": [{\"font\": {\"size\": 16}, \"showarrow\": false, \"text\": \"Training and validation accuracy\", \"x\": 0.225, \"xanchor\": \"center\", \"xref\": \"paper\", \"y\": 1.0, \"yanchor\": \"bottom\", \"yref\": \"paper\"}, {\"font\": {\"size\": 16}, \"showarrow\": false, \"text\": \"Training and validation loss\", \"x\": 0.775, \"xanchor\": \"center\", \"xref\": \"paper\", \"y\": 1.0, \"yanchor\": \"bottom\", \"yref\": \"paper\"}], \"xaxis\": {\"anchor\": \"y\", \"domain\": [0.0, 0.45], \"title\": {\"text\": \"Epoch\"}}, \"yaxis\": {\"anchor\": \"x\", \"domain\": [0.0, 1.0], \"range\": [0, 1], \"title\": {\"text\": \"Accuracy\"}}, \"xaxis2\": {\"anchor\": \"y2\", \"domain\": [0.55, 1.0], \"title\": {\"text\": \"Epoch\"}}, \"yaxis2\": {\"anchor\": \"x2\", \"domain\": [0.0, 1.0], \"range\": [0, 1], \"title\": {\"text\": \"Loss\"}}}, {\"showLink\": false, \"linkText\": \"Export to plot.ly\", \"plotlyServerURL\": \"https://plot.ly\"})});</script><script type=\"text/javascript\">window.addEventListener(\"resize\", function(){window._Plotly.Plots.resize(document.getElementById(\"2f23ddcb-594d-4560-9287-e1f06d49f402\"));});</script>"
      ]
     },
     "metadata": {},
     "output_type": "display_data"
    },
    {
     "name": "stdout",
     "output_type": "stream",
     "text": [
      "CNNDropout_hist\n",
      "This is the format of your plot grid:\n",
      "[ (1,1) x1,y1 ]  [ (1,2) x2,y2 ]\n",
      "\n"
     ]
    },
    {
     "data": {
      "application/vnd.plotly.v1+json": {
       "config": {
        "linkText": "Export to plot.ly",
        "plotlyServerURL": "https://plot.ly",
        "showLink": false
       },
       "data": [
        {
         "marker": {
          "color": "Green"
         },
         "mode": "markers+lines",
         "name": "Training accuracy",
         "text": [
          "1",
          "2",
          "3",
          "4",
          "5",
          "6",
          "7",
          "8",
          "9",
          "10",
          "11",
          "12",
          "13",
          "14",
          "15",
          "16",
          "17",
          "18",
          "19",
          "20"
         ],
         "type": "scatter",
         "uid": "badad100-663c-4839-9508-9aa337906b52",
         "x": [
          1,
          2,
          3,
          4,
          5,
          6,
          7,
          8,
          9,
          10,
          11,
          12,
          13,
          14,
          15,
          16,
          17,
          18,
          19,
          20
         ],
         "xaxis": "x",
         "y": [
          0.7285416666666666,
          0.8282708333333333,
          0.8537083333333333,
          0.8675208333333333,
          0.8759375,
          0.8836875,
          0.8879375,
          0.8925625,
          0.8939166666666667,
          0.8950625,
          0.89875,
          0.9015625,
          0.903,
          0.9047708333333333,
          0.9070625,
          0.9074791666666666,
          0.9090833333333334,
          0.9109375,
          0.9110208333333333,
          0.9114375
         ],
         "yaxis": "y"
        },
        {
         "marker": {
          "color": "Red"
         },
         "mode": "markers+lines",
         "name": "Validation accuracy",
         "text": [
          "1",
          "2",
          "3",
          "4",
          "5",
          "6",
          "7",
          "8",
          "9",
          "10",
          "11",
          "12",
          "13",
          "14",
          "15",
          "16",
          "17",
          "18",
          "19",
          "20"
         ],
         "type": "scatter",
         "uid": "9fd04921-2739-4438-a344-0b5004afbd0d",
         "x": [
          1,
          2,
          3,
          4,
          5,
          6,
          7,
          8,
          9,
          10,
          11,
          12,
          13,
          14,
          15,
          16,
          17,
          18,
          19,
          20
         ],
         "xaxis": "x",
         "y": [
          0.8235833333333333,
          0.86225,
          0.87875,
          0.8834166666666666,
          0.8885833333333333,
          0.8989166666666667,
          0.8956666666666667,
          0.9030833333333333,
          0.9056666666666666,
          0.90325,
          0.9098333333333334,
          0.9109166666666667,
          0.9086666666666666,
          0.91025,
          0.91125,
          0.90775,
          0.9133333333333333,
          0.9146666666666666,
          0.9139166666666667,
          0.91175
         ],
         "yaxis": "y"
        },
        {
         "marker": {
          "color": "Blue"
         },
         "mode": "markers+lines",
         "name": "Training loss",
         "text": [
          "1",
          "2",
          "3",
          "4",
          "5",
          "6",
          "7",
          "8",
          "9",
          "10",
          "11",
          "12",
          "13",
          "14",
          "15",
          "16",
          "17",
          "18",
          "19",
          "20"
         ],
         "type": "scatter",
         "uid": "ec23c4bf-1fd6-4ed1-ba59-5f655d4edef6",
         "x": [
          1,
          2,
          3,
          4,
          5,
          6,
          7,
          8,
          9,
          10,
          11,
          12,
          13,
          14,
          15,
          16,
          17,
          18,
          19,
          20
         ],
         "xaxis": "x2",
         "y": [
          0.7239039698839188,
          0.47027338592211404,
          0.3971366774539153,
          0.36073450042804084,
          0.33801019039750096,
          0.3174149200618267,
          0.30504225835204124,
          0.2918742608825366,
          0.2885593022108078,
          0.28029945543408397,
          0.2734691880742709,
          0.2672512856523196,
          0.2615059239168962,
          0.25372031397620837,
          0.25504247085253395,
          0.2469316303730011,
          0.24629050177832446,
          0.24173399644096694,
          0.23880866045256455,
          0.23764570916692415
         ],
         "yaxis": "y2"
        },
        {
         "marker": {
          "color": "Magenta"
         },
         "mode": "markers+lines",
         "name": "Validation loss",
         "text": [
          "1",
          "2",
          "3",
          "4",
          "5",
          "6",
          "7",
          "8",
          "9",
          "10",
          "11",
          "12",
          "13",
          "14",
          "15",
          "16",
          "17",
          "18",
          "19",
          "20"
         ],
         "type": "scatter",
         "uid": "5b994a00-35c1-459c-a901-74299a4ff0cf",
         "x": [
          1,
          2,
          3,
          4,
          5,
          6,
          7,
          8,
          9,
          10,
          11,
          12,
          13,
          14,
          15,
          16,
          17,
          18,
          19,
          20
         ],
         "xaxis": "x2",
         "y": [
          0.4663184234301249,
          0.37408172114690147,
          0.32805060799916586,
          0.31551672705014544,
          0.30212432662645977,
          0.27086077439785006,
          0.27063292344411216,
          0.264116423368454,
          0.25399330917994184,
          0.2566243716478348,
          0.24748778088887533,
          0.24152133989334107,
          0.2439138029019038,
          0.23710955774784087,
          0.23761296625932057,
          0.2423941690127055,
          0.23030211345354715,
          0.23200203768412272,
          0.23169959716002148,
          0.23001541459560396
         ],
         "yaxis": "y2"
        }
       ],
       "layout": {
        "annotations": [
         {
          "font": {
           "size": 16
          },
          "showarrow": false,
          "text": "Training and validation accuracy",
          "x": 0.225,
          "xanchor": "center",
          "xref": "paper",
          "y": 1,
          "yanchor": "bottom",
          "yref": "paper"
         },
         {
          "font": {
           "size": 16
          },
          "showarrow": false,
          "text": "Training and validation loss",
          "x": 0.775,
          "xanchor": "center",
          "xref": "paper",
          "y": 1,
          "yanchor": "bottom",
          "yref": "paper"
         }
        ],
        "xaxis": {
         "anchor": "y",
         "domain": [
          0,
          0.45
         ],
         "title": {
          "text": "Epoch"
         }
        },
        "xaxis2": {
         "anchor": "y2",
         "domain": [
          0.55,
          1
         ],
         "title": {
          "text": "Epoch"
         }
        },
        "yaxis": {
         "anchor": "x",
         "domain": [
          0,
          1
         ],
         "range": [
          0,
          1
         ],
         "title": {
          "text": "Accuracy"
         }
        },
        "yaxis2": {
         "anchor": "x2",
         "domain": [
          0,
          1
         ],
         "range": [
          0,
          1
         ],
         "title": {
          "text": "Loss"
         }
        }
       }
      },
      "text/html": [
       "<div id=\"0737dd2b-06e4-4e9d-b798-ddd7eea73edd\" style=\"height: 525px; width: 100%;\" class=\"plotly-graph-div\"></div><script type=\"text/javascript\">require([\"plotly\"], function(Plotly) { window.PLOTLYENV=window.PLOTLYENV || {};window.PLOTLYENV.BASE_URL=\"https://plot.ly\";Plotly.newPlot(\"0737dd2b-06e4-4e9d-b798-ddd7eea73edd\", [{\"marker\": {\"color\": \"Green\"}, \"mode\": \"markers+lines\", \"name\": \"Training accuracy\", \"text\": [\"1\", \"2\", \"3\", \"4\", \"5\", \"6\", \"7\", \"8\", \"9\", \"10\", \"11\", \"12\", \"13\", \"14\", \"15\", \"16\", \"17\", \"18\", \"19\", \"20\"], \"uid\": \"badad100-663c-4839-9508-9aa337906b52\", \"x\": [1, 2, 3, 4, 5, 6, 7, 8, 9, 10, 11, 12, 13, 14, 15, 16, 17, 18, 19, 20], \"xaxis\": \"x\", \"y\": [0.7285416666666666, 0.8282708333333333, 0.8537083333333333, 0.8675208333333333, 0.8759375, 0.8836875, 0.8879375, 0.8925625, 0.8939166666666667, 0.8950625, 0.89875, 0.9015625, 0.903, 0.9047708333333333, 0.9070625, 0.9074791666666666, 0.9090833333333334, 0.9109375, 0.9110208333333333, 0.9114375], \"yaxis\": \"y\", \"type\": \"scatter\"}, {\"marker\": {\"color\": \"Red\"}, \"mode\": \"markers+lines\", \"name\": \"Validation accuracy\", \"text\": [\"1\", \"2\", \"3\", \"4\", \"5\", \"6\", \"7\", \"8\", \"9\", \"10\", \"11\", \"12\", \"13\", \"14\", \"15\", \"16\", \"17\", \"18\", \"19\", \"20\"], \"uid\": \"9fd04921-2739-4438-a344-0b5004afbd0d\", \"x\": [1, 2, 3, 4, 5, 6, 7, 8, 9, 10, 11, 12, 13, 14, 15, 16, 17, 18, 19, 20], \"xaxis\": \"x\", \"y\": [0.8235833333333333, 0.86225, 0.87875, 0.8834166666666666, 0.8885833333333333, 0.8989166666666667, 0.8956666666666667, 0.9030833333333333, 0.9056666666666666, 0.90325, 0.9098333333333334, 0.9109166666666667, 0.9086666666666666, 0.91025, 0.91125, 0.90775, 0.9133333333333333, 0.9146666666666666, 0.9139166666666667, 0.91175], \"yaxis\": \"y\", \"type\": \"scatter\"}, {\"marker\": {\"color\": \"Blue\"}, \"mode\": \"markers+lines\", \"name\": \"Training loss\", \"text\": [\"1\", \"2\", \"3\", \"4\", \"5\", \"6\", \"7\", \"8\", \"9\", \"10\", \"11\", \"12\", \"13\", \"14\", \"15\", \"16\", \"17\", \"18\", \"19\", \"20\"], \"uid\": \"ec23c4bf-1fd6-4ed1-ba59-5f655d4edef6\", \"x\": [1, 2, 3, 4, 5, 6, 7, 8, 9, 10, 11, 12, 13, 14, 15, 16, 17, 18, 19, 20], \"xaxis\": \"x2\", \"y\": [0.7239039698839188, 0.47027338592211404, 0.3971366774539153, 0.36073450042804084, 0.33801019039750096, 0.3174149200618267, 0.30504225835204124, 0.2918742608825366, 0.2885593022108078, 0.28029945543408397, 0.2734691880742709, 0.2672512856523196, 0.2615059239168962, 0.25372031397620837, 0.25504247085253395, 0.2469316303730011, 0.24629050177832446, 0.24173399644096694, 0.23880866045256455, 0.23764570916692415], \"yaxis\": \"y2\", \"type\": \"scatter\"}, {\"marker\": {\"color\": \"Magenta\"}, \"mode\": \"markers+lines\", \"name\": \"Validation loss\", \"text\": [\"1\", \"2\", \"3\", \"4\", \"5\", \"6\", \"7\", \"8\", \"9\", \"10\", \"11\", \"12\", \"13\", \"14\", \"15\", \"16\", \"17\", \"18\", \"19\", \"20\"], \"uid\": \"5b994a00-35c1-459c-a901-74299a4ff0cf\", \"x\": [1, 2, 3, 4, 5, 6, 7, 8, 9, 10, 11, 12, 13, 14, 15, 16, 17, 18, 19, 20], \"xaxis\": \"x2\", \"y\": [0.4663184234301249, 0.37408172114690147, 0.32805060799916586, 0.31551672705014544, 0.30212432662645977, 0.27086077439785006, 0.27063292344411216, 0.264116423368454, 0.25399330917994184, 0.2566243716478348, 0.24748778088887533, 0.24152133989334107, 0.2439138029019038, 0.23710955774784087, 0.23761296625932057, 0.2423941690127055, 0.23030211345354715, 0.23200203768412272, 0.23169959716002148, 0.23001541459560396], \"yaxis\": \"y2\", \"type\": \"scatter\"}], {\"annotations\": [{\"font\": {\"size\": 16}, \"showarrow\": false, \"text\": \"Training and validation accuracy\", \"x\": 0.225, \"xanchor\": \"center\", \"xref\": \"paper\", \"y\": 1.0, \"yanchor\": \"bottom\", \"yref\": \"paper\"}, {\"font\": {\"size\": 16}, \"showarrow\": false, \"text\": \"Training and validation loss\", \"x\": 0.775, \"xanchor\": \"center\", \"xref\": \"paper\", \"y\": 1.0, \"yanchor\": \"bottom\", \"yref\": \"paper\"}], \"xaxis\": {\"anchor\": \"y\", \"domain\": [0.0, 0.45], \"title\": {\"text\": \"Epoch\"}}, \"yaxis\": {\"anchor\": \"x\", \"domain\": [0.0, 1.0], \"range\": [0, 1], \"title\": {\"text\": \"Accuracy\"}}, \"xaxis2\": {\"anchor\": \"y2\", \"domain\": [0.55, 1.0], \"title\": {\"text\": \"Epoch\"}}, \"yaxis2\": {\"anchor\": \"x2\", \"domain\": [0.0, 1.0], \"range\": [0, 1], \"title\": {\"text\": \"Loss\"}}}, {\"showLink\": false, \"linkText\": \"Export to plot.ly\", \"plotlyServerURL\": \"https://plot.ly\"})});</script><script type=\"text/javascript\">window.addEventListener(\"resize\", function(){window._Plotly.Plots.resize(document.getElementById(\"0737dd2b-06e4-4e9d-b798-ddd7eea73edd\"));});</script>"
      ],
      "text/vnd.plotly.v1+html": [
       "<div id=\"0737dd2b-06e4-4e9d-b798-ddd7eea73edd\" style=\"height: 525px; width: 100%;\" class=\"plotly-graph-div\"></div><script type=\"text/javascript\">require([\"plotly\"], function(Plotly) { window.PLOTLYENV=window.PLOTLYENV || {};window.PLOTLYENV.BASE_URL=\"https://plot.ly\";Plotly.newPlot(\"0737dd2b-06e4-4e9d-b798-ddd7eea73edd\", [{\"marker\": {\"color\": \"Green\"}, \"mode\": \"markers+lines\", \"name\": \"Training accuracy\", \"text\": [\"1\", \"2\", \"3\", \"4\", \"5\", \"6\", \"7\", \"8\", \"9\", \"10\", \"11\", \"12\", \"13\", \"14\", \"15\", \"16\", \"17\", \"18\", \"19\", \"20\"], \"uid\": \"badad100-663c-4839-9508-9aa337906b52\", \"x\": [1, 2, 3, 4, 5, 6, 7, 8, 9, 10, 11, 12, 13, 14, 15, 16, 17, 18, 19, 20], \"xaxis\": \"x\", \"y\": [0.7285416666666666, 0.8282708333333333, 0.8537083333333333, 0.8675208333333333, 0.8759375, 0.8836875, 0.8879375, 0.8925625, 0.8939166666666667, 0.8950625, 0.89875, 0.9015625, 0.903, 0.9047708333333333, 0.9070625, 0.9074791666666666, 0.9090833333333334, 0.9109375, 0.9110208333333333, 0.9114375], \"yaxis\": \"y\", \"type\": \"scatter\"}, {\"marker\": {\"color\": \"Red\"}, \"mode\": \"markers+lines\", \"name\": \"Validation accuracy\", \"text\": [\"1\", \"2\", \"3\", \"4\", \"5\", \"6\", \"7\", \"8\", \"9\", \"10\", \"11\", \"12\", \"13\", \"14\", \"15\", \"16\", \"17\", \"18\", \"19\", \"20\"], \"uid\": \"9fd04921-2739-4438-a344-0b5004afbd0d\", \"x\": [1, 2, 3, 4, 5, 6, 7, 8, 9, 10, 11, 12, 13, 14, 15, 16, 17, 18, 19, 20], \"xaxis\": \"x\", \"y\": [0.8235833333333333, 0.86225, 0.87875, 0.8834166666666666, 0.8885833333333333, 0.8989166666666667, 0.8956666666666667, 0.9030833333333333, 0.9056666666666666, 0.90325, 0.9098333333333334, 0.9109166666666667, 0.9086666666666666, 0.91025, 0.91125, 0.90775, 0.9133333333333333, 0.9146666666666666, 0.9139166666666667, 0.91175], \"yaxis\": \"y\", \"type\": \"scatter\"}, {\"marker\": {\"color\": \"Blue\"}, \"mode\": \"markers+lines\", \"name\": \"Training loss\", \"text\": [\"1\", \"2\", \"3\", \"4\", \"5\", \"6\", \"7\", \"8\", \"9\", \"10\", \"11\", \"12\", \"13\", \"14\", \"15\", \"16\", \"17\", \"18\", \"19\", \"20\"], \"uid\": \"ec23c4bf-1fd6-4ed1-ba59-5f655d4edef6\", \"x\": [1, 2, 3, 4, 5, 6, 7, 8, 9, 10, 11, 12, 13, 14, 15, 16, 17, 18, 19, 20], \"xaxis\": \"x2\", \"y\": [0.7239039698839188, 0.47027338592211404, 0.3971366774539153, 0.36073450042804084, 0.33801019039750096, 0.3174149200618267, 0.30504225835204124, 0.2918742608825366, 0.2885593022108078, 0.28029945543408397, 0.2734691880742709, 0.2672512856523196, 0.2615059239168962, 0.25372031397620837, 0.25504247085253395, 0.2469316303730011, 0.24629050177832446, 0.24173399644096694, 0.23880866045256455, 0.23764570916692415], \"yaxis\": \"y2\", \"type\": \"scatter\"}, {\"marker\": {\"color\": \"Magenta\"}, \"mode\": \"markers+lines\", \"name\": \"Validation loss\", \"text\": [\"1\", \"2\", \"3\", \"4\", \"5\", \"6\", \"7\", \"8\", \"9\", \"10\", \"11\", \"12\", \"13\", \"14\", \"15\", \"16\", \"17\", \"18\", \"19\", \"20\"], \"uid\": \"5b994a00-35c1-459c-a901-74299a4ff0cf\", \"x\": [1, 2, 3, 4, 5, 6, 7, 8, 9, 10, 11, 12, 13, 14, 15, 16, 17, 18, 19, 20], \"xaxis\": \"x2\", \"y\": [0.4663184234301249, 0.37408172114690147, 0.32805060799916586, 0.31551672705014544, 0.30212432662645977, 0.27086077439785006, 0.27063292344411216, 0.264116423368454, 0.25399330917994184, 0.2566243716478348, 0.24748778088887533, 0.24152133989334107, 0.2439138029019038, 0.23710955774784087, 0.23761296625932057, 0.2423941690127055, 0.23030211345354715, 0.23200203768412272, 0.23169959716002148, 0.23001541459560396], \"yaxis\": \"y2\", \"type\": \"scatter\"}], {\"annotations\": [{\"font\": {\"size\": 16}, \"showarrow\": false, \"text\": \"Training and validation accuracy\", \"x\": 0.225, \"xanchor\": \"center\", \"xref\": \"paper\", \"y\": 1.0, \"yanchor\": \"bottom\", \"yref\": \"paper\"}, {\"font\": {\"size\": 16}, \"showarrow\": false, \"text\": \"Training and validation loss\", \"x\": 0.775, \"xanchor\": \"center\", \"xref\": \"paper\", \"y\": 1.0, \"yanchor\": \"bottom\", \"yref\": \"paper\"}], \"xaxis\": {\"anchor\": \"y\", \"domain\": [0.0, 0.45], \"title\": {\"text\": \"Epoch\"}}, \"yaxis\": {\"anchor\": \"x\", \"domain\": [0.0, 1.0], \"range\": [0, 1], \"title\": {\"text\": \"Accuracy\"}}, \"xaxis2\": {\"anchor\": \"y2\", \"domain\": [0.55, 1.0], \"title\": {\"text\": \"Epoch\"}}, \"yaxis2\": {\"anchor\": \"x2\", \"domain\": [0.0, 1.0], \"range\": [0, 1], \"title\": {\"text\": \"Loss\"}}}, {\"showLink\": false, \"linkText\": \"Export to plot.ly\", \"plotlyServerURL\": \"https://plot.ly\"})});</script><script type=\"text/javascript\">window.addEventListener(\"resize\", function(){window._Plotly.Plots.resize(document.getElementById(\"0737dd2b-06e4-4e9d-b798-ddd7eea73edd\"));});</script>"
      ]
     },
     "metadata": {},
     "output_type": "display_data"
    },
    {
     "name": "stdout",
     "output_type": "stream",
     "text": [
      "wideResnet_hist_dataAug\n",
      "This is the format of your plot grid:\n",
      "[ (1,1) x1,y1 ]  [ (1,2) x2,y2 ]\n",
      "\n"
     ]
    },
    {
     "data": {
      "application/vnd.plotly.v1+json": {
       "config": {
        "linkText": "Export to plot.ly",
        "plotlyServerURL": "https://plot.ly",
        "showLink": false
       },
       "data": [
        {
         "marker": {
          "color": "Green"
         },
         "mode": "markers+lines",
         "name": "Training accuracy",
         "text": [
          "1",
          "2",
          "3",
          "4",
          "5",
          "6",
          "7",
          "8",
          "9",
          "10",
          "11",
          "12",
          "13",
          "14",
          "15",
          "16",
          "17",
          "18",
          "19"
         ],
         "type": "scatter",
         "uid": "db77d1a5-e8c6-4915-afd0-c957cc9744e2",
         "x": [
          1,
          2,
          3,
          4,
          5,
          6,
          7,
          8,
          9,
          10,
          11,
          12,
          13,
          14,
          15,
          16,
          17,
          18,
          19
         ],
         "xaxis": "x",
         "y": [
          0.8338541666666667,
          0.8961666666666667,
          0.9128125,
          0.9210625,
          0.9254791666666666,
          0.9313333333333333,
          0.9346666666666666,
          0.9400208333333333,
          0.9455208333333334,
          0.9473541666666667,
          0.9519583333333334,
          0.9569583333333334,
          0.9602291666666667,
          0.9639375,
          0.9677291666666666,
          0.97,
          0.9747708333333334,
          0.9765208333333333,
          0.9798541666666667
         ],
         "yaxis": "y"
        },
        {
         "marker": {
          "color": "Red"
         },
         "mode": "markers+lines",
         "name": "Validation accuracy",
         "text": [
          "1",
          "2",
          "3",
          "4",
          "5",
          "6",
          "7",
          "8",
          "9",
          "10",
          "11",
          "12",
          "13",
          "14",
          "15",
          "16",
          "17",
          "18",
          "19"
         ],
         "type": "scatter",
         "uid": "1b5f3283-fd7a-42d7-bf0e-1fd4600f3675",
         "x": [
          1,
          2,
          3,
          4,
          5,
          6,
          7,
          8,
          9,
          10,
          11,
          12,
          13,
          14,
          15,
          16,
          17,
          18,
          19
         ],
         "xaxis": "x",
         "y": [
          0.8480833333333333,
          0.878,
          0.8886666666666667,
          0.90125,
          0.9025,
          0.89375,
          0.9120833333333334,
          0.9215833333333333,
          0.93175,
          0.925,
          0.9223333333333333,
          0.92525,
          0.9243333333333333,
          0.92925,
          0.9229166666666667,
          0.9244166666666667,
          0.9240833333333334,
          0.9261666666666667,
          0.9280833333333334
         ],
         "yaxis": "y"
        },
        {
         "marker": {
          "color": "Blue"
         },
         "mode": "markers+lines",
         "name": "Training loss",
         "text": [
          "1",
          "2",
          "3",
          "4",
          "5",
          "6",
          "7",
          "8",
          "9",
          "10",
          "11",
          "12",
          "13",
          "14",
          "15",
          "16",
          "17",
          "18",
          "19"
         ],
         "type": "scatter",
         "uid": "abda5850-86b0-4bf4-b824-b4386a115673",
         "x": [
          1,
          2,
          3,
          4,
          5,
          6,
          7,
          8,
          9,
          10,
          11,
          12,
          13,
          14,
          15,
          16,
          17,
          18,
          19
         ],
         "xaxis": "x2",
         "y": [
          0.455792700111866,
          0.2880583372016748,
          0.24416438884536426,
          0.22027709672848383,
          0.20583544945220153,
          0.19043640308082105,
          0.17685755501190822,
          0.16501801793773968,
          0.15235240030040342,
          0.1438785570040345,
          0.13053572095309696,
          0.11857324872041743,
          0.10945680186524988,
          0.09891556276443104,
          0.08949697198222081,
          0.08329305617635449,
          0.06941733419025937,
          0.06432840219823023,
          0.056387302505162856
         ],
         "yaxis": "y2"
        },
        {
         "marker": {
          "color": "Magenta"
         },
         "mode": "markers+lines",
         "name": "Validation loss",
         "text": [
          "1",
          "2",
          "3",
          "4",
          "5",
          "6",
          "7",
          "8",
          "9",
          "10",
          "11",
          "12",
          "13",
          "14",
          "15",
          "16",
          "17",
          "18",
          "19"
         ],
         "type": "scatter",
         "uid": "eea5e815-af47-4368-8722-d98e6ecd9694",
         "x": [
          1,
          2,
          3,
          4,
          5,
          6,
          7,
          8,
          9,
          10,
          11,
          12,
          13,
          14,
          15,
          16,
          17,
          18,
          19
         ],
         "xaxis": "x2",
         "y": [
          0.4279354228973389,
          0.3560534501870473,
          0.31453217661380767,
          0.27919482421875,
          0.29030575692653654,
          0.2917497059504191,
          0.23770198265711467,
          0.2255328029791514,
          0.1962092132170995,
          0.21272015160322189,
          0.22794239551822346,
          0.22122313821315764,
          0.23580725797017416,
          0.22288683891296387,
          0.2660317563811938,
          0.2418465131719907,
          0.26700118140379586,
          0.26502504977583885,
          0.27015836610396704
         ],
         "yaxis": "y2"
        }
       ],
       "layout": {
        "annotations": [
         {
          "font": {
           "size": 16
          },
          "showarrow": false,
          "text": "Training and validation accuracy",
          "x": 0.225,
          "xanchor": "center",
          "xref": "paper",
          "y": 1,
          "yanchor": "bottom",
          "yref": "paper"
         },
         {
          "font": {
           "size": 16
          },
          "showarrow": false,
          "text": "Training and validation loss",
          "x": 0.775,
          "xanchor": "center",
          "xref": "paper",
          "y": 1,
          "yanchor": "bottom",
          "yref": "paper"
         }
        ],
        "xaxis": {
         "anchor": "y",
         "domain": [
          0,
          0.45
         ],
         "title": {
          "text": "Epoch"
         }
        },
        "xaxis2": {
         "anchor": "y2",
         "domain": [
          0.55,
          1
         ],
         "title": {
          "text": "Epoch"
         }
        },
        "yaxis": {
         "anchor": "x",
         "domain": [
          0,
          1
         ],
         "range": [
          0,
          1
         ],
         "title": {
          "text": "Accuracy"
         }
        },
        "yaxis2": {
         "anchor": "x2",
         "domain": [
          0,
          1
         ],
         "range": [
          0,
          1
         ],
         "title": {
          "text": "Loss"
         }
        }
       }
      },
      "text/html": [
       "<div id=\"6dfe8855-3820-4502-9dd2-1d9ee5a54b88\" style=\"height: 525px; width: 100%;\" class=\"plotly-graph-div\"></div><script type=\"text/javascript\">require([\"plotly\"], function(Plotly) { window.PLOTLYENV=window.PLOTLYENV || {};window.PLOTLYENV.BASE_URL=\"https://plot.ly\";Plotly.newPlot(\"6dfe8855-3820-4502-9dd2-1d9ee5a54b88\", [{\"marker\": {\"color\": \"Green\"}, \"mode\": \"markers+lines\", \"name\": \"Training accuracy\", \"text\": [\"1\", \"2\", \"3\", \"4\", \"5\", \"6\", \"7\", \"8\", \"9\", \"10\", \"11\", \"12\", \"13\", \"14\", \"15\", \"16\", \"17\", \"18\", \"19\"], \"uid\": \"db77d1a5-e8c6-4915-afd0-c957cc9744e2\", \"x\": [1, 2, 3, 4, 5, 6, 7, 8, 9, 10, 11, 12, 13, 14, 15, 16, 17, 18, 19], \"xaxis\": \"x\", \"y\": [0.8338541666666667, 0.8961666666666667, 0.9128125, 0.9210625, 0.9254791666666666, 0.9313333333333333, 0.9346666666666666, 0.9400208333333333, 0.9455208333333334, 0.9473541666666667, 0.9519583333333334, 0.9569583333333334, 0.9602291666666667, 0.9639375, 0.9677291666666666, 0.97, 0.9747708333333334, 0.9765208333333333, 0.9798541666666667], \"yaxis\": \"y\", \"type\": \"scatter\"}, {\"marker\": {\"color\": \"Red\"}, \"mode\": \"markers+lines\", \"name\": \"Validation accuracy\", \"text\": [\"1\", \"2\", \"3\", \"4\", \"5\", \"6\", \"7\", \"8\", \"9\", \"10\", \"11\", \"12\", \"13\", \"14\", \"15\", \"16\", \"17\", \"18\", \"19\"], \"uid\": \"1b5f3283-fd7a-42d7-bf0e-1fd4600f3675\", \"x\": [1, 2, 3, 4, 5, 6, 7, 8, 9, 10, 11, 12, 13, 14, 15, 16, 17, 18, 19], \"xaxis\": \"x\", \"y\": [0.8480833333333333, 0.878, 0.8886666666666667, 0.90125, 0.9025, 0.89375, 0.9120833333333334, 0.9215833333333333, 0.93175, 0.925, 0.9223333333333333, 0.92525, 0.9243333333333333, 0.92925, 0.9229166666666667, 0.9244166666666667, 0.9240833333333334, 0.9261666666666667, 0.9280833333333334], \"yaxis\": \"y\", \"type\": \"scatter\"}, {\"marker\": {\"color\": \"Blue\"}, \"mode\": \"markers+lines\", \"name\": \"Training loss\", \"text\": [\"1\", \"2\", \"3\", \"4\", \"5\", \"6\", \"7\", \"8\", \"9\", \"10\", \"11\", \"12\", \"13\", \"14\", \"15\", \"16\", \"17\", \"18\", \"19\"], \"uid\": \"abda5850-86b0-4bf4-b824-b4386a115673\", \"x\": [1, 2, 3, 4, 5, 6, 7, 8, 9, 10, 11, 12, 13, 14, 15, 16, 17, 18, 19], \"xaxis\": \"x2\", \"y\": [0.455792700111866, 0.2880583372016748, 0.24416438884536426, 0.22027709672848383, 0.20583544945220153, 0.19043640308082105, 0.17685755501190822, 0.16501801793773968, 0.15235240030040342, 0.1438785570040345, 0.13053572095309696, 0.11857324872041743, 0.10945680186524988, 0.09891556276443104, 0.08949697198222081, 0.08329305617635449, 0.06941733419025937, 0.06432840219823023, 0.056387302505162856], \"yaxis\": \"y2\", \"type\": \"scatter\"}, {\"marker\": {\"color\": \"Magenta\"}, \"mode\": \"markers+lines\", \"name\": \"Validation loss\", \"text\": [\"1\", \"2\", \"3\", \"4\", \"5\", \"6\", \"7\", \"8\", \"9\", \"10\", \"11\", \"12\", \"13\", \"14\", \"15\", \"16\", \"17\", \"18\", \"19\"], \"uid\": \"eea5e815-af47-4368-8722-d98e6ecd9694\", \"x\": [1, 2, 3, 4, 5, 6, 7, 8, 9, 10, 11, 12, 13, 14, 15, 16, 17, 18, 19], \"xaxis\": \"x2\", \"y\": [0.4279354228973389, 0.3560534501870473, 0.31453217661380767, 0.27919482421875, 0.29030575692653654, 0.2917497059504191, 0.23770198265711467, 0.2255328029791514, 0.1962092132170995, 0.21272015160322189, 0.22794239551822346, 0.22122313821315764, 0.23580725797017416, 0.22288683891296387, 0.2660317563811938, 0.2418465131719907, 0.26700118140379586, 0.26502504977583885, 0.27015836610396704], \"yaxis\": \"y2\", \"type\": \"scatter\"}], {\"annotations\": [{\"font\": {\"size\": 16}, \"showarrow\": false, \"text\": \"Training and validation accuracy\", \"x\": 0.225, \"xanchor\": \"center\", \"xref\": \"paper\", \"y\": 1.0, \"yanchor\": \"bottom\", \"yref\": \"paper\"}, {\"font\": {\"size\": 16}, \"showarrow\": false, \"text\": \"Training and validation loss\", \"x\": 0.775, \"xanchor\": \"center\", \"xref\": \"paper\", \"y\": 1.0, \"yanchor\": \"bottom\", \"yref\": \"paper\"}], \"xaxis\": {\"anchor\": \"y\", \"domain\": [0.0, 0.45], \"title\": {\"text\": \"Epoch\"}}, \"yaxis\": {\"anchor\": \"x\", \"domain\": [0.0, 1.0], \"range\": [0, 1], \"title\": {\"text\": \"Accuracy\"}}, \"xaxis2\": {\"anchor\": \"y2\", \"domain\": [0.55, 1.0], \"title\": {\"text\": \"Epoch\"}}, \"yaxis2\": {\"anchor\": \"x2\", \"domain\": [0.0, 1.0], \"range\": [0, 1], \"title\": {\"text\": \"Loss\"}}}, {\"showLink\": false, \"linkText\": \"Export to plot.ly\", \"plotlyServerURL\": \"https://plot.ly\"})});</script><script type=\"text/javascript\">window.addEventListener(\"resize\", function(){window._Plotly.Plots.resize(document.getElementById(\"6dfe8855-3820-4502-9dd2-1d9ee5a54b88\"));});</script>"
      ],
      "text/vnd.plotly.v1+html": [
       "<div id=\"6dfe8855-3820-4502-9dd2-1d9ee5a54b88\" style=\"height: 525px; width: 100%;\" class=\"plotly-graph-div\"></div><script type=\"text/javascript\">require([\"plotly\"], function(Plotly) { window.PLOTLYENV=window.PLOTLYENV || {};window.PLOTLYENV.BASE_URL=\"https://plot.ly\";Plotly.newPlot(\"6dfe8855-3820-4502-9dd2-1d9ee5a54b88\", [{\"marker\": {\"color\": \"Green\"}, \"mode\": \"markers+lines\", \"name\": \"Training accuracy\", \"text\": [\"1\", \"2\", \"3\", \"4\", \"5\", \"6\", \"7\", \"8\", \"9\", \"10\", \"11\", \"12\", \"13\", \"14\", \"15\", \"16\", \"17\", \"18\", \"19\"], \"uid\": \"db77d1a5-e8c6-4915-afd0-c957cc9744e2\", \"x\": [1, 2, 3, 4, 5, 6, 7, 8, 9, 10, 11, 12, 13, 14, 15, 16, 17, 18, 19], \"xaxis\": \"x\", \"y\": [0.8338541666666667, 0.8961666666666667, 0.9128125, 0.9210625, 0.9254791666666666, 0.9313333333333333, 0.9346666666666666, 0.9400208333333333, 0.9455208333333334, 0.9473541666666667, 0.9519583333333334, 0.9569583333333334, 0.9602291666666667, 0.9639375, 0.9677291666666666, 0.97, 0.9747708333333334, 0.9765208333333333, 0.9798541666666667], \"yaxis\": \"y\", \"type\": \"scatter\"}, {\"marker\": {\"color\": \"Red\"}, \"mode\": \"markers+lines\", \"name\": \"Validation accuracy\", \"text\": [\"1\", \"2\", \"3\", \"4\", \"5\", \"6\", \"7\", \"8\", \"9\", \"10\", \"11\", \"12\", \"13\", \"14\", \"15\", \"16\", \"17\", \"18\", \"19\"], \"uid\": \"1b5f3283-fd7a-42d7-bf0e-1fd4600f3675\", \"x\": [1, 2, 3, 4, 5, 6, 7, 8, 9, 10, 11, 12, 13, 14, 15, 16, 17, 18, 19], \"xaxis\": \"x\", \"y\": [0.8480833333333333, 0.878, 0.8886666666666667, 0.90125, 0.9025, 0.89375, 0.9120833333333334, 0.9215833333333333, 0.93175, 0.925, 0.9223333333333333, 0.92525, 0.9243333333333333, 0.92925, 0.9229166666666667, 0.9244166666666667, 0.9240833333333334, 0.9261666666666667, 0.9280833333333334], \"yaxis\": \"y\", \"type\": \"scatter\"}, {\"marker\": {\"color\": \"Blue\"}, \"mode\": \"markers+lines\", \"name\": \"Training loss\", \"text\": [\"1\", \"2\", \"3\", \"4\", \"5\", \"6\", \"7\", \"8\", \"9\", \"10\", \"11\", \"12\", \"13\", \"14\", \"15\", \"16\", \"17\", \"18\", \"19\"], \"uid\": \"abda5850-86b0-4bf4-b824-b4386a115673\", \"x\": [1, 2, 3, 4, 5, 6, 7, 8, 9, 10, 11, 12, 13, 14, 15, 16, 17, 18, 19], \"xaxis\": \"x2\", \"y\": [0.455792700111866, 0.2880583372016748, 0.24416438884536426, 0.22027709672848383, 0.20583544945220153, 0.19043640308082105, 0.17685755501190822, 0.16501801793773968, 0.15235240030040342, 0.1438785570040345, 0.13053572095309696, 0.11857324872041743, 0.10945680186524988, 0.09891556276443104, 0.08949697198222081, 0.08329305617635449, 0.06941733419025937, 0.06432840219823023, 0.056387302505162856], \"yaxis\": \"y2\", \"type\": \"scatter\"}, {\"marker\": {\"color\": \"Magenta\"}, \"mode\": \"markers+lines\", \"name\": \"Validation loss\", \"text\": [\"1\", \"2\", \"3\", \"4\", \"5\", \"6\", \"7\", \"8\", \"9\", \"10\", \"11\", \"12\", \"13\", \"14\", \"15\", \"16\", \"17\", \"18\", \"19\"], \"uid\": \"eea5e815-af47-4368-8722-d98e6ecd9694\", \"x\": [1, 2, 3, 4, 5, 6, 7, 8, 9, 10, 11, 12, 13, 14, 15, 16, 17, 18, 19], \"xaxis\": \"x2\", \"y\": [0.4279354228973389, 0.3560534501870473, 0.31453217661380767, 0.27919482421875, 0.29030575692653654, 0.2917497059504191, 0.23770198265711467, 0.2255328029791514, 0.1962092132170995, 0.21272015160322189, 0.22794239551822346, 0.22122313821315764, 0.23580725797017416, 0.22288683891296387, 0.2660317563811938, 0.2418465131719907, 0.26700118140379586, 0.26502504977583885, 0.27015836610396704], \"yaxis\": \"y2\", \"type\": \"scatter\"}], {\"annotations\": [{\"font\": {\"size\": 16}, \"showarrow\": false, \"text\": \"Training and validation accuracy\", \"x\": 0.225, \"xanchor\": \"center\", \"xref\": \"paper\", \"y\": 1.0, \"yanchor\": \"bottom\", \"yref\": \"paper\"}, {\"font\": {\"size\": 16}, \"showarrow\": false, \"text\": \"Training and validation loss\", \"x\": 0.775, \"xanchor\": \"center\", \"xref\": \"paper\", \"y\": 1.0, \"yanchor\": \"bottom\", \"yref\": \"paper\"}], \"xaxis\": {\"anchor\": \"y\", \"domain\": [0.0, 0.45], \"title\": {\"text\": \"Epoch\"}}, \"yaxis\": {\"anchor\": \"x\", \"domain\": [0.0, 1.0], \"range\": [0, 1], \"title\": {\"text\": \"Accuracy\"}}, \"xaxis2\": {\"anchor\": \"y2\", \"domain\": [0.55, 1.0], \"title\": {\"text\": \"Epoch\"}}, \"yaxis2\": {\"anchor\": \"x2\", \"domain\": [0.0, 1.0], \"range\": [0, 1], \"title\": {\"text\": \"Loss\"}}}, {\"showLink\": false, \"linkText\": \"Export to plot.ly\", \"plotlyServerURL\": \"https://plot.ly\"})});</script><script type=\"text/javascript\">window.addEventListener(\"resize\", function(){window._Plotly.Plots.resize(document.getElementById(\"6dfe8855-3820-4502-9dd2-1d9ee5a54b88\"));});</script>"
      ]
     },
     "metadata": {},
     "output_type": "display_data"
    },
    {
     "name": "stdout",
     "output_type": "stream",
     "text": [
      "CNNBatchNorm_hist\n",
      "This is the format of your plot grid:\n",
      "[ (1,1) x1,y1 ]  [ (1,2) x2,y2 ]\n",
      "\n"
     ]
    },
    {
     "data": {
      "application/vnd.plotly.v1+json": {
       "config": {
        "linkText": "Export to plot.ly",
        "plotlyServerURL": "https://plot.ly",
        "showLink": false
       },
       "data": [
        {
         "marker": {
          "color": "Green"
         },
         "mode": "markers+lines",
         "name": "Training accuracy",
         "text": [
          "1",
          "2",
          "3",
          "4",
          "5",
          "6",
          "7",
          "8",
          "9",
          "10",
          "11",
          "12",
          "13",
          "14",
          "15",
          "16",
          "17",
          "18",
          "19",
          "20"
         ],
         "type": "scatter",
         "uid": "6618ae40-1650-4c81-8166-1d9c66c62eee",
         "x": [
          1,
          2,
          3,
          4,
          5,
          6,
          7,
          8,
          9,
          10,
          11,
          12,
          13,
          14,
          15,
          16,
          17,
          18,
          19,
          20
         ],
         "xaxis": "x",
         "y": [
          0.8020208333333333,
          0.8642291666666667,
          0.8813125,
          0.8928333333333334,
          0.8993333333333333,
          0.9040416666666666,
          0.9071041666666667,
          0.9116875,
          0.9154375,
          0.916375,
          0.9181875,
          0.9212291666666667,
          0.9252916666666666,
          0.9255416666666667,
          0.9266458333333333,
          0.927875,
          0.9298333333333333,
          0.9307708333333333,
          0.9319375,
          0.931375
         ],
         "yaxis": "y"
        },
        {
         "marker": {
          "color": "Red"
         },
         "mode": "markers+lines",
         "name": "Validation accuracy",
         "text": [
          "1",
          "2",
          "3",
          "4",
          "5",
          "6",
          "7",
          "8",
          "9",
          "10",
          "11",
          "12",
          "13",
          "14",
          "15",
          "16",
          "17",
          "18",
          "19",
          "20"
         ],
         "type": "scatter",
         "uid": "680cf41c-aeac-4a9c-a6db-7dcd46d25e5c",
         "x": [
          1,
          2,
          3,
          4,
          5,
          6,
          7,
          8,
          9,
          10,
          11,
          12,
          13,
          14,
          15,
          16,
          17,
          18,
          19,
          20
         ],
         "xaxis": "x",
         "y": [
          0.8661666666666666,
          0.8890833333333333,
          0.8994166666666666,
          0.9046666666666666,
          0.9106666666666666,
          0.9125833333333333,
          0.9171666666666667,
          0.9144166666666667,
          0.9115,
          0.91275,
          0.916,
          0.9221666666666667,
          0.9255833333333333,
          0.9234166666666667,
          0.9201666666666667,
          0.9265833333333333,
          0.9276666666666666,
          0.9250833333333334,
          0.9259166666666667,
          0.9275
         ],
         "yaxis": "y"
        },
        {
         "marker": {
          "color": "Blue"
         },
         "mode": "markers+lines",
         "name": "Training loss",
         "text": [
          "1",
          "2",
          "3",
          "4",
          "5",
          "6",
          "7",
          "8",
          "9",
          "10",
          "11",
          "12",
          "13",
          "14",
          "15",
          "16",
          "17",
          "18",
          "19",
          "20"
         ],
         "type": "scatter",
         "uid": "42ba36be-a7a4-4dcc-a0d8-66ebab1f6115",
         "x": [
          1,
          2,
          3,
          4,
          5,
          6,
          7,
          8,
          9,
          10,
          11,
          12,
          13,
          14,
          15,
          16,
          17,
          18,
          19,
          20
         ],
         "xaxis": "x2",
         "y": [
          0.5529693074027697,
          0.37273830259839696,
          0.32225584334135055,
          0.2979299591978391,
          0.27686252259214716,
          0.26406213018298147,
          0.25312466103831927,
          0.24037837687134742,
          0.23172410207986832,
          0.22632159627477327,
          0.21867282832662263,
          0.21300264139970143,
          0.2068347116758426,
          0.20263874128709236,
          0.19926584815482298,
          0.192497798482577,
          0.18987777052323024,
          0.1867034250398477,
          0.18114088601619005,
          0.18086481067289908
         ],
         "yaxis": "y2"
        },
        {
         "marker": {
          "color": "Magenta"
         },
         "mode": "markers+lines",
         "name": "Validation loss",
         "text": [
          "1",
          "2",
          "3",
          "4",
          "5",
          "6",
          "7",
          "8",
          "9",
          "10",
          "11",
          "12",
          "13",
          "14",
          "15",
          "16",
          "17",
          "18",
          "19",
          "20"
         ],
         "type": "scatter",
         "uid": "60edef26-0e68-4368-a3ee-abd30888409b",
         "x": [
          1,
          2,
          3,
          4,
          5,
          6,
          7,
          8,
          9,
          10,
          11,
          12,
          13,
          14,
          15,
          16,
          17,
          18,
          19,
          20
         ],
         "xaxis": "x2",
         "y": [
          0.3574072581132253,
          0.3031340890328089,
          0.2683781936963399,
          0.2597461224794388,
          0.24094531532128652,
          0.24102308122316995,
          0.22221036736170452,
          0.23127989093462625,
          0.24179648558298747,
          0.2325988307396571,
          0.21999343279997507,
          0.21338348738352458,
          0.21013294221957524,
          0.2179390250047048,
          0.23391333935658137,
          0.20864424093564352,
          0.20204737788438798,
          0.2071842402815819,
          0.20235423396031063,
          0.2025531828403473
         ],
         "yaxis": "y2"
        }
       ],
       "layout": {
        "annotations": [
         {
          "font": {
           "size": 16
          },
          "showarrow": false,
          "text": "Training and validation accuracy",
          "x": 0.225,
          "xanchor": "center",
          "xref": "paper",
          "y": 1,
          "yanchor": "bottom",
          "yref": "paper"
         },
         {
          "font": {
           "size": 16
          },
          "showarrow": false,
          "text": "Training and validation loss",
          "x": 0.775,
          "xanchor": "center",
          "xref": "paper",
          "y": 1,
          "yanchor": "bottom",
          "yref": "paper"
         }
        ],
        "xaxis": {
         "anchor": "y",
         "domain": [
          0,
          0.45
         ],
         "title": {
          "text": "Epoch"
         }
        },
        "xaxis2": {
         "anchor": "y2",
         "domain": [
          0.55,
          1
         ],
         "title": {
          "text": "Epoch"
         }
        },
        "yaxis": {
         "anchor": "x",
         "domain": [
          0,
          1
         ],
         "range": [
          0,
          1
         ],
         "title": {
          "text": "Accuracy"
         }
        },
        "yaxis2": {
         "anchor": "x2",
         "domain": [
          0,
          1
         ],
         "range": [
          0,
          1
         ],
         "title": {
          "text": "Loss"
         }
        }
       }
      },
      "text/html": [
       "<div id=\"d5f42dfa-4b09-454d-b6da-b6e21e82b79e\" style=\"height: 525px; width: 100%;\" class=\"plotly-graph-div\"></div><script type=\"text/javascript\">require([\"plotly\"], function(Plotly) { window.PLOTLYENV=window.PLOTLYENV || {};window.PLOTLYENV.BASE_URL=\"https://plot.ly\";Plotly.newPlot(\"d5f42dfa-4b09-454d-b6da-b6e21e82b79e\", [{\"marker\": {\"color\": \"Green\"}, \"mode\": \"markers+lines\", \"name\": \"Training accuracy\", \"text\": [\"1\", \"2\", \"3\", \"4\", \"5\", \"6\", \"7\", \"8\", \"9\", \"10\", \"11\", \"12\", \"13\", \"14\", \"15\", \"16\", \"17\", \"18\", \"19\", \"20\"], \"uid\": \"6618ae40-1650-4c81-8166-1d9c66c62eee\", \"x\": [1, 2, 3, 4, 5, 6, 7, 8, 9, 10, 11, 12, 13, 14, 15, 16, 17, 18, 19, 20], \"xaxis\": \"x\", \"y\": [0.8020208333333333, 0.8642291666666667, 0.8813125, 0.8928333333333334, 0.8993333333333333, 0.9040416666666666, 0.9071041666666667, 0.9116875, 0.9154375, 0.916375, 0.9181875, 0.9212291666666667, 0.9252916666666666, 0.9255416666666667, 0.9266458333333333, 0.927875, 0.9298333333333333, 0.9307708333333333, 0.9319375, 0.931375], \"yaxis\": \"y\", \"type\": \"scatter\"}, {\"marker\": {\"color\": \"Red\"}, \"mode\": \"markers+lines\", \"name\": \"Validation accuracy\", \"text\": [\"1\", \"2\", \"3\", \"4\", \"5\", \"6\", \"7\", \"8\", \"9\", \"10\", \"11\", \"12\", \"13\", \"14\", \"15\", \"16\", \"17\", \"18\", \"19\", \"20\"], \"uid\": \"680cf41c-aeac-4a9c-a6db-7dcd46d25e5c\", \"x\": [1, 2, 3, 4, 5, 6, 7, 8, 9, 10, 11, 12, 13, 14, 15, 16, 17, 18, 19, 20], \"xaxis\": \"x\", \"y\": [0.8661666666666666, 0.8890833333333333, 0.8994166666666666, 0.9046666666666666, 0.9106666666666666, 0.9125833333333333, 0.9171666666666667, 0.9144166666666667, 0.9115, 0.91275, 0.916, 0.9221666666666667, 0.9255833333333333, 0.9234166666666667, 0.9201666666666667, 0.9265833333333333, 0.9276666666666666, 0.9250833333333334, 0.9259166666666667, 0.9275], \"yaxis\": \"y\", \"type\": \"scatter\"}, {\"marker\": {\"color\": \"Blue\"}, \"mode\": \"markers+lines\", \"name\": \"Training loss\", \"text\": [\"1\", \"2\", \"3\", \"4\", \"5\", \"6\", \"7\", \"8\", \"9\", \"10\", \"11\", \"12\", \"13\", \"14\", \"15\", \"16\", \"17\", \"18\", \"19\", \"20\"], \"uid\": \"42ba36be-a7a4-4dcc-a0d8-66ebab1f6115\", \"x\": [1, 2, 3, 4, 5, 6, 7, 8, 9, 10, 11, 12, 13, 14, 15, 16, 17, 18, 19, 20], \"xaxis\": \"x2\", \"y\": [0.5529693074027697, 0.37273830259839696, 0.32225584334135055, 0.2979299591978391, 0.27686252259214716, 0.26406213018298147, 0.25312466103831927, 0.24037837687134742, 0.23172410207986832, 0.22632159627477327, 0.21867282832662263, 0.21300264139970143, 0.2068347116758426, 0.20263874128709236, 0.19926584815482298, 0.192497798482577, 0.18987777052323024, 0.1867034250398477, 0.18114088601619005, 0.18086481067289908], \"yaxis\": \"y2\", \"type\": \"scatter\"}, {\"marker\": {\"color\": \"Magenta\"}, \"mode\": \"markers+lines\", \"name\": \"Validation loss\", \"text\": [\"1\", \"2\", \"3\", \"4\", \"5\", \"6\", \"7\", \"8\", \"9\", \"10\", \"11\", \"12\", \"13\", \"14\", \"15\", \"16\", \"17\", \"18\", \"19\", \"20\"], \"uid\": \"60edef26-0e68-4368-a3ee-abd30888409b\", \"x\": [1, 2, 3, 4, 5, 6, 7, 8, 9, 10, 11, 12, 13, 14, 15, 16, 17, 18, 19, 20], \"xaxis\": \"x2\", \"y\": [0.3574072581132253, 0.3031340890328089, 0.2683781936963399, 0.2597461224794388, 0.24094531532128652, 0.24102308122316995, 0.22221036736170452, 0.23127989093462625, 0.24179648558298747, 0.2325988307396571, 0.21999343279997507, 0.21338348738352458, 0.21013294221957524, 0.2179390250047048, 0.23391333935658137, 0.20864424093564352, 0.20204737788438798, 0.2071842402815819, 0.20235423396031063, 0.2025531828403473], \"yaxis\": \"y2\", \"type\": \"scatter\"}], {\"annotations\": [{\"font\": {\"size\": 16}, \"showarrow\": false, \"text\": \"Training and validation accuracy\", \"x\": 0.225, \"xanchor\": \"center\", \"xref\": \"paper\", \"y\": 1.0, \"yanchor\": \"bottom\", \"yref\": \"paper\"}, {\"font\": {\"size\": 16}, \"showarrow\": false, \"text\": \"Training and validation loss\", \"x\": 0.775, \"xanchor\": \"center\", \"xref\": \"paper\", \"y\": 1.0, \"yanchor\": \"bottom\", \"yref\": \"paper\"}], \"xaxis\": {\"anchor\": \"y\", \"domain\": [0.0, 0.45], \"title\": {\"text\": \"Epoch\"}}, \"yaxis\": {\"anchor\": \"x\", \"domain\": [0.0, 1.0], \"range\": [0, 1], \"title\": {\"text\": \"Accuracy\"}}, \"xaxis2\": {\"anchor\": \"y2\", \"domain\": [0.55, 1.0], \"title\": {\"text\": \"Epoch\"}}, \"yaxis2\": {\"anchor\": \"x2\", \"domain\": [0.0, 1.0], \"range\": [0, 1], \"title\": {\"text\": \"Loss\"}}}, {\"showLink\": false, \"linkText\": \"Export to plot.ly\", \"plotlyServerURL\": \"https://plot.ly\"})});</script><script type=\"text/javascript\">window.addEventListener(\"resize\", function(){window._Plotly.Plots.resize(document.getElementById(\"d5f42dfa-4b09-454d-b6da-b6e21e82b79e\"));});</script>"
      ],
      "text/vnd.plotly.v1+html": [
       "<div id=\"d5f42dfa-4b09-454d-b6da-b6e21e82b79e\" style=\"height: 525px; width: 100%;\" class=\"plotly-graph-div\"></div><script type=\"text/javascript\">require([\"plotly\"], function(Plotly) { window.PLOTLYENV=window.PLOTLYENV || {};window.PLOTLYENV.BASE_URL=\"https://plot.ly\";Plotly.newPlot(\"d5f42dfa-4b09-454d-b6da-b6e21e82b79e\", [{\"marker\": {\"color\": \"Green\"}, \"mode\": \"markers+lines\", \"name\": \"Training accuracy\", \"text\": [\"1\", \"2\", \"3\", \"4\", \"5\", \"6\", \"7\", \"8\", \"9\", \"10\", \"11\", \"12\", \"13\", \"14\", \"15\", \"16\", \"17\", \"18\", \"19\", \"20\"], \"uid\": \"6618ae40-1650-4c81-8166-1d9c66c62eee\", \"x\": [1, 2, 3, 4, 5, 6, 7, 8, 9, 10, 11, 12, 13, 14, 15, 16, 17, 18, 19, 20], \"xaxis\": \"x\", \"y\": [0.8020208333333333, 0.8642291666666667, 0.8813125, 0.8928333333333334, 0.8993333333333333, 0.9040416666666666, 0.9071041666666667, 0.9116875, 0.9154375, 0.916375, 0.9181875, 0.9212291666666667, 0.9252916666666666, 0.9255416666666667, 0.9266458333333333, 0.927875, 0.9298333333333333, 0.9307708333333333, 0.9319375, 0.931375], \"yaxis\": \"y\", \"type\": \"scatter\"}, {\"marker\": {\"color\": \"Red\"}, \"mode\": \"markers+lines\", \"name\": \"Validation accuracy\", \"text\": [\"1\", \"2\", \"3\", \"4\", \"5\", \"6\", \"7\", \"8\", \"9\", \"10\", \"11\", \"12\", \"13\", \"14\", \"15\", \"16\", \"17\", \"18\", \"19\", \"20\"], \"uid\": \"680cf41c-aeac-4a9c-a6db-7dcd46d25e5c\", \"x\": [1, 2, 3, 4, 5, 6, 7, 8, 9, 10, 11, 12, 13, 14, 15, 16, 17, 18, 19, 20], \"xaxis\": \"x\", \"y\": [0.8661666666666666, 0.8890833333333333, 0.8994166666666666, 0.9046666666666666, 0.9106666666666666, 0.9125833333333333, 0.9171666666666667, 0.9144166666666667, 0.9115, 0.91275, 0.916, 0.9221666666666667, 0.9255833333333333, 0.9234166666666667, 0.9201666666666667, 0.9265833333333333, 0.9276666666666666, 0.9250833333333334, 0.9259166666666667, 0.9275], \"yaxis\": \"y\", \"type\": \"scatter\"}, {\"marker\": {\"color\": \"Blue\"}, \"mode\": \"markers+lines\", \"name\": \"Training loss\", \"text\": [\"1\", \"2\", \"3\", \"4\", \"5\", \"6\", \"7\", \"8\", \"9\", \"10\", \"11\", \"12\", \"13\", \"14\", \"15\", \"16\", \"17\", \"18\", \"19\", \"20\"], \"uid\": \"42ba36be-a7a4-4dcc-a0d8-66ebab1f6115\", \"x\": [1, 2, 3, 4, 5, 6, 7, 8, 9, 10, 11, 12, 13, 14, 15, 16, 17, 18, 19, 20], \"xaxis\": \"x2\", \"y\": [0.5529693074027697, 0.37273830259839696, 0.32225584334135055, 0.2979299591978391, 0.27686252259214716, 0.26406213018298147, 0.25312466103831927, 0.24037837687134742, 0.23172410207986832, 0.22632159627477327, 0.21867282832662263, 0.21300264139970143, 0.2068347116758426, 0.20263874128709236, 0.19926584815482298, 0.192497798482577, 0.18987777052323024, 0.1867034250398477, 0.18114088601619005, 0.18086481067289908], \"yaxis\": \"y2\", \"type\": \"scatter\"}, {\"marker\": {\"color\": \"Magenta\"}, \"mode\": \"markers+lines\", \"name\": \"Validation loss\", \"text\": [\"1\", \"2\", \"3\", \"4\", \"5\", \"6\", \"7\", \"8\", \"9\", \"10\", \"11\", \"12\", \"13\", \"14\", \"15\", \"16\", \"17\", \"18\", \"19\", \"20\"], \"uid\": \"60edef26-0e68-4368-a3ee-abd30888409b\", \"x\": [1, 2, 3, 4, 5, 6, 7, 8, 9, 10, 11, 12, 13, 14, 15, 16, 17, 18, 19, 20], \"xaxis\": \"x2\", \"y\": [0.3574072581132253, 0.3031340890328089, 0.2683781936963399, 0.2597461224794388, 0.24094531532128652, 0.24102308122316995, 0.22221036736170452, 0.23127989093462625, 0.24179648558298747, 0.2325988307396571, 0.21999343279997507, 0.21338348738352458, 0.21013294221957524, 0.2179390250047048, 0.23391333935658137, 0.20864424093564352, 0.20204737788438798, 0.2071842402815819, 0.20235423396031063, 0.2025531828403473], \"yaxis\": \"y2\", \"type\": \"scatter\"}], {\"annotations\": [{\"font\": {\"size\": 16}, \"showarrow\": false, \"text\": \"Training and validation accuracy\", \"x\": 0.225, \"xanchor\": \"center\", \"xref\": \"paper\", \"y\": 1.0, \"yanchor\": \"bottom\", \"yref\": \"paper\"}, {\"font\": {\"size\": 16}, \"showarrow\": false, \"text\": \"Training and validation loss\", \"x\": 0.775, \"xanchor\": \"center\", \"xref\": \"paper\", \"y\": 1.0, \"yanchor\": \"bottom\", \"yref\": \"paper\"}], \"xaxis\": {\"anchor\": \"y\", \"domain\": [0.0, 0.45], \"title\": {\"text\": \"Epoch\"}}, \"yaxis\": {\"anchor\": \"x\", \"domain\": [0.0, 1.0], \"range\": [0, 1], \"title\": {\"text\": \"Accuracy\"}}, \"xaxis2\": {\"anchor\": \"y2\", \"domain\": [0.55, 1.0], \"title\": {\"text\": \"Epoch\"}}, \"yaxis2\": {\"anchor\": \"x2\", \"domain\": [0.0, 1.0], \"range\": [0, 1], \"title\": {\"text\": \"Loss\"}}}, {\"showLink\": false, \"linkText\": \"Export to plot.ly\", \"plotlyServerURL\": \"https://plot.ly\"})});</script><script type=\"text/javascript\">window.addEventListener(\"resize\", function(){window._Plotly.Plots.resize(document.getElementById(\"d5f42dfa-4b09-454d-b6da-b6e21e82b79e\"));});</script>"
      ]
     },
     "metadata": {},
     "output_type": "display_data"
    },
    {
     "name": "stdout",
     "output_type": "stream",
     "text": [
      "CNNBatchNorm_hist_dataAug\n",
      "This is the format of your plot grid:\n",
      "[ (1,1) x1,y1 ]  [ (1,2) x2,y2 ]\n",
      "\n"
     ]
    },
    {
     "data": {
      "application/vnd.plotly.v1+json": {
       "config": {
        "linkText": "Export to plot.ly",
        "plotlyServerURL": "https://plot.ly",
        "showLink": false
       },
       "data": [
        {
         "marker": {
          "color": "Green"
         },
         "mode": "markers+lines",
         "name": "Training accuracy",
         "text": [
          "1",
          "2",
          "3",
          "4",
          "5",
          "6",
          "7",
          "8",
          "9",
          "10",
          "11",
          "12",
          "13",
          "14",
          "15",
          "16",
          "17",
          "18",
          "19",
          "20",
          "21",
          "22",
          "23",
          "24",
          "25",
          "26",
          "27",
          "28",
          "29",
          "30",
          "31",
          "32",
          "33",
          "34",
          "35",
          "36",
          "37",
          "38",
          "39",
          "40",
          "41",
          "42",
          "43",
          "44",
          "45",
          "46",
          "47",
          "48",
          "49",
          "50"
         ],
         "type": "scatter",
         "uid": "46a7ad31-4420-4e49-b395-14e399660d37",
         "x": [
          1,
          2,
          3,
          4,
          5,
          6,
          7,
          8,
          9,
          10,
          11,
          12,
          13,
          14,
          15,
          16,
          17,
          18,
          19,
          20,
          21,
          22,
          23,
          24,
          25,
          26,
          27,
          28,
          29,
          30,
          31,
          32,
          33,
          34,
          35,
          36,
          37,
          38,
          39,
          40,
          41,
          42,
          43,
          44,
          45,
          46,
          47,
          48,
          49,
          50
         ],
         "xaxis": "x",
         "y": [
          0.48625,
          0.6769791666666667,
          0.7451875,
          0.77925,
          0.8018958333333334,
          0.8109375,
          0.8170625,
          0.8260833333333333,
          0.8326875,
          0.8339166666666666,
          0.837875,
          0.8430416666666667,
          0.845875,
          0.8498541666666667,
          0.8519583333333334,
          0.8555208333333333,
          0.8557291666666667,
          0.8544375,
          0.8605833333333334,
          0.8607708333333334,
          0.8618541666666667,
          0.8620625,
          0.8631875,
          0.8651875,
          0.8653541666666666,
          0.8647708333333334,
          0.8678125,
          0.8686041666666666,
          0.8707083333333333,
          0.8708541666666667,
          0.87275,
          0.8733958333333334,
          0.8701458333333333,
          0.8722083333333334,
          0.8742291666666666,
          0.8734166666666666,
          0.8739791666666666,
          0.8760833333333333,
          0.8753125,
          0.8778958333333333,
          0.87775,
          0.8773125,
          0.8766458333333333,
          0.8786666666666667,
          0.8808958333333333,
          0.8803958333333334,
          0.8800625,
          0.882375,
          0.8815833333333334,
          0.879875
         ],
         "yaxis": "y"
        },
        {
         "marker": {
          "color": "Red"
         },
         "mode": "markers+lines",
         "name": "Validation accuracy",
         "text": [
          "1",
          "2",
          "3",
          "4",
          "5",
          "6",
          "7",
          "8",
          "9",
          "10",
          "11",
          "12",
          "13",
          "14",
          "15",
          "16",
          "17",
          "18",
          "19",
          "20",
          "21",
          "22",
          "23",
          "24",
          "25",
          "26",
          "27",
          "28",
          "29",
          "30",
          "31",
          "32",
          "33",
          "34",
          "35",
          "36",
          "37",
          "38",
          "39",
          "40",
          "41",
          "42",
          "43",
          "44",
          "45",
          "46",
          "47",
          "48",
          "49",
          "50"
         ],
         "type": "scatter",
         "uid": "46dd8df4-30a9-43e9-81f9-5633c424bf43",
         "x": [
          1,
          2,
          3,
          4,
          5,
          6,
          7,
          8,
          9,
          10,
          11,
          12,
          13,
          14,
          15,
          16,
          17,
          18,
          19,
          20,
          21,
          22,
          23,
          24,
          25,
          26,
          27,
          28,
          29,
          30,
          31,
          32,
          33,
          34,
          35,
          36,
          37,
          38,
          39,
          40,
          41,
          42,
          43,
          44,
          45,
          46,
          47,
          48,
          49,
          50
         ],
         "xaxis": "x",
         "y": [
          0.7226666666666667,
          0.7855,
          0.833,
          0.84475,
          0.8453333333333334,
          0.8565833333333334,
          0.8605,
          0.8659166666666667,
          0.8695,
          0.8716666666666667,
          0.8714166666666666,
          0.8726666666666667,
          0.87825,
          0.877,
          0.878,
          0.883,
          0.885,
          0.8865833333333333,
          0.8880833333333333,
          0.8850833333333333,
          0.8876666666666667,
          0.88975,
          0.8926666666666667,
          0.8893333333333333,
          0.8906666666666667,
          0.89325,
          0.8939166666666667,
          0.88925,
          0.8934166666666666,
          0.8929166666666667,
          0.8914166666666666,
          0.8941666666666667,
          0.8970833333333333,
          0.8918333333333334,
          0.8951666666666667,
          0.8980833333333333,
          0.897,
          0.8941666666666667,
          0.8975833333333333,
          0.8936666666666667,
          0.8963333333333333,
          0.9003333333333333,
          0.8976666666666666,
          0.89525,
          0.8970833333333333,
          0.8959166666666667,
          0.8981666666666667,
          0.8990833333333333,
          0.8999166666666667,
          0.8985
         ],
         "yaxis": "y"
        },
        {
         "marker": {
          "color": "Blue"
         },
         "mode": "markers+lines",
         "name": "Training loss",
         "text": [
          "1",
          "2",
          "3",
          "4",
          "5",
          "6",
          "7",
          "8",
          "9",
          "10",
          "11",
          "12",
          "13",
          "14",
          "15",
          "16",
          "17",
          "18",
          "19",
          "20",
          "21",
          "22",
          "23",
          "24",
          "25",
          "26",
          "27",
          "28",
          "29",
          "30",
          "31",
          "32",
          "33",
          "34",
          "35",
          "36",
          "37",
          "38",
          "39",
          "40",
          "41",
          "42",
          "43",
          "44",
          "45",
          "46",
          "47",
          "48",
          "49",
          "50"
         ],
         "type": "scatter",
         "uid": "937c4f11-74ec-4c44-ab00-30249354b5d9",
         "x": [
          1,
          2,
          3,
          4,
          5,
          6,
          7,
          8,
          9,
          10,
          11,
          12,
          13,
          14,
          15,
          16,
          17,
          18,
          19,
          20,
          21,
          22,
          23,
          24,
          25,
          26,
          27,
          28,
          29,
          30,
          31,
          32,
          33,
          34,
          35,
          36,
          37,
          38,
          39,
          40,
          41,
          42,
          43,
          44,
          45,
          46,
          47,
          48,
          49,
          50
         ],
         "xaxis": "x2",
         "y": [
          1.4493288889726004,
          0.8265173535744349,
          0.6672312268416087,
          0.5867087570826213,
          0.5334294888973236,
          0.5031237984895707,
          0.4856817869742711,
          0.4658915572762489,
          0.44693217847744626,
          0.43816687232255935,
          0.4319130129416784,
          0.4205439530412356,
          0.41058480525016783,
          0.4050689712762833,
          0.39946795207262037,
          0.3916977208455404,
          0.38612354544798533,
          0.3855458804368973,
          0.3770688990155856,
          0.3733937180240949,
          0.3710732693274816,
          0.36695176113645234,
          0.36696878624955814,
          0.36031966071327526,
          0.36082929295301436,
          0.3583673720955849,
          0.3513028400937716,
          0.3514537710150083,
          0.3473389842311541,
          0.34436524228254956,
          0.34124188806613287,
          0.3428382465938727,
          0.34697919938961663,
          0.3405937702059746,
          0.3377650721569856,
          0.3390086690088113,
          0.3380171811978022,
          0.3312543430328369,
          0.3324881563285987,
          0.33068997889757157,
          0.3300326822201411,
          0.3261230887671312,
          0.330322122246027,
          0.3237592764993509,
          0.32140674686431886,
          0.31968788435061773,
          0.31931430178880693,
          0.3185473107099533,
          0.3193814707795779,
          0.31679556954900423
         ],
         "yaxis": "y2"
        },
        {
         "marker": {
          "color": "Magenta"
         },
         "mode": "markers+lines",
         "name": "Validation loss",
         "text": [
          "1",
          "2",
          "3",
          "4",
          "5",
          "6",
          "7",
          "8",
          "9",
          "10",
          "11",
          "12",
          "13",
          "14",
          "15",
          "16",
          "17",
          "18",
          "19",
          "20",
          "21",
          "22",
          "23",
          "24",
          "25",
          "26",
          "27",
          "28",
          "29",
          "30",
          "31",
          "32",
          "33",
          "34",
          "35",
          "36",
          "37",
          "38",
          "39",
          "40",
          "41",
          "42",
          "43",
          "44",
          "45",
          "46",
          "47",
          "48",
          "49",
          "50"
         ],
         "type": "scatter",
         "uid": "b5f8b5e2-539c-44cf-aee5-17c762125b5e",
         "x": [
          1,
          2,
          3,
          4,
          5,
          6,
          7,
          8,
          9,
          10,
          11,
          12,
          13,
          14,
          15,
          16,
          17,
          18,
          19,
          20,
          21,
          22,
          23,
          24,
          25,
          26,
          27,
          28,
          29,
          30,
          31,
          32,
          33,
          34,
          35,
          36,
          37,
          38,
          39,
          40,
          41,
          42,
          43,
          44,
          45,
          46,
          47,
          48,
          49,
          50
         ],
         "xaxis": "x2",
         "y": [
          0.6978649452527365,
          0.5510488926569621,
          0.44679100322723386,
          0.40789032737414044,
          0.404532351175944,
          0.37949186555544534,
          0.3696214100519816,
          0.35650788950920104,
          0.3411133262316386,
          0.3476572914123535,
          0.3318351746400197,
          0.3328500727812449,
          0.3248635638554891,
          0.3228343649705251,
          0.31221009890238444,
          0.30393958616256717,
          0.30149608226617175,
          0.31209234229723615,
          0.29845408991972605,
          0.2998194592396418,
          0.292265878756841,
          0.29020789750417075,
          0.28832026569048563,
          0.29699040118853254,
          0.2974677840073903,
          0.29152598877747854,
          0.28564601413408913,
          0.2945023141304652,
          0.2823395307858785,
          0.2857321071624756,
          0.29161385158697767,
          0.2825354876120885,
          0.2802886811892192,
          0.2855338861147563,
          0.285973206281662,
          0.2713682344754537,
          0.2705411462386449,
          0.27975723389784496,
          0.27799687119325,
          0.2795867229302724,
          0.270948526819547,
          0.2645529461701711,
          0.2737427890300751,
          0.28103394134839377,
          0.2764089970588684,
          0.2735094277064006,
          0.27045350603262586,
          0.2706813179254532,
          0.2624508123000463,
          0.2766202709277471
         ],
         "yaxis": "y2"
        }
       ],
       "layout": {
        "annotations": [
         {
          "font": {
           "size": 16
          },
          "showarrow": false,
          "text": "Training and validation accuracy",
          "x": 0.225,
          "xanchor": "center",
          "xref": "paper",
          "y": 1,
          "yanchor": "bottom",
          "yref": "paper"
         },
         {
          "font": {
           "size": 16
          },
          "showarrow": false,
          "text": "Training and validation loss",
          "x": 0.775,
          "xanchor": "center",
          "xref": "paper",
          "y": 1,
          "yanchor": "bottom",
          "yref": "paper"
         }
        ],
        "xaxis": {
         "anchor": "y",
         "domain": [
          0,
          0.45
         ],
         "title": {
          "text": "Epoch"
         }
        },
        "xaxis2": {
         "anchor": "y2",
         "domain": [
          0.55,
          1
         ],
         "title": {
          "text": "Epoch"
         }
        },
        "yaxis": {
         "anchor": "x",
         "domain": [
          0,
          1
         ],
         "range": [
          0,
          1
         ],
         "title": {
          "text": "Accuracy"
         }
        },
        "yaxis2": {
         "anchor": "x2",
         "domain": [
          0,
          1
         ],
         "range": [
          0,
          1
         ],
         "title": {
          "text": "Loss"
         }
        }
       }
      },
      "text/html": [
       "<div id=\"4fdf944b-1700-4e4b-89b1-fc83e210507a\" style=\"height: 525px; width: 100%;\" class=\"plotly-graph-div\"></div><script type=\"text/javascript\">require([\"plotly\"], function(Plotly) { window.PLOTLYENV=window.PLOTLYENV || {};window.PLOTLYENV.BASE_URL=\"https://plot.ly\";Plotly.newPlot(\"4fdf944b-1700-4e4b-89b1-fc83e210507a\", [{\"marker\": {\"color\": \"Green\"}, \"mode\": \"markers+lines\", \"name\": \"Training accuracy\", \"text\": [\"1\", \"2\", \"3\", \"4\", \"5\", \"6\", \"7\", \"8\", \"9\", \"10\", \"11\", \"12\", \"13\", \"14\", \"15\", \"16\", \"17\", \"18\", \"19\", \"20\", \"21\", \"22\", \"23\", \"24\", \"25\", \"26\", \"27\", \"28\", \"29\", \"30\", \"31\", \"32\", \"33\", \"34\", \"35\", \"36\", \"37\", \"38\", \"39\", \"40\", \"41\", \"42\", \"43\", \"44\", \"45\", \"46\", \"47\", \"48\", \"49\", \"50\"], \"uid\": \"46a7ad31-4420-4e49-b395-14e399660d37\", \"x\": [1, 2, 3, 4, 5, 6, 7, 8, 9, 10, 11, 12, 13, 14, 15, 16, 17, 18, 19, 20, 21, 22, 23, 24, 25, 26, 27, 28, 29, 30, 31, 32, 33, 34, 35, 36, 37, 38, 39, 40, 41, 42, 43, 44, 45, 46, 47, 48, 49, 50], \"xaxis\": \"x\", \"y\": [0.48625, 0.6769791666666667, 0.7451875, 0.77925, 0.8018958333333334, 0.8109375, 0.8170625, 0.8260833333333333, 0.8326875, 0.8339166666666666, 0.837875, 0.8430416666666667, 0.845875, 0.8498541666666667, 0.8519583333333334, 0.8555208333333333, 0.8557291666666667, 0.8544375, 0.8605833333333334, 0.8607708333333334, 0.8618541666666667, 0.8620625, 0.8631875, 0.8651875, 0.8653541666666666, 0.8647708333333334, 0.8678125, 0.8686041666666666, 0.8707083333333333, 0.8708541666666667, 0.87275, 0.8733958333333334, 0.8701458333333333, 0.8722083333333334, 0.8742291666666666, 0.8734166666666666, 0.8739791666666666, 0.8760833333333333, 0.8753125, 0.8778958333333333, 0.87775, 0.8773125, 0.8766458333333333, 0.8786666666666667, 0.8808958333333333, 0.8803958333333334, 0.8800625, 0.882375, 0.8815833333333334, 0.879875], \"yaxis\": \"y\", \"type\": \"scatter\"}, {\"marker\": {\"color\": \"Red\"}, \"mode\": \"markers+lines\", \"name\": \"Validation accuracy\", \"text\": [\"1\", \"2\", \"3\", \"4\", \"5\", \"6\", \"7\", \"8\", \"9\", \"10\", \"11\", \"12\", \"13\", \"14\", \"15\", \"16\", \"17\", \"18\", \"19\", \"20\", \"21\", \"22\", \"23\", \"24\", \"25\", \"26\", \"27\", \"28\", \"29\", \"30\", \"31\", \"32\", \"33\", \"34\", \"35\", \"36\", \"37\", \"38\", \"39\", \"40\", \"41\", \"42\", \"43\", \"44\", \"45\", \"46\", \"47\", \"48\", \"49\", \"50\"], \"uid\": \"46dd8df4-30a9-43e9-81f9-5633c424bf43\", \"x\": [1, 2, 3, 4, 5, 6, 7, 8, 9, 10, 11, 12, 13, 14, 15, 16, 17, 18, 19, 20, 21, 22, 23, 24, 25, 26, 27, 28, 29, 30, 31, 32, 33, 34, 35, 36, 37, 38, 39, 40, 41, 42, 43, 44, 45, 46, 47, 48, 49, 50], \"xaxis\": \"x\", \"y\": [0.7226666666666667, 0.7855, 0.833, 0.84475, 0.8453333333333334, 0.8565833333333334, 0.8605, 0.8659166666666667, 0.8695, 0.8716666666666667, 0.8714166666666666, 0.8726666666666667, 0.87825, 0.877, 0.878, 0.883, 0.885, 0.8865833333333333, 0.8880833333333333, 0.8850833333333333, 0.8876666666666667, 0.88975, 0.8926666666666667, 0.8893333333333333, 0.8906666666666667, 0.89325, 0.8939166666666667, 0.88925, 0.8934166666666666, 0.8929166666666667, 0.8914166666666666, 0.8941666666666667, 0.8970833333333333, 0.8918333333333334, 0.8951666666666667, 0.8980833333333333, 0.897, 0.8941666666666667, 0.8975833333333333, 0.8936666666666667, 0.8963333333333333, 0.9003333333333333, 0.8976666666666666, 0.89525, 0.8970833333333333, 0.8959166666666667, 0.8981666666666667, 0.8990833333333333, 0.8999166666666667, 0.8985], \"yaxis\": \"y\", \"type\": \"scatter\"}, {\"marker\": {\"color\": \"Blue\"}, \"mode\": \"markers+lines\", \"name\": \"Training loss\", \"text\": [\"1\", \"2\", \"3\", \"4\", \"5\", \"6\", \"7\", \"8\", \"9\", \"10\", \"11\", \"12\", \"13\", \"14\", \"15\", \"16\", \"17\", \"18\", \"19\", \"20\", \"21\", \"22\", \"23\", \"24\", \"25\", \"26\", \"27\", \"28\", \"29\", \"30\", \"31\", \"32\", \"33\", \"34\", \"35\", \"36\", \"37\", \"38\", \"39\", \"40\", \"41\", \"42\", \"43\", \"44\", \"45\", \"46\", \"47\", \"48\", \"49\", \"50\"], \"uid\": \"937c4f11-74ec-4c44-ab00-30249354b5d9\", \"x\": [1, 2, 3, 4, 5, 6, 7, 8, 9, 10, 11, 12, 13, 14, 15, 16, 17, 18, 19, 20, 21, 22, 23, 24, 25, 26, 27, 28, 29, 30, 31, 32, 33, 34, 35, 36, 37, 38, 39, 40, 41, 42, 43, 44, 45, 46, 47, 48, 49, 50], \"xaxis\": \"x2\", \"y\": [1.4493288889726004, 0.8265173535744349, 0.6672312268416087, 0.5867087570826213, 0.5334294888973236, 0.5031237984895707, 0.4856817869742711, 0.4658915572762489, 0.44693217847744626, 0.43816687232255935, 0.4319130129416784, 0.4205439530412356, 0.41058480525016783, 0.4050689712762833, 0.39946795207262037, 0.3916977208455404, 0.38612354544798533, 0.3855458804368973, 0.3770688990155856, 0.3733937180240949, 0.3710732693274816, 0.36695176113645234, 0.36696878624955814, 0.36031966071327526, 0.36082929295301436, 0.3583673720955849, 0.3513028400937716, 0.3514537710150083, 0.3473389842311541, 0.34436524228254956, 0.34124188806613287, 0.3428382465938727, 0.34697919938961663, 0.3405937702059746, 0.3377650721569856, 0.3390086690088113, 0.3380171811978022, 0.3312543430328369, 0.3324881563285987, 0.33068997889757157, 0.3300326822201411, 0.3261230887671312, 0.330322122246027, 0.3237592764993509, 0.32140674686431886, 0.31968788435061773, 0.31931430178880693, 0.3185473107099533, 0.3193814707795779, 0.31679556954900423], \"yaxis\": \"y2\", \"type\": \"scatter\"}, {\"marker\": {\"color\": \"Magenta\"}, \"mode\": \"markers+lines\", \"name\": \"Validation loss\", \"text\": [\"1\", \"2\", \"3\", \"4\", \"5\", \"6\", \"7\", \"8\", \"9\", \"10\", \"11\", \"12\", \"13\", \"14\", \"15\", \"16\", \"17\", \"18\", \"19\", \"20\", \"21\", \"22\", \"23\", \"24\", \"25\", \"26\", \"27\", \"28\", \"29\", \"30\", \"31\", \"32\", \"33\", \"34\", \"35\", \"36\", \"37\", \"38\", \"39\", \"40\", \"41\", \"42\", \"43\", \"44\", \"45\", \"46\", \"47\", \"48\", \"49\", \"50\"], \"uid\": \"b5f8b5e2-539c-44cf-aee5-17c762125b5e\", \"x\": [1, 2, 3, 4, 5, 6, 7, 8, 9, 10, 11, 12, 13, 14, 15, 16, 17, 18, 19, 20, 21, 22, 23, 24, 25, 26, 27, 28, 29, 30, 31, 32, 33, 34, 35, 36, 37, 38, 39, 40, 41, 42, 43, 44, 45, 46, 47, 48, 49, 50], \"xaxis\": \"x2\", \"y\": [0.6978649452527365, 0.5510488926569621, 0.44679100322723386, 0.40789032737414044, 0.404532351175944, 0.37949186555544534, 0.3696214100519816, 0.35650788950920104, 0.3411133262316386, 0.3476572914123535, 0.3318351746400197, 0.3328500727812449, 0.3248635638554891, 0.3228343649705251, 0.31221009890238444, 0.30393958616256717, 0.30149608226617175, 0.31209234229723615, 0.29845408991972605, 0.2998194592396418, 0.292265878756841, 0.29020789750417075, 0.28832026569048563, 0.29699040118853254, 0.2974677840073903, 0.29152598877747854, 0.28564601413408913, 0.2945023141304652, 0.2823395307858785, 0.2857321071624756, 0.29161385158697767, 0.2825354876120885, 0.2802886811892192, 0.2855338861147563, 0.285973206281662, 0.2713682344754537, 0.2705411462386449, 0.27975723389784496, 0.27799687119325, 0.2795867229302724, 0.270948526819547, 0.2645529461701711, 0.2737427890300751, 0.28103394134839377, 0.2764089970588684, 0.2735094277064006, 0.27045350603262586, 0.2706813179254532, 0.2624508123000463, 0.2766202709277471], \"yaxis\": \"y2\", \"type\": \"scatter\"}], {\"annotations\": [{\"font\": {\"size\": 16}, \"showarrow\": false, \"text\": \"Training and validation accuracy\", \"x\": 0.225, \"xanchor\": \"center\", \"xref\": \"paper\", \"y\": 1.0, \"yanchor\": \"bottom\", \"yref\": \"paper\"}, {\"font\": {\"size\": 16}, \"showarrow\": false, \"text\": \"Training and validation loss\", \"x\": 0.775, \"xanchor\": \"center\", \"xref\": \"paper\", \"y\": 1.0, \"yanchor\": \"bottom\", \"yref\": \"paper\"}], \"xaxis\": {\"anchor\": \"y\", \"domain\": [0.0, 0.45], \"title\": {\"text\": \"Epoch\"}}, \"yaxis\": {\"anchor\": \"x\", \"domain\": [0.0, 1.0], \"range\": [0, 1], \"title\": {\"text\": \"Accuracy\"}}, \"xaxis2\": {\"anchor\": \"y2\", \"domain\": [0.55, 1.0], \"title\": {\"text\": \"Epoch\"}}, \"yaxis2\": {\"anchor\": \"x2\", \"domain\": [0.0, 1.0], \"range\": [0, 1], \"title\": {\"text\": \"Loss\"}}}, {\"showLink\": false, \"linkText\": \"Export to plot.ly\", \"plotlyServerURL\": \"https://plot.ly\"})});</script><script type=\"text/javascript\">window.addEventListener(\"resize\", function(){window._Plotly.Plots.resize(document.getElementById(\"4fdf944b-1700-4e4b-89b1-fc83e210507a\"));});</script>"
      ],
      "text/vnd.plotly.v1+html": [
       "<div id=\"4fdf944b-1700-4e4b-89b1-fc83e210507a\" style=\"height: 525px; width: 100%;\" class=\"plotly-graph-div\"></div><script type=\"text/javascript\">require([\"plotly\"], function(Plotly) { window.PLOTLYENV=window.PLOTLYENV || {};window.PLOTLYENV.BASE_URL=\"https://plot.ly\";Plotly.newPlot(\"4fdf944b-1700-4e4b-89b1-fc83e210507a\", [{\"marker\": {\"color\": \"Green\"}, \"mode\": \"markers+lines\", \"name\": \"Training accuracy\", \"text\": [\"1\", \"2\", \"3\", \"4\", \"5\", \"6\", \"7\", \"8\", \"9\", \"10\", \"11\", \"12\", \"13\", \"14\", \"15\", \"16\", \"17\", \"18\", \"19\", \"20\", \"21\", \"22\", \"23\", \"24\", \"25\", \"26\", \"27\", \"28\", \"29\", \"30\", \"31\", \"32\", \"33\", \"34\", \"35\", \"36\", \"37\", \"38\", \"39\", \"40\", \"41\", \"42\", \"43\", \"44\", \"45\", \"46\", \"47\", \"48\", \"49\", \"50\"], \"uid\": \"46a7ad31-4420-4e49-b395-14e399660d37\", \"x\": [1, 2, 3, 4, 5, 6, 7, 8, 9, 10, 11, 12, 13, 14, 15, 16, 17, 18, 19, 20, 21, 22, 23, 24, 25, 26, 27, 28, 29, 30, 31, 32, 33, 34, 35, 36, 37, 38, 39, 40, 41, 42, 43, 44, 45, 46, 47, 48, 49, 50], \"xaxis\": \"x\", \"y\": [0.48625, 0.6769791666666667, 0.7451875, 0.77925, 0.8018958333333334, 0.8109375, 0.8170625, 0.8260833333333333, 0.8326875, 0.8339166666666666, 0.837875, 0.8430416666666667, 0.845875, 0.8498541666666667, 0.8519583333333334, 0.8555208333333333, 0.8557291666666667, 0.8544375, 0.8605833333333334, 0.8607708333333334, 0.8618541666666667, 0.8620625, 0.8631875, 0.8651875, 0.8653541666666666, 0.8647708333333334, 0.8678125, 0.8686041666666666, 0.8707083333333333, 0.8708541666666667, 0.87275, 0.8733958333333334, 0.8701458333333333, 0.8722083333333334, 0.8742291666666666, 0.8734166666666666, 0.8739791666666666, 0.8760833333333333, 0.8753125, 0.8778958333333333, 0.87775, 0.8773125, 0.8766458333333333, 0.8786666666666667, 0.8808958333333333, 0.8803958333333334, 0.8800625, 0.882375, 0.8815833333333334, 0.879875], \"yaxis\": \"y\", \"type\": \"scatter\"}, {\"marker\": {\"color\": \"Red\"}, \"mode\": \"markers+lines\", \"name\": \"Validation accuracy\", \"text\": [\"1\", \"2\", \"3\", \"4\", \"5\", \"6\", \"7\", \"8\", \"9\", \"10\", \"11\", \"12\", \"13\", \"14\", \"15\", \"16\", \"17\", \"18\", \"19\", \"20\", \"21\", \"22\", \"23\", \"24\", \"25\", \"26\", \"27\", \"28\", \"29\", \"30\", \"31\", \"32\", \"33\", \"34\", \"35\", \"36\", \"37\", \"38\", \"39\", \"40\", \"41\", \"42\", \"43\", \"44\", \"45\", \"46\", \"47\", \"48\", \"49\", \"50\"], \"uid\": \"46dd8df4-30a9-43e9-81f9-5633c424bf43\", \"x\": [1, 2, 3, 4, 5, 6, 7, 8, 9, 10, 11, 12, 13, 14, 15, 16, 17, 18, 19, 20, 21, 22, 23, 24, 25, 26, 27, 28, 29, 30, 31, 32, 33, 34, 35, 36, 37, 38, 39, 40, 41, 42, 43, 44, 45, 46, 47, 48, 49, 50], \"xaxis\": \"x\", \"y\": [0.7226666666666667, 0.7855, 0.833, 0.84475, 0.8453333333333334, 0.8565833333333334, 0.8605, 0.8659166666666667, 0.8695, 0.8716666666666667, 0.8714166666666666, 0.8726666666666667, 0.87825, 0.877, 0.878, 0.883, 0.885, 0.8865833333333333, 0.8880833333333333, 0.8850833333333333, 0.8876666666666667, 0.88975, 0.8926666666666667, 0.8893333333333333, 0.8906666666666667, 0.89325, 0.8939166666666667, 0.88925, 0.8934166666666666, 0.8929166666666667, 0.8914166666666666, 0.8941666666666667, 0.8970833333333333, 0.8918333333333334, 0.8951666666666667, 0.8980833333333333, 0.897, 0.8941666666666667, 0.8975833333333333, 0.8936666666666667, 0.8963333333333333, 0.9003333333333333, 0.8976666666666666, 0.89525, 0.8970833333333333, 0.8959166666666667, 0.8981666666666667, 0.8990833333333333, 0.8999166666666667, 0.8985], \"yaxis\": \"y\", \"type\": \"scatter\"}, {\"marker\": {\"color\": \"Blue\"}, \"mode\": \"markers+lines\", \"name\": \"Training loss\", \"text\": [\"1\", \"2\", \"3\", \"4\", \"5\", \"6\", \"7\", \"8\", \"9\", \"10\", \"11\", \"12\", \"13\", \"14\", \"15\", \"16\", \"17\", \"18\", \"19\", \"20\", \"21\", \"22\", \"23\", \"24\", \"25\", \"26\", \"27\", \"28\", \"29\", \"30\", \"31\", \"32\", \"33\", \"34\", \"35\", \"36\", \"37\", \"38\", \"39\", \"40\", \"41\", \"42\", \"43\", \"44\", \"45\", \"46\", \"47\", \"48\", \"49\", \"50\"], \"uid\": \"937c4f11-74ec-4c44-ab00-30249354b5d9\", \"x\": [1, 2, 3, 4, 5, 6, 7, 8, 9, 10, 11, 12, 13, 14, 15, 16, 17, 18, 19, 20, 21, 22, 23, 24, 25, 26, 27, 28, 29, 30, 31, 32, 33, 34, 35, 36, 37, 38, 39, 40, 41, 42, 43, 44, 45, 46, 47, 48, 49, 50], \"xaxis\": \"x2\", \"y\": [1.4493288889726004, 0.8265173535744349, 0.6672312268416087, 0.5867087570826213, 0.5334294888973236, 0.5031237984895707, 0.4856817869742711, 0.4658915572762489, 0.44693217847744626, 0.43816687232255935, 0.4319130129416784, 0.4205439530412356, 0.41058480525016783, 0.4050689712762833, 0.39946795207262037, 0.3916977208455404, 0.38612354544798533, 0.3855458804368973, 0.3770688990155856, 0.3733937180240949, 0.3710732693274816, 0.36695176113645234, 0.36696878624955814, 0.36031966071327526, 0.36082929295301436, 0.3583673720955849, 0.3513028400937716, 0.3514537710150083, 0.3473389842311541, 0.34436524228254956, 0.34124188806613287, 0.3428382465938727, 0.34697919938961663, 0.3405937702059746, 0.3377650721569856, 0.3390086690088113, 0.3380171811978022, 0.3312543430328369, 0.3324881563285987, 0.33068997889757157, 0.3300326822201411, 0.3261230887671312, 0.330322122246027, 0.3237592764993509, 0.32140674686431886, 0.31968788435061773, 0.31931430178880693, 0.3185473107099533, 0.3193814707795779, 0.31679556954900423], \"yaxis\": \"y2\", \"type\": \"scatter\"}, {\"marker\": {\"color\": \"Magenta\"}, \"mode\": \"markers+lines\", \"name\": \"Validation loss\", \"text\": [\"1\", \"2\", \"3\", \"4\", \"5\", \"6\", \"7\", \"8\", \"9\", \"10\", \"11\", \"12\", \"13\", \"14\", \"15\", \"16\", \"17\", \"18\", \"19\", \"20\", \"21\", \"22\", \"23\", \"24\", \"25\", \"26\", \"27\", \"28\", \"29\", \"30\", \"31\", \"32\", \"33\", \"34\", \"35\", \"36\", \"37\", \"38\", \"39\", \"40\", \"41\", \"42\", \"43\", \"44\", \"45\", \"46\", \"47\", \"48\", \"49\", \"50\"], \"uid\": \"b5f8b5e2-539c-44cf-aee5-17c762125b5e\", \"x\": [1, 2, 3, 4, 5, 6, 7, 8, 9, 10, 11, 12, 13, 14, 15, 16, 17, 18, 19, 20, 21, 22, 23, 24, 25, 26, 27, 28, 29, 30, 31, 32, 33, 34, 35, 36, 37, 38, 39, 40, 41, 42, 43, 44, 45, 46, 47, 48, 49, 50], \"xaxis\": \"x2\", \"y\": [0.6978649452527365, 0.5510488926569621, 0.44679100322723386, 0.40789032737414044, 0.404532351175944, 0.37949186555544534, 0.3696214100519816, 0.35650788950920104, 0.3411133262316386, 0.3476572914123535, 0.3318351746400197, 0.3328500727812449, 0.3248635638554891, 0.3228343649705251, 0.31221009890238444, 0.30393958616256717, 0.30149608226617175, 0.31209234229723615, 0.29845408991972605, 0.2998194592396418, 0.292265878756841, 0.29020789750417075, 0.28832026569048563, 0.29699040118853254, 0.2974677840073903, 0.29152598877747854, 0.28564601413408913, 0.2945023141304652, 0.2823395307858785, 0.2857321071624756, 0.29161385158697767, 0.2825354876120885, 0.2802886811892192, 0.2855338861147563, 0.285973206281662, 0.2713682344754537, 0.2705411462386449, 0.27975723389784496, 0.27799687119325, 0.2795867229302724, 0.270948526819547, 0.2645529461701711, 0.2737427890300751, 0.28103394134839377, 0.2764089970588684, 0.2735094277064006, 0.27045350603262586, 0.2706813179254532, 0.2624508123000463, 0.2766202709277471], \"yaxis\": \"y2\", \"type\": \"scatter\"}], {\"annotations\": [{\"font\": {\"size\": 16}, \"showarrow\": false, \"text\": \"Training and validation accuracy\", \"x\": 0.225, \"xanchor\": \"center\", \"xref\": \"paper\", \"y\": 1.0, \"yanchor\": \"bottom\", \"yref\": \"paper\"}, {\"font\": {\"size\": 16}, \"showarrow\": false, \"text\": \"Training and validation loss\", \"x\": 0.775, \"xanchor\": \"center\", \"xref\": \"paper\", \"y\": 1.0, \"yanchor\": \"bottom\", \"yref\": \"paper\"}], \"xaxis\": {\"anchor\": \"y\", \"domain\": [0.0, 0.45], \"title\": {\"text\": \"Epoch\"}}, \"yaxis\": {\"anchor\": \"x\", \"domain\": [0.0, 1.0], \"range\": [0, 1], \"title\": {\"text\": \"Accuracy\"}}, \"xaxis2\": {\"anchor\": \"y2\", \"domain\": [0.55, 1.0], \"title\": {\"text\": \"Epoch\"}}, \"yaxis2\": {\"anchor\": \"x2\", \"domain\": [0.0, 1.0], \"range\": [0, 1], \"title\": {\"text\": \"Loss\"}}}, {\"showLink\": false, \"linkText\": \"Export to plot.ly\", \"plotlyServerURL\": \"https://plot.ly\"})});</script><script type=\"text/javascript\">window.addEventListener(\"resize\", function(){window._Plotly.Plots.resize(document.getElementById(\"4fdf944b-1700-4e4b-89b1-fc83e210507a\"));});</script>"
      ]
     },
     "metadata": {},
     "output_type": "display_data"
    },
    {
     "name": "stdout",
     "output_type": "stream",
     "text": [
      "simpleCNN_hist\n",
      "This is the format of your plot grid:\n",
      "[ (1,1) x1,y1 ]  [ (1,2) x2,y2 ]\n",
      "\n"
     ]
    },
    {
     "data": {
      "application/vnd.plotly.v1+json": {
       "config": {
        "linkText": "Export to plot.ly",
        "plotlyServerURL": "https://plot.ly",
        "showLink": false
       },
       "data": [
        {
         "marker": {
          "color": "Green"
         },
         "mode": "markers+lines",
         "name": "Training accuracy",
         "text": [
          "1",
          "2",
          "3",
          "4",
          "5",
          "6",
          "7",
          "8",
          "9",
          "10",
          "11",
          "12",
          "13",
          "14",
          "15",
          "16",
          "17",
          "18",
          "19",
          "20"
         ],
         "type": "scatter",
         "uid": "863fd15d-1541-403f-921a-0ea347f2ff39",
         "x": [
          1,
          2,
          3,
          4,
          5,
          6,
          7,
          8,
          9,
          10,
          11,
          12,
          13,
          14,
          15,
          16,
          17,
          18,
          19,
          20
         ],
         "xaxis": "x",
         "y": [
          0.8198125,
          0.8840416666666666,
          0.90225,
          0.9120625,
          0.9224791666666666,
          0.93325,
          0.9396458333333333,
          0.9460625,
          0.9521666666666667,
          0.958625,
          0.9660625,
          0.9688125,
          0.9726666666666667,
          0.9751875,
          0.9781875,
          0.98025,
          0.9822083333333333,
          0.9836875,
          0.9850625,
          0.9875
         ],
         "yaxis": "y"
        },
        {
         "marker": {
          "color": "Red"
         },
         "mode": "markers+lines",
         "name": "Validation accuracy",
         "text": [
          "1",
          "2",
          "3",
          "4",
          "5",
          "6",
          "7",
          "8",
          "9",
          "10",
          "11",
          "12",
          "13",
          "14",
          "15",
          "16",
          "17",
          "18",
          "19",
          "20"
         ],
         "type": "scatter",
         "uid": "1d24cee4-a537-46ac-9a68-2dcaa0caf39b",
         "x": [
          1,
          2,
          3,
          4,
          5,
          6,
          7,
          8,
          9,
          10,
          11,
          12,
          13,
          14,
          15,
          16,
          17,
          18,
          19,
          20
         ],
         "xaxis": "x",
         "y": [
          0.86675,
          0.88675,
          0.8988333333333334,
          0.8960833333333333,
          0.9069166666666667,
          0.9078333333333334,
          0.9081666666666667,
          0.9081666666666667,
          0.9056666666666666,
          0.9058333333333334,
          0.9051666666666667,
          0.9028333333333334,
          0.9090833333333334,
          0.9113333333333333,
          0.9040833333333333,
          0.9105833333333333,
          0.9070833333333334,
          0.90925,
          0.9085833333333333,
          0.9074166666666666
         ],
         "yaxis": "y"
        },
        {
         "marker": {
          "color": "Blue"
         },
         "mode": "markers+lines",
         "name": "Training loss",
         "text": [
          "1",
          "2",
          "3",
          "4",
          "5",
          "6",
          "7",
          "8",
          "9",
          "10",
          "11",
          "12",
          "13",
          "14",
          "15",
          "16",
          "17",
          "18",
          "19",
          "20"
         ],
         "type": "scatter",
         "uid": "07dbf641-bc36-4188-8a57-23d23b6b64c6",
         "x": [
          1,
          2,
          3,
          4,
          5,
          6,
          7,
          8,
          9,
          10,
          11,
          12,
          13,
          14,
          15,
          16,
          17,
          18,
          19,
          20
         ],
         "xaxis": "x2",
         "y": [
          0.49012342615922294,
          0.31737760376930235,
          0.2691771913518508,
          0.23465150918563207,
          0.21023300369580586,
          0.18306086481114228,
          0.1617044026106596,
          0.14477645880480608,
          0.1268529805156092,
          0.1102261948933204,
          0.09478111086040736,
          0.08288352871996661,
          0.07341189149829248,
          0.06708476277751227,
          0.05908158094466975,
          0.05238817849103362,
          0.047888552956283095,
          0.045196830625412986,
          0.0410444203694351,
          0.03382745356846135
         ],
         "yaxis": "y2"
        },
        {
         "marker": {
          "color": "Magenta"
         },
         "mode": "markers+lines",
         "name": "Validation loss",
         "text": [
          "1",
          "2",
          "3",
          "4",
          "5",
          "6",
          "7",
          "8",
          "9",
          "10",
          "11",
          "12",
          "13",
          "14",
          "15",
          "16",
          "17",
          "18",
          "19",
          "20"
         ],
         "type": "scatter",
         "uid": "a52d6eab-8dd2-4d64-87b6-385a1d49aa20",
         "x": [
          1,
          2,
          3,
          4,
          5,
          6,
          7,
          8,
          9,
          10,
          11,
          12,
          13,
          14,
          15,
          16,
          17,
          18,
          19,
          20
         ],
         "xaxis": "x2",
         "y": [
          0.3768559414545695,
          0.30316495303312935,
          0.27636759865283966,
          0.28036693708101906,
          0.25960435410340627,
          0.25337444575627643,
          0.26080423112710316,
          0.27229507188002267,
          0.2978347668647766,
          0.2956841214497884,
          0.30061213129758835,
          0.35916785407066343,
          0.3300660651922226,
          0.3641857481300831,
          0.380291254123052,
          0.3920244746208191,
          0.431798064549764,
          0.4229473694960276,
          0.42660729376475015,
          0.48571548304955164
         ],
         "yaxis": "y2"
        }
       ],
       "layout": {
        "annotations": [
         {
          "font": {
           "size": 16
          },
          "showarrow": false,
          "text": "Training and validation accuracy",
          "x": 0.225,
          "xanchor": "center",
          "xref": "paper",
          "y": 1,
          "yanchor": "bottom",
          "yref": "paper"
         },
         {
          "font": {
           "size": 16
          },
          "showarrow": false,
          "text": "Training and validation loss",
          "x": 0.775,
          "xanchor": "center",
          "xref": "paper",
          "y": 1,
          "yanchor": "bottom",
          "yref": "paper"
         }
        ],
        "xaxis": {
         "anchor": "y",
         "domain": [
          0,
          0.45
         ],
         "title": {
          "text": "Epoch"
         }
        },
        "xaxis2": {
         "anchor": "y2",
         "domain": [
          0.55,
          1
         ],
         "title": {
          "text": "Epoch"
         }
        },
        "yaxis": {
         "anchor": "x",
         "domain": [
          0,
          1
         ],
         "range": [
          0,
          1
         ],
         "title": {
          "text": "Accuracy"
         }
        },
        "yaxis2": {
         "anchor": "x2",
         "domain": [
          0,
          1
         ],
         "range": [
          0,
          1
         ],
         "title": {
          "text": "Loss"
         }
        }
       }
      },
      "text/html": [
       "<div id=\"2ae14305-8e4b-4543-84a7-3a18ce67ed1a\" style=\"height: 525px; width: 100%;\" class=\"plotly-graph-div\"></div><script type=\"text/javascript\">require([\"plotly\"], function(Plotly) { window.PLOTLYENV=window.PLOTLYENV || {};window.PLOTLYENV.BASE_URL=\"https://plot.ly\";Plotly.newPlot(\"2ae14305-8e4b-4543-84a7-3a18ce67ed1a\", [{\"marker\": {\"color\": \"Green\"}, \"mode\": \"markers+lines\", \"name\": \"Training accuracy\", \"text\": [\"1\", \"2\", \"3\", \"4\", \"5\", \"6\", \"7\", \"8\", \"9\", \"10\", \"11\", \"12\", \"13\", \"14\", \"15\", \"16\", \"17\", \"18\", \"19\", \"20\"], \"uid\": \"863fd15d-1541-403f-921a-0ea347f2ff39\", \"x\": [1, 2, 3, 4, 5, 6, 7, 8, 9, 10, 11, 12, 13, 14, 15, 16, 17, 18, 19, 20], \"xaxis\": \"x\", \"y\": [0.8198125, 0.8840416666666666, 0.90225, 0.9120625, 0.9224791666666666, 0.93325, 0.9396458333333333, 0.9460625, 0.9521666666666667, 0.958625, 0.9660625, 0.9688125, 0.9726666666666667, 0.9751875, 0.9781875, 0.98025, 0.9822083333333333, 0.9836875, 0.9850625, 0.9875], \"yaxis\": \"y\", \"type\": \"scatter\"}, {\"marker\": {\"color\": \"Red\"}, \"mode\": \"markers+lines\", \"name\": \"Validation accuracy\", \"text\": [\"1\", \"2\", \"3\", \"4\", \"5\", \"6\", \"7\", \"8\", \"9\", \"10\", \"11\", \"12\", \"13\", \"14\", \"15\", \"16\", \"17\", \"18\", \"19\", \"20\"], \"uid\": \"1d24cee4-a537-46ac-9a68-2dcaa0caf39b\", \"x\": [1, 2, 3, 4, 5, 6, 7, 8, 9, 10, 11, 12, 13, 14, 15, 16, 17, 18, 19, 20], \"xaxis\": \"x\", \"y\": [0.86675, 0.88675, 0.8988333333333334, 0.8960833333333333, 0.9069166666666667, 0.9078333333333334, 0.9081666666666667, 0.9081666666666667, 0.9056666666666666, 0.9058333333333334, 0.9051666666666667, 0.9028333333333334, 0.9090833333333334, 0.9113333333333333, 0.9040833333333333, 0.9105833333333333, 0.9070833333333334, 0.90925, 0.9085833333333333, 0.9074166666666666], \"yaxis\": \"y\", \"type\": \"scatter\"}, {\"marker\": {\"color\": \"Blue\"}, \"mode\": \"markers+lines\", \"name\": \"Training loss\", \"text\": [\"1\", \"2\", \"3\", \"4\", \"5\", \"6\", \"7\", \"8\", \"9\", \"10\", \"11\", \"12\", \"13\", \"14\", \"15\", \"16\", \"17\", \"18\", \"19\", \"20\"], \"uid\": \"07dbf641-bc36-4188-8a57-23d23b6b64c6\", \"x\": [1, 2, 3, 4, 5, 6, 7, 8, 9, 10, 11, 12, 13, 14, 15, 16, 17, 18, 19, 20], \"xaxis\": \"x2\", \"y\": [0.49012342615922294, 0.31737760376930235, 0.2691771913518508, 0.23465150918563207, 0.21023300369580586, 0.18306086481114228, 0.1617044026106596, 0.14477645880480608, 0.1268529805156092, 0.1102261948933204, 0.09478111086040736, 0.08288352871996661, 0.07341189149829248, 0.06708476277751227, 0.05908158094466975, 0.05238817849103362, 0.047888552956283095, 0.045196830625412986, 0.0410444203694351, 0.03382745356846135], \"yaxis\": \"y2\", \"type\": \"scatter\"}, {\"marker\": {\"color\": \"Magenta\"}, \"mode\": \"markers+lines\", \"name\": \"Validation loss\", \"text\": [\"1\", \"2\", \"3\", \"4\", \"5\", \"6\", \"7\", \"8\", \"9\", \"10\", \"11\", \"12\", \"13\", \"14\", \"15\", \"16\", \"17\", \"18\", \"19\", \"20\"], \"uid\": \"a52d6eab-8dd2-4d64-87b6-385a1d49aa20\", \"x\": [1, 2, 3, 4, 5, 6, 7, 8, 9, 10, 11, 12, 13, 14, 15, 16, 17, 18, 19, 20], \"xaxis\": \"x2\", \"y\": [0.3768559414545695, 0.30316495303312935, 0.27636759865283966, 0.28036693708101906, 0.25960435410340627, 0.25337444575627643, 0.26080423112710316, 0.27229507188002267, 0.2978347668647766, 0.2956841214497884, 0.30061213129758835, 0.35916785407066343, 0.3300660651922226, 0.3641857481300831, 0.380291254123052, 0.3920244746208191, 0.431798064549764, 0.4229473694960276, 0.42660729376475015, 0.48571548304955164], \"yaxis\": \"y2\", \"type\": \"scatter\"}], {\"annotations\": [{\"font\": {\"size\": 16}, \"showarrow\": false, \"text\": \"Training and validation accuracy\", \"x\": 0.225, \"xanchor\": \"center\", \"xref\": \"paper\", \"y\": 1.0, \"yanchor\": \"bottom\", \"yref\": \"paper\"}, {\"font\": {\"size\": 16}, \"showarrow\": false, \"text\": \"Training and validation loss\", \"x\": 0.775, \"xanchor\": \"center\", \"xref\": \"paper\", \"y\": 1.0, \"yanchor\": \"bottom\", \"yref\": \"paper\"}], \"xaxis\": {\"anchor\": \"y\", \"domain\": [0.0, 0.45], \"title\": {\"text\": \"Epoch\"}}, \"yaxis\": {\"anchor\": \"x\", \"domain\": [0.0, 1.0], \"range\": [0, 1], \"title\": {\"text\": \"Accuracy\"}}, \"xaxis2\": {\"anchor\": \"y2\", \"domain\": [0.55, 1.0], \"title\": {\"text\": \"Epoch\"}}, \"yaxis2\": {\"anchor\": \"x2\", \"domain\": [0.0, 1.0], \"range\": [0, 1], \"title\": {\"text\": \"Loss\"}}}, {\"showLink\": false, \"linkText\": \"Export to plot.ly\", \"plotlyServerURL\": \"https://plot.ly\"})});</script><script type=\"text/javascript\">window.addEventListener(\"resize\", function(){window._Plotly.Plots.resize(document.getElementById(\"2ae14305-8e4b-4543-84a7-3a18ce67ed1a\"));});</script>"
      ],
      "text/vnd.plotly.v1+html": [
       "<div id=\"2ae14305-8e4b-4543-84a7-3a18ce67ed1a\" style=\"height: 525px; width: 100%;\" class=\"plotly-graph-div\"></div><script type=\"text/javascript\">require([\"plotly\"], function(Plotly) { window.PLOTLYENV=window.PLOTLYENV || {};window.PLOTLYENV.BASE_URL=\"https://plot.ly\";Plotly.newPlot(\"2ae14305-8e4b-4543-84a7-3a18ce67ed1a\", [{\"marker\": {\"color\": \"Green\"}, \"mode\": \"markers+lines\", \"name\": \"Training accuracy\", \"text\": [\"1\", \"2\", \"3\", \"4\", \"5\", \"6\", \"7\", \"8\", \"9\", \"10\", \"11\", \"12\", \"13\", \"14\", \"15\", \"16\", \"17\", \"18\", \"19\", \"20\"], \"uid\": \"863fd15d-1541-403f-921a-0ea347f2ff39\", \"x\": [1, 2, 3, 4, 5, 6, 7, 8, 9, 10, 11, 12, 13, 14, 15, 16, 17, 18, 19, 20], \"xaxis\": \"x\", \"y\": [0.8198125, 0.8840416666666666, 0.90225, 0.9120625, 0.9224791666666666, 0.93325, 0.9396458333333333, 0.9460625, 0.9521666666666667, 0.958625, 0.9660625, 0.9688125, 0.9726666666666667, 0.9751875, 0.9781875, 0.98025, 0.9822083333333333, 0.9836875, 0.9850625, 0.9875], \"yaxis\": \"y\", \"type\": \"scatter\"}, {\"marker\": {\"color\": \"Red\"}, \"mode\": \"markers+lines\", \"name\": \"Validation accuracy\", \"text\": [\"1\", \"2\", \"3\", \"4\", \"5\", \"6\", \"7\", \"8\", \"9\", \"10\", \"11\", \"12\", \"13\", \"14\", \"15\", \"16\", \"17\", \"18\", \"19\", \"20\"], \"uid\": \"1d24cee4-a537-46ac-9a68-2dcaa0caf39b\", \"x\": [1, 2, 3, 4, 5, 6, 7, 8, 9, 10, 11, 12, 13, 14, 15, 16, 17, 18, 19, 20], \"xaxis\": \"x\", \"y\": [0.86675, 0.88675, 0.8988333333333334, 0.8960833333333333, 0.9069166666666667, 0.9078333333333334, 0.9081666666666667, 0.9081666666666667, 0.9056666666666666, 0.9058333333333334, 0.9051666666666667, 0.9028333333333334, 0.9090833333333334, 0.9113333333333333, 0.9040833333333333, 0.9105833333333333, 0.9070833333333334, 0.90925, 0.9085833333333333, 0.9074166666666666], \"yaxis\": \"y\", \"type\": \"scatter\"}, {\"marker\": {\"color\": \"Blue\"}, \"mode\": \"markers+lines\", \"name\": \"Training loss\", \"text\": [\"1\", \"2\", \"3\", \"4\", \"5\", \"6\", \"7\", \"8\", \"9\", \"10\", \"11\", \"12\", \"13\", \"14\", \"15\", \"16\", \"17\", \"18\", \"19\", \"20\"], \"uid\": \"07dbf641-bc36-4188-8a57-23d23b6b64c6\", \"x\": [1, 2, 3, 4, 5, 6, 7, 8, 9, 10, 11, 12, 13, 14, 15, 16, 17, 18, 19, 20], \"xaxis\": \"x2\", \"y\": [0.49012342615922294, 0.31737760376930235, 0.2691771913518508, 0.23465150918563207, 0.21023300369580586, 0.18306086481114228, 0.1617044026106596, 0.14477645880480608, 0.1268529805156092, 0.1102261948933204, 0.09478111086040736, 0.08288352871996661, 0.07341189149829248, 0.06708476277751227, 0.05908158094466975, 0.05238817849103362, 0.047888552956283095, 0.045196830625412986, 0.0410444203694351, 0.03382745356846135], \"yaxis\": \"y2\", \"type\": \"scatter\"}, {\"marker\": {\"color\": \"Magenta\"}, \"mode\": \"markers+lines\", \"name\": \"Validation loss\", \"text\": [\"1\", \"2\", \"3\", \"4\", \"5\", \"6\", \"7\", \"8\", \"9\", \"10\", \"11\", \"12\", \"13\", \"14\", \"15\", \"16\", \"17\", \"18\", \"19\", \"20\"], \"uid\": \"a52d6eab-8dd2-4d64-87b6-385a1d49aa20\", \"x\": [1, 2, 3, 4, 5, 6, 7, 8, 9, 10, 11, 12, 13, 14, 15, 16, 17, 18, 19, 20], \"xaxis\": \"x2\", \"y\": [0.3768559414545695, 0.30316495303312935, 0.27636759865283966, 0.28036693708101906, 0.25960435410340627, 0.25337444575627643, 0.26080423112710316, 0.27229507188002267, 0.2978347668647766, 0.2956841214497884, 0.30061213129758835, 0.35916785407066343, 0.3300660651922226, 0.3641857481300831, 0.380291254123052, 0.3920244746208191, 0.431798064549764, 0.4229473694960276, 0.42660729376475015, 0.48571548304955164], \"yaxis\": \"y2\", \"type\": \"scatter\"}], {\"annotations\": [{\"font\": {\"size\": 16}, \"showarrow\": false, \"text\": \"Training and validation accuracy\", \"x\": 0.225, \"xanchor\": \"center\", \"xref\": \"paper\", \"y\": 1.0, \"yanchor\": \"bottom\", \"yref\": \"paper\"}, {\"font\": {\"size\": 16}, \"showarrow\": false, \"text\": \"Training and validation loss\", \"x\": 0.775, \"xanchor\": \"center\", \"xref\": \"paper\", \"y\": 1.0, \"yanchor\": \"bottom\", \"yref\": \"paper\"}], \"xaxis\": {\"anchor\": \"y\", \"domain\": [0.0, 0.45], \"title\": {\"text\": \"Epoch\"}}, \"yaxis\": {\"anchor\": \"x\", \"domain\": [0.0, 1.0], \"range\": [0, 1], \"title\": {\"text\": \"Accuracy\"}}, \"xaxis2\": {\"anchor\": \"y2\", \"domain\": [0.55, 1.0], \"title\": {\"text\": \"Epoch\"}}, \"yaxis2\": {\"anchor\": \"x2\", \"domain\": [0.0, 1.0], \"range\": [0, 1], \"title\": {\"text\": \"Loss\"}}}, {\"showLink\": false, \"linkText\": \"Export to plot.ly\", \"plotlyServerURL\": \"https://plot.ly\"})});</script><script type=\"text/javascript\">window.addEventListener(\"resize\", function(){window._Plotly.Plots.resize(document.getElementById(\"2ae14305-8e4b-4543-84a7-3a18ce67ed1a\"));});</script>"
      ]
     },
     "metadata": {},
     "output_type": "display_data"
    },
    {
     "name": "stdout",
     "output_type": "stream",
     "text": [
      "simpleCNN_hist_dataAug\n",
      "This is the format of your plot grid:\n",
      "[ (1,1) x1,y1 ]  [ (1,2) x2,y2 ]\n",
      "\n"
     ]
    },
    {
     "data": {
      "application/vnd.plotly.v1+json": {
       "config": {
        "linkText": "Export to plot.ly",
        "plotlyServerURL": "https://plot.ly",
        "showLink": false
       },
       "data": [
        {
         "marker": {
          "color": "Green"
         },
         "mode": "markers+lines",
         "name": "Training accuracy",
         "text": [
          "1",
          "2",
          "3",
          "4",
          "5",
          "6",
          "7",
          "8",
          "9",
          "10",
          "11",
          "12",
          "13",
          "14",
          "15",
          "16",
          "17",
          "18",
          "19",
          "20",
          "21",
          "22",
          "23",
          "24",
          "25",
          "26",
          "27",
          "28",
          "29",
          "30",
          "31",
          "32",
          "33",
          "34",
          "35",
          "36",
          "37"
         ],
         "type": "scatter",
         "uid": "9712cebc-f7aa-4188-96f0-eb55d05ebfac",
         "x": [
          1,
          2,
          3,
          4,
          5,
          6,
          7,
          8,
          9,
          10,
          11,
          12,
          13,
          14,
          15,
          16,
          17,
          18,
          19,
          20,
          21,
          22,
          23,
          24,
          25,
          26,
          27,
          28,
          29,
          30,
          31,
          32,
          33,
          34,
          35,
          36,
          37
         ],
         "xaxis": "x",
         "y": [
          0.4144375,
          0.7102291666666667,
          0.7522291666666666,
          0.779125,
          0.7940208333333333,
          0.8066666666666666,
          0.8213125,
          0.8273541666666666,
          0.839,
          0.8463333333333334,
          0.8510416666666667,
          0.8585416666666666,
          0.8589166666666667,
          0.8629791666666666,
          0.8665833333333334,
          0.8685416666666667,
          0.8707916666666666,
          0.8752708333333333,
          0.875375,
          0.87575,
          0.8814375,
          0.8837083333333333,
          0.8805416666666667,
          0.8838958333333333,
          0.8838333333333334,
          0.8852083333333334,
          0.888625,
          0.8891458333333333,
          0.8909375,
          0.894,
          0.8938333333333334,
          0.8928125,
          0.8944791666666667,
          0.8975208333333333,
          0.897375,
          0.8983333333333333,
          0.8990833333333333
         ],
         "yaxis": "y"
        },
        {
         "marker": {
          "color": "Red"
         },
         "mode": "markers+lines",
         "name": "Validation accuracy",
         "text": [
          "1",
          "2",
          "3",
          "4",
          "5",
          "6",
          "7",
          "8",
          "9",
          "10",
          "11",
          "12",
          "13",
          "14",
          "15",
          "16",
          "17",
          "18",
          "19",
          "20",
          "21",
          "22",
          "23",
          "24",
          "25",
          "26",
          "27",
          "28",
          "29",
          "30",
          "31",
          "32",
          "33",
          "34",
          "35",
          "36",
          "37"
         ],
         "type": "scatter",
         "uid": "f09595de-d40f-4164-962f-7cf2fc9d386b",
         "x": [
          1,
          2,
          3,
          4,
          5,
          6,
          7,
          8,
          9,
          10,
          11,
          12,
          13,
          14,
          15,
          16,
          17,
          18,
          19,
          20,
          21,
          22,
          23,
          24,
          25,
          26,
          27,
          28,
          29,
          30,
          31,
          32,
          33,
          34,
          35,
          36,
          37
         ],
         "xaxis": "x",
         "y": [
          0.74975,
          0.7895833333333333,
          0.7993333333333333,
          0.8243333333333334,
          0.8414166666666667,
          0.8499166666666667,
          0.8565,
          0.8616666666666667,
          0.8655833333333334,
          0.8738333333333334,
          0.879,
          0.8820833333333333,
          0.8865833333333333,
          0.88275,
          0.8873333333333333,
          0.8895833333333333,
          0.8908333333333334,
          0.8886666666666667,
          0.8938333333333334,
          0.8930833333333333,
          0.8921666666666667,
          0.8953333333333333,
          0.8963333333333333,
          0.8995,
          0.8935833333333333,
          0.8965,
          0.90025,
          0.899,
          0.8973333333333333,
          0.8991666666666667,
          0.8954166666666666,
          0.9025,
          0.90425,
          0.9019166666666667,
          0.9030833333333333,
          0.9025,
          0.9008333333333334
         ],
         "yaxis": "y"
        },
        {
         "marker": {
          "color": "Blue"
         },
         "mode": "markers+lines",
         "name": "Training loss",
         "text": [
          "1",
          "2",
          "3",
          "4",
          "5",
          "6",
          "7",
          "8",
          "9",
          "10",
          "11",
          "12",
          "13",
          "14",
          "15",
          "16",
          "17",
          "18",
          "19",
          "20",
          "21",
          "22",
          "23",
          "24",
          "25",
          "26",
          "27",
          "28",
          "29",
          "30",
          "31",
          "32",
          "33",
          "34",
          "35",
          "36",
          "37"
         ],
         "type": "scatter",
         "uid": "8b1acfac-d125-4bea-a41c-5214c50b418f",
         "x": [
          1,
          2,
          3,
          4,
          5,
          6,
          7,
          8,
          9,
          10,
          11,
          12,
          13,
          14,
          15,
          16,
          17,
          18,
          19,
          20,
          21,
          22,
          23,
          24,
          25,
          26,
          27,
          28,
          29,
          30,
          31,
          32,
          33,
          34,
          35,
          36,
          37
         ],
         "xaxis": "x2",
         "y": [
          1.9944041186173758,
          0.7744154770374299,
          0.6507999707857768,
          0.5855231032768885,
          0.5438468152681987,
          0.5091476361950239,
          0.47379033001263937,
          0.451669606924057,
          0.4295417493780454,
          0.4103638734618823,
          0.3962627581357956,
          0.38384212098519005,
          0.375982618590196,
          0.36711027203003566,
          0.35963491910696027,
          0.3495851881702741,
          0.35163520311315855,
          0.3334204077323278,
          0.33208676279584565,
          0.3297027610341708,
          0.3193290056387583,
          0.3105554396311442,
          0.3127437075972557,
          0.31075094842910767,
          0.3051306723455588,
          0.3036486183404922,
          0.2974740452170372,
          0.29536678446332615,
          0.2868315283258756,
          0.2842840217848619,
          0.28305445943276086,
          0.28149005232254665,
          0.27823200782140095,
          0.27031344367563725,
          0.27324254651367663,
          0.2716809471646945,
          0.26854994157950085
         ],
         "yaxis": "y2"
        },
        {
         "marker": {
          "color": "Magenta"
         },
         "mode": "markers+lines",
         "name": "Validation loss",
         "text": [
          "1",
          "2",
          "3",
          "4",
          "5",
          "6",
          "7",
          "8",
          "9",
          "10",
          "11",
          "12",
          "13",
          "14",
          "15",
          "16",
          "17",
          "18",
          "19",
          "20",
          "21",
          "22",
          "23",
          "24",
          "25",
          "26",
          "27",
          "28",
          "29",
          "30",
          "31",
          "32",
          "33",
          "34",
          "35",
          "36",
          "37"
         ],
         "type": "scatter",
         "uid": "eba28117-4c57-4dcd-87df-9ff6461562b8",
         "x": [
          1,
          2,
          3,
          4,
          5,
          6,
          7,
          8,
          9,
          10,
          11,
          12,
          13,
          14,
          15,
          16,
          17,
          18,
          19,
          20,
          21,
          22,
          23,
          24,
          25,
          26,
          27,
          28,
          29,
          30,
          31,
          32,
          33,
          34,
          35,
          36,
          37
         ],
         "xaxis": "x2",
         "y": [
          0.6677947789827983,
          0.5562836241722107,
          0.5233036199410757,
          0.4693188607692719,
          0.4177118983268738,
          0.39362731528282163,
          0.3816275442441305,
          0.3573405594825745,
          0.3452216514746348,
          0.3271851743857066,
          0.3227832900683085,
          0.31521012862523395,
          0.30039144432544707,
          0.30404228397210437,
          0.2991897010803223,
          0.30280417732397713,
          0.2901704659461975,
          0.2975389153957367,
          0.27723726626237233,
          0.28313670329252877,
          0.2863789684375127,
          0.28076010684172314,
          0.2742273006836573,
          0.2700631237427394,
          0.27980815573533374,
          0.27530277987321217,
          0.26842859145005543,
          0.26902053276697796,
          0.27475666944185895,
          0.2776895937124888,
          0.2960550087292989,
          0.27043613278865813,
          0.2693541544675827,
          0.280993593553702,
          0.2702324784199397,
          0.2724480008284251,
          0.272648627837499
         ],
         "yaxis": "y2"
        }
       ],
       "layout": {
        "annotations": [
         {
          "font": {
           "size": 16
          },
          "showarrow": false,
          "text": "Training and validation accuracy",
          "x": 0.225,
          "xanchor": "center",
          "xref": "paper",
          "y": 1,
          "yanchor": "bottom",
          "yref": "paper"
         },
         {
          "font": {
           "size": 16
          },
          "showarrow": false,
          "text": "Training and validation loss",
          "x": 0.775,
          "xanchor": "center",
          "xref": "paper",
          "y": 1,
          "yanchor": "bottom",
          "yref": "paper"
         }
        ],
        "xaxis": {
         "anchor": "y",
         "domain": [
          0,
          0.45
         ],
         "title": {
          "text": "Epoch"
         }
        },
        "xaxis2": {
         "anchor": "y2",
         "domain": [
          0.55,
          1
         ],
         "title": {
          "text": "Epoch"
         }
        },
        "yaxis": {
         "anchor": "x",
         "domain": [
          0,
          1
         ],
         "range": [
          0,
          1
         ],
         "title": {
          "text": "Accuracy"
         }
        },
        "yaxis2": {
         "anchor": "x2",
         "domain": [
          0,
          1
         ],
         "range": [
          0,
          1
         ],
         "title": {
          "text": "Loss"
         }
        }
       }
      },
      "text/html": [
       "<div id=\"24d4dcea-7605-4d2d-aab0-d130299f70e5\" style=\"height: 525px; width: 100%;\" class=\"plotly-graph-div\"></div><script type=\"text/javascript\">require([\"plotly\"], function(Plotly) { window.PLOTLYENV=window.PLOTLYENV || {};window.PLOTLYENV.BASE_URL=\"https://plot.ly\";Plotly.newPlot(\"24d4dcea-7605-4d2d-aab0-d130299f70e5\", [{\"marker\": {\"color\": \"Green\"}, \"mode\": \"markers+lines\", \"name\": \"Training accuracy\", \"text\": [\"1\", \"2\", \"3\", \"4\", \"5\", \"6\", \"7\", \"8\", \"9\", \"10\", \"11\", \"12\", \"13\", \"14\", \"15\", \"16\", \"17\", \"18\", \"19\", \"20\", \"21\", \"22\", \"23\", \"24\", \"25\", \"26\", \"27\", \"28\", \"29\", \"30\", \"31\", \"32\", \"33\", \"34\", \"35\", \"36\", \"37\"], \"uid\": \"9712cebc-f7aa-4188-96f0-eb55d05ebfac\", \"x\": [1, 2, 3, 4, 5, 6, 7, 8, 9, 10, 11, 12, 13, 14, 15, 16, 17, 18, 19, 20, 21, 22, 23, 24, 25, 26, 27, 28, 29, 30, 31, 32, 33, 34, 35, 36, 37], \"xaxis\": \"x\", \"y\": [0.4144375, 0.7102291666666667, 0.7522291666666666, 0.779125, 0.7940208333333333, 0.8066666666666666, 0.8213125, 0.8273541666666666, 0.839, 0.8463333333333334, 0.8510416666666667, 0.8585416666666666, 0.8589166666666667, 0.8629791666666666, 0.8665833333333334, 0.8685416666666667, 0.8707916666666666, 0.8752708333333333, 0.875375, 0.87575, 0.8814375, 0.8837083333333333, 0.8805416666666667, 0.8838958333333333, 0.8838333333333334, 0.8852083333333334, 0.888625, 0.8891458333333333, 0.8909375, 0.894, 0.8938333333333334, 0.8928125, 0.8944791666666667, 0.8975208333333333, 0.897375, 0.8983333333333333, 0.8990833333333333], \"yaxis\": \"y\", \"type\": \"scatter\"}, {\"marker\": {\"color\": \"Red\"}, \"mode\": \"markers+lines\", \"name\": \"Validation accuracy\", \"text\": [\"1\", \"2\", \"3\", \"4\", \"5\", \"6\", \"7\", \"8\", \"9\", \"10\", \"11\", \"12\", \"13\", \"14\", \"15\", \"16\", \"17\", \"18\", \"19\", \"20\", \"21\", \"22\", \"23\", \"24\", \"25\", \"26\", \"27\", \"28\", \"29\", \"30\", \"31\", \"32\", \"33\", \"34\", \"35\", \"36\", \"37\"], \"uid\": \"f09595de-d40f-4164-962f-7cf2fc9d386b\", \"x\": [1, 2, 3, 4, 5, 6, 7, 8, 9, 10, 11, 12, 13, 14, 15, 16, 17, 18, 19, 20, 21, 22, 23, 24, 25, 26, 27, 28, 29, 30, 31, 32, 33, 34, 35, 36, 37], \"xaxis\": \"x\", \"y\": [0.74975, 0.7895833333333333, 0.7993333333333333, 0.8243333333333334, 0.8414166666666667, 0.8499166666666667, 0.8565, 0.8616666666666667, 0.8655833333333334, 0.8738333333333334, 0.879, 0.8820833333333333, 0.8865833333333333, 0.88275, 0.8873333333333333, 0.8895833333333333, 0.8908333333333334, 0.8886666666666667, 0.8938333333333334, 0.8930833333333333, 0.8921666666666667, 0.8953333333333333, 0.8963333333333333, 0.8995, 0.8935833333333333, 0.8965, 0.90025, 0.899, 0.8973333333333333, 0.8991666666666667, 0.8954166666666666, 0.9025, 0.90425, 0.9019166666666667, 0.9030833333333333, 0.9025, 0.9008333333333334], \"yaxis\": \"y\", \"type\": \"scatter\"}, {\"marker\": {\"color\": \"Blue\"}, \"mode\": \"markers+lines\", \"name\": \"Training loss\", \"text\": [\"1\", \"2\", \"3\", \"4\", \"5\", \"6\", \"7\", \"8\", \"9\", \"10\", \"11\", \"12\", \"13\", \"14\", \"15\", \"16\", \"17\", \"18\", \"19\", \"20\", \"21\", \"22\", \"23\", \"24\", \"25\", \"26\", \"27\", \"28\", \"29\", \"30\", \"31\", \"32\", \"33\", \"34\", \"35\", \"36\", \"37\"], \"uid\": \"8b1acfac-d125-4bea-a41c-5214c50b418f\", \"x\": [1, 2, 3, 4, 5, 6, 7, 8, 9, 10, 11, 12, 13, 14, 15, 16, 17, 18, 19, 20, 21, 22, 23, 24, 25, 26, 27, 28, 29, 30, 31, 32, 33, 34, 35, 36, 37], \"xaxis\": \"x2\", \"y\": [1.9944041186173758, 0.7744154770374299, 0.6507999707857768, 0.5855231032768885, 0.5438468152681987, 0.5091476361950239, 0.47379033001263937, 0.451669606924057, 0.4295417493780454, 0.4103638734618823, 0.3962627581357956, 0.38384212098519005, 0.375982618590196, 0.36711027203003566, 0.35963491910696027, 0.3495851881702741, 0.35163520311315855, 0.3334204077323278, 0.33208676279584565, 0.3297027610341708, 0.3193290056387583, 0.3105554396311442, 0.3127437075972557, 0.31075094842910767, 0.3051306723455588, 0.3036486183404922, 0.2974740452170372, 0.29536678446332615, 0.2868315283258756, 0.2842840217848619, 0.28305445943276086, 0.28149005232254665, 0.27823200782140095, 0.27031344367563725, 0.27324254651367663, 0.2716809471646945, 0.26854994157950085], \"yaxis\": \"y2\", \"type\": \"scatter\"}, {\"marker\": {\"color\": \"Magenta\"}, \"mode\": \"markers+lines\", \"name\": \"Validation loss\", \"text\": [\"1\", \"2\", \"3\", \"4\", \"5\", \"6\", \"7\", \"8\", \"9\", \"10\", \"11\", \"12\", \"13\", \"14\", \"15\", \"16\", \"17\", \"18\", \"19\", \"20\", \"21\", \"22\", \"23\", \"24\", \"25\", \"26\", \"27\", \"28\", \"29\", \"30\", \"31\", \"32\", \"33\", \"34\", \"35\", \"36\", \"37\"], \"uid\": \"eba28117-4c57-4dcd-87df-9ff6461562b8\", \"x\": [1, 2, 3, 4, 5, 6, 7, 8, 9, 10, 11, 12, 13, 14, 15, 16, 17, 18, 19, 20, 21, 22, 23, 24, 25, 26, 27, 28, 29, 30, 31, 32, 33, 34, 35, 36, 37], \"xaxis\": \"x2\", \"y\": [0.6677947789827983, 0.5562836241722107, 0.5233036199410757, 0.4693188607692719, 0.4177118983268738, 0.39362731528282163, 0.3816275442441305, 0.3573405594825745, 0.3452216514746348, 0.3271851743857066, 0.3227832900683085, 0.31521012862523395, 0.30039144432544707, 0.30404228397210437, 0.2991897010803223, 0.30280417732397713, 0.2901704659461975, 0.2975389153957367, 0.27723726626237233, 0.28313670329252877, 0.2863789684375127, 0.28076010684172314, 0.2742273006836573, 0.2700631237427394, 0.27980815573533374, 0.27530277987321217, 0.26842859145005543, 0.26902053276697796, 0.27475666944185895, 0.2776895937124888, 0.2960550087292989, 0.27043613278865813, 0.2693541544675827, 0.280993593553702, 0.2702324784199397, 0.2724480008284251, 0.272648627837499], \"yaxis\": \"y2\", \"type\": \"scatter\"}], {\"annotations\": [{\"font\": {\"size\": 16}, \"showarrow\": false, \"text\": \"Training and validation accuracy\", \"x\": 0.225, \"xanchor\": \"center\", \"xref\": \"paper\", \"y\": 1.0, \"yanchor\": \"bottom\", \"yref\": \"paper\"}, {\"font\": {\"size\": 16}, \"showarrow\": false, \"text\": \"Training and validation loss\", \"x\": 0.775, \"xanchor\": \"center\", \"xref\": \"paper\", \"y\": 1.0, \"yanchor\": \"bottom\", \"yref\": \"paper\"}], \"xaxis\": {\"anchor\": \"y\", \"domain\": [0.0, 0.45], \"title\": {\"text\": \"Epoch\"}}, \"yaxis\": {\"anchor\": \"x\", \"domain\": [0.0, 1.0], \"range\": [0, 1], \"title\": {\"text\": \"Accuracy\"}}, \"xaxis2\": {\"anchor\": \"y2\", \"domain\": [0.55, 1.0], \"title\": {\"text\": \"Epoch\"}}, \"yaxis2\": {\"anchor\": \"x2\", \"domain\": [0.0, 1.0], \"range\": [0, 1], \"title\": {\"text\": \"Loss\"}}}, {\"showLink\": false, \"linkText\": \"Export to plot.ly\", \"plotlyServerURL\": \"https://plot.ly\"})});</script><script type=\"text/javascript\">window.addEventListener(\"resize\", function(){window._Plotly.Plots.resize(document.getElementById(\"24d4dcea-7605-4d2d-aab0-d130299f70e5\"));});</script>"
      ],
      "text/vnd.plotly.v1+html": [
       "<div id=\"24d4dcea-7605-4d2d-aab0-d130299f70e5\" style=\"height: 525px; width: 100%;\" class=\"plotly-graph-div\"></div><script type=\"text/javascript\">require([\"plotly\"], function(Plotly) { window.PLOTLYENV=window.PLOTLYENV || {};window.PLOTLYENV.BASE_URL=\"https://plot.ly\";Plotly.newPlot(\"24d4dcea-7605-4d2d-aab0-d130299f70e5\", [{\"marker\": {\"color\": \"Green\"}, \"mode\": \"markers+lines\", \"name\": \"Training accuracy\", \"text\": [\"1\", \"2\", \"3\", \"4\", \"5\", \"6\", \"7\", \"8\", \"9\", \"10\", \"11\", \"12\", \"13\", \"14\", \"15\", \"16\", \"17\", \"18\", \"19\", \"20\", \"21\", \"22\", \"23\", \"24\", \"25\", \"26\", \"27\", \"28\", \"29\", \"30\", \"31\", \"32\", \"33\", \"34\", \"35\", \"36\", \"37\"], \"uid\": \"9712cebc-f7aa-4188-96f0-eb55d05ebfac\", \"x\": [1, 2, 3, 4, 5, 6, 7, 8, 9, 10, 11, 12, 13, 14, 15, 16, 17, 18, 19, 20, 21, 22, 23, 24, 25, 26, 27, 28, 29, 30, 31, 32, 33, 34, 35, 36, 37], \"xaxis\": \"x\", \"y\": [0.4144375, 0.7102291666666667, 0.7522291666666666, 0.779125, 0.7940208333333333, 0.8066666666666666, 0.8213125, 0.8273541666666666, 0.839, 0.8463333333333334, 0.8510416666666667, 0.8585416666666666, 0.8589166666666667, 0.8629791666666666, 0.8665833333333334, 0.8685416666666667, 0.8707916666666666, 0.8752708333333333, 0.875375, 0.87575, 0.8814375, 0.8837083333333333, 0.8805416666666667, 0.8838958333333333, 0.8838333333333334, 0.8852083333333334, 0.888625, 0.8891458333333333, 0.8909375, 0.894, 0.8938333333333334, 0.8928125, 0.8944791666666667, 0.8975208333333333, 0.897375, 0.8983333333333333, 0.8990833333333333], \"yaxis\": \"y\", \"type\": \"scatter\"}, {\"marker\": {\"color\": \"Red\"}, \"mode\": \"markers+lines\", \"name\": \"Validation accuracy\", \"text\": [\"1\", \"2\", \"3\", \"4\", \"5\", \"6\", \"7\", \"8\", \"9\", \"10\", \"11\", \"12\", \"13\", \"14\", \"15\", \"16\", \"17\", \"18\", \"19\", \"20\", \"21\", \"22\", \"23\", \"24\", \"25\", \"26\", \"27\", \"28\", \"29\", \"30\", \"31\", \"32\", \"33\", \"34\", \"35\", \"36\", \"37\"], \"uid\": \"f09595de-d40f-4164-962f-7cf2fc9d386b\", \"x\": [1, 2, 3, 4, 5, 6, 7, 8, 9, 10, 11, 12, 13, 14, 15, 16, 17, 18, 19, 20, 21, 22, 23, 24, 25, 26, 27, 28, 29, 30, 31, 32, 33, 34, 35, 36, 37], \"xaxis\": \"x\", \"y\": [0.74975, 0.7895833333333333, 0.7993333333333333, 0.8243333333333334, 0.8414166666666667, 0.8499166666666667, 0.8565, 0.8616666666666667, 0.8655833333333334, 0.8738333333333334, 0.879, 0.8820833333333333, 0.8865833333333333, 0.88275, 0.8873333333333333, 0.8895833333333333, 0.8908333333333334, 0.8886666666666667, 0.8938333333333334, 0.8930833333333333, 0.8921666666666667, 0.8953333333333333, 0.8963333333333333, 0.8995, 0.8935833333333333, 0.8965, 0.90025, 0.899, 0.8973333333333333, 0.8991666666666667, 0.8954166666666666, 0.9025, 0.90425, 0.9019166666666667, 0.9030833333333333, 0.9025, 0.9008333333333334], \"yaxis\": \"y\", \"type\": \"scatter\"}, {\"marker\": {\"color\": \"Blue\"}, \"mode\": \"markers+lines\", \"name\": \"Training loss\", \"text\": [\"1\", \"2\", \"3\", \"4\", \"5\", \"6\", \"7\", \"8\", \"9\", \"10\", \"11\", \"12\", \"13\", \"14\", \"15\", \"16\", \"17\", \"18\", \"19\", \"20\", \"21\", \"22\", \"23\", \"24\", \"25\", \"26\", \"27\", \"28\", \"29\", \"30\", \"31\", \"32\", \"33\", \"34\", \"35\", \"36\", \"37\"], \"uid\": \"8b1acfac-d125-4bea-a41c-5214c50b418f\", \"x\": [1, 2, 3, 4, 5, 6, 7, 8, 9, 10, 11, 12, 13, 14, 15, 16, 17, 18, 19, 20, 21, 22, 23, 24, 25, 26, 27, 28, 29, 30, 31, 32, 33, 34, 35, 36, 37], \"xaxis\": \"x2\", \"y\": [1.9944041186173758, 0.7744154770374299, 0.6507999707857768, 0.5855231032768885, 0.5438468152681987, 0.5091476361950239, 0.47379033001263937, 0.451669606924057, 0.4295417493780454, 0.4103638734618823, 0.3962627581357956, 0.38384212098519005, 0.375982618590196, 0.36711027203003566, 0.35963491910696027, 0.3495851881702741, 0.35163520311315855, 0.3334204077323278, 0.33208676279584565, 0.3297027610341708, 0.3193290056387583, 0.3105554396311442, 0.3127437075972557, 0.31075094842910767, 0.3051306723455588, 0.3036486183404922, 0.2974740452170372, 0.29536678446332615, 0.2868315283258756, 0.2842840217848619, 0.28305445943276086, 0.28149005232254665, 0.27823200782140095, 0.27031344367563725, 0.27324254651367663, 0.2716809471646945, 0.26854994157950085], \"yaxis\": \"y2\", \"type\": \"scatter\"}, {\"marker\": {\"color\": \"Magenta\"}, \"mode\": \"markers+lines\", \"name\": \"Validation loss\", \"text\": [\"1\", \"2\", \"3\", \"4\", \"5\", \"6\", \"7\", \"8\", \"9\", \"10\", \"11\", \"12\", \"13\", \"14\", \"15\", \"16\", \"17\", \"18\", \"19\", \"20\", \"21\", \"22\", \"23\", \"24\", \"25\", \"26\", \"27\", \"28\", \"29\", \"30\", \"31\", \"32\", \"33\", \"34\", \"35\", \"36\", \"37\"], \"uid\": \"eba28117-4c57-4dcd-87df-9ff6461562b8\", \"x\": [1, 2, 3, 4, 5, 6, 7, 8, 9, 10, 11, 12, 13, 14, 15, 16, 17, 18, 19, 20, 21, 22, 23, 24, 25, 26, 27, 28, 29, 30, 31, 32, 33, 34, 35, 36, 37], \"xaxis\": \"x2\", \"y\": [0.6677947789827983, 0.5562836241722107, 0.5233036199410757, 0.4693188607692719, 0.4177118983268738, 0.39362731528282163, 0.3816275442441305, 0.3573405594825745, 0.3452216514746348, 0.3271851743857066, 0.3227832900683085, 0.31521012862523395, 0.30039144432544707, 0.30404228397210437, 0.2991897010803223, 0.30280417732397713, 0.2901704659461975, 0.2975389153957367, 0.27723726626237233, 0.28313670329252877, 0.2863789684375127, 0.28076010684172314, 0.2742273006836573, 0.2700631237427394, 0.27980815573533374, 0.27530277987321217, 0.26842859145005543, 0.26902053276697796, 0.27475666944185895, 0.2776895937124888, 0.2960550087292989, 0.27043613278865813, 0.2693541544675827, 0.280993593553702, 0.2702324784199397, 0.2724480008284251, 0.272648627837499], \"yaxis\": \"y2\", \"type\": \"scatter\"}], {\"annotations\": [{\"font\": {\"size\": 16}, \"showarrow\": false, \"text\": \"Training and validation accuracy\", \"x\": 0.225, \"xanchor\": \"center\", \"xref\": \"paper\", \"y\": 1.0, \"yanchor\": \"bottom\", \"yref\": \"paper\"}, {\"font\": {\"size\": 16}, \"showarrow\": false, \"text\": \"Training and validation loss\", \"x\": 0.775, \"xanchor\": \"center\", \"xref\": \"paper\", \"y\": 1.0, \"yanchor\": \"bottom\", \"yref\": \"paper\"}], \"xaxis\": {\"anchor\": \"y\", \"domain\": [0.0, 0.45], \"title\": {\"text\": \"Epoch\"}}, \"yaxis\": {\"anchor\": \"x\", \"domain\": [0.0, 1.0], \"range\": [0, 1], \"title\": {\"text\": \"Accuracy\"}}, \"xaxis2\": {\"anchor\": \"y2\", \"domain\": [0.55, 1.0], \"title\": {\"text\": \"Epoch\"}}, \"yaxis2\": {\"anchor\": \"x2\", \"domain\": [0.0, 1.0], \"range\": [0, 1], \"title\": {\"text\": \"Loss\"}}}, {\"showLink\": false, \"linkText\": \"Export to plot.ly\", \"plotlyServerURL\": \"https://plot.ly\"})});</script><script type=\"text/javascript\">window.addEventListener(\"resize\", function(){window._Plotly.Plots.resize(document.getElementById(\"24d4dcea-7605-4d2d-aab0-d130299f70e5\"));});</script>"
      ]
     },
     "metadata": {},
     "output_type": "display_data"
    },
    {
     "name": "stdout",
     "output_type": "stream",
     "text": [
      "simpleResnet_hist_dataAug\n",
      "This is the format of your plot grid:\n",
      "[ (1,1) x1,y1 ]  [ (1,2) x2,y2 ]\n",
      "\n"
     ]
    },
    {
     "data": {
      "application/vnd.plotly.v1+json": {
       "config": {
        "linkText": "Export to plot.ly",
        "plotlyServerURL": "https://plot.ly",
        "showLink": false
       },
       "data": [
        {
         "marker": {
          "color": "Green"
         },
         "mode": "markers+lines",
         "name": "Training accuracy",
         "text": [
          "1",
          "2",
          "3",
          "4",
          "5",
          "6",
          "7",
          "8",
          "9",
          "10",
          "11",
          "12",
          "13",
          "14",
          "15",
          "16",
          "17",
          "18",
          "19",
          "20",
          "21",
          "22",
          "23",
          "24",
          "25",
          "26",
          "27",
          "28",
          "29",
          "30",
          "31",
          "32",
          "33"
         ],
         "type": "scatter",
         "uid": "30812b8e-9337-45f1-82c7-1352821ace35",
         "x": [
          1,
          2,
          3,
          4,
          5,
          6,
          7,
          8,
          9,
          10,
          11,
          12,
          13,
          14,
          15,
          16,
          17,
          18,
          19,
          20,
          21,
          22,
          23,
          24,
          25,
          26,
          27,
          28,
          29,
          30,
          31,
          32,
          33
         ],
         "xaxis": "x",
         "y": [
          0.548125,
          0.6224166666666666,
          0.6581041666666667,
          0.6905833333333333,
          0.7278958333333333,
          0.7559166666666667,
          0.7876875,
          0.8045416666666667,
          0.8267708333333333,
          0.8468958333333333,
          0.8563333333333333,
          0.8703125,
          0.8796666666666667,
          0.8871041666666667,
          0.8940833333333333,
          0.8968333333333334,
          0.9012916666666667,
          0.9071666666666667,
          0.9115,
          0.9174583333333334,
          0.9215,
          0.9233125,
          0.9246875,
          0.93,
          0.9354791666666666,
          0.933375,
          0.9363333333333334,
          0.937,
          0.9425,
          0.9429583333333333,
          0.9465833333333333,
          0.9469375,
          0.9480625
         ],
         "yaxis": "y"
        },
        {
         "marker": {
          "color": "Red"
         },
         "mode": "markers+lines",
         "name": "Validation accuracy",
         "text": [
          "1",
          "2",
          "3",
          "4",
          "5",
          "6",
          "7",
          "8",
          "9",
          "10",
          "11",
          "12",
          "13",
          "14",
          "15",
          "16",
          "17",
          "18",
          "19",
          "20",
          "21",
          "22",
          "23",
          "24",
          "25",
          "26",
          "27",
          "28",
          "29",
          "30",
          "31",
          "32",
          "33"
         ],
         "type": "scatter",
         "uid": "cc026882-b959-4016-b983-f83b400cb232",
         "x": [
          1,
          2,
          3,
          4,
          5,
          6,
          7,
          8,
          9,
          10,
          11,
          12,
          13,
          14,
          15,
          16,
          17,
          18,
          19,
          20,
          21,
          22,
          23,
          24,
          25,
          26,
          27,
          28,
          29,
          30,
          31,
          32,
          33
         ],
         "xaxis": "x",
         "y": [
          0.7585833333333334,
          0.7713333333333333,
          0.8115833333333333,
          0.84725,
          0.8621666666666666,
          0.8744166666666666,
          0.886,
          0.8876666666666667,
          0.8986666666666666,
          0.9034166666666666,
          0.9038333333333334,
          0.9069166666666667,
          0.9093333333333333,
          0.9094166666666667,
          0.9124166666666667,
          0.9153333333333333,
          0.91225,
          0.9114166666666667,
          0.9118333333333334,
          0.91225,
          0.9103333333333333,
          0.9135,
          0.9195833333333333,
          0.91275,
          0.9196666666666666,
          0.9156666666666666,
          0.9189166666666667,
          0.9166666666666666,
          0.9153333333333333,
          0.9199166666666667,
          0.9171666666666667,
          0.91925,
          0.9194166666666667
         ],
         "yaxis": "y"
        },
        {
         "marker": {
          "color": "Blue"
         },
         "mode": "markers+lines",
         "name": "Training loss",
         "text": [
          "1",
          "2",
          "3",
          "4",
          "5",
          "6",
          "7",
          "8",
          "9",
          "10",
          "11",
          "12",
          "13",
          "14",
          "15",
          "16",
          "17",
          "18",
          "19",
          "20",
          "21",
          "22",
          "23",
          "24",
          "25",
          "26",
          "27",
          "28",
          "29",
          "30",
          "31",
          "32",
          "33"
         ],
         "type": "scatter",
         "uid": "653f2a43-89c5-45f2-a557-7cb367a5ce5f",
         "x": [
          1,
          2,
          3,
          4,
          5,
          6,
          7,
          8,
          9,
          10,
          11,
          12,
          13,
          14,
          15,
          16,
          17,
          18,
          19,
          20,
          21,
          22,
          23,
          24,
          25,
          26,
          27,
          28,
          29,
          30,
          31,
          32,
          33
         ],
         "xaxis": "x2",
         "y": [
          1.4131678076585135,
          0.9401624902884166,
          0.8277254292170206,
          0.7449881859620412,
          0.6852273991505305,
          0.6140885674556097,
          0.5383548760811487,
          0.4908453707098961,
          0.44705011665821076,
          0.401430344303449,
          0.37835929878552754,
          0.3485079258282979,
          0.324678590854009,
          0.306089014907678,
          0.2889701151649157,
          0.28087176752090454,
          0.2661820976336797,
          0.2524870076378187,
          0.2395737816890081,
          0.22206693435211977,
          0.21262403113643327,
          0.20583461648225784,
          0.1993798888673385,
          0.18796223663787048,
          0.17367803071439267,
          0.1720055358459552,
          0.1694272229075432,
          0.16407577542960644,
          0.14988016203790902,
          0.14987905043363572,
          0.14198924270272256,
          0.1434486252143979,
          0.13692542375872532
         ],
         "yaxis": "y2"
        },
        {
         "marker": {
          "color": "Magenta"
         },
         "mode": "markers+lines",
         "name": "Validation loss",
         "text": [
          "1",
          "2",
          "3",
          "4",
          "5",
          "6",
          "7",
          "8",
          "9",
          "10",
          "11",
          "12",
          "13",
          "14",
          "15",
          "16",
          "17",
          "18",
          "19",
          "20",
          "21",
          "22",
          "23",
          "24",
          "25",
          "26",
          "27",
          "28",
          "29",
          "30",
          "31",
          "32",
          "33"
         ],
         "type": "scatter",
         "uid": "2db63b62-f312-4673-aec7-15a20925d5cf",
         "x": [
          1,
          2,
          3,
          4,
          5,
          6,
          7,
          8,
          9,
          10,
          11,
          12,
          13,
          14,
          15,
          16,
          17,
          18,
          19,
          20,
          21,
          22,
          23,
          24,
          25,
          26,
          27,
          28,
          29,
          30,
          31,
          32,
          33
         ],
         "xaxis": "x2",
         "y": [
          0.691055141766866,
          0.5523848488330841,
          0.5101619749069214,
          0.4363362053235372,
          0.39674681282043456,
          0.36260601528485614,
          0.3227889410654704,
          0.3245287764072418,
          0.28702022941907246,
          0.2821729384660721,
          0.278340767900149,
          0.27207177396615345,
          0.2514043544133504,
          0.26037234274546306,
          0.2598312837282817,
          0.24904487164815267,
          0.25621717566251756,
          0.27356693263848625,
          0.25540794523557026,
          0.26998713795344037,
          0.2753123548030853,
          0.2790707851648331,
          0.247642287115256,
          0.2593596206704776,
          0.2733111188014348,
          0.2765128818353017,
          0.26576495854059856,
          0.2615670803586642,
          0.28759132186571756,
          0.2878268102308114,
          0.27959141065677007,
          0.28853925746679304,
          0.28173689969380694
         ],
         "yaxis": "y2"
        }
       ],
       "layout": {
        "annotations": [
         {
          "font": {
           "size": 16
          },
          "showarrow": false,
          "text": "Training and validation accuracy",
          "x": 0.225,
          "xanchor": "center",
          "xref": "paper",
          "y": 1,
          "yanchor": "bottom",
          "yref": "paper"
         },
         {
          "font": {
           "size": 16
          },
          "showarrow": false,
          "text": "Training and validation loss",
          "x": 0.775,
          "xanchor": "center",
          "xref": "paper",
          "y": 1,
          "yanchor": "bottom",
          "yref": "paper"
         }
        ],
        "xaxis": {
         "anchor": "y",
         "domain": [
          0,
          0.45
         ],
         "title": {
          "text": "Epoch"
         }
        },
        "xaxis2": {
         "anchor": "y2",
         "domain": [
          0.55,
          1
         ],
         "title": {
          "text": "Epoch"
         }
        },
        "yaxis": {
         "anchor": "x",
         "domain": [
          0,
          1
         ],
         "range": [
          0,
          1
         ],
         "title": {
          "text": "Accuracy"
         }
        },
        "yaxis2": {
         "anchor": "x2",
         "domain": [
          0,
          1
         ],
         "range": [
          0,
          1
         ],
         "title": {
          "text": "Loss"
         }
        }
       }
      },
      "text/html": [
       "<div id=\"d358625b-96e8-4121-b82d-8dc55f4bf5b9\" style=\"height: 525px; width: 100%;\" class=\"plotly-graph-div\"></div><script type=\"text/javascript\">require([\"plotly\"], function(Plotly) { window.PLOTLYENV=window.PLOTLYENV || {};window.PLOTLYENV.BASE_URL=\"https://plot.ly\";Plotly.newPlot(\"d358625b-96e8-4121-b82d-8dc55f4bf5b9\", [{\"marker\": {\"color\": \"Green\"}, \"mode\": \"markers+lines\", \"name\": \"Training accuracy\", \"text\": [\"1\", \"2\", \"3\", \"4\", \"5\", \"6\", \"7\", \"8\", \"9\", \"10\", \"11\", \"12\", \"13\", \"14\", \"15\", \"16\", \"17\", \"18\", \"19\", \"20\", \"21\", \"22\", \"23\", \"24\", \"25\", \"26\", \"27\", \"28\", \"29\", \"30\", \"31\", \"32\", \"33\"], \"uid\": \"30812b8e-9337-45f1-82c7-1352821ace35\", \"x\": [1, 2, 3, 4, 5, 6, 7, 8, 9, 10, 11, 12, 13, 14, 15, 16, 17, 18, 19, 20, 21, 22, 23, 24, 25, 26, 27, 28, 29, 30, 31, 32, 33], \"xaxis\": \"x\", \"y\": [0.548125, 0.6224166666666666, 0.6581041666666667, 0.6905833333333333, 0.7278958333333333, 0.7559166666666667, 0.7876875, 0.8045416666666667, 0.8267708333333333, 0.8468958333333333, 0.8563333333333333, 0.8703125, 0.8796666666666667, 0.8871041666666667, 0.8940833333333333, 0.8968333333333334, 0.9012916666666667, 0.9071666666666667, 0.9115, 0.9174583333333334, 0.9215, 0.9233125, 0.9246875, 0.93, 0.9354791666666666, 0.933375, 0.9363333333333334, 0.937, 0.9425, 0.9429583333333333, 0.9465833333333333, 0.9469375, 0.9480625], \"yaxis\": \"y\", \"type\": \"scatter\"}, {\"marker\": {\"color\": \"Red\"}, \"mode\": \"markers+lines\", \"name\": \"Validation accuracy\", \"text\": [\"1\", \"2\", \"3\", \"4\", \"5\", \"6\", \"7\", \"8\", \"9\", \"10\", \"11\", \"12\", \"13\", \"14\", \"15\", \"16\", \"17\", \"18\", \"19\", \"20\", \"21\", \"22\", \"23\", \"24\", \"25\", \"26\", \"27\", \"28\", \"29\", \"30\", \"31\", \"32\", \"33\"], \"uid\": \"cc026882-b959-4016-b983-f83b400cb232\", \"x\": [1, 2, 3, 4, 5, 6, 7, 8, 9, 10, 11, 12, 13, 14, 15, 16, 17, 18, 19, 20, 21, 22, 23, 24, 25, 26, 27, 28, 29, 30, 31, 32, 33], \"xaxis\": \"x\", \"y\": [0.7585833333333334, 0.7713333333333333, 0.8115833333333333, 0.84725, 0.8621666666666666, 0.8744166666666666, 0.886, 0.8876666666666667, 0.8986666666666666, 0.9034166666666666, 0.9038333333333334, 0.9069166666666667, 0.9093333333333333, 0.9094166666666667, 0.9124166666666667, 0.9153333333333333, 0.91225, 0.9114166666666667, 0.9118333333333334, 0.91225, 0.9103333333333333, 0.9135, 0.9195833333333333, 0.91275, 0.9196666666666666, 0.9156666666666666, 0.9189166666666667, 0.9166666666666666, 0.9153333333333333, 0.9199166666666667, 0.9171666666666667, 0.91925, 0.9194166666666667], \"yaxis\": \"y\", \"type\": \"scatter\"}, {\"marker\": {\"color\": \"Blue\"}, \"mode\": \"markers+lines\", \"name\": \"Training loss\", \"text\": [\"1\", \"2\", \"3\", \"4\", \"5\", \"6\", \"7\", \"8\", \"9\", \"10\", \"11\", \"12\", \"13\", \"14\", \"15\", \"16\", \"17\", \"18\", \"19\", \"20\", \"21\", \"22\", \"23\", \"24\", \"25\", \"26\", \"27\", \"28\", \"29\", \"30\", \"31\", \"32\", \"33\"], \"uid\": \"653f2a43-89c5-45f2-a557-7cb367a5ce5f\", \"x\": [1, 2, 3, 4, 5, 6, 7, 8, 9, 10, 11, 12, 13, 14, 15, 16, 17, 18, 19, 20, 21, 22, 23, 24, 25, 26, 27, 28, 29, 30, 31, 32, 33], \"xaxis\": \"x2\", \"y\": [1.4131678076585135, 0.9401624902884166, 0.8277254292170206, 0.7449881859620412, 0.6852273991505305, 0.6140885674556097, 0.5383548760811487, 0.4908453707098961, 0.44705011665821076, 0.401430344303449, 0.37835929878552754, 0.3485079258282979, 0.324678590854009, 0.306089014907678, 0.2889701151649157, 0.28087176752090454, 0.2661820976336797, 0.2524870076378187, 0.2395737816890081, 0.22206693435211977, 0.21262403113643327, 0.20583461648225784, 0.1993798888673385, 0.18796223663787048, 0.17367803071439267, 0.1720055358459552, 0.1694272229075432, 0.16407577542960644, 0.14988016203790902, 0.14987905043363572, 0.14198924270272256, 0.1434486252143979, 0.13692542375872532], \"yaxis\": \"y2\", \"type\": \"scatter\"}, {\"marker\": {\"color\": \"Magenta\"}, \"mode\": \"markers+lines\", \"name\": \"Validation loss\", \"text\": [\"1\", \"2\", \"3\", \"4\", \"5\", \"6\", \"7\", \"8\", \"9\", \"10\", \"11\", \"12\", \"13\", \"14\", \"15\", \"16\", \"17\", \"18\", \"19\", \"20\", \"21\", \"22\", \"23\", \"24\", \"25\", \"26\", \"27\", \"28\", \"29\", \"30\", \"31\", \"32\", \"33\"], \"uid\": \"2db63b62-f312-4673-aec7-15a20925d5cf\", \"x\": [1, 2, 3, 4, 5, 6, 7, 8, 9, 10, 11, 12, 13, 14, 15, 16, 17, 18, 19, 20, 21, 22, 23, 24, 25, 26, 27, 28, 29, 30, 31, 32, 33], \"xaxis\": \"x2\", \"y\": [0.691055141766866, 0.5523848488330841, 0.5101619749069214, 0.4363362053235372, 0.39674681282043456, 0.36260601528485614, 0.3227889410654704, 0.3245287764072418, 0.28702022941907246, 0.2821729384660721, 0.278340767900149, 0.27207177396615345, 0.2514043544133504, 0.26037234274546306, 0.2598312837282817, 0.24904487164815267, 0.25621717566251756, 0.27356693263848625, 0.25540794523557026, 0.26998713795344037, 0.2753123548030853, 0.2790707851648331, 0.247642287115256, 0.2593596206704776, 0.2733111188014348, 0.2765128818353017, 0.26576495854059856, 0.2615670803586642, 0.28759132186571756, 0.2878268102308114, 0.27959141065677007, 0.28853925746679304, 0.28173689969380694], \"yaxis\": \"y2\", \"type\": \"scatter\"}], {\"annotations\": [{\"font\": {\"size\": 16}, \"showarrow\": false, \"text\": \"Training and validation accuracy\", \"x\": 0.225, \"xanchor\": \"center\", \"xref\": \"paper\", \"y\": 1.0, \"yanchor\": \"bottom\", \"yref\": \"paper\"}, {\"font\": {\"size\": 16}, \"showarrow\": false, \"text\": \"Training and validation loss\", \"x\": 0.775, \"xanchor\": \"center\", \"xref\": \"paper\", \"y\": 1.0, \"yanchor\": \"bottom\", \"yref\": \"paper\"}], \"xaxis\": {\"anchor\": \"y\", \"domain\": [0.0, 0.45], \"title\": {\"text\": \"Epoch\"}}, \"yaxis\": {\"anchor\": \"x\", \"domain\": [0.0, 1.0], \"range\": [0, 1], \"title\": {\"text\": \"Accuracy\"}}, \"xaxis2\": {\"anchor\": \"y2\", \"domain\": [0.55, 1.0], \"title\": {\"text\": \"Epoch\"}}, \"yaxis2\": {\"anchor\": \"x2\", \"domain\": [0.0, 1.0], \"range\": [0, 1], \"title\": {\"text\": \"Loss\"}}}, {\"showLink\": false, \"linkText\": \"Export to plot.ly\", \"plotlyServerURL\": \"https://plot.ly\"})});</script><script type=\"text/javascript\">window.addEventListener(\"resize\", function(){window._Plotly.Plots.resize(document.getElementById(\"d358625b-96e8-4121-b82d-8dc55f4bf5b9\"));});</script>"
      ],
      "text/vnd.plotly.v1+html": [
       "<div id=\"d358625b-96e8-4121-b82d-8dc55f4bf5b9\" style=\"height: 525px; width: 100%;\" class=\"plotly-graph-div\"></div><script type=\"text/javascript\">require([\"plotly\"], function(Plotly) { window.PLOTLYENV=window.PLOTLYENV || {};window.PLOTLYENV.BASE_URL=\"https://plot.ly\";Plotly.newPlot(\"d358625b-96e8-4121-b82d-8dc55f4bf5b9\", [{\"marker\": {\"color\": \"Green\"}, \"mode\": \"markers+lines\", \"name\": \"Training accuracy\", \"text\": [\"1\", \"2\", \"3\", \"4\", \"5\", \"6\", \"7\", \"8\", \"9\", \"10\", \"11\", \"12\", \"13\", \"14\", \"15\", \"16\", \"17\", \"18\", \"19\", \"20\", \"21\", \"22\", \"23\", \"24\", \"25\", \"26\", \"27\", \"28\", \"29\", \"30\", \"31\", \"32\", \"33\"], \"uid\": \"30812b8e-9337-45f1-82c7-1352821ace35\", \"x\": [1, 2, 3, 4, 5, 6, 7, 8, 9, 10, 11, 12, 13, 14, 15, 16, 17, 18, 19, 20, 21, 22, 23, 24, 25, 26, 27, 28, 29, 30, 31, 32, 33], \"xaxis\": \"x\", \"y\": [0.548125, 0.6224166666666666, 0.6581041666666667, 0.6905833333333333, 0.7278958333333333, 0.7559166666666667, 0.7876875, 0.8045416666666667, 0.8267708333333333, 0.8468958333333333, 0.8563333333333333, 0.8703125, 0.8796666666666667, 0.8871041666666667, 0.8940833333333333, 0.8968333333333334, 0.9012916666666667, 0.9071666666666667, 0.9115, 0.9174583333333334, 0.9215, 0.9233125, 0.9246875, 0.93, 0.9354791666666666, 0.933375, 0.9363333333333334, 0.937, 0.9425, 0.9429583333333333, 0.9465833333333333, 0.9469375, 0.9480625], \"yaxis\": \"y\", \"type\": \"scatter\"}, {\"marker\": {\"color\": \"Red\"}, \"mode\": \"markers+lines\", \"name\": \"Validation accuracy\", \"text\": [\"1\", \"2\", \"3\", \"4\", \"5\", \"6\", \"7\", \"8\", \"9\", \"10\", \"11\", \"12\", \"13\", \"14\", \"15\", \"16\", \"17\", \"18\", \"19\", \"20\", \"21\", \"22\", \"23\", \"24\", \"25\", \"26\", \"27\", \"28\", \"29\", \"30\", \"31\", \"32\", \"33\"], \"uid\": \"cc026882-b959-4016-b983-f83b400cb232\", \"x\": [1, 2, 3, 4, 5, 6, 7, 8, 9, 10, 11, 12, 13, 14, 15, 16, 17, 18, 19, 20, 21, 22, 23, 24, 25, 26, 27, 28, 29, 30, 31, 32, 33], \"xaxis\": \"x\", \"y\": [0.7585833333333334, 0.7713333333333333, 0.8115833333333333, 0.84725, 0.8621666666666666, 0.8744166666666666, 0.886, 0.8876666666666667, 0.8986666666666666, 0.9034166666666666, 0.9038333333333334, 0.9069166666666667, 0.9093333333333333, 0.9094166666666667, 0.9124166666666667, 0.9153333333333333, 0.91225, 0.9114166666666667, 0.9118333333333334, 0.91225, 0.9103333333333333, 0.9135, 0.9195833333333333, 0.91275, 0.9196666666666666, 0.9156666666666666, 0.9189166666666667, 0.9166666666666666, 0.9153333333333333, 0.9199166666666667, 0.9171666666666667, 0.91925, 0.9194166666666667], \"yaxis\": \"y\", \"type\": \"scatter\"}, {\"marker\": {\"color\": \"Blue\"}, \"mode\": \"markers+lines\", \"name\": \"Training loss\", \"text\": [\"1\", \"2\", \"3\", \"4\", \"5\", \"6\", \"7\", \"8\", \"9\", \"10\", \"11\", \"12\", \"13\", \"14\", \"15\", \"16\", \"17\", \"18\", \"19\", \"20\", \"21\", \"22\", \"23\", \"24\", \"25\", \"26\", \"27\", \"28\", \"29\", \"30\", \"31\", \"32\", \"33\"], \"uid\": \"653f2a43-89c5-45f2-a557-7cb367a5ce5f\", \"x\": [1, 2, 3, 4, 5, 6, 7, 8, 9, 10, 11, 12, 13, 14, 15, 16, 17, 18, 19, 20, 21, 22, 23, 24, 25, 26, 27, 28, 29, 30, 31, 32, 33], \"xaxis\": \"x2\", \"y\": [1.4131678076585135, 0.9401624902884166, 0.8277254292170206, 0.7449881859620412, 0.6852273991505305, 0.6140885674556097, 0.5383548760811487, 0.4908453707098961, 0.44705011665821076, 0.401430344303449, 0.37835929878552754, 0.3485079258282979, 0.324678590854009, 0.306089014907678, 0.2889701151649157, 0.28087176752090454, 0.2661820976336797, 0.2524870076378187, 0.2395737816890081, 0.22206693435211977, 0.21262403113643327, 0.20583461648225784, 0.1993798888673385, 0.18796223663787048, 0.17367803071439267, 0.1720055358459552, 0.1694272229075432, 0.16407577542960644, 0.14988016203790902, 0.14987905043363572, 0.14198924270272256, 0.1434486252143979, 0.13692542375872532], \"yaxis\": \"y2\", \"type\": \"scatter\"}, {\"marker\": {\"color\": \"Magenta\"}, \"mode\": \"markers+lines\", \"name\": \"Validation loss\", \"text\": [\"1\", \"2\", \"3\", \"4\", \"5\", \"6\", \"7\", \"8\", \"9\", \"10\", \"11\", \"12\", \"13\", \"14\", \"15\", \"16\", \"17\", \"18\", \"19\", \"20\", \"21\", \"22\", \"23\", \"24\", \"25\", \"26\", \"27\", \"28\", \"29\", \"30\", \"31\", \"32\", \"33\"], \"uid\": \"2db63b62-f312-4673-aec7-15a20925d5cf\", \"x\": [1, 2, 3, 4, 5, 6, 7, 8, 9, 10, 11, 12, 13, 14, 15, 16, 17, 18, 19, 20, 21, 22, 23, 24, 25, 26, 27, 28, 29, 30, 31, 32, 33], \"xaxis\": \"x2\", \"y\": [0.691055141766866, 0.5523848488330841, 0.5101619749069214, 0.4363362053235372, 0.39674681282043456, 0.36260601528485614, 0.3227889410654704, 0.3245287764072418, 0.28702022941907246, 0.2821729384660721, 0.278340767900149, 0.27207177396615345, 0.2514043544133504, 0.26037234274546306, 0.2598312837282817, 0.24904487164815267, 0.25621717566251756, 0.27356693263848625, 0.25540794523557026, 0.26998713795344037, 0.2753123548030853, 0.2790707851648331, 0.247642287115256, 0.2593596206704776, 0.2733111188014348, 0.2765128818353017, 0.26576495854059856, 0.2615670803586642, 0.28759132186571756, 0.2878268102308114, 0.27959141065677007, 0.28853925746679304, 0.28173689969380694], \"yaxis\": \"y2\", \"type\": \"scatter\"}], {\"annotations\": [{\"font\": {\"size\": 16}, \"showarrow\": false, \"text\": \"Training and validation accuracy\", \"x\": 0.225, \"xanchor\": \"center\", \"xref\": \"paper\", \"y\": 1.0, \"yanchor\": \"bottom\", \"yref\": \"paper\"}, {\"font\": {\"size\": 16}, \"showarrow\": false, \"text\": \"Training and validation loss\", \"x\": 0.775, \"xanchor\": \"center\", \"xref\": \"paper\", \"y\": 1.0, \"yanchor\": \"bottom\", \"yref\": \"paper\"}], \"xaxis\": {\"anchor\": \"y\", \"domain\": [0.0, 0.45], \"title\": {\"text\": \"Epoch\"}}, \"yaxis\": {\"anchor\": \"x\", \"domain\": [0.0, 1.0], \"range\": [0, 1], \"title\": {\"text\": \"Accuracy\"}}, \"xaxis2\": {\"anchor\": \"y2\", \"domain\": [0.55, 1.0], \"title\": {\"text\": \"Epoch\"}}, \"yaxis2\": {\"anchor\": \"x2\", \"domain\": [0.0, 1.0], \"range\": [0, 1], \"title\": {\"text\": \"Loss\"}}}, {\"showLink\": false, \"linkText\": \"Export to plot.ly\", \"plotlyServerURL\": \"https://plot.ly\"})});</script><script type=\"text/javascript\">window.addEventListener(\"resize\", function(){window._Plotly.Plots.resize(document.getElementById(\"d358625b-96e8-4121-b82d-8dc55f4bf5b9\"));});</script>"
      ]
     },
     "metadata": {},
     "output_type": "display_data"
    },
    {
     "name": "stdout",
     "output_type": "stream",
     "text": [
      "wideResnet_hist\n",
      "This is the format of your plot grid:\n",
      "[ (1,1) x1,y1 ]  [ (1,2) x2,y2 ]\n",
      "\n"
     ]
    },
    {
     "data": {
      "application/vnd.plotly.v1+json": {
       "config": {
        "linkText": "Export to plot.ly",
        "plotlyServerURL": "https://plot.ly",
        "showLink": false
       },
       "data": [
        {
         "marker": {
          "color": "Green"
         },
         "mode": "markers+lines",
         "name": "Training accuracy",
         "text": [
          "1",
          "2",
          "3",
          "4",
          "5",
          "6",
          "7",
          "8",
          "9",
          "10",
          "11",
          "12",
          "13",
          "14",
          "15",
          "16",
          "17",
          "18",
          "19",
          "20"
         ],
         "type": "scatter",
         "uid": "ba74c80e-313e-460a-a3e6-d8a8a74a8548",
         "x": [
          1,
          2,
          3,
          4,
          5,
          6,
          7,
          8,
          9,
          10,
          11,
          12,
          13,
          14,
          15,
          16,
          17,
          18,
          19,
          20
         ],
         "xaxis": "x",
         "y": [
          0.8421875,
          0.9038541666666666,
          0.9172291666666667,
          0.9278958333333334,
          0.933125,
          0.941375,
          0.9474166666666667,
          0.9541458333333334,
          0.9600625,
          0.9667083333333333,
          0.9721458333333334,
          0.9782916666666667,
          0.983,
          0.9845833333333334,
          0.9887083333333333,
          0.9880625,
          0.9902916666666667,
          0.9910208333333334,
          0.9918541666666667,
          0.9931875
         ],
         "yaxis": "y"
        },
        {
         "marker": {
          "color": "Red"
         },
         "mode": "markers+lines",
         "name": "Validation accuracy",
         "text": [
          "1",
          "2",
          "3",
          "4",
          "5",
          "6",
          "7",
          "8",
          "9",
          "10",
          "11",
          "12",
          "13",
          "14",
          "15",
          "16",
          "17",
          "18",
          "19",
          "20"
         ],
         "type": "scatter",
         "uid": "fff08d43-7b68-451e-a021-af9bde86fde5",
         "x": [
          1,
          2,
          3,
          4,
          5,
          6,
          7,
          8,
          9,
          10,
          11,
          12,
          13,
          14,
          15,
          16,
          17,
          18,
          19,
          20
         ],
         "xaxis": "x",
         "y": [
          0.8000833333333334,
          0.8723333333333333,
          0.9033333333333333,
          0.9241666666666667,
          0.9095,
          0.9175833333333333,
          0.9234166666666667,
          0.9174166666666667,
          0.9131666666666667,
          0.914,
          0.9219166666666667,
          0.9216666666666666,
          0.8970833333333333,
          0.9235,
          0.9075,
          0.916,
          0.9273333333333333,
          0.9193333333333333,
          0.92,
          0.924
         ],
         "yaxis": "y"
        },
        {
         "marker": {
          "color": "Blue"
         },
         "mode": "markers+lines",
         "name": "Training loss",
         "text": [
          "1",
          "2",
          "3",
          "4",
          "5",
          "6",
          "7",
          "8",
          "9",
          "10",
          "11",
          "12",
          "13",
          "14",
          "15",
          "16",
          "17",
          "18",
          "19",
          "20"
         ],
         "type": "scatter",
         "uid": "69f61bf4-3582-49a0-b46a-0eb1c87be479",
         "x": [
          1,
          2,
          3,
          4,
          5,
          6,
          7,
          8,
          9,
          10,
          11,
          12,
          13,
          14,
          15,
          16,
          17,
          18,
          19,
          20
         ],
         "xaxis": "x2",
         "y": [
          0.4375368304948012,
          0.26715085395177207,
          0.2325871474146843,
          0.20094219178954761,
          0.18562218671043715,
          0.16327212338149547,
          0.14683359881987174,
          0.12713583199183146,
          0.11126498113386334,
          0.09104276658718785,
          0.07554331511817873,
          0.06038780999059479,
          0.04695969651980946,
          0.04310233482462354,
          0.03188804400192263,
          0.035306391667807475,
          0.02645168252134075,
          0.02418648774504739,
          0.022738293969770892,
          0.019820370660047045
         ],
         "yaxis": "y2"
        },
        {
         "marker": {
          "color": "Magenta"
         },
         "mode": "markers+lines",
         "name": "Validation loss",
         "text": [
          "1",
          "2",
          "3",
          "4",
          "5",
          "6",
          "7",
          "8",
          "9",
          "10",
          "11",
          "12",
          "13",
          "14",
          "15",
          "16",
          "17",
          "18",
          "19",
          "20"
         ],
         "type": "scatter",
         "uid": "6dab7f47-946b-4c4e-9eac-b4bfc5410334",
         "x": [
          1,
          2,
          3,
          4,
          5,
          6,
          7,
          8,
          9,
          10,
          11,
          12,
          13,
          14,
          15,
          16,
          17,
          18,
          19,
          20
         ],
         "xaxis": "x2",
         "y": [
          0.5911729146639506,
          0.3701581789255142,
          0.26666272707780203,
          0.2156486313343048,
          0.25731536908944447,
          0.23662805767854056,
          0.22445055331786473,
          0.23807423381010692,
          0.2689094796180725,
          0.30009378550450005,
          0.2732257708410422,
          0.2758964685797691,
          0.4946443266272545,
          0.2908296307126681,
          0.3714734699924787,
          0.39471639157334965,
          0.35101003586997587,
          0.3661902815302213,
          0.3867927437623342,
          0.39183856183290483
         ],
         "yaxis": "y2"
        }
       ],
       "layout": {
        "annotations": [
         {
          "font": {
           "size": 16
          },
          "showarrow": false,
          "text": "Training and validation accuracy",
          "x": 0.225,
          "xanchor": "center",
          "xref": "paper",
          "y": 1,
          "yanchor": "bottom",
          "yref": "paper"
         },
         {
          "font": {
           "size": 16
          },
          "showarrow": false,
          "text": "Training and validation loss",
          "x": 0.775,
          "xanchor": "center",
          "xref": "paper",
          "y": 1,
          "yanchor": "bottom",
          "yref": "paper"
         }
        ],
        "xaxis": {
         "anchor": "y",
         "domain": [
          0,
          0.45
         ],
         "title": {
          "text": "Epoch"
         }
        },
        "xaxis2": {
         "anchor": "y2",
         "domain": [
          0.55,
          1
         ],
         "title": {
          "text": "Epoch"
         }
        },
        "yaxis": {
         "anchor": "x",
         "domain": [
          0,
          1
         ],
         "range": [
          0,
          1
         ],
         "title": {
          "text": "Accuracy"
         }
        },
        "yaxis2": {
         "anchor": "x2",
         "domain": [
          0,
          1
         ],
         "range": [
          0,
          1
         ],
         "title": {
          "text": "Loss"
         }
        }
       }
      },
      "text/html": [
       "<div id=\"a1dfe807-c5cf-49cb-82a7-91b6b3aff139\" style=\"height: 525px; width: 100%;\" class=\"plotly-graph-div\"></div><script type=\"text/javascript\">require([\"plotly\"], function(Plotly) { window.PLOTLYENV=window.PLOTLYENV || {};window.PLOTLYENV.BASE_URL=\"https://plot.ly\";Plotly.newPlot(\"a1dfe807-c5cf-49cb-82a7-91b6b3aff139\", [{\"marker\": {\"color\": \"Green\"}, \"mode\": \"markers+lines\", \"name\": \"Training accuracy\", \"text\": [\"1\", \"2\", \"3\", \"4\", \"5\", \"6\", \"7\", \"8\", \"9\", \"10\", \"11\", \"12\", \"13\", \"14\", \"15\", \"16\", \"17\", \"18\", \"19\", \"20\"], \"uid\": \"ba74c80e-313e-460a-a3e6-d8a8a74a8548\", \"x\": [1, 2, 3, 4, 5, 6, 7, 8, 9, 10, 11, 12, 13, 14, 15, 16, 17, 18, 19, 20], \"xaxis\": \"x\", \"y\": [0.8421875, 0.9038541666666666, 0.9172291666666667, 0.9278958333333334, 0.933125, 0.941375, 0.9474166666666667, 0.9541458333333334, 0.9600625, 0.9667083333333333, 0.9721458333333334, 0.9782916666666667, 0.983, 0.9845833333333334, 0.9887083333333333, 0.9880625, 0.9902916666666667, 0.9910208333333334, 0.9918541666666667, 0.9931875], \"yaxis\": \"y\", \"type\": \"scatter\"}, {\"marker\": {\"color\": \"Red\"}, \"mode\": \"markers+lines\", \"name\": \"Validation accuracy\", \"text\": [\"1\", \"2\", \"3\", \"4\", \"5\", \"6\", \"7\", \"8\", \"9\", \"10\", \"11\", \"12\", \"13\", \"14\", \"15\", \"16\", \"17\", \"18\", \"19\", \"20\"], \"uid\": \"fff08d43-7b68-451e-a021-af9bde86fde5\", \"x\": [1, 2, 3, 4, 5, 6, 7, 8, 9, 10, 11, 12, 13, 14, 15, 16, 17, 18, 19, 20], \"xaxis\": \"x\", \"y\": [0.8000833333333334, 0.8723333333333333, 0.9033333333333333, 0.9241666666666667, 0.9095, 0.9175833333333333, 0.9234166666666667, 0.9174166666666667, 0.9131666666666667, 0.914, 0.9219166666666667, 0.9216666666666666, 0.8970833333333333, 0.9235, 0.9075, 0.916, 0.9273333333333333, 0.9193333333333333, 0.92, 0.924], \"yaxis\": \"y\", \"type\": \"scatter\"}, {\"marker\": {\"color\": \"Blue\"}, \"mode\": \"markers+lines\", \"name\": \"Training loss\", \"text\": [\"1\", \"2\", \"3\", \"4\", \"5\", \"6\", \"7\", \"8\", \"9\", \"10\", \"11\", \"12\", \"13\", \"14\", \"15\", \"16\", \"17\", \"18\", \"19\", \"20\"], \"uid\": \"69f61bf4-3582-49a0-b46a-0eb1c87be479\", \"x\": [1, 2, 3, 4, 5, 6, 7, 8, 9, 10, 11, 12, 13, 14, 15, 16, 17, 18, 19, 20], \"xaxis\": \"x2\", \"y\": [0.4375368304948012, 0.26715085395177207, 0.2325871474146843, 0.20094219178954761, 0.18562218671043715, 0.16327212338149547, 0.14683359881987174, 0.12713583199183146, 0.11126498113386334, 0.09104276658718785, 0.07554331511817873, 0.06038780999059479, 0.04695969651980946, 0.04310233482462354, 0.03188804400192263, 0.035306391667807475, 0.02645168252134075, 0.02418648774504739, 0.022738293969770892, 0.019820370660047045], \"yaxis\": \"y2\", \"type\": \"scatter\"}, {\"marker\": {\"color\": \"Magenta\"}, \"mode\": \"markers+lines\", \"name\": \"Validation loss\", \"text\": [\"1\", \"2\", \"3\", \"4\", \"5\", \"6\", \"7\", \"8\", \"9\", \"10\", \"11\", \"12\", \"13\", \"14\", \"15\", \"16\", \"17\", \"18\", \"19\", \"20\"], \"uid\": \"6dab7f47-946b-4c4e-9eac-b4bfc5410334\", \"x\": [1, 2, 3, 4, 5, 6, 7, 8, 9, 10, 11, 12, 13, 14, 15, 16, 17, 18, 19, 20], \"xaxis\": \"x2\", \"y\": [0.5911729146639506, 0.3701581789255142, 0.26666272707780203, 0.2156486313343048, 0.25731536908944447, 0.23662805767854056, 0.22445055331786473, 0.23807423381010692, 0.2689094796180725, 0.30009378550450005, 0.2732257708410422, 0.2758964685797691, 0.4946443266272545, 0.2908296307126681, 0.3714734699924787, 0.39471639157334965, 0.35101003586997587, 0.3661902815302213, 0.3867927437623342, 0.39183856183290483], \"yaxis\": \"y2\", \"type\": \"scatter\"}], {\"annotations\": [{\"font\": {\"size\": 16}, \"showarrow\": false, \"text\": \"Training and validation accuracy\", \"x\": 0.225, \"xanchor\": \"center\", \"xref\": \"paper\", \"y\": 1.0, \"yanchor\": \"bottom\", \"yref\": \"paper\"}, {\"font\": {\"size\": 16}, \"showarrow\": false, \"text\": \"Training and validation loss\", \"x\": 0.775, \"xanchor\": \"center\", \"xref\": \"paper\", \"y\": 1.0, \"yanchor\": \"bottom\", \"yref\": \"paper\"}], \"xaxis\": {\"anchor\": \"y\", \"domain\": [0.0, 0.45], \"title\": {\"text\": \"Epoch\"}}, \"yaxis\": {\"anchor\": \"x\", \"domain\": [0.0, 1.0], \"range\": [0, 1], \"title\": {\"text\": \"Accuracy\"}}, \"xaxis2\": {\"anchor\": \"y2\", \"domain\": [0.55, 1.0], \"title\": {\"text\": \"Epoch\"}}, \"yaxis2\": {\"anchor\": \"x2\", \"domain\": [0.0, 1.0], \"range\": [0, 1], \"title\": {\"text\": \"Loss\"}}}, {\"showLink\": false, \"linkText\": \"Export to plot.ly\", \"plotlyServerURL\": \"https://plot.ly\"})});</script><script type=\"text/javascript\">window.addEventListener(\"resize\", function(){window._Plotly.Plots.resize(document.getElementById(\"a1dfe807-c5cf-49cb-82a7-91b6b3aff139\"));});</script>"
      ],
      "text/vnd.plotly.v1+html": [
       "<div id=\"a1dfe807-c5cf-49cb-82a7-91b6b3aff139\" style=\"height: 525px; width: 100%;\" class=\"plotly-graph-div\"></div><script type=\"text/javascript\">require([\"plotly\"], function(Plotly) { window.PLOTLYENV=window.PLOTLYENV || {};window.PLOTLYENV.BASE_URL=\"https://plot.ly\";Plotly.newPlot(\"a1dfe807-c5cf-49cb-82a7-91b6b3aff139\", [{\"marker\": {\"color\": \"Green\"}, \"mode\": \"markers+lines\", \"name\": \"Training accuracy\", \"text\": [\"1\", \"2\", \"3\", \"4\", \"5\", \"6\", \"7\", \"8\", \"9\", \"10\", \"11\", \"12\", \"13\", \"14\", \"15\", \"16\", \"17\", \"18\", \"19\", \"20\"], \"uid\": \"ba74c80e-313e-460a-a3e6-d8a8a74a8548\", \"x\": [1, 2, 3, 4, 5, 6, 7, 8, 9, 10, 11, 12, 13, 14, 15, 16, 17, 18, 19, 20], \"xaxis\": \"x\", \"y\": [0.8421875, 0.9038541666666666, 0.9172291666666667, 0.9278958333333334, 0.933125, 0.941375, 0.9474166666666667, 0.9541458333333334, 0.9600625, 0.9667083333333333, 0.9721458333333334, 0.9782916666666667, 0.983, 0.9845833333333334, 0.9887083333333333, 0.9880625, 0.9902916666666667, 0.9910208333333334, 0.9918541666666667, 0.9931875], \"yaxis\": \"y\", \"type\": \"scatter\"}, {\"marker\": {\"color\": \"Red\"}, \"mode\": \"markers+lines\", \"name\": \"Validation accuracy\", \"text\": [\"1\", \"2\", \"3\", \"4\", \"5\", \"6\", \"7\", \"8\", \"9\", \"10\", \"11\", \"12\", \"13\", \"14\", \"15\", \"16\", \"17\", \"18\", \"19\", \"20\"], \"uid\": \"fff08d43-7b68-451e-a021-af9bde86fde5\", \"x\": [1, 2, 3, 4, 5, 6, 7, 8, 9, 10, 11, 12, 13, 14, 15, 16, 17, 18, 19, 20], \"xaxis\": \"x\", \"y\": [0.8000833333333334, 0.8723333333333333, 0.9033333333333333, 0.9241666666666667, 0.9095, 0.9175833333333333, 0.9234166666666667, 0.9174166666666667, 0.9131666666666667, 0.914, 0.9219166666666667, 0.9216666666666666, 0.8970833333333333, 0.9235, 0.9075, 0.916, 0.9273333333333333, 0.9193333333333333, 0.92, 0.924], \"yaxis\": \"y\", \"type\": \"scatter\"}, {\"marker\": {\"color\": \"Blue\"}, \"mode\": \"markers+lines\", \"name\": \"Training loss\", \"text\": [\"1\", \"2\", \"3\", \"4\", \"5\", \"6\", \"7\", \"8\", \"9\", \"10\", \"11\", \"12\", \"13\", \"14\", \"15\", \"16\", \"17\", \"18\", \"19\", \"20\"], \"uid\": \"69f61bf4-3582-49a0-b46a-0eb1c87be479\", \"x\": [1, 2, 3, 4, 5, 6, 7, 8, 9, 10, 11, 12, 13, 14, 15, 16, 17, 18, 19, 20], \"xaxis\": \"x2\", \"y\": [0.4375368304948012, 0.26715085395177207, 0.2325871474146843, 0.20094219178954761, 0.18562218671043715, 0.16327212338149547, 0.14683359881987174, 0.12713583199183146, 0.11126498113386334, 0.09104276658718785, 0.07554331511817873, 0.06038780999059479, 0.04695969651980946, 0.04310233482462354, 0.03188804400192263, 0.035306391667807475, 0.02645168252134075, 0.02418648774504739, 0.022738293969770892, 0.019820370660047045], \"yaxis\": \"y2\", \"type\": \"scatter\"}, {\"marker\": {\"color\": \"Magenta\"}, \"mode\": \"markers+lines\", \"name\": \"Validation loss\", \"text\": [\"1\", \"2\", \"3\", \"4\", \"5\", \"6\", \"7\", \"8\", \"9\", \"10\", \"11\", \"12\", \"13\", \"14\", \"15\", \"16\", \"17\", \"18\", \"19\", \"20\"], \"uid\": \"6dab7f47-946b-4c4e-9eac-b4bfc5410334\", \"x\": [1, 2, 3, 4, 5, 6, 7, 8, 9, 10, 11, 12, 13, 14, 15, 16, 17, 18, 19, 20], \"xaxis\": \"x2\", \"y\": [0.5911729146639506, 0.3701581789255142, 0.26666272707780203, 0.2156486313343048, 0.25731536908944447, 0.23662805767854056, 0.22445055331786473, 0.23807423381010692, 0.2689094796180725, 0.30009378550450005, 0.2732257708410422, 0.2758964685797691, 0.4946443266272545, 0.2908296307126681, 0.3714734699924787, 0.39471639157334965, 0.35101003586997587, 0.3661902815302213, 0.3867927437623342, 0.39183856183290483], \"yaxis\": \"y2\", \"type\": \"scatter\"}], {\"annotations\": [{\"font\": {\"size\": 16}, \"showarrow\": false, \"text\": \"Training and validation accuracy\", \"x\": 0.225, \"xanchor\": \"center\", \"xref\": \"paper\", \"y\": 1.0, \"yanchor\": \"bottom\", \"yref\": \"paper\"}, {\"font\": {\"size\": 16}, \"showarrow\": false, \"text\": \"Training and validation loss\", \"x\": 0.775, \"xanchor\": \"center\", \"xref\": \"paper\", \"y\": 1.0, \"yanchor\": \"bottom\", \"yref\": \"paper\"}], \"xaxis\": {\"anchor\": \"y\", \"domain\": [0.0, 0.45], \"title\": {\"text\": \"Epoch\"}}, \"yaxis\": {\"anchor\": \"x\", \"domain\": [0.0, 1.0], \"range\": [0, 1], \"title\": {\"text\": \"Accuracy\"}}, \"xaxis2\": {\"anchor\": \"y2\", \"domain\": [0.55, 1.0], \"title\": {\"text\": \"Epoch\"}}, \"yaxis2\": {\"anchor\": \"x2\", \"domain\": [0.0, 1.0], \"range\": [0, 1], \"title\": {\"text\": \"Loss\"}}}, {\"showLink\": false, \"linkText\": \"Export to plot.ly\", \"plotlyServerURL\": \"https://plot.ly\"})});</script><script type=\"text/javascript\">window.addEventListener(\"resize\", function(){window._Plotly.Plots.resize(document.getElementById(\"a1dfe807-c5cf-49cb-82a7-91b6b3aff139\"));});</script>"
      ]
     },
     "metadata": {},
     "output_type": "display_data"
    },
    {
     "name": "stdout",
     "output_type": "stream",
     "text": [
      "simpleInception_hist_dataAug\n",
      "This is the format of your plot grid:\n",
      "[ (1,1) x1,y1 ]  [ (1,2) x2,y2 ]\n",
      "\n"
     ]
    },
    {
     "data": {
      "application/vnd.plotly.v1+json": {
       "config": {
        "linkText": "Export to plot.ly",
        "plotlyServerURL": "https://plot.ly",
        "showLink": false
       },
       "data": [
        {
         "marker": {
          "color": "Green"
         },
         "mode": "markers+lines",
         "name": "Training accuracy",
         "text": [
          "1",
          "2",
          "3",
          "4",
          "5",
          "6",
          "7",
          "8",
          "9",
          "10",
          "11",
          "12"
         ],
         "type": "scatter",
         "uid": "da14d2ee-43be-4c79-af4e-8ee07cdb3ffa",
         "x": [
          1,
          2,
          3,
          4,
          5,
          6,
          7,
          8,
          9,
          10,
          11,
          12
         ],
         "xaxis": "x",
         "y": [
          0.6709583333333333,
          0.7782916666666667,
          0.8091666666666667,
          0.8392083333333333,
          0.8540833333333333,
          0.8658333333333333,
          0.8737916666666666,
          0.8819166666666667,
          0.8855416666666667,
          0.8912083333333334,
          0.8935625,
          0.9063125
         ],
         "yaxis": "y"
        },
        {
         "marker": {
          "color": "Red"
         },
         "mode": "markers+lines",
         "name": "Validation accuracy",
         "text": [
          "1",
          "2",
          "3",
          "4",
          "5",
          "6",
          "7",
          "8",
          "9",
          "10",
          "11",
          "12"
         ],
         "type": "scatter",
         "uid": "270614f6-d44f-4703-a755-0bf170272859",
         "x": [
          1,
          2,
          3,
          4,
          5,
          6,
          7,
          8,
          9,
          10,
          11,
          12
         ],
         "xaxis": "x",
         "y": [
          0.82825,
          0.82375,
          0.7488333333333334,
          0.7546666666666667,
          0.7165,
          0.7195,
          0.7503333333333333,
          0.6916666666666667,
          0.6415833333333333,
          0.7554166666666666,
          0.6635833333333333,
          0.7155833333333333
         ],
         "yaxis": "y"
        },
        {
         "marker": {
          "color": "Blue"
         },
         "mode": "markers+lines",
         "name": "Training loss",
         "text": [
          "1",
          "2",
          "3",
          "4",
          "5",
          "6",
          "7",
          "8",
          "9",
          "10",
          "11",
          "12"
         ],
         "type": "scatter",
         "uid": "11812222-f457-45ca-aee3-2f38cc003246",
         "x": [
          1,
          2,
          3,
          4,
          5,
          6,
          7,
          8,
          9,
          10,
          11,
          12
         ],
         "xaxis": "x2",
         "y": [
          0.9748067384560903,
          0.5879247024059295,
          0.5043134274482727,
          0.4383138724168142,
          0.39503233484427136,
          0.3679847200512886,
          0.3490944339434306,
          0.32775165181358656,
          0.311861920684576,
          0.29896950847903886,
          0.28385096180438996,
          0.2511841289103031
         ],
         "yaxis": "y2"
        },
        {
         "marker": {
          "color": "Magenta"
         },
         "mode": "markers+lines",
         "name": "Validation loss",
         "text": [
          "1",
          "2",
          "3",
          "4",
          "5",
          "6",
          "7",
          "8",
          "9",
          "10",
          "11",
          "12"
         ],
         "type": "scatter",
         "uid": "9f553dad-125e-4447-b004-89087338f018",
         "x": [
          1,
          2,
          3,
          4,
          5,
          6,
          7,
          8,
          9,
          10,
          11,
          12
         ],
         "xaxis": "x2",
         "y": [
          0.48180044221878054,
          0.46585645627975464,
          0.6457543107668559,
          0.6666515517234802,
          0.7609620954195658,
          0.6950614542961121,
          0.6201719334920247,
          0.8714020530382792,
          1.355045271873474,
          0.800176952679952,
          1.2298982694943745,
          1.0346751608848572
         ],
         "yaxis": "y2"
        }
       ],
       "layout": {
        "annotations": [
         {
          "font": {
           "size": 16
          },
          "showarrow": false,
          "text": "Training and validation accuracy",
          "x": 0.225,
          "xanchor": "center",
          "xref": "paper",
          "y": 1,
          "yanchor": "bottom",
          "yref": "paper"
         },
         {
          "font": {
           "size": 16
          },
          "showarrow": false,
          "text": "Training and validation loss",
          "x": 0.775,
          "xanchor": "center",
          "xref": "paper",
          "y": 1,
          "yanchor": "bottom",
          "yref": "paper"
         }
        ],
        "xaxis": {
         "anchor": "y",
         "domain": [
          0,
          0.45
         ],
         "title": {
          "text": "Epoch"
         }
        },
        "xaxis2": {
         "anchor": "y2",
         "domain": [
          0.55,
          1
         ],
         "title": {
          "text": "Epoch"
         }
        },
        "yaxis": {
         "anchor": "x",
         "domain": [
          0,
          1
         ],
         "range": [
          0,
          1
         ],
         "title": {
          "text": "Accuracy"
         }
        },
        "yaxis2": {
         "anchor": "x2",
         "domain": [
          0,
          1
         ],
         "range": [
          0,
          1
         ],
         "title": {
          "text": "Loss"
         }
        }
       }
      },
      "text/html": [
       "<div id=\"9215bbd4-5fa4-417b-9875-d533f6be6a04\" style=\"height: 525px; width: 100%;\" class=\"plotly-graph-div\"></div><script type=\"text/javascript\">require([\"plotly\"], function(Plotly) { window.PLOTLYENV=window.PLOTLYENV || {};window.PLOTLYENV.BASE_URL=\"https://plot.ly\";Plotly.newPlot(\"9215bbd4-5fa4-417b-9875-d533f6be6a04\", [{\"marker\": {\"color\": \"Green\"}, \"mode\": \"markers+lines\", \"name\": \"Training accuracy\", \"text\": [\"1\", \"2\", \"3\", \"4\", \"5\", \"6\", \"7\", \"8\", \"9\", \"10\", \"11\", \"12\"], \"uid\": \"da14d2ee-43be-4c79-af4e-8ee07cdb3ffa\", \"x\": [1, 2, 3, 4, 5, 6, 7, 8, 9, 10, 11, 12], \"xaxis\": \"x\", \"y\": [0.6709583333333333, 0.7782916666666667, 0.8091666666666667, 0.8392083333333333, 0.8540833333333333, 0.8658333333333333, 0.8737916666666666, 0.8819166666666667, 0.8855416666666667, 0.8912083333333334, 0.8935625, 0.9063125], \"yaxis\": \"y\", \"type\": \"scatter\"}, {\"marker\": {\"color\": \"Red\"}, \"mode\": \"markers+lines\", \"name\": \"Validation accuracy\", \"text\": [\"1\", \"2\", \"3\", \"4\", \"5\", \"6\", \"7\", \"8\", \"9\", \"10\", \"11\", \"12\"], \"uid\": \"270614f6-d44f-4703-a755-0bf170272859\", \"x\": [1, 2, 3, 4, 5, 6, 7, 8, 9, 10, 11, 12], \"xaxis\": \"x\", \"y\": [0.82825, 0.82375, 0.7488333333333334, 0.7546666666666667, 0.7165, 0.7195, 0.7503333333333333, 0.6916666666666667, 0.6415833333333333, 0.7554166666666666, 0.6635833333333333, 0.7155833333333333], \"yaxis\": \"y\", \"type\": \"scatter\"}, {\"marker\": {\"color\": \"Blue\"}, \"mode\": \"markers+lines\", \"name\": \"Training loss\", \"text\": [\"1\", \"2\", \"3\", \"4\", \"5\", \"6\", \"7\", \"8\", \"9\", \"10\", \"11\", \"12\"], \"uid\": \"11812222-f457-45ca-aee3-2f38cc003246\", \"x\": [1, 2, 3, 4, 5, 6, 7, 8, 9, 10, 11, 12], \"xaxis\": \"x2\", \"y\": [0.9748067384560903, 0.5879247024059295, 0.5043134274482727, 0.4383138724168142, 0.39503233484427136, 0.3679847200512886, 0.3490944339434306, 0.32775165181358656, 0.311861920684576, 0.29896950847903886, 0.28385096180438996, 0.2511841289103031], \"yaxis\": \"y2\", \"type\": \"scatter\"}, {\"marker\": {\"color\": \"Magenta\"}, \"mode\": \"markers+lines\", \"name\": \"Validation loss\", \"text\": [\"1\", \"2\", \"3\", \"4\", \"5\", \"6\", \"7\", \"8\", \"9\", \"10\", \"11\", \"12\"], \"uid\": \"9f553dad-125e-4447-b004-89087338f018\", \"x\": [1, 2, 3, 4, 5, 6, 7, 8, 9, 10, 11, 12], \"xaxis\": \"x2\", \"y\": [0.48180044221878054, 0.46585645627975464, 0.6457543107668559, 0.6666515517234802, 0.7609620954195658, 0.6950614542961121, 0.6201719334920247, 0.8714020530382792, 1.355045271873474, 0.800176952679952, 1.2298982694943745, 1.0346751608848572], \"yaxis\": \"y2\", \"type\": \"scatter\"}], {\"annotations\": [{\"font\": {\"size\": 16}, \"showarrow\": false, \"text\": \"Training and validation accuracy\", \"x\": 0.225, \"xanchor\": \"center\", \"xref\": \"paper\", \"y\": 1.0, \"yanchor\": \"bottom\", \"yref\": \"paper\"}, {\"font\": {\"size\": 16}, \"showarrow\": false, \"text\": \"Training and validation loss\", \"x\": 0.775, \"xanchor\": \"center\", \"xref\": \"paper\", \"y\": 1.0, \"yanchor\": \"bottom\", \"yref\": \"paper\"}], \"xaxis\": {\"anchor\": \"y\", \"domain\": [0.0, 0.45], \"title\": {\"text\": \"Epoch\"}}, \"yaxis\": {\"anchor\": \"x\", \"domain\": [0.0, 1.0], \"range\": [0, 1], \"title\": {\"text\": \"Accuracy\"}}, \"xaxis2\": {\"anchor\": \"y2\", \"domain\": [0.55, 1.0], \"title\": {\"text\": \"Epoch\"}}, \"yaxis2\": {\"anchor\": \"x2\", \"domain\": [0.0, 1.0], \"range\": [0, 1], \"title\": {\"text\": \"Loss\"}}}, {\"showLink\": false, \"linkText\": \"Export to plot.ly\", \"plotlyServerURL\": \"https://plot.ly\"})});</script><script type=\"text/javascript\">window.addEventListener(\"resize\", function(){window._Plotly.Plots.resize(document.getElementById(\"9215bbd4-5fa4-417b-9875-d533f6be6a04\"));});</script>"
      ],
      "text/vnd.plotly.v1+html": [
       "<div id=\"9215bbd4-5fa4-417b-9875-d533f6be6a04\" style=\"height: 525px; width: 100%;\" class=\"plotly-graph-div\"></div><script type=\"text/javascript\">require([\"plotly\"], function(Plotly) { window.PLOTLYENV=window.PLOTLYENV || {};window.PLOTLYENV.BASE_URL=\"https://plot.ly\";Plotly.newPlot(\"9215bbd4-5fa4-417b-9875-d533f6be6a04\", [{\"marker\": {\"color\": \"Green\"}, \"mode\": \"markers+lines\", \"name\": \"Training accuracy\", \"text\": [\"1\", \"2\", \"3\", \"4\", \"5\", \"6\", \"7\", \"8\", \"9\", \"10\", \"11\", \"12\"], \"uid\": \"da14d2ee-43be-4c79-af4e-8ee07cdb3ffa\", \"x\": [1, 2, 3, 4, 5, 6, 7, 8, 9, 10, 11, 12], \"xaxis\": \"x\", \"y\": [0.6709583333333333, 0.7782916666666667, 0.8091666666666667, 0.8392083333333333, 0.8540833333333333, 0.8658333333333333, 0.8737916666666666, 0.8819166666666667, 0.8855416666666667, 0.8912083333333334, 0.8935625, 0.9063125], \"yaxis\": \"y\", \"type\": \"scatter\"}, {\"marker\": {\"color\": \"Red\"}, \"mode\": \"markers+lines\", \"name\": \"Validation accuracy\", \"text\": [\"1\", \"2\", \"3\", \"4\", \"5\", \"6\", \"7\", \"8\", \"9\", \"10\", \"11\", \"12\"], \"uid\": \"270614f6-d44f-4703-a755-0bf170272859\", \"x\": [1, 2, 3, 4, 5, 6, 7, 8, 9, 10, 11, 12], \"xaxis\": \"x\", \"y\": [0.82825, 0.82375, 0.7488333333333334, 0.7546666666666667, 0.7165, 0.7195, 0.7503333333333333, 0.6916666666666667, 0.6415833333333333, 0.7554166666666666, 0.6635833333333333, 0.7155833333333333], \"yaxis\": \"y\", \"type\": \"scatter\"}, {\"marker\": {\"color\": \"Blue\"}, \"mode\": \"markers+lines\", \"name\": \"Training loss\", \"text\": [\"1\", \"2\", \"3\", \"4\", \"5\", \"6\", \"7\", \"8\", \"9\", \"10\", \"11\", \"12\"], \"uid\": \"11812222-f457-45ca-aee3-2f38cc003246\", \"x\": [1, 2, 3, 4, 5, 6, 7, 8, 9, 10, 11, 12], \"xaxis\": \"x2\", \"y\": [0.9748067384560903, 0.5879247024059295, 0.5043134274482727, 0.4383138724168142, 0.39503233484427136, 0.3679847200512886, 0.3490944339434306, 0.32775165181358656, 0.311861920684576, 0.29896950847903886, 0.28385096180438996, 0.2511841289103031], \"yaxis\": \"y2\", \"type\": \"scatter\"}, {\"marker\": {\"color\": \"Magenta\"}, \"mode\": \"markers+lines\", \"name\": \"Validation loss\", \"text\": [\"1\", \"2\", \"3\", \"4\", \"5\", \"6\", \"7\", \"8\", \"9\", \"10\", \"11\", \"12\"], \"uid\": \"9f553dad-125e-4447-b004-89087338f018\", \"x\": [1, 2, 3, 4, 5, 6, 7, 8, 9, 10, 11, 12], \"xaxis\": \"x2\", \"y\": [0.48180044221878054, 0.46585645627975464, 0.6457543107668559, 0.6666515517234802, 0.7609620954195658, 0.6950614542961121, 0.6201719334920247, 0.8714020530382792, 1.355045271873474, 0.800176952679952, 1.2298982694943745, 1.0346751608848572], \"yaxis\": \"y2\", \"type\": \"scatter\"}], {\"annotations\": [{\"font\": {\"size\": 16}, \"showarrow\": false, \"text\": \"Training and validation accuracy\", \"x\": 0.225, \"xanchor\": \"center\", \"xref\": \"paper\", \"y\": 1.0, \"yanchor\": \"bottom\", \"yref\": \"paper\"}, {\"font\": {\"size\": 16}, \"showarrow\": false, \"text\": \"Training and validation loss\", \"x\": 0.775, \"xanchor\": \"center\", \"xref\": \"paper\", \"y\": 1.0, \"yanchor\": \"bottom\", \"yref\": \"paper\"}], \"xaxis\": {\"anchor\": \"y\", \"domain\": [0.0, 0.45], \"title\": {\"text\": \"Epoch\"}}, \"yaxis\": {\"anchor\": \"x\", \"domain\": [0.0, 1.0], \"range\": [0, 1], \"title\": {\"text\": \"Accuracy\"}}, \"xaxis2\": {\"anchor\": \"y2\", \"domain\": [0.55, 1.0], \"title\": {\"text\": \"Epoch\"}}, \"yaxis2\": {\"anchor\": \"x2\", \"domain\": [0.0, 1.0], \"range\": [0, 1], \"title\": {\"text\": \"Loss\"}}}, {\"showLink\": false, \"linkText\": \"Export to plot.ly\", \"plotlyServerURL\": \"https://plot.ly\"})});</script><script type=\"text/javascript\">window.addEventListener(\"resize\", function(){window._Plotly.Plots.resize(document.getElementById(\"9215bbd4-5fa4-417b-9875-d533f6be6a04\"));});</script>"
      ]
     },
     "metadata": {},
     "output_type": "display_data"
    },
    {
     "name": "stdout",
     "output_type": "stream",
     "text": [
      "simpleResnet_hist\n",
      "This is the format of your plot grid:\n",
      "[ (1,1) x1,y1 ]  [ (1,2) x2,y2 ]\n",
      "\n"
     ]
    },
    {
     "data": {
      "application/vnd.plotly.v1+json": {
       "config": {
        "linkText": "Export to plot.ly",
        "plotlyServerURL": "https://plot.ly",
        "showLink": false
       },
       "data": [
        {
         "marker": {
          "color": "Green"
         },
         "mode": "markers+lines",
         "name": "Training accuracy",
         "text": [
          "1",
          "2",
          "3",
          "4",
          "5",
          "6",
          "7",
          "8",
          "9",
          "10",
          "11",
          "12",
          "13",
          "14",
          "15",
          "16",
          "17",
          "18",
          "19",
          "20"
         ],
         "type": "scatter",
         "uid": "ddd1614b-5334-4d0a-8a7a-9f8cebc35fa1",
         "x": [
          1,
          2,
          3,
          4,
          5,
          6,
          7,
          8,
          9,
          10,
          11,
          12,
          13,
          14,
          15,
          16,
          17,
          18,
          19,
          20
         ],
         "xaxis": "x",
         "y": [
          0.4931041666666667,
          0.5664791666666666,
          0.6232708333333333,
          0.6661875,
          0.6939166666666666,
          0.7369583333333334,
          0.77,
          0.791375,
          0.8044375,
          0.8245833333333333,
          0.8425,
          0.8520625,
          0.8618333333333333,
          0.8701875,
          0.8865416666666667,
          0.8983958333333333,
          0.906625,
          0.913125,
          0.9216041666666667,
          0.9291875
         ],
         "yaxis": "y"
        },
        {
         "marker": {
          "color": "Red"
         },
         "mode": "markers+lines",
         "name": "Validation accuracy",
         "text": [
          "1",
          "2",
          "3",
          "4",
          "5",
          "6",
          "7",
          "8",
          "9",
          "10",
          "11",
          "12",
          "13",
          "14",
          "15",
          "16",
          "17",
          "18",
          "19",
          "20"
         ],
         "type": "scatter",
         "uid": "5038b62a-526d-4d69-a4d4-f54598340f06",
         "x": [
          1,
          2,
          3,
          4,
          5,
          6,
          7,
          8,
          9,
          10,
          11,
          12,
          13,
          14,
          15,
          16,
          17,
          18,
          19,
          20
         ],
         "xaxis": "x",
         "y": [
          0.6541666666666667,
          0.7345,
          0.7749166666666667,
          0.8326666666666667,
          0.8526666666666667,
          0.8676666666666667,
          0.8795833333333334,
          0.8905,
          0.8945833333333333,
          0.8925,
          0.8946666666666667,
          0.90375,
          0.9019166666666667,
          0.9066666666666666,
          0.9111666666666667,
          0.91025,
          0.912,
          0.9115,
          0.9138333333333334,
          0.9156666666666666
         ],
         "yaxis": "y"
        },
        {
         "marker": {
          "color": "Blue"
         },
         "mode": "markers+lines",
         "name": "Training loss",
         "text": [
          "1",
          "2",
          "3",
          "4",
          "5",
          "6",
          "7",
          "8",
          "9",
          "10",
          "11",
          "12",
          "13",
          "14",
          "15",
          "16",
          "17",
          "18",
          "19",
          "20"
         ],
         "type": "scatter",
         "uid": "54b28f48-1df2-4dc2-ba9a-85d91e9744b2",
         "x": [
          1,
          2,
          3,
          4,
          5,
          6,
          7,
          8,
          9,
          10,
          11,
          12,
          13,
          14,
          15,
          16,
          17,
          18,
          19,
          20
         ],
         "xaxis": "x2",
         "y": [
          1.6793726375897726,
          1.0851500147183737,
          0.9403576134045919,
          0.8336581918795903,
          0.7558994081815084,
          0.6751352377732595,
          0.6014044567743937,
          0.5397258708079656,
          0.5077570398449898,
          0.47356562439600625,
          0.4299441241621971,
          0.3958120364348094,
          0.37251860892772676,
          0.3480399089852969,
          0.31121721067031227,
          0.2787496524453163,
          0.25745389421780907,
          0.23867985993623733,
          0.21531875397264957,
          0.19253311143815519
         ],
         "yaxis": "y2"
        },
        {
         "marker": {
          "color": "Magenta"
         },
         "mode": "markers+lines",
         "name": "Validation loss",
         "text": [
          "1",
          "2",
          "3",
          "4",
          "5",
          "6",
          "7",
          "8",
          "9",
          "10",
          "11",
          "12",
          "13",
          "14",
          "15",
          "16",
          "17",
          "18",
          "19",
          "20"
         ],
         "type": "scatter",
         "uid": "a6507f07-4212-45cc-842c-c3003a9975a4",
         "x": [
          1,
          2,
          3,
          4,
          5,
          6,
          7,
          8,
          9,
          10,
          11,
          12,
          13,
          14,
          15,
          16,
          17,
          18,
          19,
          20
         ],
         "xaxis": "x2",
         "y": [
          0.871699034690857,
          0.679801105817159,
          0.5993482445081075,
          0.524978793144226,
          0.4485766566594442,
          0.39277323460578917,
          0.3670538911819458,
          0.33210097201665245,
          0.3247474991083145,
          0.3125438341697057,
          0.31004363413651786,
          0.28878824655214946,
          0.2886797440846761,
          0.27220391444365183,
          0.26801455386479694,
          0.27826104666789375,
          0.27314486845334374,
          0.2753937554359436,
          0.27237294443448384,
          0.2694466489156087
         ],
         "yaxis": "y2"
        }
       ],
       "layout": {
        "annotations": [
         {
          "font": {
           "size": 16
          },
          "showarrow": false,
          "text": "Training and validation accuracy",
          "x": 0.225,
          "xanchor": "center",
          "xref": "paper",
          "y": 1,
          "yanchor": "bottom",
          "yref": "paper"
         },
         {
          "font": {
           "size": 16
          },
          "showarrow": false,
          "text": "Training and validation loss",
          "x": 0.775,
          "xanchor": "center",
          "xref": "paper",
          "y": 1,
          "yanchor": "bottom",
          "yref": "paper"
         }
        ],
        "xaxis": {
         "anchor": "y",
         "domain": [
          0,
          0.45
         ],
         "title": {
          "text": "Epoch"
         }
        },
        "xaxis2": {
         "anchor": "y2",
         "domain": [
          0.55,
          1
         ],
         "title": {
          "text": "Epoch"
         }
        },
        "yaxis": {
         "anchor": "x",
         "domain": [
          0,
          1
         ],
         "range": [
          0,
          1
         ],
         "title": {
          "text": "Accuracy"
         }
        },
        "yaxis2": {
         "anchor": "x2",
         "domain": [
          0,
          1
         ],
         "range": [
          0,
          1
         ],
         "title": {
          "text": "Loss"
         }
        }
       }
      },
      "text/html": [
       "<div id=\"306d5ca8-a899-4005-b2ec-edd3fb52f028\" style=\"height: 525px; width: 100%;\" class=\"plotly-graph-div\"></div><script type=\"text/javascript\">require([\"plotly\"], function(Plotly) { window.PLOTLYENV=window.PLOTLYENV || {};window.PLOTLYENV.BASE_URL=\"https://plot.ly\";Plotly.newPlot(\"306d5ca8-a899-4005-b2ec-edd3fb52f028\", [{\"marker\": {\"color\": \"Green\"}, \"mode\": \"markers+lines\", \"name\": \"Training accuracy\", \"text\": [\"1\", \"2\", \"3\", \"4\", \"5\", \"6\", \"7\", \"8\", \"9\", \"10\", \"11\", \"12\", \"13\", \"14\", \"15\", \"16\", \"17\", \"18\", \"19\", \"20\"], \"uid\": \"ddd1614b-5334-4d0a-8a7a-9f8cebc35fa1\", \"x\": [1, 2, 3, 4, 5, 6, 7, 8, 9, 10, 11, 12, 13, 14, 15, 16, 17, 18, 19, 20], \"xaxis\": \"x\", \"y\": [0.4931041666666667, 0.5664791666666666, 0.6232708333333333, 0.6661875, 0.6939166666666666, 0.7369583333333334, 0.77, 0.791375, 0.8044375, 0.8245833333333333, 0.8425, 0.8520625, 0.8618333333333333, 0.8701875, 0.8865416666666667, 0.8983958333333333, 0.906625, 0.913125, 0.9216041666666667, 0.9291875], \"yaxis\": \"y\", \"type\": \"scatter\"}, {\"marker\": {\"color\": \"Red\"}, \"mode\": \"markers+lines\", \"name\": \"Validation accuracy\", \"text\": [\"1\", \"2\", \"3\", \"4\", \"5\", \"6\", \"7\", \"8\", \"9\", \"10\", \"11\", \"12\", \"13\", \"14\", \"15\", \"16\", \"17\", \"18\", \"19\", \"20\"], \"uid\": \"5038b62a-526d-4d69-a4d4-f54598340f06\", \"x\": [1, 2, 3, 4, 5, 6, 7, 8, 9, 10, 11, 12, 13, 14, 15, 16, 17, 18, 19, 20], \"xaxis\": \"x\", \"y\": [0.6541666666666667, 0.7345, 0.7749166666666667, 0.8326666666666667, 0.8526666666666667, 0.8676666666666667, 0.8795833333333334, 0.8905, 0.8945833333333333, 0.8925, 0.8946666666666667, 0.90375, 0.9019166666666667, 0.9066666666666666, 0.9111666666666667, 0.91025, 0.912, 0.9115, 0.9138333333333334, 0.9156666666666666], \"yaxis\": \"y\", \"type\": \"scatter\"}, {\"marker\": {\"color\": \"Blue\"}, \"mode\": \"markers+lines\", \"name\": \"Training loss\", \"text\": [\"1\", \"2\", \"3\", \"4\", \"5\", \"6\", \"7\", \"8\", \"9\", \"10\", \"11\", \"12\", \"13\", \"14\", \"15\", \"16\", \"17\", \"18\", \"19\", \"20\"], \"uid\": \"54b28f48-1df2-4dc2-ba9a-85d91e9744b2\", \"x\": [1, 2, 3, 4, 5, 6, 7, 8, 9, 10, 11, 12, 13, 14, 15, 16, 17, 18, 19, 20], \"xaxis\": \"x2\", \"y\": [1.6793726375897726, 1.0851500147183737, 0.9403576134045919, 0.8336581918795903, 0.7558994081815084, 0.6751352377732595, 0.6014044567743937, 0.5397258708079656, 0.5077570398449898, 0.47356562439600625, 0.4299441241621971, 0.3958120364348094, 0.37251860892772676, 0.3480399089852969, 0.31121721067031227, 0.2787496524453163, 0.25745389421780907, 0.23867985993623733, 0.21531875397264957, 0.19253311143815519], \"yaxis\": \"y2\", \"type\": \"scatter\"}, {\"marker\": {\"color\": \"Magenta\"}, \"mode\": \"markers+lines\", \"name\": \"Validation loss\", \"text\": [\"1\", \"2\", \"3\", \"4\", \"5\", \"6\", \"7\", \"8\", \"9\", \"10\", \"11\", \"12\", \"13\", \"14\", \"15\", \"16\", \"17\", \"18\", \"19\", \"20\"], \"uid\": \"a6507f07-4212-45cc-842c-c3003a9975a4\", \"x\": [1, 2, 3, 4, 5, 6, 7, 8, 9, 10, 11, 12, 13, 14, 15, 16, 17, 18, 19, 20], \"xaxis\": \"x2\", \"y\": [0.871699034690857, 0.679801105817159, 0.5993482445081075, 0.524978793144226, 0.4485766566594442, 0.39277323460578917, 0.3670538911819458, 0.33210097201665245, 0.3247474991083145, 0.3125438341697057, 0.31004363413651786, 0.28878824655214946, 0.2886797440846761, 0.27220391444365183, 0.26801455386479694, 0.27826104666789375, 0.27314486845334374, 0.2753937554359436, 0.27237294443448384, 0.2694466489156087], \"yaxis\": \"y2\", \"type\": \"scatter\"}], {\"annotations\": [{\"font\": {\"size\": 16}, \"showarrow\": false, \"text\": \"Training and validation accuracy\", \"x\": 0.225, \"xanchor\": \"center\", \"xref\": \"paper\", \"y\": 1.0, \"yanchor\": \"bottom\", \"yref\": \"paper\"}, {\"font\": {\"size\": 16}, \"showarrow\": false, \"text\": \"Training and validation loss\", \"x\": 0.775, \"xanchor\": \"center\", \"xref\": \"paper\", \"y\": 1.0, \"yanchor\": \"bottom\", \"yref\": \"paper\"}], \"xaxis\": {\"anchor\": \"y\", \"domain\": [0.0, 0.45], \"title\": {\"text\": \"Epoch\"}}, \"yaxis\": {\"anchor\": \"x\", \"domain\": [0.0, 1.0], \"range\": [0, 1], \"title\": {\"text\": \"Accuracy\"}}, \"xaxis2\": {\"anchor\": \"y2\", \"domain\": [0.55, 1.0], \"title\": {\"text\": \"Epoch\"}}, \"yaxis2\": {\"anchor\": \"x2\", \"domain\": [0.0, 1.0], \"range\": [0, 1], \"title\": {\"text\": \"Loss\"}}}, {\"showLink\": false, \"linkText\": \"Export to plot.ly\", \"plotlyServerURL\": \"https://plot.ly\"})});</script><script type=\"text/javascript\">window.addEventListener(\"resize\", function(){window._Plotly.Plots.resize(document.getElementById(\"306d5ca8-a899-4005-b2ec-edd3fb52f028\"));});</script>"
      ],
      "text/vnd.plotly.v1+html": [
       "<div id=\"306d5ca8-a899-4005-b2ec-edd3fb52f028\" style=\"height: 525px; width: 100%;\" class=\"plotly-graph-div\"></div><script type=\"text/javascript\">require([\"plotly\"], function(Plotly) { window.PLOTLYENV=window.PLOTLYENV || {};window.PLOTLYENV.BASE_URL=\"https://plot.ly\";Plotly.newPlot(\"306d5ca8-a899-4005-b2ec-edd3fb52f028\", [{\"marker\": {\"color\": \"Green\"}, \"mode\": \"markers+lines\", \"name\": \"Training accuracy\", \"text\": [\"1\", \"2\", \"3\", \"4\", \"5\", \"6\", \"7\", \"8\", \"9\", \"10\", \"11\", \"12\", \"13\", \"14\", \"15\", \"16\", \"17\", \"18\", \"19\", \"20\"], \"uid\": \"ddd1614b-5334-4d0a-8a7a-9f8cebc35fa1\", \"x\": [1, 2, 3, 4, 5, 6, 7, 8, 9, 10, 11, 12, 13, 14, 15, 16, 17, 18, 19, 20], \"xaxis\": \"x\", \"y\": [0.4931041666666667, 0.5664791666666666, 0.6232708333333333, 0.6661875, 0.6939166666666666, 0.7369583333333334, 0.77, 0.791375, 0.8044375, 0.8245833333333333, 0.8425, 0.8520625, 0.8618333333333333, 0.8701875, 0.8865416666666667, 0.8983958333333333, 0.906625, 0.913125, 0.9216041666666667, 0.9291875], \"yaxis\": \"y\", \"type\": \"scatter\"}, {\"marker\": {\"color\": \"Red\"}, \"mode\": \"markers+lines\", \"name\": \"Validation accuracy\", \"text\": [\"1\", \"2\", \"3\", \"4\", \"5\", \"6\", \"7\", \"8\", \"9\", \"10\", \"11\", \"12\", \"13\", \"14\", \"15\", \"16\", \"17\", \"18\", \"19\", \"20\"], \"uid\": \"5038b62a-526d-4d69-a4d4-f54598340f06\", \"x\": [1, 2, 3, 4, 5, 6, 7, 8, 9, 10, 11, 12, 13, 14, 15, 16, 17, 18, 19, 20], \"xaxis\": \"x\", \"y\": [0.6541666666666667, 0.7345, 0.7749166666666667, 0.8326666666666667, 0.8526666666666667, 0.8676666666666667, 0.8795833333333334, 0.8905, 0.8945833333333333, 0.8925, 0.8946666666666667, 0.90375, 0.9019166666666667, 0.9066666666666666, 0.9111666666666667, 0.91025, 0.912, 0.9115, 0.9138333333333334, 0.9156666666666666], \"yaxis\": \"y\", \"type\": \"scatter\"}, {\"marker\": {\"color\": \"Blue\"}, \"mode\": \"markers+lines\", \"name\": \"Training loss\", \"text\": [\"1\", \"2\", \"3\", \"4\", \"5\", \"6\", \"7\", \"8\", \"9\", \"10\", \"11\", \"12\", \"13\", \"14\", \"15\", \"16\", \"17\", \"18\", \"19\", \"20\"], \"uid\": \"54b28f48-1df2-4dc2-ba9a-85d91e9744b2\", \"x\": [1, 2, 3, 4, 5, 6, 7, 8, 9, 10, 11, 12, 13, 14, 15, 16, 17, 18, 19, 20], \"xaxis\": \"x2\", \"y\": [1.6793726375897726, 1.0851500147183737, 0.9403576134045919, 0.8336581918795903, 0.7558994081815084, 0.6751352377732595, 0.6014044567743937, 0.5397258708079656, 0.5077570398449898, 0.47356562439600625, 0.4299441241621971, 0.3958120364348094, 0.37251860892772676, 0.3480399089852969, 0.31121721067031227, 0.2787496524453163, 0.25745389421780907, 0.23867985993623733, 0.21531875397264957, 0.19253311143815519], \"yaxis\": \"y2\", \"type\": \"scatter\"}, {\"marker\": {\"color\": \"Magenta\"}, \"mode\": \"markers+lines\", \"name\": \"Validation loss\", \"text\": [\"1\", \"2\", \"3\", \"4\", \"5\", \"6\", \"7\", \"8\", \"9\", \"10\", \"11\", \"12\", \"13\", \"14\", \"15\", \"16\", \"17\", \"18\", \"19\", \"20\"], \"uid\": \"a6507f07-4212-45cc-842c-c3003a9975a4\", \"x\": [1, 2, 3, 4, 5, 6, 7, 8, 9, 10, 11, 12, 13, 14, 15, 16, 17, 18, 19, 20], \"xaxis\": \"x2\", \"y\": [0.871699034690857, 0.679801105817159, 0.5993482445081075, 0.524978793144226, 0.4485766566594442, 0.39277323460578917, 0.3670538911819458, 0.33210097201665245, 0.3247474991083145, 0.3125438341697057, 0.31004363413651786, 0.28878824655214946, 0.2886797440846761, 0.27220391444365183, 0.26801455386479694, 0.27826104666789375, 0.27314486845334374, 0.2753937554359436, 0.27237294443448384, 0.2694466489156087], \"yaxis\": \"y2\", \"type\": \"scatter\"}], {\"annotations\": [{\"font\": {\"size\": 16}, \"showarrow\": false, \"text\": \"Training and validation accuracy\", \"x\": 0.225, \"xanchor\": \"center\", \"xref\": \"paper\", \"y\": 1.0, \"yanchor\": \"bottom\", \"yref\": \"paper\"}, {\"font\": {\"size\": 16}, \"showarrow\": false, \"text\": \"Training and validation loss\", \"x\": 0.775, \"xanchor\": \"center\", \"xref\": \"paper\", \"y\": 1.0, \"yanchor\": \"bottom\", \"yref\": \"paper\"}], \"xaxis\": {\"anchor\": \"y\", \"domain\": [0.0, 0.45], \"title\": {\"text\": \"Epoch\"}}, \"yaxis\": {\"anchor\": \"x\", \"domain\": [0.0, 1.0], \"range\": [0, 1], \"title\": {\"text\": \"Accuracy\"}}, \"xaxis2\": {\"anchor\": \"y2\", \"domain\": [0.55, 1.0], \"title\": {\"text\": \"Epoch\"}}, \"yaxis2\": {\"anchor\": \"x2\", \"domain\": [0.0, 1.0], \"range\": [0, 1], \"title\": {\"text\": \"Loss\"}}}, {\"showLink\": false, \"linkText\": \"Export to plot.ly\", \"plotlyServerURL\": \"https://plot.ly\"})});</script><script type=\"text/javascript\">window.addEventListener(\"resize\", function(){window._Plotly.Plots.resize(document.getElementById(\"306d5ca8-a899-4005-b2ec-edd3fb52f028\"));});</script>"
      ]
     },
     "metadata": {},
     "output_type": "display_data"
    },
    {
     "name": "stdout",
     "output_type": "stream",
     "text": [
      "simpleVGG_hist\n",
      "This is the format of your plot grid:\n",
      "[ (1,1) x1,y1 ]  [ (1,2) x2,y2 ]\n",
      "\n"
     ]
    },
    {
     "data": {
      "application/vnd.plotly.v1+json": {
       "config": {
        "linkText": "Export to plot.ly",
        "plotlyServerURL": "https://plot.ly",
        "showLink": false
       },
       "data": [
        {
         "marker": {
          "color": "Green"
         },
         "mode": "markers+lines",
         "name": "Training accuracy",
         "text": [
          "1",
          "2",
          "3",
          "4",
          "5",
          "6",
          "7",
          "8",
          "9",
          "10",
          "11",
          "12",
          "13",
          "14",
          "15",
          "16",
          "17",
          "18",
          "19",
          "20"
         ],
         "type": "scatter",
         "uid": "e5cd0b17-b494-4ca8-9e6c-bc53cae5ed97",
         "x": [
          1,
          2,
          3,
          4,
          5,
          6,
          7,
          8,
          9,
          10,
          11,
          12,
          13,
          14,
          15,
          16,
          17,
          18,
          19,
          20
         ],
         "xaxis": "x",
         "y": [
          0.8109583333333333,
          0.8761458333333333,
          0.8943541666666667,
          0.9010416666666666,
          0.9111458333333333,
          0.9135,
          0.9195208333333333,
          0.9206458333333334,
          0.9262916666666666,
          0.9307708333333333,
          0.9317916666666667,
          0.9364166666666667,
          0.9388333333333333,
          0.9404375,
          0.9429583333333333,
          0.945125,
          0.9475625,
          0.9486041666666667,
          0.9513333333333334,
          0.9534791666666667
         ],
         "yaxis": "y"
        },
        {
         "marker": {
          "color": "Red"
         },
         "mode": "markers+lines",
         "name": "Validation accuracy",
         "text": [
          "1",
          "2",
          "3",
          "4",
          "5",
          "6",
          "7",
          "8",
          "9",
          "10",
          "11",
          "12",
          "13",
          "14",
          "15",
          "16",
          "17",
          "18",
          "19",
          "20"
         ],
         "type": "scatter",
         "uid": "346da57b-7149-4f8a-8069-02f3827a38a7",
         "x": [
          1,
          2,
          3,
          4,
          5,
          6,
          7,
          8,
          9,
          10,
          11,
          12,
          13,
          14,
          15,
          16,
          17,
          18,
          19,
          20
         ],
         "xaxis": "x",
         "y": [
          0.8779166666666667,
          0.8826666666666667,
          0.9018333333333334,
          0.9124166666666667,
          0.9123333333333333,
          0.9099166666666667,
          0.9146666666666666,
          0.9214166666666667,
          0.9203333333333333,
          0.9261666666666667,
          0.92675,
          0.9250833333333334,
          0.91375,
          0.9321666666666667,
          0.93375,
          0.9301666666666667,
          0.93175,
          0.93375,
          0.9335833333333333,
          0.93
         ],
         "yaxis": "y"
        },
        {
         "marker": {
          "color": "Blue"
         },
         "mode": "markers+lines",
         "name": "Training loss",
         "text": [
          "1",
          "2",
          "3",
          "4",
          "5",
          "6",
          "7",
          "8",
          "9",
          "10",
          "11",
          "12",
          "13",
          "14",
          "15",
          "16",
          "17",
          "18",
          "19",
          "20"
         ],
         "type": "scatter",
         "uid": "5686b8d5-08fc-4ac2-8dc2-4ce7ff48c35c",
         "x": [
          1,
          2,
          3,
          4,
          5,
          6,
          7,
          8,
          9,
          10,
          11,
          12,
          13,
          14,
          15,
          16,
          17,
          18,
          19,
          20
         ],
         "xaxis": "x2",
         "y": [
          0.5260283831954002,
          0.34144071368376416,
          0.2901802031199137,
          0.269644711886843,
          0.24563711096843083,
          0.2366698480049769,
          0.220411801636219,
          0.21216707979142665,
          0.19938290597001712,
          0.1890722430497408,
          0.18352113936593134,
          0.1731632017791271,
          0.16679176491995654,
          0.157794201515615,
          0.1526921381726861,
          0.14778344164043664,
          0.14090590313573678,
          0.1365604666545987,
          0.12753418051699797,
          0.1258761168345809
         ],
         "yaxis": "y2"
        },
        {
         "marker": {
          "color": "Magenta"
         },
         "mode": "markers+lines",
         "name": "Validation loss",
         "text": [
          "1",
          "2",
          "3",
          "4",
          "5",
          "6",
          "7",
          "8",
          "9",
          "10",
          "11",
          "12",
          "13",
          "14",
          "15",
          "16",
          "17",
          "18",
          "19",
          "20"
         ],
         "type": "scatter",
         "uid": "36ade981-53d5-43d0-878e-1cfe56706215",
         "x": [
          1,
          2,
          3,
          4,
          5,
          6,
          7,
          8,
          9,
          10,
          11,
          12,
          13,
          14,
          15,
          16,
          17,
          18,
          19,
          20
         ],
         "xaxis": "x2",
         "y": [
          0.33119922955830894,
          0.3016698224544525,
          0.26936235690116883,
          0.2398488254149755,
          0.2330755974650383,
          0.24837820041179656,
          0.235488256752491,
          0.21305170003573098,
          0.2175548757314682,
          0.20887936524550121,
          0.20668032602469127,
          0.2139701610803604,
          0.23237062654892604,
          0.20344167598088583,
          0.19544285092751185,
          0.20340415819485982,
          0.19590051553646723,
          0.1972203096151352,
          0.21700184653202692,
          0.20980740278959276
         ],
         "yaxis": "y2"
        }
       ],
       "layout": {
        "annotations": [
         {
          "font": {
           "size": 16
          },
          "showarrow": false,
          "text": "Training and validation accuracy",
          "x": 0.225,
          "xanchor": "center",
          "xref": "paper",
          "y": 1,
          "yanchor": "bottom",
          "yref": "paper"
         },
         {
          "font": {
           "size": 16
          },
          "showarrow": false,
          "text": "Training and validation loss",
          "x": 0.775,
          "xanchor": "center",
          "xref": "paper",
          "y": 1,
          "yanchor": "bottom",
          "yref": "paper"
         }
        ],
        "xaxis": {
         "anchor": "y",
         "domain": [
          0,
          0.45
         ],
         "title": {
          "text": "Epoch"
         }
        },
        "xaxis2": {
         "anchor": "y2",
         "domain": [
          0.55,
          1
         ],
         "title": {
          "text": "Epoch"
         }
        },
        "yaxis": {
         "anchor": "x",
         "domain": [
          0,
          1
         ],
         "range": [
          0,
          1
         ],
         "title": {
          "text": "Accuracy"
         }
        },
        "yaxis2": {
         "anchor": "x2",
         "domain": [
          0,
          1
         ],
         "range": [
          0,
          1
         ],
         "title": {
          "text": "Loss"
         }
        }
       }
      },
      "text/html": [
       "<div id=\"76b7f89f-f090-4fdf-b407-0ac1b9bbc3c7\" style=\"height: 525px; width: 100%;\" class=\"plotly-graph-div\"></div><script type=\"text/javascript\">require([\"plotly\"], function(Plotly) { window.PLOTLYENV=window.PLOTLYENV || {};window.PLOTLYENV.BASE_URL=\"https://plot.ly\";Plotly.newPlot(\"76b7f89f-f090-4fdf-b407-0ac1b9bbc3c7\", [{\"marker\": {\"color\": \"Green\"}, \"mode\": \"markers+lines\", \"name\": \"Training accuracy\", \"text\": [\"1\", \"2\", \"3\", \"4\", \"5\", \"6\", \"7\", \"8\", \"9\", \"10\", \"11\", \"12\", \"13\", \"14\", \"15\", \"16\", \"17\", \"18\", \"19\", \"20\"], \"uid\": \"e5cd0b17-b494-4ca8-9e6c-bc53cae5ed97\", \"x\": [1, 2, 3, 4, 5, 6, 7, 8, 9, 10, 11, 12, 13, 14, 15, 16, 17, 18, 19, 20], \"xaxis\": \"x\", \"y\": [0.8109583333333333, 0.8761458333333333, 0.8943541666666667, 0.9010416666666666, 0.9111458333333333, 0.9135, 0.9195208333333333, 0.9206458333333334, 0.9262916666666666, 0.9307708333333333, 0.9317916666666667, 0.9364166666666667, 0.9388333333333333, 0.9404375, 0.9429583333333333, 0.945125, 0.9475625, 0.9486041666666667, 0.9513333333333334, 0.9534791666666667], \"yaxis\": \"y\", \"type\": \"scatter\"}, {\"marker\": {\"color\": \"Red\"}, \"mode\": \"markers+lines\", \"name\": \"Validation accuracy\", \"text\": [\"1\", \"2\", \"3\", \"4\", \"5\", \"6\", \"7\", \"8\", \"9\", \"10\", \"11\", \"12\", \"13\", \"14\", \"15\", \"16\", \"17\", \"18\", \"19\", \"20\"], \"uid\": \"346da57b-7149-4f8a-8069-02f3827a38a7\", \"x\": [1, 2, 3, 4, 5, 6, 7, 8, 9, 10, 11, 12, 13, 14, 15, 16, 17, 18, 19, 20], \"xaxis\": \"x\", \"y\": [0.8779166666666667, 0.8826666666666667, 0.9018333333333334, 0.9124166666666667, 0.9123333333333333, 0.9099166666666667, 0.9146666666666666, 0.9214166666666667, 0.9203333333333333, 0.9261666666666667, 0.92675, 0.9250833333333334, 0.91375, 0.9321666666666667, 0.93375, 0.9301666666666667, 0.93175, 0.93375, 0.9335833333333333, 0.93], \"yaxis\": \"y\", \"type\": \"scatter\"}, {\"marker\": {\"color\": \"Blue\"}, \"mode\": \"markers+lines\", \"name\": \"Training loss\", \"text\": [\"1\", \"2\", \"3\", \"4\", \"5\", \"6\", \"7\", \"8\", \"9\", \"10\", \"11\", \"12\", \"13\", \"14\", \"15\", \"16\", \"17\", \"18\", \"19\", \"20\"], \"uid\": \"5686b8d5-08fc-4ac2-8dc2-4ce7ff48c35c\", \"x\": [1, 2, 3, 4, 5, 6, 7, 8, 9, 10, 11, 12, 13, 14, 15, 16, 17, 18, 19, 20], \"xaxis\": \"x2\", \"y\": [0.5260283831954002, 0.34144071368376416, 0.2901802031199137, 0.269644711886843, 0.24563711096843083, 0.2366698480049769, 0.220411801636219, 0.21216707979142665, 0.19938290597001712, 0.1890722430497408, 0.18352113936593134, 0.1731632017791271, 0.16679176491995654, 0.157794201515615, 0.1526921381726861, 0.14778344164043664, 0.14090590313573678, 0.1365604666545987, 0.12753418051699797, 0.1258761168345809], \"yaxis\": \"y2\", \"type\": \"scatter\"}, {\"marker\": {\"color\": \"Magenta\"}, \"mode\": \"markers+lines\", \"name\": \"Validation loss\", \"text\": [\"1\", \"2\", \"3\", \"4\", \"5\", \"6\", \"7\", \"8\", \"9\", \"10\", \"11\", \"12\", \"13\", \"14\", \"15\", \"16\", \"17\", \"18\", \"19\", \"20\"], \"uid\": \"36ade981-53d5-43d0-878e-1cfe56706215\", \"x\": [1, 2, 3, 4, 5, 6, 7, 8, 9, 10, 11, 12, 13, 14, 15, 16, 17, 18, 19, 20], \"xaxis\": \"x2\", \"y\": [0.33119922955830894, 0.3016698224544525, 0.26936235690116883, 0.2398488254149755, 0.2330755974650383, 0.24837820041179656, 0.235488256752491, 0.21305170003573098, 0.2175548757314682, 0.20887936524550121, 0.20668032602469127, 0.2139701610803604, 0.23237062654892604, 0.20344167598088583, 0.19544285092751185, 0.20340415819485982, 0.19590051553646723, 0.1972203096151352, 0.21700184653202692, 0.20980740278959276], \"yaxis\": \"y2\", \"type\": \"scatter\"}], {\"annotations\": [{\"font\": {\"size\": 16}, \"showarrow\": false, \"text\": \"Training and validation accuracy\", \"x\": 0.225, \"xanchor\": \"center\", \"xref\": \"paper\", \"y\": 1.0, \"yanchor\": \"bottom\", \"yref\": \"paper\"}, {\"font\": {\"size\": 16}, \"showarrow\": false, \"text\": \"Training and validation loss\", \"x\": 0.775, \"xanchor\": \"center\", \"xref\": \"paper\", \"y\": 1.0, \"yanchor\": \"bottom\", \"yref\": \"paper\"}], \"xaxis\": {\"anchor\": \"y\", \"domain\": [0.0, 0.45], \"title\": {\"text\": \"Epoch\"}}, \"yaxis\": {\"anchor\": \"x\", \"domain\": [0.0, 1.0], \"range\": [0, 1], \"title\": {\"text\": \"Accuracy\"}}, \"xaxis2\": {\"anchor\": \"y2\", \"domain\": [0.55, 1.0], \"title\": {\"text\": \"Epoch\"}}, \"yaxis2\": {\"anchor\": \"x2\", \"domain\": [0.0, 1.0], \"range\": [0, 1], \"title\": {\"text\": \"Loss\"}}}, {\"showLink\": false, \"linkText\": \"Export to plot.ly\", \"plotlyServerURL\": \"https://plot.ly\"})});</script><script type=\"text/javascript\">window.addEventListener(\"resize\", function(){window._Plotly.Plots.resize(document.getElementById(\"76b7f89f-f090-4fdf-b407-0ac1b9bbc3c7\"));});</script>"
      ],
      "text/vnd.plotly.v1+html": [
       "<div id=\"76b7f89f-f090-4fdf-b407-0ac1b9bbc3c7\" style=\"height: 525px; width: 100%;\" class=\"plotly-graph-div\"></div><script type=\"text/javascript\">require([\"plotly\"], function(Plotly) { window.PLOTLYENV=window.PLOTLYENV || {};window.PLOTLYENV.BASE_URL=\"https://plot.ly\";Plotly.newPlot(\"76b7f89f-f090-4fdf-b407-0ac1b9bbc3c7\", [{\"marker\": {\"color\": \"Green\"}, \"mode\": \"markers+lines\", \"name\": \"Training accuracy\", \"text\": [\"1\", \"2\", \"3\", \"4\", \"5\", \"6\", \"7\", \"8\", \"9\", \"10\", \"11\", \"12\", \"13\", \"14\", \"15\", \"16\", \"17\", \"18\", \"19\", \"20\"], \"uid\": \"e5cd0b17-b494-4ca8-9e6c-bc53cae5ed97\", \"x\": [1, 2, 3, 4, 5, 6, 7, 8, 9, 10, 11, 12, 13, 14, 15, 16, 17, 18, 19, 20], \"xaxis\": \"x\", \"y\": [0.8109583333333333, 0.8761458333333333, 0.8943541666666667, 0.9010416666666666, 0.9111458333333333, 0.9135, 0.9195208333333333, 0.9206458333333334, 0.9262916666666666, 0.9307708333333333, 0.9317916666666667, 0.9364166666666667, 0.9388333333333333, 0.9404375, 0.9429583333333333, 0.945125, 0.9475625, 0.9486041666666667, 0.9513333333333334, 0.9534791666666667], \"yaxis\": \"y\", \"type\": \"scatter\"}, {\"marker\": {\"color\": \"Red\"}, \"mode\": \"markers+lines\", \"name\": \"Validation accuracy\", \"text\": [\"1\", \"2\", \"3\", \"4\", \"5\", \"6\", \"7\", \"8\", \"9\", \"10\", \"11\", \"12\", \"13\", \"14\", \"15\", \"16\", \"17\", \"18\", \"19\", \"20\"], \"uid\": \"346da57b-7149-4f8a-8069-02f3827a38a7\", \"x\": [1, 2, 3, 4, 5, 6, 7, 8, 9, 10, 11, 12, 13, 14, 15, 16, 17, 18, 19, 20], \"xaxis\": \"x\", \"y\": [0.8779166666666667, 0.8826666666666667, 0.9018333333333334, 0.9124166666666667, 0.9123333333333333, 0.9099166666666667, 0.9146666666666666, 0.9214166666666667, 0.9203333333333333, 0.9261666666666667, 0.92675, 0.9250833333333334, 0.91375, 0.9321666666666667, 0.93375, 0.9301666666666667, 0.93175, 0.93375, 0.9335833333333333, 0.93], \"yaxis\": \"y\", \"type\": \"scatter\"}, {\"marker\": {\"color\": \"Blue\"}, \"mode\": \"markers+lines\", \"name\": \"Training loss\", \"text\": [\"1\", \"2\", \"3\", \"4\", \"5\", \"6\", \"7\", \"8\", \"9\", \"10\", \"11\", \"12\", \"13\", \"14\", \"15\", \"16\", \"17\", \"18\", \"19\", \"20\"], \"uid\": \"5686b8d5-08fc-4ac2-8dc2-4ce7ff48c35c\", \"x\": [1, 2, 3, 4, 5, 6, 7, 8, 9, 10, 11, 12, 13, 14, 15, 16, 17, 18, 19, 20], \"xaxis\": \"x2\", \"y\": [0.5260283831954002, 0.34144071368376416, 0.2901802031199137, 0.269644711886843, 0.24563711096843083, 0.2366698480049769, 0.220411801636219, 0.21216707979142665, 0.19938290597001712, 0.1890722430497408, 0.18352113936593134, 0.1731632017791271, 0.16679176491995654, 0.157794201515615, 0.1526921381726861, 0.14778344164043664, 0.14090590313573678, 0.1365604666545987, 0.12753418051699797, 0.1258761168345809], \"yaxis\": \"y2\", \"type\": \"scatter\"}, {\"marker\": {\"color\": \"Magenta\"}, \"mode\": \"markers+lines\", \"name\": \"Validation loss\", \"text\": [\"1\", \"2\", \"3\", \"4\", \"5\", \"6\", \"7\", \"8\", \"9\", \"10\", \"11\", \"12\", \"13\", \"14\", \"15\", \"16\", \"17\", \"18\", \"19\", \"20\"], \"uid\": \"36ade981-53d5-43d0-878e-1cfe56706215\", \"x\": [1, 2, 3, 4, 5, 6, 7, 8, 9, 10, 11, 12, 13, 14, 15, 16, 17, 18, 19, 20], \"xaxis\": \"x2\", \"y\": [0.33119922955830894, 0.3016698224544525, 0.26936235690116883, 0.2398488254149755, 0.2330755974650383, 0.24837820041179656, 0.235488256752491, 0.21305170003573098, 0.2175548757314682, 0.20887936524550121, 0.20668032602469127, 0.2139701610803604, 0.23237062654892604, 0.20344167598088583, 0.19544285092751185, 0.20340415819485982, 0.19590051553646723, 0.1972203096151352, 0.21700184653202692, 0.20980740278959276], \"yaxis\": \"y2\", \"type\": \"scatter\"}], {\"annotations\": [{\"font\": {\"size\": 16}, \"showarrow\": false, \"text\": \"Training and validation accuracy\", \"x\": 0.225, \"xanchor\": \"center\", \"xref\": \"paper\", \"y\": 1.0, \"yanchor\": \"bottom\", \"yref\": \"paper\"}, {\"font\": {\"size\": 16}, \"showarrow\": false, \"text\": \"Training and validation loss\", \"x\": 0.775, \"xanchor\": \"center\", \"xref\": \"paper\", \"y\": 1.0, \"yanchor\": \"bottom\", \"yref\": \"paper\"}], \"xaxis\": {\"anchor\": \"y\", \"domain\": [0.0, 0.45], \"title\": {\"text\": \"Epoch\"}}, \"yaxis\": {\"anchor\": \"x\", \"domain\": [0.0, 1.0], \"range\": [0, 1], \"title\": {\"text\": \"Accuracy\"}}, \"xaxis2\": {\"anchor\": \"y2\", \"domain\": [0.55, 1.0], \"title\": {\"text\": \"Epoch\"}}, \"yaxis2\": {\"anchor\": \"x2\", \"domain\": [0.0, 1.0], \"range\": [0, 1], \"title\": {\"text\": \"Loss\"}}}, {\"showLink\": false, \"linkText\": \"Export to plot.ly\", \"plotlyServerURL\": \"https://plot.ly\"})});</script><script type=\"text/javascript\">window.addEventListener(\"resize\", function(){window._Plotly.Plots.resize(document.getElementById(\"76b7f89f-f090-4fdf-b407-0ac1b9bbc3c7\"));});</script>"
      ]
     },
     "metadata": {},
     "output_type": "display_data"
    },
    {
     "name": "stdout",
     "output_type": "stream",
     "text": [
      "simpleInception_hist\n",
      "This is the format of your plot grid:\n",
      "[ (1,1) x1,y1 ]  [ (1,2) x2,y2 ]\n",
      "\n"
     ]
    },
    {
     "data": {
      "application/vnd.plotly.v1+json": {
       "config": {
        "linkText": "Export to plot.ly",
        "plotlyServerURL": "https://plot.ly",
        "showLink": false
       },
       "data": [
        {
         "marker": {
          "color": "Green"
         },
         "mode": "markers+lines",
         "name": "Training accuracy",
         "text": [
          "1",
          "2",
          "3",
          "4",
          "5",
          "6",
          "7",
          "8",
          "9",
          "10",
          "11",
          "12",
          "13",
          "14",
          "15",
          "16",
          "17",
          "18",
          "19",
          "20"
         ],
         "type": "scatter",
         "uid": "32686283-b5ba-497f-9661-3ce5df973a88",
         "x": [
          1,
          2,
          3,
          4,
          5,
          6,
          7,
          8,
          9,
          10,
          11,
          12,
          13,
          14,
          15,
          16,
          17,
          18,
          19,
          20
         ],
         "xaxis": "x",
         "y": [
          0.7074375,
          0.836125,
          0.8675625,
          0.8865208333333333,
          0.8982916666666667,
          0.9072916666666667,
          0.9159375,
          0.9199791666666667,
          0.9243958333333333,
          0.9303125,
          0.9339375,
          0.9391875,
          0.9399791666666667,
          0.9425,
          0.9465416666666666,
          0.948125,
          0.9513333333333334,
          0.9537083333333334,
          0.9566458333333333,
          0.9566458333333333
         ],
         "yaxis": "y"
        },
        {
         "marker": {
          "color": "Red"
         },
         "mode": "markers+lines",
         "name": "Validation accuracy",
         "text": [
          "1",
          "2",
          "3",
          "4",
          "5",
          "6",
          "7",
          "8",
          "9",
          "10",
          "11",
          "12",
          "13",
          "14",
          "15",
          "16",
          "17",
          "18",
          "19",
          "20"
         ],
         "type": "scatter",
         "uid": "dc47f65d-5e55-46e6-afd3-49a2d00f2b83",
         "x": [
          1,
          2,
          3,
          4,
          5,
          6,
          7,
          8,
          9,
          10,
          11,
          12,
          13,
          14,
          15,
          16,
          17,
          18,
          19,
          20
         ],
         "xaxis": "x",
         "y": [
          0.8544166666666667,
          0.8699166666666667,
          0.8753333333333333,
          0.8814166666666666,
          0.8654166666666666,
          0.8955833333333333,
          0.8994166666666666,
          0.8890833333333333,
          0.89925,
          0.89975,
          0.9055,
          0.9086666666666666,
          0.8905,
          0.9016666666666666,
          0.9030833333333333,
          0.912,
          0.9065833333333333,
          0.9109166666666667,
          0.908,
          0.9128333333333334
         ],
         "yaxis": "y"
        },
        {
         "marker": {
          "color": "Blue"
         },
         "mode": "markers+lines",
         "name": "Training loss",
         "text": [
          "1",
          "2",
          "3",
          "4",
          "5",
          "6",
          "7",
          "8",
          "9",
          "10",
          "11",
          "12",
          "13",
          "14",
          "15",
          "16",
          "17",
          "18",
          "19",
          "20"
         ],
         "type": "scatter",
         "uid": "58bd38ce-ebb6-4a8e-ac51-2c7086734ff5",
         "x": [
          1,
          2,
          3,
          4,
          5,
          6,
          7,
          8,
          9,
          10,
          11,
          12,
          13,
          14,
          15,
          16,
          17,
          18,
          19,
          20
         ],
         "xaxis": "x2",
         "y": [
          1.1081165339946746,
          0.455160195906957,
          0.36282805703083676,
          0.3067175379693508,
          0.2726186865369479,
          0.25087535442908604,
          0.22549686561028162,
          0.21180154403547446,
          0.2013136099924644,
          0.18173044161001842,
          0.1731002146055301,
          0.16110720173766216,
          0.15453022930522758,
          0.1445465455452601,
          0.13797228233019512,
          0.13223124642049272,
          0.12382945546507836,
          0.11844838617369532,
          0.1124602427755793,
          0.11024628751104076
         ],
         "yaxis": "y2"
        },
        {
         "marker": {
          "color": "Magenta"
         },
         "mode": "markers+lines",
         "name": "Validation loss",
         "text": [
          "1",
          "2",
          "3",
          "4",
          "5",
          "6",
          "7",
          "8",
          "9",
          "10",
          "11",
          "12",
          "13",
          "14",
          "15",
          "16",
          "17",
          "18",
          "19",
          "20"
         ],
         "type": "scatter",
         "uid": "b4f689b6-d8b2-4df8-928f-c990b3d67d11",
         "x": [
          1,
          2,
          3,
          4,
          5,
          6,
          7,
          8,
          9,
          10,
          11,
          12,
          13,
          14,
          15,
          16,
          17,
          18,
          19,
          20
         ],
         "xaxis": "x2",
         "y": [
          0.42289866614341737,
          0.3654706539710363,
          0.35955975226561226,
          0.35561090695858,
          0.39864304538567863,
          0.31116672575473786,
          0.30096689279874167,
          0.3535740737716357,
          0.31806001778443654,
          0.33724922154347103,
          0.3090890028377374,
          0.3171113476753235,
          0.41586386038859685,
          0.39108612028757733,
          0.3806564013957977,
          0.3419305116335551,
          0.3519493973255157,
          0.3300055431127548,
          0.3763446495334307,
          0.37356601673364637
         ],
         "yaxis": "y2"
        }
       ],
       "layout": {
        "annotations": [
         {
          "font": {
           "size": 16
          },
          "showarrow": false,
          "text": "Training and validation accuracy",
          "x": 0.225,
          "xanchor": "center",
          "xref": "paper",
          "y": 1,
          "yanchor": "bottom",
          "yref": "paper"
         },
         {
          "font": {
           "size": 16
          },
          "showarrow": false,
          "text": "Training and validation loss",
          "x": 0.775,
          "xanchor": "center",
          "xref": "paper",
          "y": 1,
          "yanchor": "bottom",
          "yref": "paper"
         }
        ],
        "xaxis": {
         "anchor": "y",
         "domain": [
          0,
          0.45
         ],
         "title": {
          "text": "Epoch"
         }
        },
        "xaxis2": {
         "anchor": "y2",
         "domain": [
          0.55,
          1
         ],
         "title": {
          "text": "Epoch"
         }
        },
        "yaxis": {
         "anchor": "x",
         "domain": [
          0,
          1
         ],
         "range": [
          0,
          1
         ],
         "title": {
          "text": "Accuracy"
         }
        },
        "yaxis2": {
         "anchor": "x2",
         "domain": [
          0,
          1
         ],
         "range": [
          0,
          1
         ],
         "title": {
          "text": "Loss"
         }
        }
       }
      },
      "text/html": [
       "<div id=\"074782df-7539-4653-9ebf-3269facfaa10\" style=\"height: 525px; width: 100%;\" class=\"plotly-graph-div\"></div><script type=\"text/javascript\">require([\"plotly\"], function(Plotly) { window.PLOTLYENV=window.PLOTLYENV || {};window.PLOTLYENV.BASE_URL=\"https://plot.ly\";Plotly.newPlot(\"074782df-7539-4653-9ebf-3269facfaa10\", [{\"marker\": {\"color\": \"Green\"}, \"mode\": \"markers+lines\", \"name\": \"Training accuracy\", \"text\": [\"1\", \"2\", \"3\", \"4\", \"5\", \"6\", \"7\", \"8\", \"9\", \"10\", \"11\", \"12\", \"13\", \"14\", \"15\", \"16\", \"17\", \"18\", \"19\", \"20\"], \"uid\": \"32686283-b5ba-497f-9661-3ce5df973a88\", \"x\": [1, 2, 3, 4, 5, 6, 7, 8, 9, 10, 11, 12, 13, 14, 15, 16, 17, 18, 19, 20], \"xaxis\": \"x\", \"y\": [0.7074375, 0.836125, 0.8675625, 0.8865208333333333, 0.8982916666666667, 0.9072916666666667, 0.9159375, 0.9199791666666667, 0.9243958333333333, 0.9303125, 0.9339375, 0.9391875, 0.9399791666666667, 0.9425, 0.9465416666666666, 0.948125, 0.9513333333333334, 0.9537083333333334, 0.9566458333333333, 0.9566458333333333], \"yaxis\": \"y\", \"type\": \"scatter\"}, {\"marker\": {\"color\": \"Red\"}, \"mode\": \"markers+lines\", \"name\": \"Validation accuracy\", \"text\": [\"1\", \"2\", \"3\", \"4\", \"5\", \"6\", \"7\", \"8\", \"9\", \"10\", \"11\", \"12\", \"13\", \"14\", \"15\", \"16\", \"17\", \"18\", \"19\", \"20\"], \"uid\": \"dc47f65d-5e55-46e6-afd3-49a2d00f2b83\", \"x\": [1, 2, 3, 4, 5, 6, 7, 8, 9, 10, 11, 12, 13, 14, 15, 16, 17, 18, 19, 20], \"xaxis\": \"x\", \"y\": [0.8544166666666667, 0.8699166666666667, 0.8753333333333333, 0.8814166666666666, 0.8654166666666666, 0.8955833333333333, 0.8994166666666666, 0.8890833333333333, 0.89925, 0.89975, 0.9055, 0.9086666666666666, 0.8905, 0.9016666666666666, 0.9030833333333333, 0.912, 0.9065833333333333, 0.9109166666666667, 0.908, 0.9128333333333334], \"yaxis\": \"y\", \"type\": \"scatter\"}, {\"marker\": {\"color\": \"Blue\"}, \"mode\": \"markers+lines\", \"name\": \"Training loss\", \"text\": [\"1\", \"2\", \"3\", \"4\", \"5\", \"6\", \"7\", \"8\", \"9\", \"10\", \"11\", \"12\", \"13\", \"14\", \"15\", \"16\", \"17\", \"18\", \"19\", \"20\"], \"uid\": \"58bd38ce-ebb6-4a8e-ac51-2c7086734ff5\", \"x\": [1, 2, 3, 4, 5, 6, 7, 8, 9, 10, 11, 12, 13, 14, 15, 16, 17, 18, 19, 20], \"xaxis\": \"x2\", \"y\": [1.1081165339946746, 0.455160195906957, 0.36282805703083676, 0.3067175379693508, 0.2726186865369479, 0.25087535442908604, 0.22549686561028162, 0.21180154403547446, 0.2013136099924644, 0.18173044161001842, 0.1731002146055301, 0.16110720173766216, 0.15453022930522758, 0.1445465455452601, 0.13797228233019512, 0.13223124642049272, 0.12382945546507836, 0.11844838617369532, 0.1124602427755793, 0.11024628751104076], \"yaxis\": \"y2\", \"type\": \"scatter\"}, {\"marker\": {\"color\": \"Magenta\"}, \"mode\": \"markers+lines\", \"name\": \"Validation loss\", \"text\": [\"1\", \"2\", \"3\", \"4\", \"5\", \"6\", \"7\", \"8\", \"9\", \"10\", \"11\", \"12\", \"13\", \"14\", \"15\", \"16\", \"17\", \"18\", \"19\", \"20\"], \"uid\": \"b4f689b6-d8b2-4df8-928f-c990b3d67d11\", \"x\": [1, 2, 3, 4, 5, 6, 7, 8, 9, 10, 11, 12, 13, 14, 15, 16, 17, 18, 19, 20], \"xaxis\": \"x2\", \"y\": [0.42289866614341737, 0.3654706539710363, 0.35955975226561226, 0.35561090695858, 0.39864304538567863, 0.31116672575473786, 0.30096689279874167, 0.3535740737716357, 0.31806001778443654, 0.33724922154347103, 0.3090890028377374, 0.3171113476753235, 0.41586386038859685, 0.39108612028757733, 0.3806564013957977, 0.3419305116335551, 0.3519493973255157, 0.3300055431127548, 0.3763446495334307, 0.37356601673364637], \"yaxis\": \"y2\", \"type\": \"scatter\"}], {\"annotations\": [{\"font\": {\"size\": 16}, \"showarrow\": false, \"text\": \"Training and validation accuracy\", \"x\": 0.225, \"xanchor\": \"center\", \"xref\": \"paper\", \"y\": 1.0, \"yanchor\": \"bottom\", \"yref\": \"paper\"}, {\"font\": {\"size\": 16}, \"showarrow\": false, \"text\": \"Training and validation loss\", \"x\": 0.775, \"xanchor\": \"center\", \"xref\": \"paper\", \"y\": 1.0, \"yanchor\": \"bottom\", \"yref\": \"paper\"}], \"xaxis\": {\"anchor\": \"y\", \"domain\": [0.0, 0.45], \"title\": {\"text\": \"Epoch\"}}, \"yaxis\": {\"anchor\": \"x\", \"domain\": [0.0, 1.0], \"range\": [0, 1], \"title\": {\"text\": \"Accuracy\"}}, \"xaxis2\": {\"anchor\": \"y2\", \"domain\": [0.55, 1.0], \"title\": {\"text\": \"Epoch\"}}, \"yaxis2\": {\"anchor\": \"x2\", \"domain\": [0.0, 1.0], \"range\": [0, 1], \"title\": {\"text\": \"Loss\"}}}, {\"showLink\": false, \"linkText\": \"Export to plot.ly\", \"plotlyServerURL\": \"https://plot.ly\"})});</script><script type=\"text/javascript\">window.addEventListener(\"resize\", function(){window._Plotly.Plots.resize(document.getElementById(\"074782df-7539-4653-9ebf-3269facfaa10\"));});</script>"
      ],
      "text/vnd.plotly.v1+html": [
       "<div id=\"074782df-7539-4653-9ebf-3269facfaa10\" style=\"height: 525px; width: 100%;\" class=\"plotly-graph-div\"></div><script type=\"text/javascript\">require([\"plotly\"], function(Plotly) { window.PLOTLYENV=window.PLOTLYENV || {};window.PLOTLYENV.BASE_URL=\"https://plot.ly\";Plotly.newPlot(\"074782df-7539-4653-9ebf-3269facfaa10\", [{\"marker\": {\"color\": \"Green\"}, \"mode\": \"markers+lines\", \"name\": \"Training accuracy\", \"text\": [\"1\", \"2\", \"3\", \"4\", \"5\", \"6\", \"7\", \"8\", \"9\", \"10\", \"11\", \"12\", \"13\", \"14\", \"15\", \"16\", \"17\", \"18\", \"19\", \"20\"], \"uid\": \"32686283-b5ba-497f-9661-3ce5df973a88\", \"x\": [1, 2, 3, 4, 5, 6, 7, 8, 9, 10, 11, 12, 13, 14, 15, 16, 17, 18, 19, 20], \"xaxis\": \"x\", \"y\": [0.7074375, 0.836125, 0.8675625, 0.8865208333333333, 0.8982916666666667, 0.9072916666666667, 0.9159375, 0.9199791666666667, 0.9243958333333333, 0.9303125, 0.9339375, 0.9391875, 0.9399791666666667, 0.9425, 0.9465416666666666, 0.948125, 0.9513333333333334, 0.9537083333333334, 0.9566458333333333, 0.9566458333333333], \"yaxis\": \"y\", \"type\": \"scatter\"}, {\"marker\": {\"color\": \"Red\"}, \"mode\": \"markers+lines\", \"name\": \"Validation accuracy\", \"text\": [\"1\", \"2\", \"3\", \"4\", \"5\", \"6\", \"7\", \"8\", \"9\", \"10\", \"11\", \"12\", \"13\", \"14\", \"15\", \"16\", \"17\", \"18\", \"19\", \"20\"], \"uid\": \"dc47f65d-5e55-46e6-afd3-49a2d00f2b83\", \"x\": [1, 2, 3, 4, 5, 6, 7, 8, 9, 10, 11, 12, 13, 14, 15, 16, 17, 18, 19, 20], \"xaxis\": \"x\", \"y\": [0.8544166666666667, 0.8699166666666667, 0.8753333333333333, 0.8814166666666666, 0.8654166666666666, 0.8955833333333333, 0.8994166666666666, 0.8890833333333333, 0.89925, 0.89975, 0.9055, 0.9086666666666666, 0.8905, 0.9016666666666666, 0.9030833333333333, 0.912, 0.9065833333333333, 0.9109166666666667, 0.908, 0.9128333333333334], \"yaxis\": \"y\", \"type\": \"scatter\"}, {\"marker\": {\"color\": \"Blue\"}, \"mode\": \"markers+lines\", \"name\": \"Training loss\", \"text\": [\"1\", \"2\", \"3\", \"4\", \"5\", \"6\", \"7\", \"8\", \"9\", \"10\", \"11\", \"12\", \"13\", \"14\", \"15\", \"16\", \"17\", \"18\", \"19\", \"20\"], \"uid\": \"58bd38ce-ebb6-4a8e-ac51-2c7086734ff5\", \"x\": [1, 2, 3, 4, 5, 6, 7, 8, 9, 10, 11, 12, 13, 14, 15, 16, 17, 18, 19, 20], \"xaxis\": \"x2\", \"y\": [1.1081165339946746, 0.455160195906957, 0.36282805703083676, 0.3067175379693508, 0.2726186865369479, 0.25087535442908604, 0.22549686561028162, 0.21180154403547446, 0.2013136099924644, 0.18173044161001842, 0.1731002146055301, 0.16110720173766216, 0.15453022930522758, 0.1445465455452601, 0.13797228233019512, 0.13223124642049272, 0.12382945546507836, 0.11844838617369532, 0.1124602427755793, 0.11024628751104076], \"yaxis\": \"y2\", \"type\": \"scatter\"}, {\"marker\": {\"color\": \"Magenta\"}, \"mode\": \"markers+lines\", \"name\": \"Validation loss\", \"text\": [\"1\", \"2\", \"3\", \"4\", \"5\", \"6\", \"7\", \"8\", \"9\", \"10\", \"11\", \"12\", \"13\", \"14\", \"15\", \"16\", \"17\", \"18\", \"19\", \"20\"], \"uid\": \"b4f689b6-d8b2-4df8-928f-c990b3d67d11\", \"x\": [1, 2, 3, 4, 5, 6, 7, 8, 9, 10, 11, 12, 13, 14, 15, 16, 17, 18, 19, 20], \"xaxis\": \"x2\", \"y\": [0.42289866614341737, 0.3654706539710363, 0.35955975226561226, 0.35561090695858, 0.39864304538567863, 0.31116672575473786, 0.30096689279874167, 0.3535740737716357, 0.31806001778443654, 0.33724922154347103, 0.3090890028377374, 0.3171113476753235, 0.41586386038859685, 0.39108612028757733, 0.3806564013957977, 0.3419305116335551, 0.3519493973255157, 0.3300055431127548, 0.3763446495334307, 0.37356601673364637], \"yaxis\": \"y2\", \"type\": \"scatter\"}], {\"annotations\": [{\"font\": {\"size\": 16}, \"showarrow\": false, \"text\": \"Training and validation accuracy\", \"x\": 0.225, \"xanchor\": \"center\", \"xref\": \"paper\", \"y\": 1.0, \"yanchor\": \"bottom\", \"yref\": \"paper\"}, {\"font\": {\"size\": 16}, \"showarrow\": false, \"text\": \"Training and validation loss\", \"x\": 0.775, \"xanchor\": \"center\", \"xref\": \"paper\", \"y\": 1.0, \"yanchor\": \"bottom\", \"yref\": \"paper\"}], \"xaxis\": {\"anchor\": \"y\", \"domain\": [0.0, 0.45], \"title\": {\"text\": \"Epoch\"}}, \"yaxis\": {\"anchor\": \"x\", \"domain\": [0.0, 1.0], \"range\": [0, 1], \"title\": {\"text\": \"Accuracy\"}}, \"xaxis2\": {\"anchor\": \"y2\", \"domain\": [0.55, 1.0], \"title\": {\"text\": \"Epoch\"}}, \"yaxis2\": {\"anchor\": \"x2\", \"domain\": [0.0, 1.0], \"range\": [0, 1], \"title\": {\"text\": \"Loss\"}}}, {\"showLink\": false, \"linkText\": \"Export to plot.ly\", \"plotlyServerURL\": \"https://plot.ly\"})});</script><script type=\"text/javascript\">window.addEventListener(\"resize\", function(){window._Plotly.Plots.resize(document.getElementById(\"074782df-7539-4653-9ebf-3269facfaa10\"));});</script>"
      ]
     },
     "metadata": {},
     "output_type": "display_data"
    }
   ],
   "source": [
    "for model_name in history_dict.keys():\n",
    "    print(model_name)\n",
    "    util.plot_accuracy_and_loss(history_dict[model_name])"
   ]
  },
  {
   "cell_type": "markdown",
   "metadata": {},
   "source": [
    "<a id=\"ch8\"></a>\n",
    "# Cohen Kappa Scores"
   ]
  },
  {
   "cell_type": "code",
   "execution_count": 11,
   "metadata": {},
   "outputs": [],
   "source": [
    "from sklearn.metrics import cohen_kappa_score\n",
    "\n",
    "\n",
    "kohen_matrix = np.zeros((test_pred_df.shape[1], test_pred_df.shape[1]))\n",
    "\n",
    "for i, x in enumerate(test_pred_df):\n",
    "    for j, y in enumerate(test_pred_df):\n",
    "        if(x!=y and i < j):\n",
    "            kappa = cohen_kappa_score(test_pred_df[x], test_pred_df[y])\n",
    "            kohen_matrix[i, j] = round(kappa, 3)"
   ]
  },
  {
   "cell_type": "code",
   "execution_count": 12,
   "metadata": {},
   "outputs": [
    {
     "data": {
      "application/vnd.plotly.v1+json": {
       "config": {
        "linkText": "Export to plot.ly",
        "plotlyServerURL": "https://plot.ly",
        "showLink": false
       },
       "data": [
        {
         "colorscale": "RdBu",
         "reversescale": false,
         "showscale": false,
         "type": "heatmap",
         "uid": "bbdb5eea-332c-4c39-a155-bf29afa8e4a5",
         "x": [
          "CNNDropout_hist_dataAug",
          "mobileNetV2_hist_dataAug",
          "mobileNetV2_hist",
          "mlp_hist",
          "simpleVGG_hist_dataAug",
          "CNNDropout_hist",
          "wideResnet_hist_dataAug",
          "CNNBatchNorm_hist",
          "CNNBatchNorm_hist_dataAug",
          "simpleCNN_hist",
          "simpleCNN_hist_dataAug",
          "simpleResnet_hist_dataAug",
          "wideResnet_hist",
          "simpleInception_hist_dataAug",
          "simpleResnet_hist",
          "simpleVGG_hist",
          "simpleInception_hist"
         ],
         "y": [
          "CNNDropout_hist_dataAug",
          "mobileNetV2_hist_dataAug",
          "mobileNetV2_hist",
          "mlp_hist",
          "simpleVGG_hist_dataAug",
          "CNNDropout_hist",
          "wideResnet_hist_dataAug",
          "CNNBatchNorm_hist",
          "CNNBatchNorm_hist_dataAug",
          "simpleCNN_hist",
          "simpleCNN_hist_dataAug",
          "simpleResnet_hist_dataAug",
          "wideResnet_hist",
          "simpleInception_hist_dataAug",
          "simpleResnet_hist",
          "simpleVGG_hist",
          "simpleInception_hist"
         ],
         "z": [
          [
           0,
           0.882,
           0.884,
           0.88,
           0.896,
           0.91,
           0.88,
           0.906,
           0.905,
           0.878,
           0.901,
           0.894,
           0.88,
           0.675,
           0.9,
           0.895,
           0.89
          ],
          [
           0,
           0,
           0.903,
           0.88,
           0.925,
           0.911,
           0.905,
           0.921,
           0.894,
           0.891,
           0.9,
           0.917,
           0.903,
           0.689,
           0.908,
           0.922,
           0.903
          ],
          [
           0,
           0,
           0,
           0.894,
           0.92,
           0.913,
           0.909,
           0.921,
           0.902,
           0.894,
           0.9,
           0.913,
           0.903,
           0.687,
           0.913,
           0.924,
           0.913
          ],
          [
           0,
           0,
           0,
           0,
           0.892,
           0.889,
           0.882,
           0.898,
           0.913,
           0.874,
           0.886,
           0.899,
           0.88,
           0.676,
           0.898,
           0.896,
           0.897
          ],
          [
           0,
           0,
           0,
           0,
           0,
           0.933,
           0.933,
           0.95,
           0.909,
           0.912,
           0.919,
           0.936,
           0.931,
           0.697,
           0.926,
           0.945,
           0.92
          ],
          [
           0,
           0,
           0,
           0,
           0,
           0,
           0.914,
           0.939,
           0.911,
           0.909,
           0.923,
           0.923,
           0.907,
           0.695,
           0.923,
           0.929,
           0.916
          ],
          [
           0,
           0,
           0,
           0,
           0,
           0,
           0,
           0.923,
           0.899,
           0.895,
           0.895,
           0.92,
           0.927,
           0.688,
           0.91,
           0.929,
           0.912
          ],
          [
           0,
           0,
           0,
           0,
           0,
           0,
           0,
           0,
           0.912,
           0.907,
           0.917,
           0.934,
           0.924,
           0.699,
           0.929,
           0.942,
           0.923
          ],
          [
           0,
           0,
           0,
           0,
           0,
           0,
           0,
           0,
           0,
           0.888,
           0.905,
           0.912,
           0.893,
           0.681,
           0.908,
           0.916,
           0.906
          ],
          [
           0,
           0,
           0,
           0,
           0,
           0,
           0,
           0,
           0,
           0,
           0.894,
           0.903,
           0.895,
           0.682,
           0.901,
           0.91,
           0.896
          ],
          [
           0,
           0,
           0,
           0,
           0,
           0,
           0,
           0,
           0,
           0,
           0,
           0.913,
           0.893,
           0.688,
           0.907,
           0.912,
           0.903
          ],
          [
           0,
           0,
           0,
           0,
           0,
           0,
           0,
           0,
           0,
           0,
           0,
           0,
           0.916,
           0.701,
           0.935,
           0.929,
           0.927
          ],
          [
           0,
           0,
           0,
           0,
           0,
           0,
           0,
           0,
           0,
           0,
           0,
           0,
           0,
           0.689,
           0.907,
           0.925,
           0.908
          ],
          [
           0,
           0,
           0,
           0,
           0,
           0,
           0,
           0,
           0,
           0,
           0,
           0,
           0,
           0,
           0.698,
           0.698,
           0.695
          ],
          [
           0,
           0,
           0,
           0,
           0,
           0,
           0,
           0,
           0,
           0,
           0,
           0,
           0,
           0,
           0,
           0.925,
           0.924
          ],
          [
           0,
           0,
           0,
           0,
           0,
           0,
           0,
           0,
           0,
           0,
           0,
           0,
           0,
           0,
           0,
           0,
           0.923
          ],
          [
           0,
           0,
           0,
           0,
           0,
           0,
           0,
           0,
           0,
           0,
           0,
           0,
           0,
           0,
           0,
           0,
           0
          ]
         ]
        }
       ],
       "layout": {
        "annotations": [
         {
          "font": {
           "color": "#FFFFFF"
          },
          "showarrow": false,
          "text": "0.0",
          "x": "CNNDropout_hist_dataAug",
          "xref": "x",
          "y": "CNNDropout_hist_dataAug",
          "yref": "y"
         },
         {
          "font": {
           "color": "#000000"
          },
          "showarrow": false,
          "text": "0.882",
          "x": "mobileNetV2_hist_dataAug",
          "xref": "x",
          "y": "CNNDropout_hist_dataAug",
          "yref": "y"
         },
         {
          "font": {
           "color": "#000000"
          },
          "showarrow": false,
          "text": "0.884",
          "x": "mobileNetV2_hist",
          "xref": "x",
          "y": "CNNDropout_hist_dataAug",
          "yref": "y"
         },
         {
          "font": {
           "color": "#000000"
          },
          "showarrow": false,
          "text": "0.88",
          "x": "mlp_hist",
          "xref": "x",
          "y": "CNNDropout_hist_dataAug",
          "yref": "y"
         },
         {
          "font": {
           "color": "#000000"
          },
          "showarrow": false,
          "text": "0.896",
          "x": "simpleVGG_hist_dataAug",
          "xref": "x",
          "y": "CNNDropout_hist_dataAug",
          "yref": "y"
         },
         {
          "font": {
           "color": "#000000"
          },
          "showarrow": false,
          "text": "0.91",
          "x": "CNNDropout_hist",
          "xref": "x",
          "y": "CNNDropout_hist_dataAug",
          "yref": "y"
         },
         {
          "font": {
           "color": "#000000"
          },
          "showarrow": false,
          "text": "0.88",
          "x": "wideResnet_hist_dataAug",
          "xref": "x",
          "y": "CNNDropout_hist_dataAug",
          "yref": "y"
         },
         {
          "font": {
           "color": "#000000"
          },
          "showarrow": false,
          "text": "0.906",
          "x": "CNNBatchNorm_hist",
          "xref": "x",
          "y": "CNNDropout_hist_dataAug",
          "yref": "y"
         },
         {
          "font": {
           "color": "#000000"
          },
          "showarrow": false,
          "text": "0.905",
          "x": "CNNBatchNorm_hist_dataAug",
          "xref": "x",
          "y": "CNNDropout_hist_dataAug",
          "yref": "y"
         },
         {
          "font": {
           "color": "#000000"
          },
          "showarrow": false,
          "text": "0.878",
          "x": "simpleCNN_hist",
          "xref": "x",
          "y": "CNNDropout_hist_dataAug",
          "yref": "y"
         },
         {
          "font": {
           "color": "#000000"
          },
          "showarrow": false,
          "text": "0.901",
          "x": "simpleCNN_hist_dataAug",
          "xref": "x",
          "y": "CNNDropout_hist_dataAug",
          "yref": "y"
         },
         {
          "font": {
           "color": "#000000"
          },
          "showarrow": false,
          "text": "0.894",
          "x": "simpleResnet_hist_dataAug",
          "xref": "x",
          "y": "CNNDropout_hist_dataAug",
          "yref": "y"
         },
         {
          "font": {
           "color": "#000000"
          },
          "showarrow": false,
          "text": "0.88",
          "x": "wideResnet_hist",
          "xref": "x",
          "y": "CNNDropout_hist_dataAug",
          "yref": "y"
         },
         {
          "font": {
           "color": "#000000"
          },
          "showarrow": false,
          "text": "0.675",
          "x": "simpleInception_hist_dataAug",
          "xref": "x",
          "y": "CNNDropout_hist_dataAug",
          "yref": "y"
         },
         {
          "font": {
           "color": "#000000"
          },
          "showarrow": false,
          "text": "0.9",
          "x": "simpleResnet_hist",
          "xref": "x",
          "y": "CNNDropout_hist_dataAug",
          "yref": "y"
         },
         {
          "font": {
           "color": "#000000"
          },
          "showarrow": false,
          "text": "0.895",
          "x": "simpleVGG_hist",
          "xref": "x",
          "y": "CNNDropout_hist_dataAug",
          "yref": "y"
         },
         {
          "font": {
           "color": "#000000"
          },
          "showarrow": false,
          "text": "0.89",
          "x": "simpleInception_hist",
          "xref": "x",
          "y": "CNNDropout_hist_dataAug",
          "yref": "y"
         },
         {
          "font": {
           "color": "#FFFFFF"
          },
          "showarrow": false,
          "text": "0.0",
          "x": "CNNDropout_hist_dataAug",
          "xref": "x",
          "y": "mobileNetV2_hist_dataAug",
          "yref": "y"
         },
         {
          "font": {
           "color": "#FFFFFF"
          },
          "showarrow": false,
          "text": "0.0",
          "x": "mobileNetV2_hist_dataAug",
          "xref": "x",
          "y": "mobileNetV2_hist_dataAug",
          "yref": "y"
         },
         {
          "font": {
           "color": "#000000"
          },
          "showarrow": false,
          "text": "0.903",
          "x": "mobileNetV2_hist",
          "xref": "x",
          "y": "mobileNetV2_hist_dataAug",
          "yref": "y"
         },
         {
          "font": {
           "color": "#000000"
          },
          "showarrow": false,
          "text": "0.88",
          "x": "mlp_hist",
          "xref": "x",
          "y": "mobileNetV2_hist_dataAug",
          "yref": "y"
         },
         {
          "font": {
           "color": "#000000"
          },
          "showarrow": false,
          "text": "0.925",
          "x": "simpleVGG_hist_dataAug",
          "xref": "x",
          "y": "mobileNetV2_hist_dataAug",
          "yref": "y"
         },
         {
          "font": {
           "color": "#000000"
          },
          "showarrow": false,
          "text": "0.911",
          "x": "CNNDropout_hist",
          "xref": "x",
          "y": "mobileNetV2_hist_dataAug",
          "yref": "y"
         },
         {
          "font": {
           "color": "#000000"
          },
          "showarrow": false,
          "text": "0.905",
          "x": "wideResnet_hist_dataAug",
          "xref": "x",
          "y": "mobileNetV2_hist_dataAug",
          "yref": "y"
         },
         {
          "font": {
           "color": "#000000"
          },
          "showarrow": false,
          "text": "0.921",
          "x": "CNNBatchNorm_hist",
          "xref": "x",
          "y": "mobileNetV2_hist_dataAug",
          "yref": "y"
         },
         {
          "font": {
           "color": "#000000"
          },
          "showarrow": false,
          "text": "0.894",
          "x": "CNNBatchNorm_hist_dataAug",
          "xref": "x",
          "y": "mobileNetV2_hist_dataAug",
          "yref": "y"
         },
         {
          "font": {
           "color": "#000000"
          },
          "showarrow": false,
          "text": "0.891",
          "x": "simpleCNN_hist",
          "xref": "x",
          "y": "mobileNetV2_hist_dataAug",
          "yref": "y"
         },
         {
          "font": {
           "color": "#000000"
          },
          "showarrow": false,
          "text": "0.9",
          "x": "simpleCNN_hist_dataAug",
          "xref": "x",
          "y": "mobileNetV2_hist_dataAug",
          "yref": "y"
         },
         {
          "font": {
           "color": "#000000"
          },
          "showarrow": false,
          "text": "0.917",
          "x": "simpleResnet_hist_dataAug",
          "xref": "x",
          "y": "mobileNetV2_hist_dataAug",
          "yref": "y"
         },
         {
          "font": {
           "color": "#000000"
          },
          "showarrow": false,
          "text": "0.903",
          "x": "wideResnet_hist",
          "xref": "x",
          "y": "mobileNetV2_hist_dataAug",
          "yref": "y"
         },
         {
          "font": {
           "color": "#000000"
          },
          "showarrow": false,
          "text": "0.689",
          "x": "simpleInception_hist_dataAug",
          "xref": "x",
          "y": "mobileNetV2_hist_dataAug",
          "yref": "y"
         },
         {
          "font": {
           "color": "#000000"
          },
          "showarrow": false,
          "text": "0.908",
          "x": "simpleResnet_hist",
          "xref": "x",
          "y": "mobileNetV2_hist_dataAug",
          "yref": "y"
         },
         {
          "font": {
           "color": "#000000"
          },
          "showarrow": false,
          "text": "0.922",
          "x": "simpleVGG_hist",
          "xref": "x",
          "y": "mobileNetV2_hist_dataAug",
          "yref": "y"
         },
         {
          "font": {
           "color": "#000000"
          },
          "showarrow": false,
          "text": "0.903",
          "x": "simpleInception_hist",
          "xref": "x",
          "y": "mobileNetV2_hist_dataAug",
          "yref": "y"
         },
         {
          "font": {
           "color": "#FFFFFF"
          },
          "showarrow": false,
          "text": "0.0",
          "x": "CNNDropout_hist_dataAug",
          "xref": "x",
          "y": "mobileNetV2_hist",
          "yref": "y"
         },
         {
          "font": {
           "color": "#FFFFFF"
          },
          "showarrow": false,
          "text": "0.0",
          "x": "mobileNetV2_hist_dataAug",
          "xref": "x",
          "y": "mobileNetV2_hist",
          "yref": "y"
         },
         {
          "font": {
           "color": "#FFFFFF"
          },
          "showarrow": false,
          "text": "0.0",
          "x": "mobileNetV2_hist",
          "xref": "x",
          "y": "mobileNetV2_hist",
          "yref": "y"
         },
         {
          "font": {
           "color": "#000000"
          },
          "showarrow": false,
          "text": "0.894",
          "x": "mlp_hist",
          "xref": "x",
          "y": "mobileNetV2_hist",
          "yref": "y"
         },
         {
          "font": {
           "color": "#000000"
          },
          "showarrow": false,
          "text": "0.92",
          "x": "simpleVGG_hist_dataAug",
          "xref": "x",
          "y": "mobileNetV2_hist",
          "yref": "y"
         },
         {
          "font": {
           "color": "#000000"
          },
          "showarrow": false,
          "text": "0.913",
          "x": "CNNDropout_hist",
          "xref": "x",
          "y": "mobileNetV2_hist",
          "yref": "y"
         },
         {
          "font": {
           "color": "#000000"
          },
          "showarrow": false,
          "text": "0.909",
          "x": "wideResnet_hist_dataAug",
          "xref": "x",
          "y": "mobileNetV2_hist",
          "yref": "y"
         },
         {
          "font": {
           "color": "#000000"
          },
          "showarrow": false,
          "text": "0.921",
          "x": "CNNBatchNorm_hist",
          "xref": "x",
          "y": "mobileNetV2_hist",
          "yref": "y"
         },
         {
          "font": {
           "color": "#000000"
          },
          "showarrow": false,
          "text": "0.902",
          "x": "CNNBatchNorm_hist_dataAug",
          "xref": "x",
          "y": "mobileNetV2_hist",
          "yref": "y"
         },
         {
          "font": {
           "color": "#000000"
          },
          "showarrow": false,
          "text": "0.894",
          "x": "simpleCNN_hist",
          "xref": "x",
          "y": "mobileNetV2_hist",
          "yref": "y"
         },
         {
          "font": {
           "color": "#000000"
          },
          "showarrow": false,
          "text": "0.9",
          "x": "simpleCNN_hist_dataAug",
          "xref": "x",
          "y": "mobileNetV2_hist",
          "yref": "y"
         },
         {
          "font": {
           "color": "#000000"
          },
          "showarrow": false,
          "text": "0.913",
          "x": "simpleResnet_hist_dataAug",
          "xref": "x",
          "y": "mobileNetV2_hist",
          "yref": "y"
         },
         {
          "font": {
           "color": "#000000"
          },
          "showarrow": false,
          "text": "0.903",
          "x": "wideResnet_hist",
          "xref": "x",
          "y": "mobileNetV2_hist",
          "yref": "y"
         },
         {
          "font": {
           "color": "#000000"
          },
          "showarrow": false,
          "text": "0.687",
          "x": "simpleInception_hist_dataAug",
          "xref": "x",
          "y": "mobileNetV2_hist",
          "yref": "y"
         },
         {
          "font": {
           "color": "#000000"
          },
          "showarrow": false,
          "text": "0.913",
          "x": "simpleResnet_hist",
          "xref": "x",
          "y": "mobileNetV2_hist",
          "yref": "y"
         },
         {
          "font": {
           "color": "#000000"
          },
          "showarrow": false,
          "text": "0.924",
          "x": "simpleVGG_hist",
          "xref": "x",
          "y": "mobileNetV2_hist",
          "yref": "y"
         },
         {
          "font": {
           "color": "#000000"
          },
          "showarrow": false,
          "text": "0.913",
          "x": "simpleInception_hist",
          "xref": "x",
          "y": "mobileNetV2_hist",
          "yref": "y"
         },
         {
          "font": {
           "color": "#FFFFFF"
          },
          "showarrow": false,
          "text": "0.0",
          "x": "CNNDropout_hist_dataAug",
          "xref": "x",
          "y": "mlp_hist",
          "yref": "y"
         },
         {
          "font": {
           "color": "#FFFFFF"
          },
          "showarrow": false,
          "text": "0.0",
          "x": "mobileNetV2_hist_dataAug",
          "xref": "x",
          "y": "mlp_hist",
          "yref": "y"
         },
         {
          "font": {
           "color": "#FFFFFF"
          },
          "showarrow": false,
          "text": "0.0",
          "x": "mobileNetV2_hist",
          "xref": "x",
          "y": "mlp_hist",
          "yref": "y"
         },
         {
          "font": {
           "color": "#FFFFFF"
          },
          "showarrow": false,
          "text": "0.0",
          "x": "mlp_hist",
          "xref": "x",
          "y": "mlp_hist",
          "yref": "y"
         },
         {
          "font": {
           "color": "#000000"
          },
          "showarrow": false,
          "text": "0.892",
          "x": "simpleVGG_hist_dataAug",
          "xref": "x",
          "y": "mlp_hist",
          "yref": "y"
         },
         {
          "font": {
           "color": "#000000"
          },
          "showarrow": false,
          "text": "0.889",
          "x": "CNNDropout_hist",
          "xref": "x",
          "y": "mlp_hist",
          "yref": "y"
         },
         {
          "font": {
           "color": "#000000"
          },
          "showarrow": false,
          "text": "0.882",
          "x": "wideResnet_hist_dataAug",
          "xref": "x",
          "y": "mlp_hist",
          "yref": "y"
         },
         {
          "font": {
           "color": "#000000"
          },
          "showarrow": false,
          "text": "0.898",
          "x": "CNNBatchNorm_hist",
          "xref": "x",
          "y": "mlp_hist",
          "yref": "y"
         },
         {
          "font": {
           "color": "#000000"
          },
          "showarrow": false,
          "text": "0.913",
          "x": "CNNBatchNorm_hist_dataAug",
          "xref": "x",
          "y": "mlp_hist",
          "yref": "y"
         },
         {
          "font": {
           "color": "#000000"
          },
          "showarrow": false,
          "text": "0.874",
          "x": "simpleCNN_hist",
          "xref": "x",
          "y": "mlp_hist",
          "yref": "y"
         },
         {
          "font": {
           "color": "#000000"
          },
          "showarrow": false,
          "text": "0.886",
          "x": "simpleCNN_hist_dataAug",
          "xref": "x",
          "y": "mlp_hist",
          "yref": "y"
         },
         {
          "font": {
           "color": "#000000"
          },
          "showarrow": false,
          "text": "0.899",
          "x": "simpleResnet_hist_dataAug",
          "xref": "x",
          "y": "mlp_hist",
          "yref": "y"
         },
         {
          "font": {
           "color": "#000000"
          },
          "showarrow": false,
          "text": "0.88",
          "x": "wideResnet_hist",
          "xref": "x",
          "y": "mlp_hist",
          "yref": "y"
         },
         {
          "font": {
           "color": "#000000"
          },
          "showarrow": false,
          "text": "0.676",
          "x": "simpleInception_hist_dataAug",
          "xref": "x",
          "y": "mlp_hist",
          "yref": "y"
         },
         {
          "font": {
           "color": "#000000"
          },
          "showarrow": false,
          "text": "0.898",
          "x": "simpleResnet_hist",
          "xref": "x",
          "y": "mlp_hist",
          "yref": "y"
         },
         {
          "font": {
           "color": "#000000"
          },
          "showarrow": false,
          "text": "0.896",
          "x": "simpleVGG_hist",
          "xref": "x",
          "y": "mlp_hist",
          "yref": "y"
         },
         {
          "font": {
           "color": "#000000"
          },
          "showarrow": false,
          "text": "0.897",
          "x": "simpleInception_hist",
          "xref": "x",
          "y": "mlp_hist",
          "yref": "y"
         },
         {
          "font": {
           "color": "#FFFFFF"
          },
          "showarrow": false,
          "text": "0.0",
          "x": "CNNDropout_hist_dataAug",
          "xref": "x",
          "y": "simpleVGG_hist_dataAug",
          "yref": "y"
         },
         {
          "font": {
           "color": "#FFFFFF"
          },
          "showarrow": false,
          "text": "0.0",
          "x": "mobileNetV2_hist_dataAug",
          "xref": "x",
          "y": "simpleVGG_hist_dataAug",
          "yref": "y"
         },
         {
          "font": {
           "color": "#FFFFFF"
          },
          "showarrow": false,
          "text": "0.0",
          "x": "mobileNetV2_hist",
          "xref": "x",
          "y": "simpleVGG_hist_dataAug",
          "yref": "y"
         },
         {
          "font": {
           "color": "#FFFFFF"
          },
          "showarrow": false,
          "text": "0.0",
          "x": "mlp_hist",
          "xref": "x",
          "y": "simpleVGG_hist_dataAug",
          "yref": "y"
         },
         {
          "font": {
           "color": "#FFFFFF"
          },
          "showarrow": false,
          "text": "0.0",
          "x": "simpleVGG_hist_dataAug",
          "xref": "x",
          "y": "simpleVGG_hist_dataAug",
          "yref": "y"
         },
         {
          "font": {
           "color": "#000000"
          },
          "showarrow": false,
          "text": "0.933",
          "x": "CNNDropout_hist",
          "xref": "x",
          "y": "simpleVGG_hist_dataAug",
          "yref": "y"
         },
         {
          "font": {
           "color": "#000000"
          },
          "showarrow": false,
          "text": "0.933",
          "x": "wideResnet_hist_dataAug",
          "xref": "x",
          "y": "simpleVGG_hist_dataAug",
          "yref": "y"
         },
         {
          "font": {
           "color": "#000000"
          },
          "showarrow": false,
          "text": "0.95",
          "x": "CNNBatchNorm_hist",
          "xref": "x",
          "y": "simpleVGG_hist_dataAug",
          "yref": "y"
         },
         {
          "font": {
           "color": "#000000"
          },
          "showarrow": false,
          "text": "0.909",
          "x": "CNNBatchNorm_hist_dataAug",
          "xref": "x",
          "y": "simpleVGG_hist_dataAug",
          "yref": "y"
         },
         {
          "font": {
           "color": "#000000"
          },
          "showarrow": false,
          "text": "0.912",
          "x": "simpleCNN_hist",
          "xref": "x",
          "y": "simpleVGG_hist_dataAug",
          "yref": "y"
         },
         {
          "font": {
           "color": "#000000"
          },
          "showarrow": false,
          "text": "0.919",
          "x": "simpleCNN_hist_dataAug",
          "xref": "x",
          "y": "simpleVGG_hist_dataAug",
          "yref": "y"
         },
         {
          "font": {
           "color": "#000000"
          },
          "showarrow": false,
          "text": "0.936",
          "x": "simpleResnet_hist_dataAug",
          "xref": "x",
          "y": "simpleVGG_hist_dataAug",
          "yref": "y"
         },
         {
          "font": {
           "color": "#000000"
          },
          "showarrow": false,
          "text": "0.931",
          "x": "wideResnet_hist",
          "xref": "x",
          "y": "simpleVGG_hist_dataAug",
          "yref": "y"
         },
         {
          "font": {
           "color": "#000000"
          },
          "showarrow": false,
          "text": "0.697",
          "x": "simpleInception_hist_dataAug",
          "xref": "x",
          "y": "simpleVGG_hist_dataAug",
          "yref": "y"
         },
         {
          "font": {
           "color": "#000000"
          },
          "showarrow": false,
          "text": "0.926",
          "x": "simpleResnet_hist",
          "xref": "x",
          "y": "simpleVGG_hist_dataAug",
          "yref": "y"
         },
         {
          "font": {
           "color": "#000000"
          },
          "showarrow": false,
          "text": "0.945",
          "x": "simpleVGG_hist",
          "xref": "x",
          "y": "simpleVGG_hist_dataAug",
          "yref": "y"
         },
         {
          "font": {
           "color": "#000000"
          },
          "showarrow": false,
          "text": "0.92",
          "x": "simpleInception_hist",
          "xref": "x",
          "y": "simpleVGG_hist_dataAug",
          "yref": "y"
         },
         {
          "font": {
           "color": "#FFFFFF"
          },
          "showarrow": false,
          "text": "0.0",
          "x": "CNNDropout_hist_dataAug",
          "xref": "x",
          "y": "CNNDropout_hist",
          "yref": "y"
         },
         {
          "font": {
           "color": "#FFFFFF"
          },
          "showarrow": false,
          "text": "0.0",
          "x": "mobileNetV2_hist_dataAug",
          "xref": "x",
          "y": "CNNDropout_hist",
          "yref": "y"
         },
         {
          "font": {
           "color": "#FFFFFF"
          },
          "showarrow": false,
          "text": "0.0",
          "x": "mobileNetV2_hist",
          "xref": "x",
          "y": "CNNDropout_hist",
          "yref": "y"
         },
         {
          "font": {
           "color": "#FFFFFF"
          },
          "showarrow": false,
          "text": "0.0",
          "x": "mlp_hist",
          "xref": "x",
          "y": "CNNDropout_hist",
          "yref": "y"
         },
         {
          "font": {
           "color": "#FFFFFF"
          },
          "showarrow": false,
          "text": "0.0",
          "x": "simpleVGG_hist_dataAug",
          "xref": "x",
          "y": "CNNDropout_hist",
          "yref": "y"
         },
         {
          "font": {
           "color": "#FFFFFF"
          },
          "showarrow": false,
          "text": "0.0",
          "x": "CNNDropout_hist",
          "xref": "x",
          "y": "CNNDropout_hist",
          "yref": "y"
         },
         {
          "font": {
           "color": "#000000"
          },
          "showarrow": false,
          "text": "0.914",
          "x": "wideResnet_hist_dataAug",
          "xref": "x",
          "y": "CNNDropout_hist",
          "yref": "y"
         },
         {
          "font": {
           "color": "#000000"
          },
          "showarrow": false,
          "text": "0.939",
          "x": "CNNBatchNorm_hist",
          "xref": "x",
          "y": "CNNDropout_hist",
          "yref": "y"
         },
         {
          "font": {
           "color": "#000000"
          },
          "showarrow": false,
          "text": "0.911",
          "x": "CNNBatchNorm_hist_dataAug",
          "xref": "x",
          "y": "CNNDropout_hist",
          "yref": "y"
         },
         {
          "font": {
           "color": "#000000"
          },
          "showarrow": false,
          "text": "0.909",
          "x": "simpleCNN_hist",
          "xref": "x",
          "y": "CNNDropout_hist",
          "yref": "y"
         },
         {
          "font": {
           "color": "#000000"
          },
          "showarrow": false,
          "text": "0.923",
          "x": "simpleCNN_hist_dataAug",
          "xref": "x",
          "y": "CNNDropout_hist",
          "yref": "y"
         },
         {
          "font": {
           "color": "#000000"
          },
          "showarrow": false,
          "text": "0.923",
          "x": "simpleResnet_hist_dataAug",
          "xref": "x",
          "y": "CNNDropout_hist",
          "yref": "y"
         },
         {
          "font": {
           "color": "#000000"
          },
          "showarrow": false,
          "text": "0.907",
          "x": "wideResnet_hist",
          "xref": "x",
          "y": "CNNDropout_hist",
          "yref": "y"
         },
         {
          "font": {
           "color": "#000000"
          },
          "showarrow": false,
          "text": "0.695",
          "x": "simpleInception_hist_dataAug",
          "xref": "x",
          "y": "CNNDropout_hist",
          "yref": "y"
         },
         {
          "font": {
           "color": "#000000"
          },
          "showarrow": false,
          "text": "0.923",
          "x": "simpleResnet_hist",
          "xref": "x",
          "y": "CNNDropout_hist",
          "yref": "y"
         },
         {
          "font": {
           "color": "#000000"
          },
          "showarrow": false,
          "text": "0.929",
          "x": "simpleVGG_hist",
          "xref": "x",
          "y": "CNNDropout_hist",
          "yref": "y"
         },
         {
          "font": {
           "color": "#000000"
          },
          "showarrow": false,
          "text": "0.916",
          "x": "simpleInception_hist",
          "xref": "x",
          "y": "CNNDropout_hist",
          "yref": "y"
         },
         {
          "font": {
           "color": "#FFFFFF"
          },
          "showarrow": false,
          "text": "0.0",
          "x": "CNNDropout_hist_dataAug",
          "xref": "x",
          "y": "wideResnet_hist_dataAug",
          "yref": "y"
         },
         {
          "font": {
           "color": "#FFFFFF"
          },
          "showarrow": false,
          "text": "0.0",
          "x": "mobileNetV2_hist_dataAug",
          "xref": "x",
          "y": "wideResnet_hist_dataAug",
          "yref": "y"
         },
         {
          "font": {
           "color": "#FFFFFF"
          },
          "showarrow": false,
          "text": "0.0",
          "x": "mobileNetV2_hist",
          "xref": "x",
          "y": "wideResnet_hist_dataAug",
          "yref": "y"
         },
         {
          "font": {
           "color": "#FFFFFF"
          },
          "showarrow": false,
          "text": "0.0",
          "x": "mlp_hist",
          "xref": "x",
          "y": "wideResnet_hist_dataAug",
          "yref": "y"
         },
         {
          "font": {
           "color": "#FFFFFF"
          },
          "showarrow": false,
          "text": "0.0",
          "x": "simpleVGG_hist_dataAug",
          "xref": "x",
          "y": "wideResnet_hist_dataAug",
          "yref": "y"
         },
         {
          "font": {
           "color": "#FFFFFF"
          },
          "showarrow": false,
          "text": "0.0",
          "x": "CNNDropout_hist",
          "xref": "x",
          "y": "wideResnet_hist_dataAug",
          "yref": "y"
         },
         {
          "font": {
           "color": "#FFFFFF"
          },
          "showarrow": false,
          "text": "0.0",
          "x": "wideResnet_hist_dataAug",
          "xref": "x",
          "y": "wideResnet_hist_dataAug",
          "yref": "y"
         },
         {
          "font": {
           "color": "#000000"
          },
          "showarrow": false,
          "text": "0.923",
          "x": "CNNBatchNorm_hist",
          "xref": "x",
          "y": "wideResnet_hist_dataAug",
          "yref": "y"
         },
         {
          "font": {
           "color": "#000000"
          },
          "showarrow": false,
          "text": "0.899",
          "x": "CNNBatchNorm_hist_dataAug",
          "xref": "x",
          "y": "wideResnet_hist_dataAug",
          "yref": "y"
         },
         {
          "font": {
           "color": "#000000"
          },
          "showarrow": false,
          "text": "0.895",
          "x": "simpleCNN_hist",
          "xref": "x",
          "y": "wideResnet_hist_dataAug",
          "yref": "y"
         },
         {
          "font": {
           "color": "#000000"
          },
          "showarrow": false,
          "text": "0.895",
          "x": "simpleCNN_hist_dataAug",
          "xref": "x",
          "y": "wideResnet_hist_dataAug",
          "yref": "y"
         },
         {
          "font": {
           "color": "#000000"
          },
          "showarrow": false,
          "text": "0.92",
          "x": "simpleResnet_hist_dataAug",
          "xref": "x",
          "y": "wideResnet_hist_dataAug",
          "yref": "y"
         },
         {
          "font": {
           "color": "#000000"
          },
          "showarrow": false,
          "text": "0.927",
          "x": "wideResnet_hist",
          "xref": "x",
          "y": "wideResnet_hist_dataAug",
          "yref": "y"
         },
         {
          "font": {
           "color": "#000000"
          },
          "showarrow": false,
          "text": "0.688",
          "x": "simpleInception_hist_dataAug",
          "xref": "x",
          "y": "wideResnet_hist_dataAug",
          "yref": "y"
         },
         {
          "font": {
           "color": "#000000"
          },
          "showarrow": false,
          "text": "0.91",
          "x": "simpleResnet_hist",
          "xref": "x",
          "y": "wideResnet_hist_dataAug",
          "yref": "y"
         },
         {
          "font": {
           "color": "#000000"
          },
          "showarrow": false,
          "text": "0.929",
          "x": "simpleVGG_hist",
          "xref": "x",
          "y": "wideResnet_hist_dataAug",
          "yref": "y"
         },
         {
          "font": {
           "color": "#000000"
          },
          "showarrow": false,
          "text": "0.912",
          "x": "simpleInception_hist",
          "xref": "x",
          "y": "wideResnet_hist_dataAug",
          "yref": "y"
         },
         {
          "font": {
           "color": "#FFFFFF"
          },
          "showarrow": false,
          "text": "0.0",
          "x": "CNNDropout_hist_dataAug",
          "xref": "x",
          "y": "CNNBatchNorm_hist",
          "yref": "y"
         },
         {
          "font": {
           "color": "#FFFFFF"
          },
          "showarrow": false,
          "text": "0.0",
          "x": "mobileNetV2_hist_dataAug",
          "xref": "x",
          "y": "CNNBatchNorm_hist",
          "yref": "y"
         },
         {
          "font": {
           "color": "#FFFFFF"
          },
          "showarrow": false,
          "text": "0.0",
          "x": "mobileNetV2_hist",
          "xref": "x",
          "y": "CNNBatchNorm_hist",
          "yref": "y"
         },
         {
          "font": {
           "color": "#FFFFFF"
          },
          "showarrow": false,
          "text": "0.0",
          "x": "mlp_hist",
          "xref": "x",
          "y": "CNNBatchNorm_hist",
          "yref": "y"
         },
         {
          "font": {
           "color": "#FFFFFF"
          },
          "showarrow": false,
          "text": "0.0",
          "x": "simpleVGG_hist_dataAug",
          "xref": "x",
          "y": "CNNBatchNorm_hist",
          "yref": "y"
         },
         {
          "font": {
           "color": "#FFFFFF"
          },
          "showarrow": false,
          "text": "0.0",
          "x": "CNNDropout_hist",
          "xref": "x",
          "y": "CNNBatchNorm_hist",
          "yref": "y"
         },
         {
          "font": {
           "color": "#FFFFFF"
          },
          "showarrow": false,
          "text": "0.0",
          "x": "wideResnet_hist_dataAug",
          "xref": "x",
          "y": "CNNBatchNorm_hist",
          "yref": "y"
         },
         {
          "font": {
           "color": "#FFFFFF"
          },
          "showarrow": false,
          "text": "0.0",
          "x": "CNNBatchNorm_hist",
          "xref": "x",
          "y": "CNNBatchNorm_hist",
          "yref": "y"
         },
         {
          "font": {
           "color": "#000000"
          },
          "showarrow": false,
          "text": "0.912",
          "x": "CNNBatchNorm_hist_dataAug",
          "xref": "x",
          "y": "CNNBatchNorm_hist",
          "yref": "y"
         },
         {
          "font": {
           "color": "#000000"
          },
          "showarrow": false,
          "text": "0.907",
          "x": "simpleCNN_hist",
          "xref": "x",
          "y": "CNNBatchNorm_hist",
          "yref": "y"
         },
         {
          "font": {
           "color": "#000000"
          },
          "showarrow": false,
          "text": "0.917",
          "x": "simpleCNN_hist_dataAug",
          "xref": "x",
          "y": "CNNBatchNorm_hist",
          "yref": "y"
         },
         {
          "font": {
           "color": "#000000"
          },
          "showarrow": false,
          "text": "0.934",
          "x": "simpleResnet_hist_dataAug",
          "xref": "x",
          "y": "CNNBatchNorm_hist",
          "yref": "y"
         },
         {
          "font": {
           "color": "#000000"
          },
          "showarrow": false,
          "text": "0.924",
          "x": "wideResnet_hist",
          "xref": "x",
          "y": "CNNBatchNorm_hist",
          "yref": "y"
         },
         {
          "font": {
           "color": "#000000"
          },
          "showarrow": false,
          "text": "0.699",
          "x": "simpleInception_hist_dataAug",
          "xref": "x",
          "y": "CNNBatchNorm_hist",
          "yref": "y"
         },
         {
          "font": {
           "color": "#000000"
          },
          "showarrow": false,
          "text": "0.929",
          "x": "simpleResnet_hist",
          "xref": "x",
          "y": "CNNBatchNorm_hist",
          "yref": "y"
         },
         {
          "font": {
           "color": "#000000"
          },
          "showarrow": false,
          "text": "0.942",
          "x": "simpleVGG_hist",
          "xref": "x",
          "y": "CNNBatchNorm_hist",
          "yref": "y"
         },
         {
          "font": {
           "color": "#000000"
          },
          "showarrow": false,
          "text": "0.923",
          "x": "simpleInception_hist",
          "xref": "x",
          "y": "CNNBatchNorm_hist",
          "yref": "y"
         },
         {
          "font": {
           "color": "#FFFFFF"
          },
          "showarrow": false,
          "text": "0.0",
          "x": "CNNDropout_hist_dataAug",
          "xref": "x",
          "y": "CNNBatchNorm_hist_dataAug",
          "yref": "y"
         },
         {
          "font": {
           "color": "#FFFFFF"
          },
          "showarrow": false,
          "text": "0.0",
          "x": "mobileNetV2_hist_dataAug",
          "xref": "x",
          "y": "CNNBatchNorm_hist_dataAug",
          "yref": "y"
         },
         {
          "font": {
           "color": "#FFFFFF"
          },
          "showarrow": false,
          "text": "0.0",
          "x": "mobileNetV2_hist",
          "xref": "x",
          "y": "CNNBatchNorm_hist_dataAug",
          "yref": "y"
         },
         {
          "font": {
           "color": "#FFFFFF"
          },
          "showarrow": false,
          "text": "0.0",
          "x": "mlp_hist",
          "xref": "x",
          "y": "CNNBatchNorm_hist_dataAug",
          "yref": "y"
         },
         {
          "font": {
           "color": "#FFFFFF"
          },
          "showarrow": false,
          "text": "0.0",
          "x": "simpleVGG_hist_dataAug",
          "xref": "x",
          "y": "CNNBatchNorm_hist_dataAug",
          "yref": "y"
         },
         {
          "font": {
           "color": "#FFFFFF"
          },
          "showarrow": false,
          "text": "0.0",
          "x": "CNNDropout_hist",
          "xref": "x",
          "y": "CNNBatchNorm_hist_dataAug",
          "yref": "y"
         },
         {
          "font": {
           "color": "#FFFFFF"
          },
          "showarrow": false,
          "text": "0.0",
          "x": "wideResnet_hist_dataAug",
          "xref": "x",
          "y": "CNNBatchNorm_hist_dataAug",
          "yref": "y"
         },
         {
          "font": {
           "color": "#FFFFFF"
          },
          "showarrow": false,
          "text": "0.0",
          "x": "CNNBatchNorm_hist",
          "xref": "x",
          "y": "CNNBatchNorm_hist_dataAug",
          "yref": "y"
         },
         {
          "font": {
           "color": "#FFFFFF"
          },
          "showarrow": false,
          "text": "0.0",
          "x": "CNNBatchNorm_hist_dataAug",
          "xref": "x",
          "y": "CNNBatchNorm_hist_dataAug",
          "yref": "y"
         },
         {
          "font": {
           "color": "#000000"
          },
          "showarrow": false,
          "text": "0.888",
          "x": "simpleCNN_hist",
          "xref": "x",
          "y": "CNNBatchNorm_hist_dataAug",
          "yref": "y"
         },
         {
          "font": {
           "color": "#000000"
          },
          "showarrow": false,
          "text": "0.905",
          "x": "simpleCNN_hist_dataAug",
          "xref": "x",
          "y": "CNNBatchNorm_hist_dataAug",
          "yref": "y"
         },
         {
          "font": {
           "color": "#000000"
          },
          "showarrow": false,
          "text": "0.912",
          "x": "simpleResnet_hist_dataAug",
          "xref": "x",
          "y": "CNNBatchNorm_hist_dataAug",
          "yref": "y"
         },
         {
          "font": {
           "color": "#000000"
          },
          "showarrow": false,
          "text": "0.893",
          "x": "wideResnet_hist",
          "xref": "x",
          "y": "CNNBatchNorm_hist_dataAug",
          "yref": "y"
         },
         {
          "font": {
           "color": "#000000"
          },
          "showarrow": false,
          "text": "0.681",
          "x": "simpleInception_hist_dataAug",
          "xref": "x",
          "y": "CNNBatchNorm_hist_dataAug",
          "yref": "y"
         },
         {
          "font": {
           "color": "#000000"
          },
          "showarrow": false,
          "text": "0.908",
          "x": "simpleResnet_hist",
          "xref": "x",
          "y": "CNNBatchNorm_hist_dataAug",
          "yref": "y"
         },
         {
          "font": {
           "color": "#000000"
          },
          "showarrow": false,
          "text": "0.916",
          "x": "simpleVGG_hist",
          "xref": "x",
          "y": "CNNBatchNorm_hist_dataAug",
          "yref": "y"
         },
         {
          "font": {
           "color": "#000000"
          },
          "showarrow": false,
          "text": "0.906",
          "x": "simpleInception_hist",
          "xref": "x",
          "y": "CNNBatchNorm_hist_dataAug",
          "yref": "y"
         },
         {
          "font": {
           "color": "#FFFFFF"
          },
          "showarrow": false,
          "text": "0.0",
          "x": "CNNDropout_hist_dataAug",
          "xref": "x",
          "y": "simpleCNN_hist",
          "yref": "y"
         },
         {
          "font": {
           "color": "#FFFFFF"
          },
          "showarrow": false,
          "text": "0.0",
          "x": "mobileNetV2_hist_dataAug",
          "xref": "x",
          "y": "simpleCNN_hist",
          "yref": "y"
         },
         {
          "font": {
           "color": "#FFFFFF"
          },
          "showarrow": false,
          "text": "0.0",
          "x": "mobileNetV2_hist",
          "xref": "x",
          "y": "simpleCNN_hist",
          "yref": "y"
         },
         {
          "font": {
           "color": "#FFFFFF"
          },
          "showarrow": false,
          "text": "0.0",
          "x": "mlp_hist",
          "xref": "x",
          "y": "simpleCNN_hist",
          "yref": "y"
         },
         {
          "font": {
           "color": "#FFFFFF"
          },
          "showarrow": false,
          "text": "0.0",
          "x": "simpleVGG_hist_dataAug",
          "xref": "x",
          "y": "simpleCNN_hist",
          "yref": "y"
         },
         {
          "font": {
           "color": "#FFFFFF"
          },
          "showarrow": false,
          "text": "0.0",
          "x": "CNNDropout_hist",
          "xref": "x",
          "y": "simpleCNN_hist",
          "yref": "y"
         },
         {
          "font": {
           "color": "#FFFFFF"
          },
          "showarrow": false,
          "text": "0.0",
          "x": "wideResnet_hist_dataAug",
          "xref": "x",
          "y": "simpleCNN_hist",
          "yref": "y"
         },
         {
          "font": {
           "color": "#FFFFFF"
          },
          "showarrow": false,
          "text": "0.0",
          "x": "CNNBatchNorm_hist",
          "xref": "x",
          "y": "simpleCNN_hist",
          "yref": "y"
         },
         {
          "font": {
           "color": "#FFFFFF"
          },
          "showarrow": false,
          "text": "0.0",
          "x": "CNNBatchNorm_hist_dataAug",
          "xref": "x",
          "y": "simpleCNN_hist",
          "yref": "y"
         },
         {
          "font": {
           "color": "#FFFFFF"
          },
          "showarrow": false,
          "text": "0.0",
          "x": "simpleCNN_hist",
          "xref": "x",
          "y": "simpleCNN_hist",
          "yref": "y"
         },
         {
          "font": {
           "color": "#000000"
          },
          "showarrow": false,
          "text": "0.894",
          "x": "simpleCNN_hist_dataAug",
          "xref": "x",
          "y": "simpleCNN_hist",
          "yref": "y"
         },
         {
          "font": {
           "color": "#000000"
          },
          "showarrow": false,
          "text": "0.903",
          "x": "simpleResnet_hist_dataAug",
          "xref": "x",
          "y": "simpleCNN_hist",
          "yref": "y"
         },
         {
          "font": {
           "color": "#000000"
          },
          "showarrow": false,
          "text": "0.895",
          "x": "wideResnet_hist",
          "xref": "x",
          "y": "simpleCNN_hist",
          "yref": "y"
         },
         {
          "font": {
           "color": "#000000"
          },
          "showarrow": false,
          "text": "0.682",
          "x": "simpleInception_hist_dataAug",
          "xref": "x",
          "y": "simpleCNN_hist",
          "yref": "y"
         },
         {
          "font": {
           "color": "#000000"
          },
          "showarrow": false,
          "text": "0.901",
          "x": "simpleResnet_hist",
          "xref": "x",
          "y": "simpleCNN_hist",
          "yref": "y"
         },
         {
          "font": {
           "color": "#000000"
          },
          "showarrow": false,
          "text": "0.91",
          "x": "simpleVGG_hist",
          "xref": "x",
          "y": "simpleCNN_hist",
          "yref": "y"
         },
         {
          "font": {
           "color": "#000000"
          },
          "showarrow": false,
          "text": "0.896",
          "x": "simpleInception_hist",
          "xref": "x",
          "y": "simpleCNN_hist",
          "yref": "y"
         },
         {
          "font": {
           "color": "#FFFFFF"
          },
          "showarrow": false,
          "text": "0.0",
          "x": "CNNDropout_hist_dataAug",
          "xref": "x",
          "y": "simpleCNN_hist_dataAug",
          "yref": "y"
         },
         {
          "font": {
           "color": "#FFFFFF"
          },
          "showarrow": false,
          "text": "0.0",
          "x": "mobileNetV2_hist_dataAug",
          "xref": "x",
          "y": "simpleCNN_hist_dataAug",
          "yref": "y"
         },
         {
          "font": {
           "color": "#FFFFFF"
          },
          "showarrow": false,
          "text": "0.0",
          "x": "mobileNetV2_hist",
          "xref": "x",
          "y": "simpleCNN_hist_dataAug",
          "yref": "y"
         },
         {
          "font": {
           "color": "#FFFFFF"
          },
          "showarrow": false,
          "text": "0.0",
          "x": "mlp_hist",
          "xref": "x",
          "y": "simpleCNN_hist_dataAug",
          "yref": "y"
         },
         {
          "font": {
           "color": "#FFFFFF"
          },
          "showarrow": false,
          "text": "0.0",
          "x": "simpleVGG_hist_dataAug",
          "xref": "x",
          "y": "simpleCNN_hist_dataAug",
          "yref": "y"
         },
         {
          "font": {
           "color": "#FFFFFF"
          },
          "showarrow": false,
          "text": "0.0",
          "x": "CNNDropout_hist",
          "xref": "x",
          "y": "simpleCNN_hist_dataAug",
          "yref": "y"
         },
         {
          "font": {
           "color": "#FFFFFF"
          },
          "showarrow": false,
          "text": "0.0",
          "x": "wideResnet_hist_dataAug",
          "xref": "x",
          "y": "simpleCNN_hist_dataAug",
          "yref": "y"
         },
         {
          "font": {
           "color": "#FFFFFF"
          },
          "showarrow": false,
          "text": "0.0",
          "x": "CNNBatchNorm_hist",
          "xref": "x",
          "y": "simpleCNN_hist_dataAug",
          "yref": "y"
         },
         {
          "font": {
           "color": "#FFFFFF"
          },
          "showarrow": false,
          "text": "0.0",
          "x": "CNNBatchNorm_hist_dataAug",
          "xref": "x",
          "y": "simpleCNN_hist_dataAug",
          "yref": "y"
         },
         {
          "font": {
           "color": "#FFFFFF"
          },
          "showarrow": false,
          "text": "0.0",
          "x": "simpleCNN_hist",
          "xref": "x",
          "y": "simpleCNN_hist_dataAug",
          "yref": "y"
         },
         {
          "font": {
           "color": "#FFFFFF"
          },
          "showarrow": false,
          "text": "0.0",
          "x": "simpleCNN_hist_dataAug",
          "xref": "x",
          "y": "simpleCNN_hist_dataAug",
          "yref": "y"
         },
         {
          "font": {
           "color": "#000000"
          },
          "showarrow": false,
          "text": "0.913",
          "x": "simpleResnet_hist_dataAug",
          "xref": "x",
          "y": "simpleCNN_hist_dataAug",
          "yref": "y"
         },
         {
          "font": {
           "color": "#000000"
          },
          "showarrow": false,
          "text": "0.893",
          "x": "wideResnet_hist",
          "xref": "x",
          "y": "simpleCNN_hist_dataAug",
          "yref": "y"
         },
         {
          "font": {
           "color": "#000000"
          },
          "showarrow": false,
          "text": "0.688",
          "x": "simpleInception_hist_dataAug",
          "xref": "x",
          "y": "simpleCNN_hist_dataAug",
          "yref": "y"
         },
         {
          "font": {
           "color": "#000000"
          },
          "showarrow": false,
          "text": "0.907",
          "x": "simpleResnet_hist",
          "xref": "x",
          "y": "simpleCNN_hist_dataAug",
          "yref": "y"
         },
         {
          "font": {
           "color": "#000000"
          },
          "showarrow": false,
          "text": "0.912",
          "x": "simpleVGG_hist",
          "xref": "x",
          "y": "simpleCNN_hist_dataAug",
          "yref": "y"
         },
         {
          "font": {
           "color": "#000000"
          },
          "showarrow": false,
          "text": "0.903",
          "x": "simpleInception_hist",
          "xref": "x",
          "y": "simpleCNN_hist_dataAug",
          "yref": "y"
         },
         {
          "font": {
           "color": "#FFFFFF"
          },
          "showarrow": false,
          "text": "0.0",
          "x": "CNNDropout_hist_dataAug",
          "xref": "x",
          "y": "simpleResnet_hist_dataAug",
          "yref": "y"
         },
         {
          "font": {
           "color": "#FFFFFF"
          },
          "showarrow": false,
          "text": "0.0",
          "x": "mobileNetV2_hist_dataAug",
          "xref": "x",
          "y": "simpleResnet_hist_dataAug",
          "yref": "y"
         },
         {
          "font": {
           "color": "#FFFFFF"
          },
          "showarrow": false,
          "text": "0.0",
          "x": "mobileNetV2_hist",
          "xref": "x",
          "y": "simpleResnet_hist_dataAug",
          "yref": "y"
         },
         {
          "font": {
           "color": "#FFFFFF"
          },
          "showarrow": false,
          "text": "0.0",
          "x": "mlp_hist",
          "xref": "x",
          "y": "simpleResnet_hist_dataAug",
          "yref": "y"
         },
         {
          "font": {
           "color": "#FFFFFF"
          },
          "showarrow": false,
          "text": "0.0",
          "x": "simpleVGG_hist_dataAug",
          "xref": "x",
          "y": "simpleResnet_hist_dataAug",
          "yref": "y"
         },
         {
          "font": {
           "color": "#FFFFFF"
          },
          "showarrow": false,
          "text": "0.0",
          "x": "CNNDropout_hist",
          "xref": "x",
          "y": "simpleResnet_hist_dataAug",
          "yref": "y"
         },
         {
          "font": {
           "color": "#FFFFFF"
          },
          "showarrow": false,
          "text": "0.0",
          "x": "wideResnet_hist_dataAug",
          "xref": "x",
          "y": "simpleResnet_hist_dataAug",
          "yref": "y"
         },
         {
          "font": {
           "color": "#FFFFFF"
          },
          "showarrow": false,
          "text": "0.0",
          "x": "CNNBatchNorm_hist",
          "xref": "x",
          "y": "simpleResnet_hist_dataAug",
          "yref": "y"
         },
         {
          "font": {
           "color": "#FFFFFF"
          },
          "showarrow": false,
          "text": "0.0",
          "x": "CNNBatchNorm_hist_dataAug",
          "xref": "x",
          "y": "simpleResnet_hist_dataAug",
          "yref": "y"
         },
         {
          "font": {
           "color": "#FFFFFF"
          },
          "showarrow": false,
          "text": "0.0",
          "x": "simpleCNN_hist",
          "xref": "x",
          "y": "simpleResnet_hist_dataAug",
          "yref": "y"
         },
         {
          "font": {
           "color": "#FFFFFF"
          },
          "showarrow": false,
          "text": "0.0",
          "x": "simpleCNN_hist_dataAug",
          "xref": "x",
          "y": "simpleResnet_hist_dataAug",
          "yref": "y"
         },
         {
          "font": {
           "color": "#FFFFFF"
          },
          "showarrow": false,
          "text": "0.0",
          "x": "simpleResnet_hist_dataAug",
          "xref": "x",
          "y": "simpleResnet_hist_dataAug",
          "yref": "y"
         },
         {
          "font": {
           "color": "#000000"
          },
          "showarrow": false,
          "text": "0.916",
          "x": "wideResnet_hist",
          "xref": "x",
          "y": "simpleResnet_hist_dataAug",
          "yref": "y"
         },
         {
          "font": {
           "color": "#000000"
          },
          "showarrow": false,
          "text": "0.701",
          "x": "simpleInception_hist_dataAug",
          "xref": "x",
          "y": "simpleResnet_hist_dataAug",
          "yref": "y"
         },
         {
          "font": {
           "color": "#000000"
          },
          "showarrow": false,
          "text": "0.935",
          "x": "simpleResnet_hist",
          "xref": "x",
          "y": "simpleResnet_hist_dataAug",
          "yref": "y"
         },
         {
          "font": {
           "color": "#000000"
          },
          "showarrow": false,
          "text": "0.929",
          "x": "simpleVGG_hist",
          "xref": "x",
          "y": "simpleResnet_hist_dataAug",
          "yref": "y"
         },
         {
          "font": {
           "color": "#000000"
          },
          "showarrow": false,
          "text": "0.927",
          "x": "simpleInception_hist",
          "xref": "x",
          "y": "simpleResnet_hist_dataAug",
          "yref": "y"
         },
         {
          "font": {
           "color": "#FFFFFF"
          },
          "showarrow": false,
          "text": "0.0",
          "x": "CNNDropout_hist_dataAug",
          "xref": "x",
          "y": "wideResnet_hist",
          "yref": "y"
         },
         {
          "font": {
           "color": "#FFFFFF"
          },
          "showarrow": false,
          "text": "0.0",
          "x": "mobileNetV2_hist_dataAug",
          "xref": "x",
          "y": "wideResnet_hist",
          "yref": "y"
         },
         {
          "font": {
           "color": "#FFFFFF"
          },
          "showarrow": false,
          "text": "0.0",
          "x": "mobileNetV2_hist",
          "xref": "x",
          "y": "wideResnet_hist",
          "yref": "y"
         },
         {
          "font": {
           "color": "#FFFFFF"
          },
          "showarrow": false,
          "text": "0.0",
          "x": "mlp_hist",
          "xref": "x",
          "y": "wideResnet_hist",
          "yref": "y"
         },
         {
          "font": {
           "color": "#FFFFFF"
          },
          "showarrow": false,
          "text": "0.0",
          "x": "simpleVGG_hist_dataAug",
          "xref": "x",
          "y": "wideResnet_hist",
          "yref": "y"
         },
         {
          "font": {
           "color": "#FFFFFF"
          },
          "showarrow": false,
          "text": "0.0",
          "x": "CNNDropout_hist",
          "xref": "x",
          "y": "wideResnet_hist",
          "yref": "y"
         },
         {
          "font": {
           "color": "#FFFFFF"
          },
          "showarrow": false,
          "text": "0.0",
          "x": "wideResnet_hist_dataAug",
          "xref": "x",
          "y": "wideResnet_hist",
          "yref": "y"
         },
         {
          "font": {
           "color": "#FFFFFF"
          },
          "showarrow": false,
          "text": "0.0",
          "x": "CNNBatchNorm_hist",
          "xref": "x",
          "y": "wideResnet_hist",
          "yref": "y"
         },
         {
          "font": {
           "color": "#FFFFFF"
          },
          "showarrow": false,
          "text": "0.0",
          "x": "CNNBatchNorm_hist_dataAug",
          "xref": "x",
          "y": "wideResnet_hist",
          "yref": "y"
         },
         {
          "font": {
           "color": "#FFFFFF"
          },
          "showarrow": false,
          "text": "0.0",
          "x": "simpleCNN_hist",
          "xref": "x",
          "y": "wideResnet_hist",
          "yref": "y"
         },
         {
          "font": {
           "color": "#FFFFFF"
          },
          "showarrow": false,
          "text": "0.0",
          "x": "simpleCNN_hist_dataAug",
          "xref": "x",
          "y": "wideResnet_hist",
          "yref": "y"
         },
         {
          "font": {
           "color": "#FFFFFF"
          },
          "showarrow": false,
          "text": "0.0",
          "x": "simpleResnet_hist_dataAug",
          "xref": "x",
          "y": "wideResnet_hist",
          "yref": "y"
         },
         {
          "font": {
           "color": "#FFFFFF"
          },
          "showarrow": false,
          "text": "0.0",
          "x": "wideResnet_hist",
          "xref": "x",
          "y": "wideResnet_hist",
          "yref": "y"
         },
         {
          "font": {
           "color": "#000000"
          },
          "showarrow": false,
          "text": "0.689",
          "x": "simpleInception_hist_dataAug",
          "xref": "x",
          "y": "wideResnet_hist",
          "yref": "y"
         },
         {
          "font": {
           "color": "#000000"
          },
          "showarrow": false,
          "text": "0.907",
          "x": "simpleResnet_hist",
          "xref": "x",
          "y": "wideResnet_hist",
          "yref": "y"
         },
         {
          "font": {
           "color": "#000000"
          },
          "showarrow": false,
          "text": "0.925",
          "x": "simpleVGG_hist",
          "xref": "x",
          "y": "wideResnet_hist",
          "yref": "y"
         },
         {
          "font": {
           "color": "#000000"
          },
          "showarrow": false,
          "text": "0.908",
          "x": "simpleInception_hist",
          "xref": "x",
          "y": "wideResnet_hist",
          "yref": "y"
         },
         {
          "font": {
           "color": "#FFFFFF"
          },
          "showarrow": false,
          "text": "0.0",
          "x": "CNNDropout_hist_dataAug",
          "xref": "x",
          "y": "simpleInception_hist_dataAug",
          "yref": "y"
         },
         {
          "font": {
           "color": "#FFFFFF"
          },
          "showarrow": false,
          "text": "0.0",
          "x": "mobileNetV2_hist_dataAug",
          "xref": "x",
          "y": "simpleInception_hist_dataAug",
          "yref": "y"
         },
         {
          "font": {
           "color": "#FFFFFF"
          },
          "showarrow": false,
          "text": "0.0",
          "x": "mobileNetV2_hist",
          "xref": "x",
          "y": "simpleInception_hist_dataAug",
          "yref": "y"
         },
         {
          "font": {
           "color": "#FFFFFF"
          },
          "showarrow": false,
          "text": "0.0",
          "x": "mlp_hist",
          "xref": "x",
          "y": "simpleInception_hist_dataAug",
          "yref": "y"
         },
         {
          "font": {
           "color": "#FFFFFF"
          },
          "showarrow": false,
          "text": "0.0",
          "x": "simpleVGG_hist_dataAug",
          "xref": "x",
          "y": "simpleInception_hist_dataAug",
          "yref": "y"
         },
         {
          "font": {
           "color": "#FFFFFF"
          },
          "showarrow": false,
          "text": "0.0",
          "x": "CNNDropout_hist",
          "xref": "x",
          "y": "simpleInception_hist_dataAug",
          "yref": "y"
         },
         {
          "font": {
           "color": "#FFFFFF"
          },
          "showarrow": false,
          "text": "0.0",
          "x": "wideResnet_hist_dataAug",
          "xref": "x",
          "y": "simpleInception_hist_dataAug",
          "yref": "y"
         },
         {
          "font": {
           "color": "#FFFFFF"
          },
          "showarrow": false,
          "text": "0.0",
          "x": "CNNBatchNorm_hist",
          "xref": "x",
          "y": "simpleInception_hist_dataAug",
          "yref": "y"
         },
         {
          "font": {
           "color": "#FFFFFF"
          },
          "showarrow": false,
          "text": "0.0",
          "x": "CNNBatchNorm_hist_dataAug",
          "xref": "x",
          "y": "simpleInception_hist_dataAug",
          "yref": "y"
         },
         {
          "font": {
           "color": "#FFFFFF"
          },
          "showarrow": false,
          "text": "0.0",
          "x": "simpleCNN_hist",
          "xref": "x",
          "y": "simpleInception_hist_dataAug",
          "yref": "y"
         },
         {
          "font": {
           "color": "#FFFFFF"
          },
          "showarrow": false,
          "text": "0.0",
          "x": "simpleCNN_hist_dataAug",
          "xref": "x",
          "y": "simpleInception_hist_dataAug",
          "yref": "y"
         },
         {
          "font": {
           "color": "#FFFFFF"
          },
          "showarrow": false,
          "text": "0.0",
          "x": "simpleResnet_hist_dataAug",
          "xref": "x",
          "y": "simpleInception_hist_dataAug",
          "yref": "y"
         },
         {
          "font": {
           "color": "#FFFFFF"
          },
          "showarrow": false,
          "text": "0.0",
          "x": "wideResnet_hist",
          "xref": "x",
          "y": "simpleInception_hist_dataAug",
          "yref": "y"
         },
         {
          "font": {
           "color": "#FFFFFF"
          },
          "showarrow": false,
          "text": "0.0",
          "x": "simpleInception_hist_dataAug",
          "xref": "x",
          "y": "simpleInception_hist_dataAug",
          "yref": "y"
         },
         {
          "font": {
           "color": "#000000"
          },
          "showarrow": false,
          "text": "0.698",
          "x": "simpleResnet_hist",
          "xref": "x",
          "y": "simpleInception_hist_dataAug",
          "yref": "y"
         },
         {
          "font": {
           "color": "#000000"
          },
          "showarrow": false,
          "text": "0.698",
          "x": "simpleVGG_hist",
          "xref": "x",
          "y": "simpleInception_hist_dataAug",
          "yref": "y"
         },
         {
          "font": {
           "color": "#000000"
          },
          "showarrow": false,
          "text": "0.695",
          "x": "simpleInception_hist",
          "xref": "x",
          "y": "simpleInception_hist_dataAug",
          "yref": "y"
         },
         {
          "font": {
           "color": "#FFFFFF"
          },
          "showarrow": false,
          "text": "0.0",
          "x": "CNNDropout_hist_dataAug",
          "xref": "x",
          "y": "simpleResnet_hist",
          "yref": "y"
         },
         {
          "font": {
           "color": "#FFFFFF"
          },
          "showarrow": false,
          "text": "0.0",
          "x": "mobileNetV2_hist_dataAug",
          "xref": "x",
          "y": "simpleResnet_hist",
          "yref": "y"
         },
         {
          "font": {
           "color": "#FFFFFF"
          },
          "showarrow": false,
          "text": "0.0",
          "x": "mobileNetV2_hist",
          "xref": "x",
          "y": "simpleResnet_hist",
          "yref": "y"
         },
         {
          "font": {
           "color": "#FFFFFF"
          },
          "showarrow": false,
          "text": "0.0",
          "x": "mlp_hist",
          "xref": "x",
          "y": "simpleResnet_hist",
          "yref": "y"
         },
         {
          "font": {
           "color": "#FFFFFF"
          },
          "showarrow": false,
          "text": "0.0",
          "x": "simpleVGG_hist_dataAug",
          "xref": "x",
          "y": "simpleResnet_hist",
          "yref": "y"
         },
         {
          "font": {
           "color": "#FFFFFF"
          },
          "showarrow": false,
          "text": "0.0",
          "x": "CNNDropout_hist",
          "xref": "x",
          "y": "simpleResnet_hist",
          "yref": "y"
         },
         {
          "font": {
           "color": "#FFFFFF"
          },
          "showarrow": false,
          "text": "0.0",
          "x": "wideResnet_hist_dataAug",
          "xref": "x",
          "y": "simpleResnet_hist",
          "yref": "y"
         },
         {
          "font": {
           "color": "#FFFFFF"
          },
          "showarrow": false,
          "text": "0.0",
          "x": "CNNBatchNorm_hist",
          "xref": "x",
          "y": "simpleResnet_hist",
          "yref": "y"
         },
         {
          "font": {
           "color": "#FFFFFF"
          },
          "showarrow": false,
          "text": "0.0",
          "x": "CNNBatchNorm_hist_dataAug",
          "xref": "x",
          "y": "simpleResnet_hist",
          "yref": "y"
         },
         {
          "font": {
           "color": "#FFFFFF"
          },
          "showarrow": false,
          "text": "0.0",
          "x": "simpleCNN_hist",
          "xref": "x",
          "y": "simpleResnet_hist",
          "yref": "y"
         },
         {
          "font": {
           "color": "#FFFFFF"
          },
          "showarrow": false,
          "text": "0.0",
          "x": "simpleCNN_hist_dataAug",
          "xref": "x",
          "y": "simpleResnet_hist",
          "yref": "y"
         },
         {
          "font": {
           "color": "#FFFFFF"
          },
          "showarrow": false,
          "text": "0.0",
          "x": "simpleResnet_hist_dataAug",
          "xref": "x",
          "y": "simpleResnet_hist",
          "yref": "y"
         },
         {
          "font": {
           "color": "#FFFFFF"
          },
          "showarrow": false,
          "text": "0.0",
          "x": "wideResnet_hist",
          "xref": "x",
          "y": "simpleResnet_hist",
          "yref": "y"
         },
         {
          "font": {
           "color": "#FFFFFF"
          },
          "showarrow": false,
          "text": "0.0",
          "x": "simpleInception_hist_dataAug",
          "xref": "x",
          "y": "simpleResnet_hist",
          "yref": "y"
         },
         {
          "font": {
           "color": "#FFFFFF"
          },
          "showarrow": false,
          "text": "0.0",
          "x": "simpleResnet_hist",
          "xref": "x",
          "y": "simpleResnet_hist",
          "yref": "y"
         },
         {
          "font": {
           "color": "#000000"
          },
          "showarrow": false,
          "text": "0.925",
          "x": "simpleVGG_hist",
          "xref": "x",
          "y": "simpleResnet_hist",
          "yref": "y"
         },
         {
          "font": {
           "color": "#000000"
          },
          "showarrow": false,
          "text": "0.924",
          "x": "simpleInception_hist",
          "xref": "x",
          "y": "simpleResnet_hist",
          "yref": "y"
         },
         {
          "font": {
           "color": "#FFFFFF"
          },
          "showarrow": false,
          "text": "0.0",
          "x": "CNNDropout_hist_dataAug",
          "xref": "x",
          "y": "simpleVGG_hist",
          "yref": "y"
         },
         {
          "font": {
           "color": "#FFFFFF"
          },
          "showarrow": false,
          "text": "0.0",
          "x": "mobileNetV2_hist_dataAug",
          "xref": "x",
          "y": "simpleVGG_hist",
          "yref": "y"
         },
         {
          "font": {
           "color": "#FFFFFF"
          },
          "showarrow": false,
          "text": "0.0",
          "x": "mobileNetV2_hist",
          "xref": "x",
          "y": "simpleVGG_hist",
          "yref": "y"
         },
         {
          "font": {
           "color": "#FFFFFF"
          },
          "showarrow": false,
          "text": "0.0",
          "x": "mlp_hist",
          "xref": "x",
          "y": "simpleVGG_hist",
          "yref": "y"
         },
         {
          "font": {
           "color": "#FFFFFF"
          },
          "showarrow": false,
          "text": "0.0",
          "x": "simpleVGG_hist_dataAug",
          "xref": "x",
          "y": "simpleVGG_hist",
          "yref": "y"
         },
         {
          "font": {
           "color": "#FFFFFF"
          },
          "showarrow": false,
          "text": "0.0",
          "x": "CNNDropout_hist",
          "xref": "x",
          "y": "simpleVGG_hist",
          "yref": "y"
         },
         {
          "font": {
           "color": "#FFFFFF"
          },
          "showarrow": false,
          "text": "0.0",
          "x": "wideResnet_hist_dataAug",
          "xref": "x",
          "y": "simpleVGG_hist",
          "yref": "y"
         },
         {
          "font": {
           "color": "#FFFFFF"
          },
          "showarrow": false,
          "text": "0.0",
          "x": "CNNBatchNorm_hist",
          "xref": "x",
          "y": "simpleVGG_hist",
          "yref": "y"
         },
         {
          "font": {
           "color": "#FFFFFF"
          },
          "showarrow": false,
          "text": "0.0",
          "x": "CNNBatchNorm_hist_dataAug",
          "xref": "x",
          "y": "simpleVGG_hist",
          "yref": "y"
         },
         {
          "font": {
           "color": "#FFFFFF"
          },
          "showarrow": false,
          "text": "0.0",
          "x": "simpleCNN_hist",
          "xref": "x",
          "y": "simpleVGG_hist",
          "yref": "y"
         },
         {
          "font": {
           "color": "#FFFFFF"
          },
          "showarrow": false,
          "text": "0.0",
          "x": "simpleCNN_hist_dataAug",
          "xref": "x",
          "y": "simpleVGG_hist",
          "yref": "y"
         },
         {
          "font": {
           "color": "#FFFFFF"
          },
          "showarrow": false,
          "text": "0.0",
          "x": "simpleResnet_hist_dataAug",
          "xref": "x",
          "y": "simpleVGG_hist",
          "yref": "y"
         },
         {
          "font": {
           "color": "#FFFFFF"
          },
          "showarrow": false,
          "text": "0.0",
          "x": "wideResnet_hist",
          "xref": "x",
          "y": "simpleVGG_hist",
          "yref": "y"
         },
         {
          "font": {
           "color": "#FFFFFF"
          },
          "showarrow": false,
          "text": "0.0",
          "x": "simpleInception_hist_dataAug",
          "xref": "x",
          "y": "simpleVGG_hist",
          "yref": "y"
         },
         {
          "font": {
           "color": "#FFFFFF"
          },
          "showarrow": false,
          "text": "0.0",
          "x": "simpleResnet_hist",
          "xref": "x",
          "y": "simpleVGG_hist",
          "yref": "y"
         },
         {
          "font": {
           "color": "#FFFFFF"
          },
          "showarrow": false,
          "text": "0.0",
          "x": "simpleVGG_hist",
          "xref": "x",
          "y": "simpleVGG_hist",
          "yref": "y"
         },
         {
          "font": {
           "color": "#000000"
          },
          "showarrow": false,
          "text": "0.923",
          "x": "simpleInception_hist",
          "xref": "x",
          "y": "simpleVGG_hist",
          "yref": "y"
         },
         {
          "font": {
           "color": "#FFFFFF"
          },
          "showarrow": false,
          "text": "0.0",
          "x": "CNNDropout_hist_dataAug",
          "xref": "x",
          "y": "simpleInception_hist",
          "yref": "y"
         },
         {
          "font": {
           "color": "#FFFFFF"
          },
          "showarrow": false,
          "text": "0.0",
          "x": "mobileNetV2_hist_dataAug",
          "xref": "x",
          "y": "simpleInception_hist",
          "yref": "y"
         },
         {
          "font": {
           "color": "#FFFFFF"
          },
          "showarrow": false,
          "text": "0.0",
          "x": "mobileNetV2_hist",
          "xref": "x",
          "y": "simpleInception_hist",
          "yref": "y"
         },
         {
          "font": {
           "color": "#FFFFFF"
          },
          "showarrow": false,
          "text": "0.0",
          "x": "mlp_hist",
          "xref": "x",
          "y": "simpleInception_hist",
          "yref": "y"
         },
         {
          "font": {
           "color": "#FFFFFF"
          },
          "showarrow": false,
          "text": "0.0",
          "x": "simpleVGG_hist_dataAug",
          "xref": "x",
          "y": "simpleInception_hist",
          "yref": "y"
         },
         {
          "font": {
           "color": "#FFFFFF"
          },
          "showarrow": false,
          "text": "0.0",
          "x": "CNNDropout_hist",
          "xref": "x",
          "y": "simpleInception_hist",
          "yref": "y"
         },
         {
          "font": {
           "color": "#FFFFFF"
          },
          "showarrow": false,
          "text": "0.0",
          "x": "wideResnet_hist_dataAug",
          "xref": "x",
          "y": "simpleInception_hist",
          "yref": "y"
         },
         {
          "font": {
           "color": "#FFFFFF"
          },
          "showarrow": false,
          "text": "0.0",
          "x": "CNNBatchNorm_hist",
          "xref": "x",
          "y": "simpleInception_hist",
          "yref": "y"
         },
         {
          "font": {
           "color": "#FFFFFF"
          },
          "showarrow": false,
          "text": "0.0",
          "x": "CNNBatchNorm_hist_dataAug",
          "xref": "x",
          "y": "simpleInception_hist",
          "yref": "y"
         },
         {
          "font": {
           "color": "#FFFFFF"
          },
          "showarrow": false,
          "text": "0.0",
          "x": "simpleCNN_hist",
          "xref": "x",
          "y": "simpleInception_hist",
          "yref": "y"
         },
         {
          "font": {
           "color": "#FFFFFF"
          },
          "showarrow": false,
          "text": "0.0",
          "x": "simpleCNN_hist_dataAug",
          "xref": "x",
          "y": "simpleInception_hist",
          "yref": "y"
         },
         {
          "font": {
           "color": "#FFFFFF"
          },
          "showarrow": false,
          "text": "0.0",
          "x": "simpleResnet_hist_dataAug",
          "xref": "x",
          "y": "simpleInception_hist",
          "yref": "y"
         },
         {
          "font": {
           "color": "#FFFFFF"
          },
          "showarrow": false,
          "text": "0.0",
          "x": "wideResnet_hist",
          "xref": "x",
          "y": "simpleInception_hist",
          "yref": "y"
         },
         {
          "font": {
           "color": "#FFFFFF"
          },
          "showarrow": false,
          "text": "0.0",
          "x": "simpleInception_hist_dataAug",
          "xref": "x",
          "y": "simpleInception_hist",
          "yref": "y"
         },
         {
          "font": {
           "color": "#FFFFFF"
          },
          "showarrow": false,
          "text": "0.0",
          "x": "simpleResnet_hist",
          "xref": "x",
          "y": "simpleInception_hist",
          "yref": "y"
         },
         {
          "font": {
           "color": "#FFFFFF"
          },
          "showarrow": false,
          "text": "0.0",
          "x": "simpleVGG_hist",
          "xref": "x",
          "y": "simpleInception_hist",
          "yref": "y"
         },
         {
          "font": {
           "color": "#FFFFFF"
          },
          "showarrow": false,
          "text": "0.0",
          "x": "simpleInception_hist",
          "xref": "x",
          "y": "simpleInception_hist",
          "yref": "y"
         }
        ],
        "xaxis": {
         "dtick": 1,
         "gridcolor": "rgb(0, 0, 0)",
         "side": "top",
         "ticks": ""
        },
        "yaxis": {
         "dtick": 1,
         "ticks": "",
         "ticksuffix": "  "
        }
       }
      },
      "text/html": [
       "<div id=\"90a41569-3845-4955-8ffe-126c8cf7de2e\" style=\"height: 525px; width: 100%;\" class=\"plotly-graph-div\"></div><script type=\"text/javascript\">require([\"plotly\"], function(Plotly) { window.PLOTLYENV=window.PLOTLYENV || {};window.PLOTLYENV.BASE_URL=\"https://plot.ly\";Plotly.newPlot(\"90a41569-3845-4955-8ffe-126c8cf7de2e\", [{\"colorscale\": \"RdBu\", \"reversescale\": false, \"showscale\": false, \"uid\": \"bbdb5eea-332c-4c39-a155-bf29afa8e4a5\", \"x\": [\"CNNDropout_hist_dataAug\", \"mobileNetV2_hist_dataAug\", \"mobileNetV2_hist\", \"mlp_hist\", \"simpleVGG_hist_dataAug\", \"CNNDropout_hist\", \"wideResnet_hist_dataAug\", \"CNNBatchNorm_hist\", \"CNNBatchNorm_hist_dataAug\", \"simpleCNN_hist\", \"simpleCNN_hist_dataAug\", \"simpleResnet_hist_dataAug\", \"wideResnet_hist\", \"simpleInception_hist_dataAug\", \"simpleResnet_hist\", \"simpleVGG_hist\", \"simpleInception_hist\"], \"y\": [\"CNNDropout_hist_dataAug\", \"mobileNetV2_hist_dataAug\", \"mobileNetV2_hist\", \"mlp_hist\", \"simpleVGG_hist_dataAug\", \"CNNDropout_hist\", \"wideResnet_hist_dataAug\", \"CNNBatchNorm_hist\", \"CNNBatchNorm_hist_dataAug\", \"simpleCNN_hist\", \"simpleCNN_hist_dataAug\", \"simpleResnet_hist_dataAug\", \"wideResnet_hist\", \"simpleInception_hist_dataAug\", \"simpleResnet_hist\", \"simpleVGG_hist\", \"simpleInception_hist\"], \"z\": [[0.0, 0.882, 0.884, 0.88, 0.896, 0.91, 0.88, 0.906, 0.905, 0.878, 0.901, 0.894, 0.88, 0.675, 0.9, 0.895, 0.89], [0.0, 0.0, 0.903, 0.88, 0.925, 0.911, 0.905, 0.921, 0.894, 0.891, 0.9, 0.917, 0.903, 0.689, 0.908, 0.922, 0.903], [0.0, 0.0, 0.0, 0.894, 0.92, 0.913, 0.909, 0.921, 0.902, 0.894, 0.9, 0.913, 0.903, 0.687, 0.913, 0.924, 0.913], [0.0, 0.0, 0.0, 0.0, 0.892, 0.889, 0.882, 0.898, 0.913, 0.874, 0.886, 0.899, 0.88, 0.676, 0.898, 0.896, 0.897], [0.0, 0.0, 0.0, 0.0, 0.0, 0.933, 0.933, 0.95, 0.909, 0.912, 0.919, 0.936, 0.931, 0.697, 0.926, 0.945, 0.92], [0.0, 0.0, 0.0, 0.0, 0.0, 0.0, 0.914, 0.939, 0.911, 0.909, 0.923, 0.923, 0.907, 0.695, 0.923, 0.929, 0.916], [0.0, 0.0, 0.0, 0.0, 0.0, 0.0, 0.0, 0.923, 0.899, 0.895, 0.895, 0.92, 0.927, 0.688, 0.91, 0.929, 0.912], [0.0, 0.0, 0.0, 0.0, 0.0, 0.0, 0.0, 0.0, 0.912, 0.907, 0.917, 0.934, 0.924, 0.699, 0.929, 0.942, 0.923], [0.0, 0.0, 0.0, 0.0, 0.0, 0.0, 0.0, 0.0, 0.0, 0.888, 0.905, 0.912, 0.893, 0.681, 0.908, 0.916, 0.906], [0.0, 0.0, 0.0, 0.0, 0.0, 0.0, 0.0, 0.0, 0.0, 0.0, 0.894, 0.903, 0.895, 0.682, 0.901, 0.91, 0.896], [0.0, 0.0, 0.0, 0.0, 0.0, 0.0, 0.0, 0.0, 0.0, 0.0, 0.0, 0.913, 0.893, 0.688, 0.907, 0.912, 0.903], [0.0, 0.0, 0.0, 0.0, 0.0, 0.0, 0.0, 0.0, 0.0, 0.0, 0.0, 0.0, 0.916, 0.701, 0.935, 0.929, 0.927], [0.0, 0.0, 0.0, 0.0, 0.0, 0.0, 0.0, 0.0, 0.0, 0.0, 0.0, 0.0, 0.0, 0.689, 0.907, 0.925, 0.908], [0.0, 0.0, 0.0, 0.0, 0.0, 0.0, 0.0, 0.0, 0.0, 0.0, 0.0, 0.0, 0.0, 0.0, 0.698, 0.698, 0.695], [0.0, 0.0, 0.0, 0.0, 0.0, 0.0, 0.0, 0.0, 0.0, 0.0, 0.0, 0.0, 0.0, 0.0, 0.0, 0.925, 0.924], [0.0, 0.0, 0.0, 0.0, 0.0, 0.0, 0.0, 0.0, 0.0, 0.0, 0.0, 0.0, 0.0, 0.0, 0.0, 0.0, 0.923], [0.0, 0.0, 0.0, 0.0, 0.0, 0.0, 0.0, 0.0, 0.0, 0.0, 0.0, 0.0, 0.0, 0.0, 0.0, 0.0, 0.0]], \"type\": \"heatmap\"}], {\"annotations\": [{\"font\": {\"color\": \"#FFFFFF\"}, \"showarrow\": false, \"text\": \"0.0\", \"x\": \"CNNDropout_hist_dataAug\", \"xref\": \"x\", \"y\": \"CNNDropout_hist_dataAug\", \"yref\": \"y\"}, {\"font\": {\"color\": \"#000000\"}, \"showarrow\": false, \"text\": \"0.882\", \"x\": \"mobileNetV2_hist_dataAug\", \"xref\": \"x\", \"y\": \"CNNDropout_hist_dataAug\", \"yref\": \"y\"}, {\"font\": {\"color\": \"#000000\"}, \"showarrow\": false, \"text\": \"0.884\", \"x\": \"mobileNetV2_hist\", \"xref\": \"x\", \"y\": \"CNNDropout_hist_dataAug\", \"yref\": \"y\"}, {\"font\": {\"color\": \"#000000\"}, \"showarrow\": false, \"text\": \"0.88\", \"x\": \"mlp_hist\", \"xref\": \"x\", \"y\": \"CNNDropout_hist_dataAug\", \"yref\": \"y\"}, {\"font\": {\"color\": \"#000000\"}, \"showarrow\": false, \"text\": \"0.896\", \"x\": \"simpleVGG_hist_dataAug\", \"xref\": \"x\", \"y\": \"CNNDropout_hist_dataAug\", \"yref\": \"y\"}, {\"font\": {\"color\": \"#000000\"}, \"showarrow\": false, \"text\": \"0.91\", \"x\": \"CNNDropout_hist\", \"xref\": \"x\", \"y\": \"CNNDropout_hist_dataAug\", \"yref\": \"y\"}, {\"font\": {\"color\": \"#000000\"}, \"showarrow\": false, \"text\": \"0.88\", \"x\": \"wideResnet_hist_dataAug\", \"xref\": \"x\", \"y\": \"CNNDropout_hist_dataAug\", \"yref\": \"y\"}, {\"font\": {\"color\": \"#000000\"}, \"showarrow\": false, \"text\": \"0.906\", \"x\": \"CNNBatchNorm_hist\", \"xref\": \"x\", \"y\": \"CNNDropout_hist_dataAug\", \"yref\": \"y\"}, {\"font\": {\"color\": \"#000000\"}, \"showarrow\": false, \"text\": \"0.905\", \"x\": \"CNNBatchNorm_hist_dataAug\", \"xref\": \"x\", \"y\": \"CNNDropout_hist_dataAug\", \"yref\": \"y\"}, {\"font\": {\"color\": \"#000000\"}, \"showarrow\": false, \"text\": \"0.878\", \"x\": \"simpleCNN_hist\", \"xref\": \"x\", \"y\": \"CNNDropout_hist_dataAug\", \"yref\": \"y\"}, {\"font\": {\"color\": \"#000000\"}, \"showarrow\": false, \"text\": \"0.901\", \"x\": \"simpleCNN_hist_dataAug\", \"xref\": \"x\", \"y\": \"CNNDropout_hist_dataAug\", \"yref\": \"y\"}, {\"font\": {\"color\": \"#000000\"}, \"showarrow\": false, \"text\": \"0.894\", \"x\": \"simpleResnet_hist_dataAug\", \"xref\": \"x\", \"y\": \"CNNDropout_hist_dataAug\", \"yref\": \"y\"}, {\"font\": {\"color\": \"#000000\"}, \"showarrow\": false, \"text\": \"0.88\", \"x\": \"wideResnet_hist\", \"xref\": \"x\", \"y\": \"CNNDropout_hist_dataAug\", \"yref\": \"y\"}, {\"font\": {\"color\": \"#000000\"}, \"showarrow\": false, \"text\": \"0.675\", \"x\": \"simpleInception_hist_dataAug\", \"xref\": \"x\", \"y\": \"CNNDropout_hist_dataAug\", \"yref\": \"y\"}, {\"font\": {\"color\": \"#000000\"}, \"showarrow\": false, \"text\": \"0.9\", \"x\": \"simpleResnet_hist\", \"xref\": \"x\", \"y\": \"CNNDropout_hist_dataAug\", \"yref\": \"y\"}, {\"font\": {\"color\": \"#000000\"}, \"showarrow\": false, \"text\": \"0.895\", \"x\": \"simpleVGG_hist\", \"xref\": \"x\", \"y\": \"CNNDropout_hist_dataAug\", \"yref\": \"y\"}, {\"font\": {\"color\": \"#000000\"}, \"showarrow\": false, \"text\": \"0.89\", \"x\": \"simpleInception_hist\", \"xref\": \"x\", \"y\": \"CNNDropout_hist_dataAug\", \"yref\": \"y\"}, {\"font\": {\"color\": \"#FFFFFF\"}, \"showarrow\": false, \"text\": \"0.0\", \"x\": \"CNNDropout_hist_dataAug\", \"xref\": \"x\", \"y\": \"mobileNetV2_hist_dataAug\", \"yref\": \"y\"}, {\"font\": {\"color\": \"#FFFFFF\"}, \"showarrow\": false, \"text\": \"0.0\", \"x\": \"mobileNetV2_hist_dataAug\", \"xref\": \"x\", \"y\": \"mobileNetV2_hist_dataAug\", \"yref\": \"y\"}, {\"font\": {\"color\": \"#000000\"}, \"showarrow\": false, \"text\": \"0.903\", \"x\": \"mobileNetV2_hist\", \"xref\": \"x\", \"y\": \"mobileNetV2_hist_dataAug\", \"yref\": \"y\"}, {\"font\": {\"color\": \"#000000\"}, \"showarrow\": false, \"text\": \"0.88\", \"x\": \"mlp_hist\", \"xref\": \"x\", \"y\": \"mobileNetV2_hist_dataAug\", \"yref\": \"y\"}, {\"font\": {\"color\": \"#000000\"}, \"showarrow\": false, \"text\": \"0.925\", \"x\": \"simpleVGG_hist_dataAug\", \"xref\": \"x\", \"y\": \"mobileNetV2_hist_dataAug\", \"yref\": \"y\"}, {\"font\": {\"color\": \"#000000\"}, \"showarrow\": false, \"text\": \"0.911\", \"x\": \"CNNDropout_hist\", \"xref\": \"x\", \"y\": \"mobileNetV2_hist_dataAug\", \"yref\": \"y\"}, {\"font\": {\"color\": \"#000000\"}, \"showarrow\": false, \"text\": \"0.905\", \"x\": \"wideResnet_hist_dataAug\", \"xref\": \"x\", \"y\": \"mobileNetV2_hist_dataAug\", \"yref\": \"y\"}, {\"font\": {\"color\": \"#000000\"}, \"showarrow\": false, \"text\": \"0.921\", \"x\": \"CNNBatchNorm_hist\", \"xref\": \"x\", \"y\": \"mobileNetV2_hist_dataAug\", \"yref\": \"y\"}, {\"font\": {\"color\": \"#000000\"}, \"showarrow\": false, \"text\": \"0.894\", \"x\": \"CNNBatchNorm_hist_dataAug\", \"xref\": \"x\", \"y\": \"mobileNetV2_hist_dataAug\", \"yref\": \"y\"}, {\"font\": {\"color\": \"#000000\"}, \"showarrow\": false, \"text\": \"0.891\", \"x\": \"simpleCNN_hist\", \"xref\": \"x\", \"y\": \"mobileNetV2_hist_dataAug\", \"yref\": \"y\"}, {\"font\": {\"color\": \"#000000\"}, \"showarrow\": false, \"text\": \"0.9\", \"x\": \"simpleCNN_hist_dataAug\", \"xref\": \"x\", \"y\": \"mobileNetV2_hist_dataAug\", \"yref\": \"y\"}, {\"font\": {\"color\": \"#000000\"}, \"showarrow\": false, \"text\": \"0.917\", \"x\": \"simpleResnet_hist_dataAug\", \"xref\": \"x\", \"y\": \"mobileNetV2_hist_dataAug\", \"yref\": \"y\"}, {\"font\": {\"color\": \"#000000\"}, \"showarrow\": false, \"text\": \"0.903\", \"x\": \"wideResnet_hist\", \"xref\": \"x\", \"y\": \"mobileNetV2_hist_dataAug\", \"yref\": \"y\"}, {\"font\": {\"color\": \"#000000\"}, \"showarrow\": false, \"text\": \"0.689\", \"x\": \"simpleInception_hist_dataAug\", \"xref\": \"x\", \"y\": \"mobileNetV2_hist_dataAug\", \"yref\": \"y\"}, {\"font\": {\"color\": \"#000000\"}, \"showarrow\": false, \"text\": \"0.908\", \"x\": \"simpleResnet_hist\", \"xref\": \"x\", \"y\": \"mobileNetV2_hist_dataAug\", \"yref\": \"y\"}, {\"font\": {\"color\": \"#000000\"}, \"showarrow\": false, \"text\": \"0.922\", \"x\": \"simpleVGG_hist\", \"xref\": \"x\", \"y\": \"mobileNetV2_hist_dataAug\", \"yref\": \"y\"}, {\"font\": {\"color\": \"#000000\"}, \"showarrow\": false, \"text\": \"0.903\", \"x\": \"simpleInception_hist\", \"xref\": \"x\", \"y\": \"mobileNetV2_hist_dataAug\", \"yref\": \"y\"}, {\"font\": {\"color\": \"#FFFFFF\"}, \"showarrow\": false, \"text\": \"0.0\", \"x\": \"CNNDropout_hist_dataAug\", \"xref\": \"x\", \"y\": \"mobileNetV2_hist\", \"yref\": \"y\"}, {\"font\": {\"color\": \"#FFFFFF\"}, \"showarrow\": false, \"text\": \"0.0\", \"x\": \"mobileNetV2_hist_dataAug\", \"xref\": \"x\", \"y\": \"mobileNetV2_hist\", \"yref\": \"y\"}, {\"font\": {\"color\": \"#FFFFFF\"}, \"showarrow\": false, \"text\": \"0.0\", \"x\": \"mobileNetV2_hist\", \"xref\": \"x\", \"y\": \"mobileNetV2_hist\", \"yref\": \"y\"}, {\"font\": {\"color\": \"#000000\"}, \"showarrow\": false, \"text\": \"0.894\", \"x\": \"mlp_hist\", \"xref\": \"x\", \"y\": \"mobileNetV2_hist\", \"yref\": \"y\"}, {\"font\": {\"color\": \"#000000\"}, \"showarrow\": false, \"text\": \"0.92\", \"x\": \"simpleVGG_hist_dataAug\", \"xref\": \"x\", \"y\": \"mobileNetV2_hist\", \"yref\": \"y\"}, {\"font\": {\"color\": \"#000000\"}, \"showarrow\": false, \"text\": \"0.913\", \"x\": \"CNNDropout_hist\", \"xref\": \"x\", \"y\": \"mobileNetV2_hist\", \"yref\": \"y\"}, {\"font\": {\"color\": \"#000000\"}, \"showarrow\": false, \"text\": \"0.909\", \"x\": \"wideResnet_hist_dataAug\", \"xref\": \"x\", \"y\": \"mobileNetV2_hist\", \"yref\": \"y\"}, {\"font\": {\"color\": \"#000000\"}, \"showarrow\": false, \"text\": \"0.921\", \"x\": \"CNNBatchNorm_hist\", \"xref\": \"x\", \"y\": \"mobileNetV2_hist\", \"yref\": \"y\"}, {\"font\": {\"color\": \"#000000\"}, \"showarrow\": false, \"text\": \"0.902\", \"x\": \"CNNBatchNorm_hist_dataAug\", \"xref\": \"x\", \"y\": \"mobileNetV2_hist\", \"yref\": \"y\"}, {\"font\": {\"color\": \"#000000\"}, \"showarrow\": false, \"text\": \"0.894\", \"x\": \"simpleCNN_hist\", \"xref\": \"x\", \"y\": \"mobileNetV2_hist\", \"yref\": \"y\"}, {\"font\": {\"color\": \"#000000\"}, \"showarrow\": false, \"text\": \"0.9\", \"x\": \"simpleCNN_hist_dataAug\", \"xref\": \"x\", \"y\": \"mobileNetV2_hist\", \"yref\": \"y\"}, {\"font\": {\"color\": \"#000000\"}, \"showarrow\": false, \"text\": \"0.913\", \"x\": \"simpleResnet_hist_dataAug\", \"xref\": \"x\", \"y\": \"mobileNetV2_hist\", \"yref\": \"y\"}, {\"font\": {\"color\": \"#000000\"}, \"showarrow\": false, \"text\": \"0.903\", \"x\": \"wideResnet_hist\", \"xref\": \"x\", \"y\": \"mobileNetV2_hist\", \"yref\": \"y\"}, {\"font\": {\"color\": \"#000000\"}, \"showarrow\": false, \"text\": \"0.687\", \"x\": \"simpleInception_hist_dataAug\", \"xref\": \"x\", \"y\": \"mobileNetV2_hist\", \"yref\": \"y\"}, {\"font\": {\"color\": \"#000000\"}, \"showarrow\": false, \"text\": \"0.913\", \"x\": \"simpleResnet_hist\", \"xref\": \"x\", \"y\": \"mobileNetV2_hist\", \"yref\": \"y\"}, {\"font\": {\"color\": \"#000000\"}, \"showarrow\": false, \"text\": \"0.924\", \"x\": \"simpleVGG_hist\", \"xref\": \"x\", \"y\": \"mobileNetV2_hist\", \"yref\": \"y\"}, {\"font\": {\"color\": \"#000000\"}, \"showarrow\": false, \"text\": \"0.913\", \"x\": \"simpleInception_hist\", \"xref\": \"x\", \"y\": \"mobileNetV2_hist\", \"yref\": \"y\"}, {\"font\": {\"color\": \"#FFFFFF\"}, \"showarrow\": false, \"text\": \"0.0\", \"x\": \"CNNDropout_hist_dataAug\", \"xref\": \"x\", \"y\": \"mlp_hist\", \"yref\": \"y\"}, {\"font\": {\"color\": \"#FFFFFF\"}, \"showarrow\": false, \"text\": \"0.0\", \"x\": \"mobileNetV2_hist_dataAug\", \"xref\": \"x\", \"y\": \"mlp_hist\", \"yref\": \"y\"}, {\"font\": {\"color\": \"#FFFFFF\"}, \"showarrow\": false, \"text\": \"0.0\", \"x\": \"mobileNetV2_hist\", \"xref\": \"x\", \"y\": \"mlp_hist\", \"yref\": \"y\"}, {\"font\": {\"color\": \"#FFFFFF\"}, \"showarrow\": false, \"text\": \"0.0\", \"x\": \"mlp_hist\", \"xref\": \"x\", \"y\": \"mlp_hist\", \"yref\": \"y\"}, {\"font\": {\"color\": \"#000000\"}, \"showarrow\": false, \"text\": \"0.892\", \"x\": \"simpleVGG_hist_dataAug\", \"xref\": \"x\", \"y\": \"mlp_hist\", \"yref\": \"y\"}, {\"font\": {\"color\": \"#000000\"}, \"showarrow\": false, \"text\": \"0.889\", \"x\": \"CNNDropout_hist\", \"xref\": \"x\", \"y\": \"mlp_hist\", \"yref\": \"y\"}, {\"font\": {\"color\": \"#000000\"}, \"showarrow\": false, \"text\": \"0.882\", \"x\": \"wideResnet_hist_dataAug\", \"xref\": \"x\", \"y\": \"mlp_hist\", \"yref\": \"y\"}, {\"font\": {\"color\": \"#000000\"}, \"showarrow\": false, \"text\": \"0.898\", \"x\": \"CNNBatchNorm_hist\", \"xref\": \"x\", \"y\": \"mlp_hist\", \"yref\": \"y\"}, {\"font\": {\"color\": \"#000000\"}, \"showarrow\": false, \"text\": \"0.913\", \"x\": \"CNNBatchNorm_hist_dataAug\", \"xref\": \"x\", \"y\": \"mlp_hist\", \"yref\": \"y\"}, {\"font\": {\"color\": \"#000000\"}, \"showarrow\": false, \"text\": \"0.874\", \"x\": \"simpleCNN_hist\", \"xref\": \"x\", \"y\": \"mlp_hist\", \"yref\": \"y\"}, {\"font\": {\"color\": \"#000000\"}, \"showarrow\": false, \"text\": \"0.886\", \"x\": \"simpleCNN_hist_dataAug\", \"xref\": \"x\", \"y\": \"mlp_hist\", \"yref\": \"y\"}, {\"font\": {\"color\": \"#000000\"}, \"showarrow\": false, \"text\": \"0.899\", \"x\": \"simpleResnet_hist_dataAug\", \"xref\": \"x\", \"y\": \"mlp_hist\", \"yref\": \"y\"}, {\"font\": {\"color\": \"#000000\"}, \"showarrow\": false, \"text\": \"0.88\", \"x\": \"wideResnet_hist\", \"xref\": \"x\", \"y\": \"mlp_hist\", \"yref\": \"y\"}, {\"font\": {\"color\": \"#000000\"}, \"showarrow\": false, \"text\": \"0.676\", \"x\": \"simpleInception_hist_dataAug\", \"xref\": \"x\", \"y\": \"mlp_hist\", \"yref\": \"y\"}, {\"font\": {\"color\": \"#000000\"}, \"showarrow\": false, \"text\": \"0.898\", \"x\": \"simpleResnet_hist\", \"xref\": \"x\", \"y\": \"mlp_hist\", \"yref\": \"y\"}, {\"font\": {\"color\": \"#000000\"}, \"showarrow\": false, \"text\": \"0.896\", \"x\": \"simpleVGG_hist\", \"xref\": \"x\", \"y\": \"mlp_hist\", \"yref\": \"y\"}, {\"font\": {\"color\": \"#000000\"}, \"showarrow\": false, \"text\": \"0.897\", \"x\": \"simpleInception_hist\", \"xref\": \"x\", \"y\": \"mlp_hist\", \"yref\": \"y\"}, {\"font\": {\"color\": \"#FFFFFF\"}, \"showarrow\": false, \"text\": \"0.0\", \"x\": \"CNNDropout_hist_dataAug\", \"xref\": \"x\", \"y\": \"simpleVGG_hist_dataAug\", \"yref\": \"y\"}, {\"font\": {\"color\": \"#FFFFFF\"}, \"showarrow\": false, \"text\": \"0.0\", \"x\": \"mobileNetV2_hist_dataAug\", \"xref\": \"x\", \"y\": \"simpleVGG_hist_dataAug\", \"yref\": \"y\"}, {\"font\": {\"color\": \"#FFFFFF\"}, \"showarrow\": false, \"text\": \"0.0\", \"x\": \"mobileNetV2_hist\", \"xref\": \"x\", \"y\": \"simpleVGG_hist_dataAug\", \"yref\": \"y\"}, {\"font\": {\"color\": \"#FFFFFF\"}, \"showarrow\": false, \"text\": \"0.0\", \"x\": \"mlp_hist\", \"xref\": \"x\", \"y\": \"simpleVGG_hist_dataAug\", \"yref\": \"y\"}, {\"font\": {\"color\": \"#FFFFFF\"}, \"showarrow\": false, \"text\": \"0.0\", \"x\": \"simpleVGG_hist_dataAug\", \"xref\": \"x\", \"y\": \"simpleVGG_hist_dataAug\", \"yref\": \"y\"}, {\"font\": {\"color\": \"#000000\"}, \"showarrow\": false, \"text\": \"0.933\", \"x\": \"CNNDropout_hist\", \"xref\": \"x\", \"y\": \"simpleVGG_hist_dataAug\", \"yref\": \"y\"}, {\"font\": {\"color\": \"#000000\"}, \"showarrow\": false, \"text\": \"0.933\", \"x\": \"wideResnet_hist_dataAug\", \"xref\": \"x\", \"y\": \"simpleVGG_hist_dataAug\", \"yref\": \"y\"}, {\"font\": {\"color\": \"#000000\"}, \"showarrow\": false, \"text\": \"0.95\", \"x\": \"CNNBatchNorm_hist\", \"xref\": \"x\", \"y\": \"simpleVGG_hist_dataAug\", \"yref\": \"y\"}, {\"font\": {\"color\": \"#000000\"}, \"showarrow\": false, \"text\": \"0.909\", \"x\": \"CNNBatchNorm_hist_dataAug\", \"xref\": \"x\", \"y\": \"simpleVGG_hist_dataAug\", \"yref\": \"y\"}, {\"font\": {\"color\": \"#000000\"}, \"showarrow\": false, \"text\": \"0.912\", \"x\": \"simpleCNN_hist\", \"xref\": \"x\", \"y\": \"simpleVGG_hist_dataAug\", \"yref\": \"y\"}, {\"font\": {\"color\": \"#000000\"}, \"showarrow\": false, \"text\": \"0.919\", \"x\": \"simpleCNN_hist_dataAug\", \"xref\": \"x\", \"y\": \"simpleVGG_hist_dataAug\", \"yref\": \"y\"}, {\"font\": {\"color\": \"#000000\"}, \"showarrow\": false, \"text\": \"0.936\", \"x\": \"simpleResnet_hist_dataAug\", \"xref\": \"x\", \"y\": \"simpleVGG_hist_dataAug\", \"yref\": \"y\"}, {\"font\": {\"color\": \"#000000\"}, \"showarrow\": false, \"text\": \"0.931\", \"x\": \"wideResnet_hist\", \"xref\": \"x\", \"y\": \"simpleVGG_hist_dataAug\", \"yref\": \"y\"}, {\"font\": {\"color\": \"#000000\"}, \"showarrow\": false, \"text\": \"0.697\", \"x\": \"simpleInception_hist_dataAug\", \"xref\": \"x\", \"y\": \"simpleVGG_hist_dataAug\", \"yref\": \"y\"}, {\"font\": {\"color\": \"#000000\"}, \"showarrow\": false, \"text\": \"0.926\", \"x\": \"simpleResnet_hist\", \"xref\": \"x\", \"y\": \"simpleVGG_hist_dataAug\", \"yref\": \"y\"}, {\"font\": {\"color\": \"#000000\"}, \"showarrow\": false, \"text\": \"0.945\", \"x\": \"simpleVGG_hist\", \"xref\": \"x\", \"y\": \"simpleVGG_hist_dataAug\", \"yref\": \"y\"}, {\"font\": {\"color\": \"#000000\"}, \"showarrow\": false, \"text\": \"0.92\", \"x\": \"simpleInception_hist\", \"xref\": \"x\", \"y\": \"simpleVGG_hist_dataAug\", \"yref\": \"y\"}, {\"font\": {\"color\": \"#FFFFFF\"}, \"showarrow\": false, \"text\": \"0.0\", \"x\": \"CNNDropout_hist_dataAug\", \"xref\": \"x\", \"y\": \"CNNDropout_hist\", \"yref\": \"y\"}, {\"font\": {\"color\": \"#FFFFFF\"}, \"showarrow\": false, \"text\": \"0.0\", \"x\": \"mobileNetV2_hist_dataAug\", \"xref\": \"x\", \"y\": \"CNNDropout_hist\", \"yref\": \"y\"}, {\"font\": {\"color\": \"#FFFFFF\"}, \"showarrow\": false, \"text\": \"0.0\", \"x\": \"mobileNetV2_hist\", \"xref\": \"x\", \"y\": \"CNNDropout_hist\", \"yref\": \"y\"}, {\"font\": {\"color\": \"#FFFFFF\"}, \"showarrow\": false, \"text\": \"0.0\", \"x\": \"mlp_hist\", \"xref\": \"x\", \"y\": \"CNNDropout_hist\", \"yref\": \"y\"}, {\"font\": {\"color\": \"#FFFFFF\"}, \"showarrow\": false, \"text\": \"0.0\", \"x\": \"simpleVGG_hist_dataAug\", \"xref\": \"x\", \"y\": \"CNNDropout_hist\", \"yref\": \"y\"}, {\"font\": {\"color\": \"#FFFFFF\"}, \"showarrow\": false, \"text\": \"0.0\", \"x\": \"CNNDropout_hist\", \"xref\": \"x\", \"y\": \"CNNDropout_hist\", \"yref\": \"y\"}, {\"font\": {\"color\": \"#000000\"}, \"showarrow\": false, \"text\": \"0.914\", \"x\": \"wideResnet_hist_dataAug\", \"xref\": \"x\", \"y\": \"CNNDropout_hist\", \"yref\": \"y\"}, {\"font\": {\"color\": \"#000000\"}, \"showarrow\": false, \"text\": \"0.939\", \"x\": \"CNNBatchNorm_hist\", \"xref\": \"x\", \"y\": \"CNNDropout_hist\", \"yref\": \"y\"}, {\"font\": {\"color\": \"#000000\"}, \"showarrow\": false, \"text\": \"0.911\", \"x\": \"CNNBatchNorm_hist_dataAug\", \"xref\": \"x\", \"y\": \"CNNDropout_hist\", \"yref\": \"y\"}, {\"font\": {\"color\": \"#000000\"}, \"showarrow\": false, \"text\": \"0.909\", \"x\": \"simpleCNN_hist\", \"xref\": \"x\", \"y\": \"CNNDropout_hist\", \"yref\": \"y\"}, {\"font\": {\"color\": \"#000000\"}, \"showarrow\": false, \"text\": \"0.923\", \"x\": \"simpleCNN_hist_dataAug\", \"xref\": \"x\", \"y\": \"CNNDropout_hist\", \"yref\": \"y\"}, {\"font\": {\"color\": \"#000000\"}, \"showarrow\": false, \"text\": \"0.923\", \"x\": \"simpleResnet_hist_dataAug\", \"xref\": \"x\", \"y\": \"CNNDropout_hist\", \"yref\": \"y\"}, {\"font\": {\"color\": \"#000000\"}, \"showarrow\": false, \"text\": \"0.907\", \"x\": \"wideResnet_hist\", \"xref\": \"x\", \"y\": \"CNNDropout_hist\", \"yref\": \"y\"}, {\"font\": {\"color\": \"#000000\"}, \"showarrow\": false, \"text\": \"0.695\", \"x\": \"simpleInception_hist_dataAug\", \"xref\": \"x\", \"y\": \"CNNDropout_hist\", \"yref\": \"y\"}, {\"font\": {\"color\": \"#000000\"}, \"showarrow\": false, \"text\": \"0.923\", \"x\": \"simpleResnet_hist\", \"xref\": \"x\", \"y\": \"CNNDropout_hist\", \"yref\": \"y\"}, {\"font\": {\"color\": \"#000000\"}, \"showarrow\": false, \"text\": \"0.929\", \"x\": \"simpleVGG_hist\", \"xref\": \"x\", \"y\": \"CNNDropout_hist\", \"yref\": \"y\"}, {\"font\": {\"color\": \"#000000\"}, \"showarrow\": false, \"text\": \"0.916\", \"x\": \"simpleInception_hist\", \"xref\": \"x\", \"y\": \"CNNDropout_hist\", \"yref\": \"y\"}, {\"font\": {\"color\": \"#FFFFFF\"}, \"showarrow\": false, \"text\": \"0.0\", \"x\": \"CNNDropout_hist_dataAug\", \"xref\": \"x\", \"y\": \"wideResnet_hist_dataAug\", \"yref\": \"y\"}, {\"font\": {\"color\": \"#FFFFFF\"}, \"showarrow\": false, \"text\": \"0.0\", \"x\": \"mobileNetV2_hist_dataAug\", \"xref\": \"x\", \"y\": \"wideResnet_hist_dataAug\", \"yref\": \"y\"}, {\"font\": {\"color\": \"#FFFFFF\"}, \"showarrow\": false, \"text\": \"0.0\", \"x\": \"mobileNetV2_hist\", \"xref\": \"x\", \"y\": \"wideResnet_hist_dataAug\", \"yref\": \"y\"}, {\"font\": {\"color\": \"#FFFFFF\"}, \"showarrow\": false, \"text\": \"0.0\", \"x\": \"mlp_hist\", \"xref\": \"x\", \"y\": \"wideResnet_hist_dataAug\", \"yref\": \"y\"}, {\"font\": {\"color\": \"#FFFFFF\"}, \"showarrow\": false, \"text\": \"0.0\", \"x\": \"simpleVGG_hist_dataAug\", \"xref\": \"x\", \"y\": \"wideResnet_hist_dataAug\", \"yref\": \"y\"}, {\"font\": {\"color\": \"#FFFFFF\"}, \"showarrow\": false, \"text\": \"0.0\", \"x\": \"CNNDropout_hist\", \"xref\": \"x\", \"y\": \"wideResnet_hist_dataAug\", \"yref\": \"y\"}, {\"font\": {\"color\": \"#FFFFFF\"}, \"showarrow\": false, \"text\": \"0.0\", \"x\": \"wideResnet_hist_dataAug\", \"xref\": \"x\", \"y\": \"wideResnet_hist_dataAug\", \"yref\": \"y\"}, {\"font\": {\"color\": \"#000000\"}, \"showarrow\": false, \"text\": \"0.923\", \"x\": \"CNNBatchNorm_hist\", \"xref\": \"x\", \"y\": \"wideResnet_hist_dataAug\", \"yref\": \"y\"}, {\"font\": {\"color\": \"#000000\"}, \"showarrow\": false, \"text\": \"0.899\", \"x\": \"CNNBatchNorm_hist_dataAug\", \"xref\": \"x\", \"y\": \"wideResnet_hist_dataAug\", \"yref\": \"y\"}, {\"font\": {\"color\": \"#000000\"}, \"showarrow\": false, \"text\": \"0.895\", \"x\": \"simpleCNN_hist\", \"xref\": \"x\", \"y\": \"wideResnet_hist_dataAug\", \"yref\": \"y\"}, {\"font\": {\"color\": \"#000000\"}, \"showarrow\": false, \"text\": \"0.895\", \"x\": \"simpleCNN_hist_dataAug\", \"xref\": \"x\", \"y\": \"wideResnet_hist_dataAug\", \"yref\": \"y\"}, {\"font\": {\"color\": \"#000000\"}, \"showarrow\": false, \"text\": \"0.92\", \"x\": \"simpleResnet_hist_dataAug\", \"xref\": \"x\", \"y\": \"wideResnet_hist_dataAug\", \"yref\": \"y\"}, {\"font\": {\"color\": \"#000000\"}, \"showarrow\": false, \"text\": \"0.927\", \"x\": \"wideResnet_hist\", \"xref\": \"x\", \"y\": \"wideResnet_hist_dataAug\", \"yref\": \"y\"}, {\"font\": {\"color\": \"#000000\"}, \"showarrow\": false, \"text\": \"0.688\", \"x\": \"simpleInception_hist_dataAug\", \"xref\": \"x\", \"y\": \"wideResnet_hist_dataAug\", \"yref\": \"y\"}, {\"font\": {\"color\": \"#000000\"}, \"showarrow\": false, \"text\": \"0.91\", \"x\": \"simpleResnet_hist\", \"xref\": \"x\", \"y\": \"wideResnet_hist_dataAug\", \"yref\": \"y\"}, {\"font\": {\"color\": \"#000000\"}, \"showarrow\": false, \"text\": \"0.929\", \"x\": \"simpleVGG_hist\", \"xref\": \"x\", \"y\": \"wideResnet_hist_dataAug\", \"yref\": \"y\"}, {\"font\": {\"color\": \"#000000\"}, \"showarrow\": false, \"text\": \"0.912\", \"x\": \"simpleInception_hist\", \"xref\": \"x\", \"y\": \"wideResnet_hist_dataAug\", \"yref\": \"y\"}, {\"font\": {\"color\": \"#FFFFFF\"}, \"showarrow\": false, \"text\": \"0.0\", \"x\": \"CNNDropout_hist_dataAug\", \"xref\": \"x\", \"y\": \"CNNBatchNorm_hist\", \"yref\": \"y\"}, {\"font\": {\"color\": \"#FFFFFF\"}, \"showarrow\": false, \"text\": \"0.0\", \"x\": \"mobileNetV2_hist_dataAug\", \"xref\": \"x\", \"y\": \"CNNBatchNorm_hist\", \"yref\": \"y\"}, {\"font\": {\"color\": \"#FFFFFF\"}, \"showarrow\": false, \"text\": \"0.0\", \"x\": \"mobileNetV2_hist\", \"xref\": \"x\", \"y\": \"CNNBatchNorm_hist\", \"yref\": \"y\"}, {\"font\": {\"color\": \"#FFFFFF\"}, \"showarrow\": false, \"text\": \"0.0\", \"x\": \"mlp_hist\", \"xref\": \"x\", \"y\": \"CNNBatchNorm_hist\", \"yref\": \"y\"}, {\"font\": {\"color\": \"#FFFFFF\"}, \"showarrow\": false, \"text\": \"0.0\", \"x\": \"simpleVGG_hist_dataAug\", \"xref\": \"x\", \"y\": \"CNNBatchNorm_hist\", \"yref\": \"y\"}, {\"font\": {\"color\": \"#FFFFFF\"}, \"showarrow\": false, \"text\": \"0.0\", \"x\": \"CNNDropout_hist\", \"xref\": \"x\", \"y\": \"CNNBatchNorm_hist\", \"yref\": \"y\"}, {\"font\": {\"color\": \"#FFFFFF\"}, \"showarrow\": false, \"text\": \"0.0\", \"x\": \"wideResnet_hist_dataAug\", \"xref\": \"x\", \"y\": \"CNNBatchNorm_hist\", \"yref\": \"y\"}, {\"font\": {\"color\": \"#FFFFFF\"}, \"showarrow\": false, \"text\": \"0.0\", \"x\": \"CNNBatchNorm_hist\", \"xref\": \"x\", \"y\": \"CNNBatchNorm_hist\", \"yref\": \"y\"}, {\"font\": {\"color\": \"#000000\"}, \"showarrow\": false, \"text\": \"0.912\", \"x\": \"CNNBatchNorm_hist_dataAug\", \"xref\": \"x\", \"y\": \"CNNBatchNorm_hist\", \"yref\": \"y\"}, {\"font\": {\"color\": \"#000000\"}, \"showarrow\": false, \"text\": \"0.907\", \"x\": \"simpleCNN_hist\", \"xref\": \"x\", \"y\": \"CNNBatchNorm_hist\", \"yref\": \"y\"}, {\"font\": {\"color\": \"#000000\"}, \"showarrow\": false, \"text\": \"0.917\", \"x\": \"simpleCNN_hist_dataAug\", \"xref\": \"x\", \"y\": \"CNNBatchNorm_hist\", \"yref\": \"y\"}, {\"font\": {\"color\": \"#000000\"}, \"showarrow\": false, \"text\": \"0.934\", \"x\": \"simpleResnet_hist_dataAug\", \"xref\": \"x\", \"y\": \"CNNBatchNorm_hist\", \"yref\": \"y\"}, {\"font\": {\"color\": \"#000000\"}, \"showarrow\": false, \"text\": \"0.924\", \"x\": \"wideResnet_hist\", \"xref\": \"x\", \"y\": \"CNNBatchNorm_hist\", \"yref\": \"y\"}, {\"font\": {\"color\": \"#000000\"}, \"showarrow\": false, \"text\": \"0.699\", \"x\": \"simpleInception_hist_dataAug\", \"xref\": \"x\", \"y\": \"CNNBatchNorm_hist\", \"yref\": \"y\"}, {\"font\": {\"color\": \"#000000\"}, \"showarrow\": false, \"text\": \"0.929\", \"x\": \"simpleResnet_hist\", \"xref\": \"x\", \"y\": \"CNNBatchNorm_hist\", \"yref\": \"y\"}, {\"font\": {\"color\": \"#000000\"}, \"showarrow\": false, \"text\": \"0.942\", \"x\": \"simpleVGG_hist\", \"xref\": \"x\", \"y\": \"CNNBatchNorm_hist\", \"yref\": \"y\"}, {\"font\": {\"color\": \"#000000\"}, \"showarrow\": false, \"text\": \"0.923\", \"x\": \"simpleInception_hist\", \"xref\": \"x\", \"y\": \"CNNBatchNorm_hist\", \"yref\": \"y\"}, {\"font\": {\"color\": \"#FFFFFF\"}, \"showarrow\": false, \"text\": \"0.0\", \"x\": \"CNNDropout_hist_dataAug\", \"xref\": \"x\", \"y\": \"CNNBatchNorm_hist_dataAug\", \"yref\": \"y\"}, {\"font\": {\"color\": \"#FFFFFF\"}, \"showarrow\": false, \"text\": \"0.0\", \"x\": \"mobileNetV2_hist_dataAug\", \"xref\": \"x\", \"y\": \"CNNBatchNorm_hist_dataAug\", \"yref\": \"y\"}, {\"font\": {\"color\": \"#FFFFFF\"}, \"showarrow\": false, \"text\": \"0.0\", \"x\": \"mobileNetV2_hist\", \"xref\": \"x\", \"y\": \"CNNBatchNorm_hist_dataAug\", \"yref\": \"y\"}, {\"font\": {\"color\": \"#FFFFFF\"}, \"showarrow\": false, \"text\": \"0.0\", \"x\": \"mlp_hist\", \"xref\": \"x\", \"y\": \"CNNBatchNorm_hist_dataAug\", \"yref\": \"y\"}, {\"font\": {\"color\": \"#FFFFFF\"}, \"showarrow\": false, \"text\": \"0.0\", \"x\": \"simpleVGG_hist_dataAug\", \"xref\": \"x\", \"y\": \"CNNBatchNorm_hist_dataAug\", \"yref\": \"y\"}, {\"font\": {\"color\": \"#FFFFFF\"}, \"showarrow\": false, \"text\": \"0.0\", \"x\": \"CNNDropout_hist\", \"xref\": \"x\", \"y\": \"CNNBatchNorm_hist_dataAug\", \"yref\": \"y\"}, {\"font\": {\"color\": \"#FFFFFF\"}, \"showarrow\": false, \"text\": \"0.0\", \"x\": \"wideResnet_hist_dataAug\", \"xref\": \"x\", \"y\": \"CNNBatchNorm_hist_dataAug\", \"yref\": \"y\"}, {\"font\": {\"color\": \"#FFFFFF\"}, \"showarrow\": false, \"text\": \"0.0\", \"x\": \"CNNBatchNorm_hist\", \"xref\": \"x\", \"y\": \"CNNBatchNorm_hist_dataAug\", \"yref\": \"y\"}, {\"font\": {\"color\": \"#FFFFFF\"}, \"showarrow\": false, \"text\": \"0.0\", \"x\": \"CNNBatchNorm_hist_dataAug\", \"xref\": \"x\", \"y\": \"CNNBatchNorm_hist_dataAug\", \"yref\": \"y\"}, {\"font\": {\"color\": \"#000000\"}, \"showarrow\": false, \"text\": \"0.888\", \"x\": \"simpleCNN_hist\", \"xref\": \"x\", \"y\": \"CNNBatchNorm_hist_dataAug\", \"yref\": \"y\"}, {\"font\": {\"color\": \"#000000\"}, \"showarrow\": false, \"text\": \"0.905\", \"x\": \"simpleCNN_hist_dataAug\", \"xref\": \"x\", \"y\": \"CNNBatchNorm_hist_dataAug\", \"yref\": \"y\"}, {\"font\": {\"color\": \"#000000\"}, \"showarrow\": false, \"text\": \"0.912\", \"x\": \"simpleResnet_hist_dataAug\", \"xref\": \"x\", \"y\": \"CNNBatchNorm_hist_dataAug\", \"yref\": \"y\"}, {\"font\": {\"color\": \"#000000\"}, \"showarrow\": false, \"text\": \"0.893\", \"x\": \"wideResnet_hist\", \"xref\": \"x\", \"y\": \"CNNBatchNorm_hist_dataAug\", \"yref\": \"y\"}, {\"font\": {\"color\": \"#000000\"}, \"showarrow\": false, \"text\": \"0.681\", \"x\": \"simpleInception_hist_dataAug\", \"xref\": \"x\", \"y\": \"CNNBatchNorm_hist_dataAug\", \"yref\": \"y\"}, {\"font\": {\"color\": \"#000000\"}, \"showarrow\": false, \"text\": \"0.908\", \"x\": \"simpleResnet_hist\", \"xref\": \"x\", \"y\": \"CNNBatchNorm_hist_dataAug\", \"yref\": \"y\"}, {\"font\": {\"color\": \"#000000\"}, \"showarrow\": false, \"text\": \"0.916\", \"x\": \"simpleVGG_hist\", \"xref\": \"x\", \"y\": \"CNNBatchNorm_hist_dataAug\", \"yref\": \"y\"}, {\"font\": {\"color\": \"#000000\"}, \"showarrow\": false, \"text\": \"0.906\", \"x\": \"simpleInception_hist\", \"xref\": \"x\", \"y\": \"CNNBatchNorm_hist_dataAug\", \"yref\": \"y\"}, {\"font\": {\"color\": \"#FFFFFF\"}, \"showarrow\": false, \"text\": \"0.0\", \"x\": \"CNNDropout_hist_dataAug\", \"xref\": \"x\", \"y\": \"simpleCNN_hist\", \"yref\": \"y\"}, {\"font\": {\"color\": \"#FFFFFF\"}, \"showarrow\": false, \"text\": \"0.0\", \"x\": \"mobileNetV2_hist_dataAug\", \"xref\": \"x\", \"y\": \"simpleCNN_hist\", \"yref\": \"y\"}, {\"font\": {\"color\": \"#FFFFFF\"}, \"showarrow\": false, \"text\": \"0.0\", \"x\": \"mobileNetV2_hist\", \"xref\": \"x\", \"y\": \"simpleCNN_hist\", \"yref\": \"y\"}, {\"font\": {\"color\": \"#FFFFFF\"}, \"showarrow\": false, \"text\": \"0.0\", \"x\": \"mlp_hist\", \"xref\": \"x\", \"y\": \"simpleCNN_hist\", \"yref\": \"y\"}, {\"font\": {\"color\": \"#FFFFFF\"}, \"showarrow\": false, \"text\": \"0.0\", \"x\": \"simpleVGG_hist_dataAug\", \"xref\": \"x\", \"y\": \"simpleCNN_hist\", \"yref\": \"y\"}, {\"font\": {\"color\": \"#FFFFFF\"}, \"showarrow\": false, \"text\": \"0.0\", \"x\": \"CNNDropout_hist\", \"xref\": \"x\", \"y\": \"simpleCNN_hist\", \"yref\": \"y\"}, {\"font\": {\"color\": \"#FFFFFF\"}, \"showarrow\": false, \"text\": \"0.0\", \"x\": \"wideResnet_hist_dataAug\", \"xref\": \"x\", \"y\": \"simpleCNN_hist\", \"yref\": \"y\"}, {\"font\": {\"color\": \"#FFFFFF\"}, \"showarrow\": false, \"text\": \"0.0\", \"x\": \"CNNBatchNorm_hist\", \"xref\": \"x\", \"y\": \"simpleCNN_hist\", \"yref\": \"y\"}, {\"font\": {\"color\": \"#FFFFFF\"}, \"showarrow\": false, \"text\": \"0.0\", \"x\": \"CNNBatchNorm_hist_dataAug\", \"xref\": \"x\", \"y\": \"simpleCNN_hist\", \"yref\": \"y\"}, {\"font\": {\"color\": \"#FFFFFF\"}, \"showarrow\": false, \"text\": \"0.0\", \"x\": \"simpleCNN_hist\", \"xref\": \"x\", \"y\": \"simpleCNN_hist\", \"yref\": \"y\"}, {\"font\": {\"color\": \"#000000\"}, \"showarrow\": false, \"text\": \"0.894\", \"x\": \"simpleCNN_hist_dataAug\", \"xref\": \"x\", \"y\": \"simpleCNN_hist\", \"yref\": \"y\"}, {\"font\": {\"color\": \"#000000\"}, \"showarrow\": false, \"text\": \"0.903\", \"x\": \"simpleResnet_hist_dataAug\", \"xref\": \"x\", \"y\": \"simpleCNN_hist\", \"yref\": \"y\"}, {\"font\": {\"color\": \"#000000\"}, \"showarrow\": false, \"text\": \"0.895\", \"x\": \"wideResnet_hist\", \"xref\": \"x\", \"y\": \"simpleCNN_hist\", \"yref\": \"y\"}, {\"font\": {\"color\": \"#000000\"}, \"showarrow\": false, \"text\": \"0.682\", \"x\": \"simpleInception_hist_dataAug\", \"xref\": \"x\", \"y\": \"simpleCNN_hist\", \"yref\": \"y\"}, {\"font\": {\"color\": \"#000000\"}, \"showarrow\": false, \"text\": \"0.901\", \"x\": \"simpleResnet_hist\", \"xref\": \"x\", \"y\": \"simpleCNN_hist\", \"yref\": \"y\"}, {\"font\": {\"color\": \"#000000\"}, \"showarrow\": false, \"text\": \"0.91\", \"x\": \"simpleVGG_hist\", \"xref\": \"x\", \"y\": \"simpleCNN_hist\", \"yref\": \"y\"}, {\"font\": {\"color\": \"#000000\"}, \"showarrow\": false, \"text\": \"0.896\", \"x\": \"simpleInception_hist\", \"xref\": \"x\", \"y\": \"simpleCNN_hist\", \"yref\": \"y\"}, {\"font\": {\"color\": \"#FFFFFF\"}, \"showarrow\": false, \"text\": \"0.0\", \"x\": \"CNNDropout_hist_dataAug\", \"xref\": \"x\", \"y\": \"simpleCNN_hist_dataAug\", \"yref\": \"y\"}, {\"font\": {\"color\": \"#FFFFFF\"}, \"showarrow\": false, \"text\": \"0.0\", \"x\": \"mobileNetV2_hist_dataAug\", \"xref\": \"x\", \"y\": \"simpleCNN_hist_dataAug\", \"yref\": \"y\"}, {\"font\": {\"color\": \"#FFFFFF\"}, \"showarrow\": false, \"text\": \"0.0\", \"x\": \"mobileNetV2_hist\", \"xref\": \"x\", \"y\": \"simpleCNN_hist_dataAug\", \"yref\": \"y\"}, {\"font\": {\"color\": \"#FFFFFF\"}, \"showarrow\": false, \"text\": \"0.0\", \"x\": \"mlp_hist\", \"xref\": \"x\", \"y\": \"simpleCNN_hist_dataAug\", \"yref\": \"y\"}, {\"font\": {\"color\": \"#FFFFFF\"}, \"showarrow\": false, \"text\": \"0.0\", \"x\": \"simpleVGG_hist_dataAug\", \"xref\": \"x\", \"y\": \"simpleCNN_hist_dataAug\", \"yref\": \"y\"}, {\"font\": {\"color\": \"#FFFFFF\"}, \"showarrow\": false, \"text\": \"0.0\", \"x\": \"CNNDropout_hist\", \"xref\": \"x\", \"y\": \"simpleCNN_hist_dataAug\", \"yref\": \"y\"}, {\"font\": {\"color\": \"#FFFFFF\"}, \"showarrow\": false, \"text\": \"0.0\", \"x\": \"wideResnet_hist_dataAug\", \"xref\": \"x\", \"y\": \"simpleCNN_hist_dataAug\", \"yref\": \"y\"}, {\"font\": {\"color\": \"#FFFFFF\"}, \"showarrow\": false, \"text\": \"0.0\", \"x\": \"CNNBatchNorm_hist\", \"xref\": \"x\", \"y\": \"simpleCNN_hist_dataAug\", \"yref\": \"y\"}, {\"font\": {\"color\": \"#FFFFFF\"}, \"showarrow\": false, \"text\": \"0.0\", \"x\": \"CNNBatchNorm_hist_dataAug\", \"xref\": \"x\", \"y\": \"simpleCNN_hist_dataAug\", \"yref\": \"y\"}, {\"font\": {\"color\": \"#FFFFFF\"}, \"showarrow\": false, \"text\": \"0.0\", \"x\": \"simpleCNN_hist\", \"xref\": \"x\", \"y\": \"simpleCNN_hist_dataAug\", \"yref\": \"y\"}, {\"font\": {\"color\": \"#FFFFFF\"}, \"showarrow\": false, \"text\": \"0.0\", \"x\": \"simpleCNN_hist_dataAug\", \"xref\": \"x\", \"y\": \"simpleCNN_hist_dataAug\", \"yref\": \"y\"}, {\"font\": {\"color\": \"#000000\"}, \"showarrow\": false, \"text\": \"0.913\", \"x\": \"simpleResnet_hist_dataAug\", \"xref\": \"x\", \"y\": \"simpleCNN_hist_dataAug\", \"yref\": \"y\"}, {\"font\": {\"color\": \"#000000\"}, \"showarrow\": false, \"text\": \"0.893\", \"x\": \"wideResnet_hist\", \"xref\": \"x\", \"y\": \"simpleCNN_hist_dataAug\", \"yref\": \"y\"}, {\"font\": {\"color\": \"#000000\"}, \"showarrow\": false, \"text\": \"0.688\", \"x\": \"simpleInception_hist_dataAug\", \"xref\": \"x\", \"y\": \"simpleCNN_hist_dataAug\", \"yref\": \"y\"}, {\"font\": {\"color\": \"#000000\"}, \"showarrow\": false, \"text\": \"0.907\", \"x\": \"simpleResnet_hist\", \"xref\": \"x\", \"y\": \"simpleCNN_hist_dataAug\", \"yref\": \"y\"}, {\"font\": {\"color\": \"#000000\"}, \"showarrow\": false, \"text\": \"0.912\", \"x\": \"simpleVGG_hist\", \"xref\": \"x\", \"y\": \"simpleCNN_hist_dataAug\", \"yref\": \"y\"}, {\"font\": {\"color\": \"#000000\"}, \"showarrow\": false, \"text\": \"0.903\", \"x\": \"simpleInception_hist\", \"xref\": \"x\", \"y\": \"simpleCNN_hist_dataAug\", \"yref\": \"y\"}, {\"font\": {\"color\": \"#FFFFFF\"}, \"showarrow\": false, \"text\": \"0.0\", \"x\": \"CNNDropout_hist_dataAug\", \"xref\": \"x\", \"y\": \"simpleResnet_hist_dataAug\", \"yref\": \"y\"}, {\"font\": {\"color\": \"#FFFFFF\"}, \"showarrow\": false, \"text\": \"0.0\", \"x\": \"mobileNetV2_hist_dataAug\", \"xref\": \"x\", \"y\": \"simpleResnet_hist_dataAug\", \"yref\": \"y\"}, {\"font\": {\"color\": \"#FFFFFF\"}, \"showarrow\": false, \"text\": \"0.0\", \"x\": \"mobileNetV2_hist\", \"xref\": \"x\", \"y\": \"simpleResnet_hist_dataAug\", \"yref\": \"y\"}, {\"font\": {\"color\": \"#FFFFFF\"}, \"showarrow\": false, \"text\": \"0.0\", \"x\": \"mlp_hist\", \"xref\": \"x\", \"y\": \"simpleResnet_hist_dataAug\", \"yref\": \"y\"}, {\"font\": {\"color\": \"#FFFFFF\"}, \"showarrow\": false, \"text\": \"0.0\", \"x\": \"simpleVGG_hist_dataAug\", \"xref\": \"x\", \"y\": \"simpleResnet_hist_dataAug\", \"yref\": \"y\"}, {\"font\": {\"color\": \"#FFFFFF\"}, \"showarrow\": false, \"text\": \"0.0\", \"x\": \"CNNDropout_hist\", \"xref\": \"x\", \"y\": \"simpleResnet_hist_dataAug\", \"yref\": \"y\"}, {\"font\": {\"color\": \"#FFFFFF\"}, \"showarrow\": false, \"text\": \"0.0\", \"x\": \"wideResnet_hist_dataAug\", \"xref\": \"x\", \"y\": \"simpleResnet_hist_dataAug\", \"yref\": \"y\"}, {\"font\": {\"color\": \"#FFFFFF\"}, \"showarrow\": false, \"text\": \"0.0\", \"x\": \"CNNBatchNorm_hist\", \"xref\": \"x\", \"y\": \"simpleResnet_hist_dataAug\", \"yref\": \"y\"}, {\"font\": {\"color\": \"#FFFFFF\"}, \"showarrow\": false, \"text\": \"0.0\", \"x\": \"CNNBatchNorm_hist_dataAug\", \"xref\": \"x\", \"y\": \"simpleResnet_hist_dataAug\", \"yref\": \"y\"}, {\"font\": {\"color\": \"#FFFFFF\"}, \"showarrow\": false, \"text\": \"0.0\", \"x\": \"simpleCNN_hist\", \"xref\": \"x\", \"y\": \"simpleResnet_hist_dataAug\", \"yref\": \"y\"}, {\"font\": {\"color\": \"#FFFFFF\"}, \"showarrow\": false, \"text\": \"0.0\", \"x\": \"simpleCNN_hist_dataAug\", \"xref\": \"x\", \"y\": \"simpleResnet_hist_dataAug\", \"yref\": \"y\"}, {\"font\": {\"color\": \"#FFFFFF\"}, \"showarrow\": false, \"text\": \"0.0\", \"x\": \"simpleResnet_hist_dataAug\", \"xref\": \"x\", \"y\": \"simpleResnet_hist_dataAug\", \"yref\": \"y\"}, {\"font\": {\"color\": \"#000000\"}, \"showarrow\": false, \"text\": \"0.916\", \"x\": \"wideResnet_hist\", \"xref\": \"x\", \"y\": \"simpleResnet_hist_dataAug\", \"yref\": \"y\"}, {\"font\": {\"color\": \"#000000\"}, \"showarrow\": false, \"text\": \"0.701\", \"x\": \"simpleInception_hist_dataAug\", \"xref\": \"x\", \"y\": \"simpleResnet_hist_dataAug\", \"yref\": \"y\"}, {\"font\": {\"color\": \"#000000\"}, \"showarrow\": false, \"text\": \"0.935\", \"x\": \"simpleResnet_hist\", \"xref\": \"x\", \"y\": \"simpleResnet_hist_dataAug\", \"yref\": \"y\"}, {\"font\": {\"color\": \"#000000\"}, \"showarrow\": false, \"text\": \"0.929\", \"x\": \"simpleVGG_hist\", \"xref\": \"x\", \"y\": \"simpleResnet_hist_dataAug\", \"yref\": \"y\"}, {\"font\": {\"color\": \"#000000\"}, \"showarrow\": false, \"text\": \"0.927\", \"x\": \"simpleInception_hist\", \"xref\": \"x\", \"y\": \"simpleResnet_hist_dataAug\", \"yref\": \"y\"}, {\"font\": {\"color\": \"#FFFFFF\"}, \"showarrow\": false, \"text\": \"0.0\", \"x\": \"CNNDropout_hist_dataAug\", \"xref\": \"x\", \"y\": \"wideResnet_hist\", \"yref\": \"y\"}, {\"font\": {\"color\": \"#FFFFFF\"}, \"showarrow\": false, \"text\": \"0.0\", \"x\": \"mobileNetV2_hist_dataAug\", \"xref\": \"x\", \"y\": \"wideResnet_hist\", \"yref\": \"y\"}, {\"font\": {\"color\": \"#FFFFFF\"}, \"showarrow\": false, \"text\": \"0.0\", \"x\": \"mobileNetV2_hist\", \"xref\": \"x\", \"y\": \"wideResnet_hist\", \"yref\": \"y\"}, {\"font\": {\"color\": \"#FFFFFF\"}, \"showarrow\": false, \"text\": \"0.0\", \"x\": \"mlp_hist\", \"xref\": \"x\", \"y\": \"wideResnet_hist\", \"yref\": \"y\"}, {\"font\": {\"color\": \"#FFFFFF\"}, \"showarrow\": false, \"text\": \"0.0\", \"x\": \"simpleVGG_hist_dataAug\", \"xref\": \"x\", \"y\": \"wideResnet_hist\", \"yref\": \"y\"}, {\"font\": {\"color\": \"#FFFFFF\"}, \"showarrow\": false, \"text\": \"0.0\", \"x\": \"CNNDropout_hist\", \"xref\": \"x\", \"y\": \"wideResnet_hist\", \"yref\": \"y\"}, {\"font\": {\"color\": \"#FFFFFF\"}, \"showarrow\": false, \"text\": \"0.0\", \"x\": \"wideResnet_hist_dataAug\", \"xref\": \"x\", \"y\": \"wideResnet_hist\", \"yref\": \"y\"}, {\"font\": {\"color\": \"#FFFFFF\"}, \"showarrow\": false, \"text\": \"0.0\", \"x\": \"CNNBatchNorm_hist\", \"xref\": \"x\", \"y\": \"wideResnet_hist\", \"yref\": \"y\"}, {\"font\": {\"color\": \"#FFFFFF\"}, \"showarrow\": false, \"text\": \"0.0\", \"x\": \"CNNBatchNorm_hist_dataAug\", \"xref\": \"x\", \"y\": \"wideResnet_hist\", \"yref\": \"y\"}, {\"font\": {\"color\": \"#FFFFFF\"}, \"showarrow\": false, \"text\": \"0.0\", \"x\": \"simpleCNN_hist\", \"xref\": \"x\", \"y\": \"wideResnet_hist\", \"yref\": \"y\"}, {\"font\": {\"color\": \"#FFFFFF\"}, \"showarrow\": false, \"text\": \"0.0\", \"x\": \"simpleCNN_hist_dataAug\", \"xref\": \"x\", \"y\": \"wideResnet_hist\", \"yref\": \"y\"}, {\"font\": {\"color\": \"#FFFFFF\"}, \"showarrow\": false, \"text\": \"0.0\", \"x\": \"simpleResnet_hist_dataAug\", \"xref\": \"x\", \"y\": \"wideResnet_hist\", \"yref\": \"y\"}, {\"font\": {\"color\": \"#FFFFFF\"}, \"showarrow\": false, \"text\": \"0.0\", \"x\": \"wideResnet_hist\", \"xref\": \"x\", \"y\": \"wideResnet_hist\", \"yref\": \"y\"}, {\"font\": {\"color\": \"#000000\"}, \"showarrow\": false, \"text\": \"0.689\", \"x\": \"simpleInception_hist_dataAug\", \"xref\": \"x\", \"y\": \"wideResnet_hist\", \"yref\": \"y\"}, {\"font\": {\"color\": \"#000000\"}, \"showarrow\": false, \"text\": \"0.907\", \"x\": \"simpleResnet_hist\", \"xref\": \"x\", \"y\": \"wideResnet_hist\", \"yref\": \"y\"}, {\"font\": {\"color\": \"#000000\"}, \"showarrow\": false, \"text\": \"0.925\", \"x\": \"simpleVGG_hist\", \"xref\": \"x\", \"y\": \"wideResnet_hist\", \"yref\": \"y\"}, {\"font\": {\"color\": \"#000000\"}, \"showarrow\": false, \"text\": \"0.908\", \"x\": \"simpleInception_hist\", \"xref\": \"x\", \"y\": \"wideResnet_hist\", \"yref\": \"y\"}, {\"font\": {\"color\": \"#FFFFFF\"}, \"showarrow\": false, \"text\": \"0.0\", \"x\": \"CNNDropout_hist_dataAug\", \"xref\": \"x\", \"y\": \"simpleInception_hist_dataAug\", \"yref\": \"y\"}, {\"font\": {\"color\": \"#FFFFFF\"}, \"showarrow\": false, \"text\": \"0.0\", \"x\": \"mobileNetV2_hist_dataAug\", \"xref\": \"x\", \"y\": \"simpleInception_hist_dataAug\", \"yref\": \"y\"}, {\"font\": {\"color\": \"#FFFFFF\"}, \"showarrow\": false, \"text\": \"0.0\", \"x\": \"mobileNetV2_hist\", \"xref\": \"x\", \"y\": \"simpleInception_hist_dataAug\", \"yref\": \"y\"}, {\"font\": {\"color\": \"#FFFFFF\"}, \"showarrow\": false, \"text\": \"0.0\", \"x\": \"mlp_hist\", \"xref\": \"x\", \"y\": \"simpleInception_hist_dataAug\", \"yref\": \"y\"}, {\"font\": {\"color\": \"#FFFFFF\"}, \"showarrow\": false, \"text\": \"0.0\", \"x\": \"simpleVGG_hist_dataAug\", \"xref\": \"x\", \"y\": \"simpleInception_hist_dataAug\", \"yref\": \"y\"}, {\"font\": {\"color\": \"#FFFFFF\"}, \"showarrow\": false, \"text\": \"0.0\", \"x\": \"CNNDropout_hist\", \"xref\": \"x\", \"y\": \"simpleInception_hist_dataAug\", \"yref\": \"y\"}, {\"font\": {\"color\": \"#FFFFFF\"}, \"showarrow\": false, \"text\": \"0.0\", \"x\": \"wideResnet_hist_dataAug\", \"xref\": \"x\", \"y\": \"simpleInception_hist_dataAug\", \"yref\": \"y\"}, {\"font\": {\"color\": \"#FFFFFF\"}, \"showarrow\": false, \"text\": \"0.0\", \"x\": \"CNNBatchNorm_hist\", \"xref\": \"x\", \"y\": \"simpleInception_hist_dataAug\", \"yref\": \"y\"}, {\"font\": {\"color\": \"#FFFFFF\"}, \"showarrow\": false, \"text\": \"0.0\", \"x\": \"CNNBatchNorm_hist_dataAug\", \"xref\": \"x\", \"y\": \"simpleInception_hist_dataAug\", \"yref\": \"y\"}, {\"font\": {\"color\": \"#FFFFFF\"}, \"showarrow\": false, \"text\": \"0.0\", \"x\": \"simpleCNN_hist\", \"xref\": \"x\", \"y\": \"simpleInception_hist_dataAug\", \"yref\": \"y\"}, {\"font\": {\"color\": \"#FFFFFF\"}, \"showarrow\": false, \"text\": \"0.0\", \"x\": \"simpleCNN_hist_dataAug\", \"xref\": \"x\", \"y\": \"simpleInception_hist_dataAug\", \"yref\": \"y\"}, {\"font\": {\"color\": \"#FFFFFF\"}, \"showarrow\": false, \"text\": \"0.0\", \"x\": \"simpleResnet_hist_dataAug\", \"xref\": \"x\", \"y\": \"simpleInception_hist_dataAug\", \"yref\": \"y\"}, {\"font\": {\"color\": \"#FFFFFF\"}, \"showarrow\": false, \"text\": \"0.0\", \"x\": \"wideResnet_hist\", \"xref\": \"x\", \"y\": \"simpleInception_hist_dataAug\", \"yref\": \"y\"}, {\"font\": {\"color\": \"#FFFFFF\"}, \"showarrow\": false, \"text\": \"0.0\", \"x\": \"simpleInception_hist_dataAug\", \"xref\": \"x\", \"y\": \"simpleInception_hist_dataAug\", \"yref\": \"y\"}, {\"font\": {\"color\": \"#000000\"}, \"showarrow\": false, \"text\": \"0.698\", \"x\": \"simpleResnet_hist\", \"xref\": \"x\", \"y\": \"simpleInception_hist_dataAug\", \"yref\": \"y\"}, {\"font\": {\"color\": \"#000000\"}, \"showarrow\": false, \"text\": \"0.698\", \"x\": \"simpleVGG_hist\", \"xref\": \"x\", \"y\": \"simpleInception_hist_dataAug\", \"yref\": \"y\"}, {\"font\": {\"color\": \"#000000\"}, \"showarrow\": false, \"text\": \"0.695\", \"x\": \"simpleInception_hist\", \"xref\": \"x\", \"y\": \"simpleInception_hist_dataAug\", \"yref\": \"y\"}, {\"font\": {\"color\": \"#FFFFFF\"}, \"showarrow\": false, \"text\": \"0.0\", \"x\": \"CNNDropout_hist_dataAug\", \"xref\": \"x\", \"y\": \"simpleResnet_hist\", \"yref\": \"y\"}, {\"font\": {\"color\": \"#FFFFFF\"}, \"showarrow\": false, \"text\": \"0.0\", \"x\": \"mobileNetV2_hist_dataAug\", \"xref\": \"x\", \"y\": \"simpleResnet_hist\", \"yref\": \"y\"}, {\"font\": {\"color\": \"#FFFFFF\"}, \"showarrow\": false, \"text\": \"0.0\", \"x\": \"mobileNetV2_hist\", \"xref\": \"x\", \"y\": \"simpleResnet_hist\", \"yref\": \"y\"}, {\"font\": {\"color\": \"#FFFFFF\"}, \"showarrow\": false, \"text\": \"0.0\", \"x\": \"mlp_hist\", \"xref\": \"x\", \"y\": \"simpleResnet_hist\", \"yref\": \"y\"}, {\"font\": {\"color\": \"#FFFFFF\"}, \"showarrow\": false, \"text\": \"0.0\", \"x\": \"simpleVGG_hist_dataAug\", \"xref\": \"x\", \"y\": \"simpleResnet_hist\", \"yref\": \"y\"}, {\"font\": {\"color\": \"#FFFFFF\"}, \"showarrow\": false, \"text\": \"0.0\", \"x\": \"CNNDropout_hist\", \"xref\": \"x\", \"y\": \"simpleResnet_hist\", \"yref\": \"y\"}, {\"font\": {\"color\": \"#FFFFFF\"}, \"showarrow\": false, \"text\": \"0.0\", \"x\": \"wideResnet_hist_dataAug\", \"xref\": \"x\", \"y\": \"simpleResnet_hist\", \"yref\": \"y\"}, {\"font\": {\"color\": \"#FFFFFF\"}, \"showarrow\": false, \"text\": \"0.0\", \"x\": \"CNNBatchNorm_hist\", \"xref\": \"x\", \"y\": \"simpleResnet_hist\", \"yref\": \"y\"}, {\"font\": {\"color\": \"#FFFFFF\"}, \"showarrow\": false, \"text\": \"0.0\", \"x\": \"CNNBatchNorm_hist_dataAug\", \"xref\": \"x\", \"y\": \"simpleResnet_hist\", \"yref\": \"y\"}, {\"font\": {\"color\": \"#FFFFFF\"}, \"showarrow\": false, \"text\": \"0.0\", \"x\": \"simpleCNN_hist\", \"xref\": \"x\", \"y\": \"simpleResnet_hist\", \"yref\": \"y\"}, {\"font\": {\"color\": \"#FFFFFF\"}, \"showarrow\": false, \"text\": \"0.0\", \"x\": \"simpleCNN_hist_dataAug\", \"xref\": \"x\", \"y\": \"simpleResnet_hist\", \"yref\": \"y\"}, {\"font\": {\"color\": \"#FFFFFF\"}, \"showarrow\": false, \"text\": \"0.0\", \"x\": \"simpleResnet_hist_dataAug\", \"xref\": \"x\", \"y\": \"simpleResnet_hist\", \"yref\": \"y\"}, {\"font\": {\"color\": \"#FFFFFF\"}, \"showarrow\": false, \"text\": \"0.0\", \"x\": \"wideResnet_hist\", \"xref\": \"x\", \"y\": \"simpleResnet_hist\", \"yref\": \"y\"}, {\"font\": {\"color\": \"#FFFFFF\"}, \"showarrow\": false, \"text\": \"0.0\", \"x\": \"simpleInception_hist_dataAug\", \"xref\": \"x\", \"y\": \"simpleResnet_hist\", \"yref\": \"y\"}, {\"font\": {\"color\": \"#FFFFFF\"}, \"showarrow\": false, \"text\": \"0.0\", \"x\": \"simpleResnet_hist\", \"xref\": \"x\", \"y\": \"simpleResnet_hist\", \"yref\": \"y\"}, {\"font\": {\"color\": \"#000000\"}, \"showarrow\": false, \"text\": \"0.925\", \"x\": \"simpleVGG_hist\", \"xref\": \"x\", \"y\": \"simpleResnet_hist\", \"yref\": \"y\"}, {\"font\": {\"color\": \"#000000\"}, \"showarrow\": false, \"text\": \"0.924\", \"x\": \"simpleInception_hist\", \"xref\": \"x\", \"y\": \"simpleResnet_hist\", \"yref\": \"y\"}, {\"font\": {\"color\": \"#FFFFFF\"}, \"showarrow\": false, \"text\": \"0.0\", \"x\": \"CNNDropout_hist_dataAug\", \"xref\": \"x\", \"y\": \"simpleVGG_hist\", \"yref\": \"y\"}, {\"font\": {\"color\": \"#FFFFFF\"}, \"showarrow\": false, \"text\": \"0.0\", \"x\": \"mobileNetV2_hist_dataAug\", \"xref\": \"x\", \"y\": \"simpleVGG_hist\", \"yref\": \"y\"}, {\"font\": {\"color\": \"#FFFFFF\"}, \"showarrow\": false, \"text\": \"0.0\", \"x\": \"mobileNetV2_hist\", \"xref\": \"x\", \"y\": \"simpleVGG_hist\", \"yref\": \"y\"}, {\"font\": {\"color\": \"#FFFFFF\"}, \"showarrow\": false, \"text\": \"0.0\", \"x\": \"mlp_hist\", \"xref\": \"x\", \"y\": \"simpleVGG_hist\", \"yref\": \"y\"}, {\"font\": {\"color\": \"#FFFFFF\"}, \"showarrow\": false, \"text\": \"0.0\", \"x\": \"simpleVGG_hist_dataAug\", \"xref\": \"x\", \"y\": \"simpleVGG_hist\", \"yref\": \"y\"}, {\"font\": {\"color\": \"#FFFFFF\"}, \"showarrow\": false, \"text\": \"0.0\", \"x\": \"CNNDropout_hist\", \"xref\": \"x\", \"y\": \"simpleVGG_hist\", \"yref\": \"y\"}, {\"font\": {\"color\": \"#FFFFFF\"}, \"showarrow\": false, \"text\": \"0.0\", \"x\": \"wideResnet_hist_dataAug\", \"xref\": \"x\", \"y\": \"simpleVGG_hist\", \"yref\": \"y\"}, {\"font\": {\"color\": \"#FFFFFF\"}, \"showarrow\": false, \"text\": \"0.0\", \"x\": \"CNNBatchNorm_hist\", \"xref\": \"x\", \"y\": \"simpleVGG_hist\", \"yref\": \"y\"}, {\"font\": {\"color\": \"#FFFFFF\"}, \"showarrow\": false, \"text\": \"0.0\", \"x\": \"CNNBatchNorm_hist_dataAug\", \"xref\": \"x\", \"y\": \"simpleVGG_hist\", \"yref\": \"y\"}, {\"font\": {\"color\": \"#FFFFFF\"}, \"showarrow\": false, \"text\": \"0.0\", \"x\": \"simpleCNN_hist\", \"xref\": \"x\", \"y\": \"simpleVGG_hist\", \"yref\": \"y\"}, {\"font\": {\"color\": \"#FFFFFF\"}, \"showarrow\": false, \"text\": \"0.0\", \"x\": \"simpleCNN_hist_dataAug\", \"xref\": \"x\", \"y\": \"simpleVGG_hist\", \"yref\": \"y\"}, {\"font\": {\"color\": \"#FFFFFF\"}, \"showarrow\": false, \"text\": \"0.0\", \"x\": \"simpleResnet_hist_dataAug\", \"xref\": \"x\", \"y\": \"simpleVGG_hist\", \"yref\": \"y\"}, {\"font\": {\"color\": \"#FFFFFF\"}, \"showarrow\": false, \"text\": \"0.0\", \"x\": \"wideResnet_hist\", \"xref\": \"x\", \"y\": \"simpleVGG_hist\", \"yref\": \"y\"}, {\"font\": {\"color\": \"#FFFFFF\"}, \"showarrow\": false, \"text\": \"0.0\", \"x\": \"simpleInception_hist_dataAug\", \"xref\": \"x\", \"y\": \"simpleVGG_hist\", \"yref\": \"y\"}, {\"font\": {\"color\": \"#FFFFFF\"}, \"showarrow\": false, \"text\": \"0.0\", \"x\": \"simpleResnet_hist\", \"xref\": \"x\", \"y\": \"simpleVGG_hist\", \"yref\": \"y\"}, {\"font\": {\"color\": \"#FFFFFF\"}, \"showarrow\": false, \"text\": \"0.0\", \"x\": \"simpleVGG_hist\", \"xref\": \"x\", \"y\": \"simpleVGG_hist\", \"yref\": \"y\"}, {\"font\": {\"color\": \"#000000\"}, \"showarrow\": false, \"text\": \"0.923\", \"x\": \"simpleInception_hist\", \"xref\": \"x\", \"y\": \"simpleVGG_hist\", \"yref\": \"y\"}, {\"font\": {\"color\": \"#FFFFFF\"}, \"showarrow\": false, \"text\": \"0.0\", \"x\": \"CNNDropout_hist_dataAug\", \"xref\": \"x\", \"y\": \"simpleInception_hist\", \"yref\": \"y\"}, {\"font\": {\"color\": \"#FFFFFF\"}, \"showarrow\": false, \"text\": \"0.0\", \"x\": \"mobileNetV2_hist_dataAug\", \"xref\": \"x\", \"y\": \"simpleInception_hist\", \"yref\": \"y\"}, {\"font\": {\"color\": \"#FFFFFF\"}, \"showarrow\": false, \"text\": \"0.0\", \"x\": \"mobileNetV2_hist\", \"xref\": \"x\", \"y\": \"simpleInception_hist\", \"yref\": \"y\"}, {\"font\": {\"color\": \"#FFFFFF\"}, \"showarrow\": false, \"text\": \"0.0\", \"x\": \"mlp_hist\", \"xref\": \"x\", \"y\": \"simpleInception_hist\", \"yref\": \"y\"}, {\"font\": {\"color\": \"#FFFFFF\"}, \"showarrow\": false, \"text\": \"0.0\", \"x\": \"simpleVGG_hist_dataAug\", \"xref\": \"x\", \"y\": \"simpleInception_hist\", \"yref\": \"y\"}, {\"font\": {\"color\": \"#FFFFFF\"}, \"showarrow\": false, \"text\": \"0.0\", \"x\": \"CNNDropout_hist\", \"xref\": \"x\", \"y\": \"simpleInception_hist\", \"yref\": \"y\"}, {\"font\": {\"color\": \"#FFFFFF\"}, \"showarrow\": false, \"text\": \"0.0\", \"x\": \"wideResnet_hist_dataAug\", \"xref\": \"x\", \"y\": \"simpleInception_hist\", \"yref\": \"y\"}, {\"font\": {\"color\": \"#FFFFFF\"}, \"showarrow\": false, \"text\": \"0.0\", \"x\": \"CNNBatchNorm_hist\", \"xref\": \"x\", \"y\": \"simpleInception_hist\", \"yref\": \"y\"}, {\"font\": {\"color\": \"#FFFFFF\"}, \"showarrow\": false, \"text\": \"0.0\", \"x\": \"CNNBatchNorm_hist_dataAug\", \"xref\": \"x\", \"y\": \"simpleInception_hist\", \"yref\": \"y\"}, {\"font\": {\"color\": \"#FFFFFF\"}, \"showarrow\": false, \"text\": \"0.0\", \"x\": \"simpleCNN_hist\", \"xref\": \"x\", \"y\": \"simpleInception_hist\", \"yref\": \"y\"}, {\"font\": {\"color\": \"#FFFFFF\"}, \"showarrow\": false, \"text\": \"0.0\", \"x\": \"simpleCNN_hist_dataAug\", \"xref\": \"x\", \"y\": \"simpleInception_hist\", \"yref\": \"y\"}, {\"font\": {\"color\": \"#FFFFFF\"}, \"showarrow\": false, \"text\": \"0.0\", \"x\": \"simpleResnet_hist_dataAug\", \"xref\": \"x\", \"y\": \"simpleInception_hist\", \"yref\": \"y\"}, {\"font\": {\"color\": \"#FFFFFF\"}, \"showarrow\": false, \"text\": \"0.0\", \"x\": \"wideResnet_hist\", \"xref\": \"x\", \"y\": \"simpleInception_hist\", \"yref\": \"y\"}, {\"font\": {\"color\": \"#FFFFFF\"}, \"showarrow\": false, \"text\": \"0.0\", \"x\": \"simpleInception_hist_dataAug\", \"xref\": \"x\", \"y\": \"simpleInception_hist\", \"yref\": \"y\"}, {\"font\": {\"color\": \"#FFFFFF\"}, \"showarrow\": false, \"text\": \"0.0\", \"x\": \"simpleResnet_hist\", \"xref\": \"x\", \"y\": \"simpleInception_hist\", \"yref\": \"y\"}, {\"font\": {\"color\": \"#FFFFFF\"}, \"showarrow\": false, \"text\": \"0.0\", \"x\": \"simpleVGG_hist\", \"xref\": \"x\", \"y\": \"simpleInception_hist\", \"yref\": \"y\"}, {\"font\": {\"color\": \"#FFFFFF\"}, \"showarrow\": false, \"text\": \"0.0\", \"x\": \"simpleInception_hist\", \"xref\": \"x\", \"y\": \"simpleInception_hist\", \"yref\": \"y\"}], \"xaxis\": {\"dtick\": 1, \"gridcolor\": \"rgb(0, 0, 0)\", \"side\": \"top\", \"ticks\": \"\"}, \"yaxis\": {\"dtick\": 1, \"ticks\": \"\", \"ticksuffix\": \"  \"}}, {\"showLink\": false, \"linkText\": \"Export to plot.ly\", \"plotlyServerURL\": \"https://plot.ly\"})});</script><script type=\"text/javascript\">window.addEventListener(\"resize\", function(){window._Plotly.Plots.resize(document.getElementById(\"90a41569-3845-4955-8ffe-126c8cf7de2e\"));});</script>"
      ],
      "text/vnd.plotly.v1+html": [
       "<div id=\"90a41569-3845-4955-8ffe-126c8cf7de2e\" style=\"height: 525px; width: 100%;\" class=\"plotly-graph-div\"></div><script type=\"text/javascript\">require([\"plotly\"], function(Plotly) { window.PLOTLYENV=window.PLOTLYENV || {};window.PLOTLYENV.BASE_URL=\"https://plot.ly\";Plotly.newPlot(\"90a41569-3845-4955-8ffe-126c8cf7de2e\", [{\"colorscale\": \"RdBu\", \"reversescale\": false, \"showscale\": false, \"uid\": \"bbdb5eea-332c-4c39-a155-bf29afa8e4a5\", \"x\": [\"CNNDropout_hist_dataAug\", \"mobileNetV2_hist_dataAug\", \"mobileNetV2_hist\", \"mlp_hist\", \"simpleVGG_hist_dataAug\", \"CNNDropout_hist\", \"wideResnet_hist_dataAug\", \"CNNBatchNorm_hist\", \"CNNBatchNorm_hist_dataAug\", \"simpleCNN_hist\", \"simpleCNN_hist_dataAug\", \"simpleResnet_hist_dataAug\", \"wideResnet_hist\", \"simpleInception_hist_dataAug\", \"simpleResnet_hist\", \"simpleVGG_hist\", \"simpleInception_hist\"], \"y\": [\"CNNDropout_hist_dataAug\", \"mobileNetV2_hist_dataAug\", \"mobileNetV2_hist\", \"mlp_hist\", \"simpleVGG_hist_dataAug\", \"CNNDropout_hist\", \"wideResnet_hist_dataAug\", \"CNNBatchNorm_hist\", \"CNNBatchNorm_hist_dataAug\", \"simpleCNN_hist\", \"simpleCNN_hist_dataAug\", \"simpleResnet_hist_dataAug\", \"wideResnet_hist\", \"simpleInception_hist_dataAug\", \"simpleResnet_hist\", \"simpleVGG_hist\", \"simpleInception_hist\"], \"z\": [[0.0, 0.882, 0.884, 0.88, 0.896, 0.91, 0.88, 0.906, 0.905, 0.878, 0.901, 0.894, 0.88, 0.675, 0.9, 0.895, 0.89], [0.0, 0.0, 0.903, 0.88, 0.925, 0.911, 0.905, 0.921, 0.894, 0.891, 0.9, 0.917, 0.903, 0.689, 0.908, 0.922, 0.903], [0.0, 0.0, 0.0, 0.894, 0.92, 0.913, 0.909, 0.921, 0.902, 0.894, 0.9, 0.913, 0.903, 0.687, 0.913, 0.924, 0.913], [0.0, 0.0, 0.0, 0.0, 0.892, 0.889, 0.882, 0.898, 0.913, 0.874, 0.886, 0.899, 0.88, 0.676, 0.898, 0.896, 0.897], [0.0, 0.0, 0.0, 0.0, 0.0, 0.933, 0.933, 0.95, 0.909, 0.912, 0.919, 0.936, 0.931, 0.697, 0.926, 0.945, 0.92], [0.0, 0.0, 0.0, 0.0, 0.0, 0.0, 0.914, 0.939, 0.911, 0.909, 0.923, 0.923, 0.907, 0.695, 0.923, 0.929, 0.916], [0.0, 0.0, 0.0, 0.0, 0.0, 0.0, 0.0, 0.923, 0.899, 0.895, 0.895, 0.92, 0.927, 0.688, 0.91, 0.929, 0.912], [0.0, 0.0, 0.0, 0.0, 0.0, 0.0, 0.0, 0.0, 0.912, 0.907, 0.917, 0.934, 0.924, 0.699, 0.929, 0.942, 0.923], [0.0, 0.0, 0.0, 0.0, 0.0, 0.0, 0.0, 0.0, 0.0, 0.888, 0.905, 0.912, 0.893, 0.681, 0.908, 0.916, 0.906], [0.0, 0.0, 0.0, 0.0, 0.0, 0.0, 0.0, 0.0, 0.0, 0.0, 0.894, 0.903, 0.895, 0.682, 0.901, 0.91, 0.896], [0.0, 0.0, 0.0, 0.0, 0.0, 0.0, 0.0, 0.0, 0.0, 0.0, 0.0, 0.913, 0.893, 0.688, 0.907, 0.912, 0.903], [0.0, 0.0, 0.0, 0.0, 0.0, 0.0, 0.0, 0.0, 0.0, 0.0, 0.0, 0.0, 0.916, 0.701, 0.935, 0.929, 0.927], [0.0, 0.0, 0.0, 0.0, 0.0, 0.0, 0.0, 0.0, 0.0, 0.0, 0.0, 0.0, 0.0, 0.689, 0.907, 0.925, 0.908], [0.0, 0.0, 0.0, 0.0, 0.0, 0.0, 0.0, 0.0, 0.0, 0.0, 0.0, 0.0, 0.0, 0.0, 0.698, 0.698, 0.695], [0.0, 0.0, 0.0, 0.0, 0.0, 0.0, 0.0, 0.0, 0.0, 0.0, 0.0, 0.0, 0.0, 0.0, 0.0, 0.925, 0.924], [0.0, 0.0, 0.0, 0.0, 0.0, 0.0, 0.0, 0.0, 0.0, 0.0, 0.0, 0.0, 0.0, 0.0, 0.0, 0.0, 0.923], [0.0, 0.0, 0.0, 0.0, 0.0, 0.0, 0.0, 0.0, 0.0, 0.0, 0.0, 0.0, 0.0, 0.0, 0.0, 0.0, 0.0]], \"type\": \"heatmap\"}], {\"annotations\": [{\"font\": {\"color\": \"#FFFFFF\"}, \"showarrow\": false, \"text\": \"0.0\", \"x\": \"CNNDropout_hist_dataAug\", \"xref\": \"x\", \"y\": \"CNNDropout_hist_dataAug\", \"yref\": \"y\"}, {\"font\": {\"color\": \"#000000\"}, \"showarrow\": false, \"text\": \"0.882\", \"x\": \"mobileNetV2_hist_dataAug\", \"xref\": \"x\", \"y\": \"CNNDropout_hist_dataAug\", \"yref\": \"y\"}, {\"font\": {\"color\": \"#000000\"}, \"showarrow\": false, \"text\": \"0.884\", \"x\": \"mobileNetV2_hist\", \"xref\": \"x\", \"y\": \"CNNDropout_hist_dataAug\", \"yref\": \"y\"}, {\"font\": {\"color\": \"#000000\"}, \"showarrow\": false, \"text\": \"0.88\", \"x\": \"mlp_hist\", \"xref\": \"x\", \"y\": \"CNNDropout_hist_dataAug\", \"yref\": \"y\"}, {\"font\": {\"color\": \"#000000\"}, \"showarrow\": false, \"text\": \"0.896\", \"x\": \"simpleVGG_hist_dataAug\", \"xref\": \"x\", \"y\": \"CNNDropout_hist_dataAug\", \"yref\": \"y\"}, {\"font\": {\"color\": \"#000000\"}, \"showarrow\": false, \"text\": \"0.91\", \"x\": \"CNNDropout_hist\", \"xref\": \"x\", \"y\": \"CNNDropout_hist_dataAug\", \"yref\": \"y\"}, {\"font\": {\"color\": \"#000000\"}, \"showarrow\": false, \"text\": \"0.88\", \"x\": \"wideResnet_hist_dataAug\", \"xref\": \"x\", \"y\": \"CNNDropout_hist_dataAug\", \"yref\": \"y\"}, {\"font\": {\"color\": \"#000000\"}, \"showarrow\": false, \"text\": \"0.906\", \"x\": \"CNNBatchNorm_hist\", \"xref\": \"x\", \"y\": \"CNNDropout_hist_dataAug\", \"yref\": \"y\"}, {\"font\": {\"color\": \"#000000\"}, \"showarrow\": false, \"text\": \"0.905\", \"x\": \"CNNBatchNorm_hist_dataAug\", \"xref\": \"x\", \"y\": \"CNNDropout_hist_dataAug\", \"yref\": \"y\"}, {\"font\": {\"color\": \"#000000\"}, \"showarrow\": false, \"text\": \"0.878\", \"x\": \"simpleCNN_hist\", \"xref\": \"x\", \"y\": \"CNNDropout_hist_dataAug\", \"yref\": \"y\"}, {\"font\": {\"color\": \"#000000\"}, \"showarrow\": false, \"text\": \"0.901\", \"x\": \"simpleCNN_hist_dataAug\", \"xref\": \"x\", \"y\": \"CNNDropout_hist_dataAug\", \"yref\": \"y\"}, {\"font\": {\"color\": \"#000000\"}, \"showarrow\": false, \"text\": \"0.894\", \"x\": \"simpleResnet_hist_dataAug\", \"xref\": \"x\", \"y\": \"CNNDropout_hist_dataAug\", \"yref\": \"y\"}, {\"font\": {\"color\": \"#000000\"}, \"showarrow\": false, \"text\": \"0.88\", \"x\": \"wideResnet_hist\", \"xref\": \"x\", \"y\": \"CNNDropout_hist_dataAug\", \"yref\": \"y\"}, {\"font\": {\"color\": \"#000000\"}, \"showarrow\": false, \"text\": \"0.675\", \"x\": \"simpleInception_hist_dataAug\", \"xref\": \"x\", \"y\": \"CNNDropout_hist_dataAug\", \"yref\": \"y\"}, {\"font\": {\"color\": \"#000000\"}, \"showarrow\": false, \"text\": \"0.9\", \"x\": \"simpleResnet_hist\", \"xref\": \"x\", \"y\": \"CNNDropout_hist_dataAug\", \"yref\": \"y\"}, {\"font\": {\"color\": \"#000000\"}, \"showarrow\": false, \"text\": \"0.895\", \"x\": \"simpleVGG_hist\", \"xref\": \"x\", \"y\": \"CNNDropout_hist_dataAug\", \"yref\": \"y\"}, {\"font\": {\"color\": \"#000000\"}, \"showarrow\": false, \"text\": \"0.89\", \"x\": \"simpleInception_hist\", \"xref\": \"x\", \"y\": \"CNNDropout_hist_dataAug\", \"yref\": \"y\"}, {\"font\": {\"color\": \"#FFFFFF\"}, \"showarrow\": false, \"text\": \"0.0\", \"x\": \"CNNDropout_hist_dataAug\", \"xref\": \"x\", \"y\": \"mobileNetV2_hist_dataAug\", \"yref\": \"y\"}, {\"font\": {\"color\": \"#FFFFFF\"}, \"showarrow\": false, \"text\": \"0.0\", \"x\": \"mobileNetV2_hist_dataAug\", \"xref\": \"x\", \"y\": \"mobileNetV2_hist_dataAug\", \"yref\": \"y\"}, {\"font\": {\"color\": \"#000000\"}, \"showarrow\": false, \"text\": \"0.903\", \"x\": \"mobileNetV2_hist\", \"xref\": \"x\", \"y\": \"mobileNetV2_hist_dataAug\", \"yref\": \"y\"}, {\"font\": {\"color\": \"#000000\"}, \"showarrow\": false, \"text\": \"0.88\", \"x\": \"mlp_hist\", \"xref\": \"x\", \"y\": \"mobileNetV2_hist_dataAug\", \"yref\": \"y\"}, {\"font\": {\"color\": \"#000000\"}, \"showarrow\": false, \"text\": \"0.925\", \"x\": \"simpleVGG_hist_dataAug\", \"xref\": \"x\", \"y\": \"mobileNetV2_hist_dataAug\", \"yref\": \"y\"}, {\"font\": {\"color\": \"#000000\"}, \"showarrow\": false, \"text\": \"0.911\", \"x\": \"CNNDropout_hist\", \"xref\": \"x\", \"y\": \"mobileNetV2_hist_dataAug\", \"yref\": \"y\"}, {\"font\": {\"color\": \"#000000\"}, \"showarrow\": false, \"text\": \"0.905\", \"x\": \"wideResnet_hist_dataAug\", \"xref\": \"x\", \"y\": \"mobileNetV2_hist_dataAug\", \"yref\": \"y\"}, {\"font\": {\"color\": \"#000000\"}, \"showarrow\": false, \"text\": \"0.921\", \"x\": \"CNNBatchNorm_hist\", \"xref\": \"x\", \"y\": \"mobileNetV2_hist_dataAug\", \"yref\": \"y\"}, {\"font\": {\"color\": \"#000000\"}, \"showarrow\": false, \"text\": \"0.894\", \"x\": \"CNNBatchNorm_hist_dataAug\", \"xref\": \"x\", \"y\": \"mobileNetV2_hist_dataAug\", \"yref\": \"y\"}, {\"font\": {\"color\": \"#000000\"}, \"showarrow\": false, \"text\": \"0.891\", \"x\": \"simpleCNN_hist\", \"xref\": \"x\", \"y\": \"mobileNetV2_hist_dataAug\", \"yref\": \"y\"}, {\"font\": {\"color\": \"#000000\"}, \"showarrow\": false, \"text\": \"0.9\", \"x\": \"simpleCNN_hist_dataAug\", \"xref\": \"x\", \"y\": \"mobileNetV2_hist_dataAug\", \"yref\": \"y\"}, {\"font\": {\"color\": \"#000000\"}, \"showarrow\": false, \"text\": \"0.917\", \"x\": \"simpleResnet_hist_dataAug\", \"xref\": \"x\", \"y\": \"mobileNetV2_hist_dataAug\", \"yref\": \"y\"}, {\"font\": {\"color\": \"#000000\"}, \"showarrow\": false, \"text\": \"0.903\", \"x\": \"wideResnet_hist\", \"xref\": \"x\", \"y\": \"mobileNetV2_hist_dataAug\", \"yref\": \"y\"}, {\"font\": {\"color\": \"#000000\"}, \"showarrow\": false, \"text\": \"0.689\", \"x\": \"simpleInception_hist_dataAug\", \"xref\": \"x\", \"y\": \"mobileNetV2_hist_dataAug\", \"yref\": \"y\"}, {\"font\": {\"color\": \"#000000\"}, \"showarrow\": false, \"text\": \"0.908\", \"x\": \"simpleResnet_hist\", \"xref\": \"x\", \"y\": \"mobileNetV2_hist_dataAug\", \"yref\": \"y\"}, {\"font\": {\"color\": \"#000000\"}, \"showarrow\": false, \"text\": \"0.922\", \"x\": \"simpleVGG_hist\", \"xref\": \"x\", \"y\": \"mobileNetV2_hist_dataAug\", \"yref\": \"y\"}, {\"font\": {\"color\": \"#000000\"}, \"showarrow\": false, \"text\": \"0.903\", \"x\": \"simpleInception_hist\", \"xref\": \"x\", \"y\": \"mobileNetV2_hist_dataAug\", \"yref\": \"y\"}, {\"font\": {\"color\": \"#FFFFFF\"}, \"showarrow\": false, \"text\": \"0.0\", \"x\": \"CNNDropout_hist_dataAug\", \"xref\": \"x\", \"y\": \"mobileNetV2_hist\", \"yref\": \"y\"}, {\"font\": {\"color\": \"#FFFFFF\"}, \"showarrow\": false, \"text\": \"0.0\", \"x\": \"mobileNetV2_hist_dataAug\", \"xref\": \"x\", \"y\": \"mobileNetV2_hist\", \"yref\": \"y\"}, {\"font\": {\"color\": \"#FFFFFF\"}, \"showarrow\": false, \"text\": \"0.0\", \"x\": \"mobileNetV2_hist\", \"xref\": \"x\", \"y\": \"mobileNetV2_hist\", \"yref\": \"y\"}, {\"font\": {\"color\": \"#000000\"}, \"showarrow\": false, \"text\": \"0.894\", \"x\": \"mlp_hist\", \"xref\": \"x\", \"y\": \"mobileNetV2_hist\", \"yref\": \"y\"}, {\"font\": {\"color\": \"#000000\"}, \"showarrow\": false, \"text\": \"0.92\", \"x\": \"simpleVGG_hist_dataAug\", \"xref\": \"x\", \"y\": \"mobileNetV2_hist\", \"yref\": \"y\"}, {\"font\": {\"color\": \"#000000\"}, \"showarrow\": false, \"text\": \"0.913\", \"x\": \"CNNDropout_hist\", \"xref\": \"x\", \"y\": \"mobileNetV2_hist\", \"yref\": \"y\"}, {\"font\": {\"color\": \"#000000\"}, \"showarrow\": false, \"text\": \"0.909\", \"x\": \"wideResnet_hist_dataAug\", \"xref\": \"x\", \"y\": \"mobileNetV2_hist\", \"yref\": \"y\"}, {\"font\": {\"color\": \"#000000\"}, \"showarrow\": false, \"text\": \"0.921\", \"x\": \"CNNBatchNorm_hist\", \"xref\": \"x\", \"y\": \"mobileNetV2_hist\", \"yref\": \"y\"}, {\"font\": {\"color\": \"#000000\"}, \"showarrow\": false, \"text\": \"0.902\", \"x\": \"CNNBatchNorm_hist_dataAug\", \"xref\": \"x\", \"y\": \"mobileNetV2_hist\", \"yref\": \"y\"}, {\"font\": {\"color\": \"#000000\"}, \"showarrow\": false, \"text\": \"0.894\", \"x\": \"simpleCNN_hist\", \"xref\": \"x\", \"y\": \"mobileNetV2_hist\", \"yref\": \"y\"}, {\"font\": {\"color\": \"#000000\"}, \"showarrow\": false, \"text\": \"0.9\", \"x\": \"simpleCNN_hist_dataAug\", \"xref\": \"x\", \"y\": \"mobileNetV2_hist\", \"yref\": \"y\"}, {\"font\": {\"color\": \"#000000\"}, \"showarrow\": false, \"text\": \"0.913\", \"x\": \"simpleResnet_hist_dataAug\", \"xref\": \"x\", \"y\": \"mobileNetV2_hist\", \"yref\": \"y\"}, {\"font\": {\"color\": \"#000000\"}, \"showarrow\": false, \"text\": \"0.903\", \"x\": \"wideResnet_hist\", \"xref\": \"x\", \"y\": \"mobileNetV2_hist\", \"yref\": \"y\"}, {\"font\": {\"color\": \"#000000\"}, \"showarrow\": false, \"text\": \"0.687\", \"x\": \"simpleInception_hist_dataAug\", \"xref\": \"x\", \"y\": \"mobileNetV2_hist\", \"yref\": \"y\"}, {\"font\": {\"color\": \"#000000\"}, \"showarrow\": false, \"text\": \"0.913\", \"x\": \"simpleResnet_hist\", \"xref\": \"x\", \"y\": \"mobileNetV2_hist\", \"yref\": \"y\"}, {\"font\": {\"color\": \"#000000\"}, \"showarrow\": false, \"text\": \"0.924\", \"x\": \"simpleVGG_hist\", \"xref\": \"x\", \"y\": \"mobileNetV2_hist\", \"yref\": \"y\"}, {\"font\": {\"color\": \"#000000\"}, \"showarrow\": false, \"text\": \"0.913\", \"x\": \"simpleInception_hist\", \"xref\": \"x\", \"y\": \"mobileNetV2_hist\", \"yref\": \"y\"}, {\"font\": {\"color\": \"#FFFFFF\"}, \"showarrow\": false, \"text\": \"0.0\", \"x\": \"CNNDropout_hist_dataAug\", \"xref\": \"x\", \"y\": \"mlp_hist\", \"yref\": \"y\"}, {\"font\": {\"color\": \"#FFFFFF\"}, \"showarrow\": false, \"text\": \"0.0\", \"x\": \"mobileNetV2_hist_dataAug\", \"xref\": \"x\", \"y\": \"mlp_hist\", \"yref\": \"y\"}, {\"font\": {\"color\": \"#FFFFFF\"}, \"showarrow\": false, \"text\": \"0.0\", \"x\": \"mobileNetV2_hist\", \"xref\": \"x\", \"y\": \"mlp_hist\", \"yref\": \"y\"}, {\"font\": {\"color\": \"#FFFFFF\"}, \"showarrow\": false, \"text\": \"0.0\", \"x\": \"mlp_hist\", \"xref\": \"x\", \"y\": \"mlp_hist\", \"yref\": \"y\"}, {\"font\": {\"color\": \"#000000\"}, \"showarrow\": false, \"text\": \"0.892\", \"x\": \"simpleVGG_hist_dataAug\", \"xref\": \"x\", \"y\": \"mlp_hist\", \"yref\": \"y\"}, {\"font\": {\"color\": \"#000000\"}, \"showarrow\": false, \"text\": \"0.889\", \"x\": \"CNNDropout_hist\", \"xref\": \"x\", \"y\": \"mlp_hist\", \"yref\": \"y\"}, {\"font\": {\"color\": \"#000000\"}, \"showarrow\": false, \"text\": \"0.882\", \"x\": \"wideResnet_hist_dataAug\", \"xref\": \"x\", \"y\": \"mlp_hist\", \"yref\": \"y\"}, {\"font\": {\"color\": \"#000000\"}, \"showarrow\": false, \"text\": \"0.898\", \"x\": \"CNNBatchNorm_hist\", \"xref\": \"x\", \"y\": \"mlp_hist\", \"yref\": \"y\"}, {\"font\": {\"color\": \"#000000\"}, \"showarrow\": false, \"text\": \"0.913\", \"x\": \"CNNBatchNorm_hist_dataAug\", \"xref\": \"x\", \"y\": \"mlp_hist\", \"yref\": \"y\"}, {\"font\": {\"color\": \"#000000\"}, \"showarrow\": false, \"text\": \"0.874\", \"x\": \"simpleCNN_hist\", \"xref\": \"x\", \"y\": \"mlp_hist\", \"yref\": \"y\"}, {\"font\": {\"color\": \"#000000\"}, \"showarrow\": false, \"text\": \"0.886\", \"x\": \"simpleCNN_hist_dataAug\", \"xref\": \"x\", \"y\": \"mlp_hist\", \"yref\": \"y\"}, {\"font\": {\"color\": \"#000000\"}, \"showarrow\": false, \"text\": \"0.899\", \"x\": \"simpleResnet_hist_dataAug\", \"xref\": \"x\", \"y\": \"mlp_hist\", \"yref\": \"y\"}, {\"font\": {\"color\": \"#000000\"}, \"showarrow\": false, \"text\": \"0.88\", \"x\": \"wideResnet_hist\", \"xref\": \"x\", \"y\": \"mlp_hist\", \"yref\": \"y\"}, {\"font\": {\"color\": \"#000000\"}, \"showarrow\": false, \"text\": \"0.676\", \"x\": \"simpleInception_hist_dataAug\", \"xref\": \"x\", \"y\": \"mlp_hist\", \"yref\": \"y\"}, {\"font\": {\"color\": \"#000000\"}, \"showarrow\": false, \"text\": \"0.898\", \"x\": \"simpleResnet_hist\", \"xref\": \"x\", \"y\": \"mlp_hist\", \"yref\": \"y\"}, {\"font\": {\"color\": \"#000000\"}, \"showarrow\": false, \"text\": \"0.896\", \"x\": \"simpleVGG_hist\", \"xref\": \"x\", \"y\": \"mlp_hist\", \"yref\": \"y\"}, {\"font\": {\"color\": \"#000000\"}, \"showarrow\": false, \"text\": \"0.897\", \"x\": \"simpleInception_hist\", \"xref\": \"x\", \"y\": \"mlp_hist\", \"yref\": \"y\"}, {\"font\": {\"color\": \"#FFFFFF\"}, \"showarrow\": false, \"text\": \"0.0\", \"x\": \"CNNDropout_hist_dataAug\", \"xref\": \"x\", \"y\": \"simpleVGG_hist_dataAug\", \"yref\": \"y\"}, {\"font\": {\"color\": \"#FFFFFF\"}, \"showarrow\": false, \"text\": \"0.0\", \"x\": \"mobileNetV2_hist_dataAug\", \"xref\": \"x\", \"y\": \"simpleVGG_hist_dataAug\", \"yref\": \"y\"}, {\"font\": {\"color\": \"#FFFFFF\"}, \"showarrow\": false, \"text\": \"0.0\", \"x\": \"mobileNetV2_hist\", \"xref\": \"x\", \"y\": \"simpleVGG_hist_dataAug\", \"yref\": \"y\"}, {\"font\": {\"color\": \"#FFFFFF\"}, \"showarrow\": false, \"text\": \"0.0\", \"x\": \"mlp_hist\", \"xref\": \"x\", \"y\": \"simpleVGG_hist_dataAug\", \"yref\": \"y\"}, {\"font\": {\"color\": \"#FFFFFF\"}, \"showarrow\": false, \"text\": \"0.0\", \"x\": \"simpleVGG_hist_dataAug\", \"xref\": \"x\", \"y\": \"simpleVGG_hist_dataAug\", \"yref\": \"y\"}, {\"font\": {\"color\": \"#000000\"}, \"showarrow\": false, \"text\": \"0.933\", \"x\": \"CNNDropout_hist\", \"xref\": \"x\", \"y\": \"simpleVGG_hist_dataAug\", \"yref\": \"y\"}, {\"font\": {\"color\": \"#000000\"}, \"showarrow\": false, \"text\": \"0.933\", \"x\": \"wideResnet_hist_dataAug\", \"xref\": \"x\", \"y\": \"simpleVGG_hist_dataAug\", \"yref\": \"y\"}, {\"font\": {\"color\": \"#000000\"}, \"showarrow\": false, \"text\": \"0.95\", \"x\": \"CNNBatchNorm_hist\", \"xref\": \"x\", \"y\": \"simpleVGG_hist_dataAug\", \"yref\": \"y\"}, {\"font\": {\"color\": \"#000000\"}, \"showarrow\": false, \"text\": \"0.909\", \"x\": \"CNNBatchNorm_hist_dataAug\", \"xref\": \"x\", \"y\": \"simpleVGG_hist_dataAug\", \"yref\": \"y\"}, {\"font\": {\"color\": \"#000000\"}, \"showarrow\": false, \"text\": \"0.912\", \"x\": \"simpleCNN_hist\", \"xref\": \"x\", \"y\": \"simpleVGG_hist_dataAug\", \"yref\": \"y\"}, {\"font\": {\"color\": \"#000000\"}, \"showarrow\": false, \"text\": \"0.919\", \"x\": \"simpleCNN_hist_dataAug\", \"xref\": \"x\", \"y\": \"simpleVGG_hist_dataAug\", \"yref\": \"y\"}, {\"font\": {\"color\": \"#000000\"}, \"showarrow\": false, \"text\": \"0.936\", \"x\": \"simpleResnet_hist_dataAug\", \"xref\": \"x\", \"y\": \"simpleVGG_hist_dataAug\", \"yref\": \"y\"}, {\"font\": {\"color\": \"#000000\"}, \"showarrow\": false, \"text\": \"0.931\", \"x\": \"wideResnet_hist\", \"xref\": \"x\", \"y\": \"simpleVGG_hist_dataAug\", \"yref\": \"y\"}, {\"font\": {\"color\": \"#000000\"}, \"showarrow\": false, \"text\": \"0.697\", \"x\": \"simpleInception_hist_dataAug\", \"xref\": \"x\", \"y\": \"simpleVGG_hist_dataAug\", \"yref\": \"y\"}, {\"font\": {\"color\": \"#000000\"}, \"showarrow\": false, \"text\": \"0.926\", \"x\": \"simpleResnet_hist\", \"xref\": \"x\", \"y\": \"simpleVGG_hist_dataAug\", \"yref\": \"y\"}, {\"font\": {\"color\": \"#000000\"}, \"showarrow\": false, \"text\": \"0.945\", \"x\": \"simpleVGG_hist\", \"xref\": \"x\", \"y\": \"simpleVGG_hist_dataAug\", \"yref\": \"y\"}, {\"font\": {\"color\": \"#000000\"}, \"showarrow\": false, \"text\": \"0.92\", \"x\": \"simpleInception_hist\", \"xref\": \"x\", \"y\": \"simpleVGG_hist_dataAug\", \"yref\": \"y\"}, {\"font\": {\"color\": \"#FFFFFF\"}, \"showarrow\": false, \"text\": \"0.0\", \"x\": \"CNNDropout_hist_dataAug\", \"xref\": \"x\", \"y\": \"CNNDropout_hist\", \"yref\": \"y\"}, {\"font\": {\"color\": \"#FFFFFF\"}, \"showarrow\": false, \"text\": \"0.0\", \"x\": \"mobileNetV2_hist_dataAug\", \"xref\": \"x\", \"y\": \"CNNDropout_hist\", \"yref\": \"y\"}, {\"font\": {\"color\": \"#FFFFFF\"}, \"showarrow\": false, \"text\": \"0.0\", \"x\": \"mobileNetV2_hist\", \"xref\": \"x\", \"y\": \"CNNDropout_hist\", \"yref\": \"y\"}, {\"font\": {\"color\": \"#FFFFFF\"}, \"showarrow\": false, \"text\": \"0.0\", \"x\": \"mlp_hist\", \"xref\": \"x\", \"y\": \"CNNDropout_hist\", \"yref\": \"y\"}, {\"font\": {\"color\": \"#FFFFFF\"}, \"showarrow\": false, \"text\": \"0.0\", \"x\": \"simpleVGG_hist_dataAug\", \"xref\": \"x\", \"y\": \"CNNDropout_hist\", \"yref\": \"y\"}, {\"font\": {\"color\": \"#FFFFFF\"}, \"showarrow\": false, \"text\": \"0.0\", \"x\": \"CNNDropout_hist\", \"xref\": \"x\", \"y\": \"CNNDropout_hist\", \"yref\": \"y\"}, {\"font\": {\"color\": \"#000000\"}, \"showarrow\": false, \"text\": \"0.914\", \"x\": \"wideResnet_hist_dataAug\", \"xref\": \"x\", \"y\": \"CNNDropout_hist\", \"yref\": \"y\"}, {\"font\": {\"color\": \"#000000\"}, \"showarrow\": false, \"text\": \"0.939\", \"x\": \"CNNBatchNorm_hist\", \"xref\": \"x\", \"y\": \"CNNDropout_hist\", \"yref\": \"y\"}, {\"font\": {\"color\": \"#000000\"}, \"showarrow\": false, \"text\": \"0.911\", \"x\": \"CNNBatchNorm_hist_dataAug\", \"xref\": \"x\", \"y\": \"CNNDropout_hist\", \"yref\": \"y\"}, {\"font\": {\"color\": \"#000000\"}, \"showarrow\": false, \"text\": \"0.909\", \"x\": \"simpleCNN_hist\", \"xref\": \"x\", \"y\": \"CNNDropout_hist\", \"yref\": \"y\"}, {\"font\": {\"color\": \"#000000\"}, \"showarrow\": false, \"text\": \"0.923\", \"x\": \"simpleCNN_hist_dataAug\", \"xref\": \"x\", \"y\": \"CNNDropout_hist\", \"yref\": \"y\"}, {\"font\": {\"color\": \"#000000\"}, \"showarrow\": false, \"text\": \"0.923\", \"x\": \"simpleResnet_hist_dataAug\", \"xref\": \"x\", \"y\": \"CNNDropout_hist\", \"yref\": \"y\"}, {\"font\": {\"color\": \"#000000\"}, \"showarrow\": false, \"text\": \"0.907\", \"x\": \"wideResnet_hist\", \"xref\": \"x\", \"y\": \"CNNDropout_hist\", \"yref\": \"y\"}, {\"font\": {\"color\": \"#000000\"}, \"showarrow\": false, \"text\": \"0.695\", \"x\": \"simpleInception_hist_dataAug\", \"xref\": \"x\", \"y\": \"CNNDropout_hist\", \"yref\": \"y\"}, {\"font\": {\"color\": \"#000000\"}, \"showarrow\": false, \"text\": \"0.923\", \"x\": \"simpleResnet_hist\", \"xref\": \"x\", \"y\": \"CNNDropout_hist\", \"yref\": \"y\"}, {\"font\": {\"color\": \"#000000\"}, \"showarrow\": false, \"text\": \"0.929\", \"x\": \"simpleVGG_hist\", \"xref\": \"x\", \"y\": \"CNNDropout_hist\", \"yref\": \"y\"}, {\"font\": {\"color\": \"#000000\"}, \"showarrow\": false, \"text\": \"0.916\", \"x\": \"simpleInception_hist\", \"xref\": \"x\", \"y\": \"CNNDropout_hist\", \"yref\": \"y\"}, {\"font\": {\"color\": \"#FFFFFF\"}, \"showarrow\": false, \"text\": \"0.0\", \"x\": \"CNNDropout_hist_dataAug\", \"xref\": \"x\", \"y\": \"wideResnet_hist_dataAug\", \"yref\": \"y\"}, {\"font\": {\"color\": \"#FFFFFF\"}, \"showarrow\": false, \"text\": \"0.0\", \"x\": \"mobileNetV2_hist_dataAug\", \"xref\": \"x\", \"y\": \"wideResnet_hist_dataAug\", \"yref\": \"y\"}, {\"font\": {\"color\": \"#FFFFFF\"}, \"showarrow\": false, \"text\": \"0.0\", \"x\": \"mobileNetV2_hist\", \"xref\": \"x\", \"y\": \"wideResnet_hist_dataAug\", \"yref\": \"y\"}, {\"font\": {\"color\": \"#FFFFFF\"}, \"showarrow\": false, \"text\": \"0.0\", \"x\": \"mlp_hist\", \"xref\": \"x\", \"y\": \"wideResnet_hist_dataAug\", \"yref\": \"y\"}, {\"font\": {\"color\": \"#FFFFFF\"}, \"showarrow\": false, \"text\": \"0.0\", \"x\": \"simpleVGG_hist_dataAug\", \"xref\": \"x\", \"y\": \"wideResnet_hist_dataAug\", \"yref\": \"y\"}, {\"font\": {\"color\": \"#FFFFFF\"}, \"showarrow\": false, \"text\": \"0.0\", \"x\": \"CNNDropout_hist\", \"xref\": \"x\", \"y\": \"wideResnet_hist_dataAug\", \"yref\": \"y\"}, {\"font\": {\"color\": \"#FFFFFF\"}, \"showarrow\": false, \"text\": \"0.0\", \"x\": \"wideResnet_hist_dataAug\", \"xref\": \"x\", \"y\": \"wideResnet_hist_dataAug\", \"yref\": \"y\"}, {\"font\": {\"color\": \"#000000\"}, \"showarrow\": false, \"text\": \"0.923\", \"x\": \"CNNBatchNorm_hist\", \"xref\": \"x\", \"y\": \"wideResnet_hist_dataAug\", \"yref\": \"y\"}, {\"font\": {\"color\": \"#000000\"}, \"showarrow\": false, \"text\": \"0.899\", \"x\": \"CNNBatchNorm_hist_dataAug\", \"xref\": \"x\", \"y\": \"wideResnet_hist_dataAug\", \"yref\": \"y\"}, {\"font\": {\"color\": \"#000000\"}, \"showarrow\": false, \"text\": \"0.895\", \"x\": \"simpleCNN_hist\", \"xref\": \"x\", \"y\": \"wideResnet_hist_dataAug\", \"yref\": \"y\"}, {\"font\": {\"color\": \"#000000\"}, \"showarrow\": false, \"text\": \"0.895\", \"x\": \"simpleCNN_hist_dataAug\", \"xref\": \"x\", \"y\": \"wideResnet_hist_dataAug\", \"yref\": \"y\"}, {\"font\": {\"color\": \"#000000\"}, \"showarrow\": false, \"text\": \"0.92\", \"x\": \"simpleResnet_hist_dataAug\", \"xref\": \"x\", \"y\": \"wideResnet_hist_dataAug\", \"yref\": \"y\"}, {\"font\": {\"color\": \"#000000\"}, \"showarrow\": false, \"text\": \"0.927\", \"x\": \"wideResnet_hist\", \"xref\": \"x\", \"y\": \"wideResnet_hist_dataAug\", \"yref\": \"y\"}, {\"font\": {\"color\": \"#000000\"}, \"showarrow\": false, \"text\": \"0.688\", \"x\": \"simpleInception_hist_dataAug\", \"xref\": \"x\", \"y\": \"wideResnet_hist_dataAug\", \"yref\": \"y\"}, {\"font\": {\"color\": \"#000000\"}, \"showarrow\": false, \"text\": \"0.91\", \"x\": \"simpleResnet_hist\", \"xref\": \"x\", \"y\": \"wideResnet_hist_dataAug\", \"yref\": \"y\"}, {\"font\": {\"color\": \"#000000\"}, \"showarrow\": false, \"text\": \"0.929\", \"x\": \"simpleVGG_hist\", \"xref\": \"x\", \"y\": \"wideResnet_hist_dataAug\", \"yref\": \"y\"}, {\"font\": {\"color\": \"#000000\"}, \"showarrow\": false, \"text\": \"0.912\", \"x\": \"simpleInception_hist\", \"xref\": \"x\", \"y\": \"wideResnet_hist_dataAug\", \"yref\": \"y\"}, {\"font\": {\"color\": \"#FFFFFF\"}, \"showarrow\": false, \"text\": \"0.0\", \"x\": \"CNNDropout_hist_dataAug\", \"xref\": \"x\", \"y\": \"CNNBatchNorm_hist\", \"yref\": \"y\"}, {\"font\": {\"color\": \"#FFFFFF\"}, \"showarrow\": false, \"text\": \"0.0\", \"x\": \"mobileNetV2_hist_dataAug\", \"xref\": \"x\", \"y\": \"CNNBatchNorm_hist\", \"yref\": \"y\"}, {\"font\": {\"color\": \"#FFFFFF\"}, \"showarrow\": false, \"text\": \"0.0\", \"x\": \"mobileNetV2_hist\", \"xref\": \"x\", \"y\": \"CNNBatchNorm_hist\", \"yref\": \"y\"}, {\"font\": {\"color\": \"#FFFFFF\"}, \"showarrow\": false, \"text\": \"0.0\", \"x\": \"mlp_hist\", \"xref\": \"x\", \"y\": \"CNNBatchNorm_hist\", \"yref\": \"y\"}, {\"font\": {\"color\": \"#FFFFFF\"}, \"showarrow\": false, \"text\": \"0.0\", \"x\": \"simpleVGG_hist_dataAug\", \"xref\": \"x\", \"y\": \"CNNBatchNorm_hist\", \"yref\": \"y\"}, {\"font\": {\"color\": \"#FFFFFF\"}, \"showarrow\": false, \"text\": \"0.0\", \"x\": \"CNNDropout_hist\", \"xref\": \"x\", \"y\": \"CNNBatchNorm_hist\", \"yref\": \"y\"}, {\"font\": {\"color\": \"#FFFFFF\"}, \"showarrow\": false, \"text\": \"0.0\", \"x\": \"wideResnet_hist_dataAug\", \"xref\": \"x\", \"y\": \"CNNBatchNorm_hist\", \"yref\": \"y\"}, {\"font\": {\"color\": \"#FFFFFF\"}, \"showarrow\": false, \"text\": \"0.0\", \"x\": \"CNNBatchNorm_hist\", \"xref\": \"x\", \"y\": \"CNNBatchNorm_hist\", \"yref\": \"y\"}, {\"font\": {\"color\": \"#000000\"}, \"showarrow\": false, \"text\": \"0.912\", \"x\": \"CNNBatchNorm_hist_dataAug\", \"xref\": \"x\", \"y\": \"CNNBatchNorm_hist\", \"yref\": \"y\"}, {\"font\": {\"color\": \"#000000\"}, \"showarrow\": false, \"text\": \"0.907\", \"x\": \"simpleCNN_hist\", \"xref\": \"x\", \"y\": \"CNNBatchNorm_hist\", \"yref\": \"y\"}, {\"font\": {\"color\": \"#000000\"}, \"showarrow\": false, \"text\": \"0.917\", \"x\": \"simpleCNN_hist_dataAug\", \"xref\": \"x\", \"y\": \"CNNBatchNorm_hist\", \"yref\": \"y\"}, {\"font\": {\"color\": \"#000000\"}, \"showarrow\": false, \"text\": \"0.934\", \"x\": \"simpleResnet_hist_dataAug\", \"xref\": \"x\", \"y\": \"CNNBatchNorm_hist\", \"yref\": \"y\"}, {\"font\": {\"color\": \"#000000\"}, \"showarrow\": false, \"text\": \"0.924\", \"x\": \"wideResnet_hist\", \"xref\": \"x\", \"y\": \"CNNBatchNorm_hist\", \"yref\": \"y\"}, {\"font\": {\"color\": \"#000000\"}, \"showarrow\": false, \"text\": \"0.699\", \"x\": \"simpleInception_hist_dataAug\", \"xref\": \"x\", \"y\": \"CNNBatchNorm_hist\", \"yref\": \"y\"}, {\"font\": {\"color\": \"#000000\"}, \"showarrow\": false, \"text\": \"0.929\", \"x\": \"simpleResnet_hist\", \"xref\": \"x\", \"y\": \"CNNBatchNorm_hist\", \"yref\": \"y\"}, {\"font\": {\"color\": \"#000000\"}, \"showarrow\": false, \"text\": \"0.942\", \"x\": \"simpleVGG_hist\", \"xref\": \"x\", \"y\": \"CNNBatchNorm_hist\", \"yref\": \"y\"}, {\"font\": {\"color\": \"#000000\"}, \"showarrow\": false, \"text\": \"0.923\", \"x\": \"simpleInception_hist\", \"xref\": \"x\", \"y\": \"CNNBatchNorm_hist\", \"yref\": \"y\"}, {\"font\": {\"color\": \"#FFFFFF\"}, \"showarrow\": false, \"text\": \"0.0\", \"x\": \"CNNDropout_hist_dataAug\", \"xref\": \"x\", \"y\": \"CNNBatchNorm_hist_dataAug\", \"yref\": \"y\"}, {\"font\": {\"color\": \"#FFFFFF\"}, \"showarrow\": false, \"text\": \"0.0\", \"x\": \"mobileNetV2_hist_dataAug\", \"xref\": \"x\", \"y\": \"CNNBatchNorm_hist_dataAug\", \"yref\": \"y\"}, {\"font\": {\"color\": \"#FFFFFF\"}, \"showarrow\": false, \"text\": \"0.0\", \"x\": \"mobileNetV2_hist\", \"xref\": \"x\", \"y\": \"CNNBatchNorm_hist_dataAug\", \"yref\": \"y\"}, {\"font\": {\"color\": \"#FFFFFF\"}, \"showarrow\": false, \"text\": \"0.0\", \"x\": \"mlp_hist\", \"xref\": \"x\", \"y\": \"CNNBatchNorm_hist_dataAug\", \"yref\": \"y\"}, {\"font\": {\"color\": \"#FFFFFF\"}, \"showarrow\": false, \"text\": \"0.0\", \"x\": \"simpleVGG_hist_dataAug\", \"xref\": \"x\", \"y\": \"CNNBatchNorm_hist_dataAug\", \"yref\": \"y\"}, {\"font\": {\"color\": \"#FFFFFF\"}, \"showarrow\": false, \"text\": \"0.0\", \"x\": \"CNNDropout_hist\", \"xref\": \"x\", \"y\": \"CNNBatchNorm_hist_dataAug\", \"yref\": \"y\"}, {\"font\": {\"color\": \"#FFFFFF\"}, \"showarrow\": false, \"text\": \"0.0\", \"x\": \"wideResnet_hist_dataAug\", \"xref\": \"x\", \"y\": \"CNNBatchNorm_hist_dataAug\", \"yref\": \"y\"}, {\"font\": {\"color\": \"#FFFFFF\"}, \"showarrow\": false, \"text\": \"0.0\", \"x\": \"CNNBatchNorm_hist\", \"xref\": \"x\", \"y\": \"CNNBatchNorm_hist_dataAug\", \"yref\": \"y\"}, {\"font\": {\"color\": \"#FFFFFF\"}, \"showarrow\": false, \"text\": \"0.0\", \"x\": \"CNNBatchNorm_hist_dataAug\", \"xref\": \"x\", \"y\": \"CNNBatchNorm_hist_dataAug\", \"yref\": \"y\"}, {\"font\": {\"color\": \"#000000\"}, \"showarrow\": false, \"text\": \"0.888\", \"x\": \"simpleCNN_hist\", \"xref\": \"x\", \"y\": \"CNNBatchNorm_hist_dataAug\", \"yref\": \"y\"}, {\"font\": {\"color\": \"#000000\"}, \"showarrow\": false, \"text\": \"0.905\", \"x\": \"simpleCNN_hist_dataAug\", \"xref\": \"x\", \"y\": \"CNNBatchNorm_hist_dataAug\", \"yref\": \"y\"}, {\"font\": {\"color\": \"#000000\"}, \"showarrow\": false, \"text\": \"0.912\", \"x\": \"simpleResnet_hist_dataAug\", \"xref\": \"x\", \"y\": \"CNNBatchNorm_hist_dataAug\", \"yref\": \"y\"}, {\"font\": {\"color\": \"#000000\"}, \"showarrow\": false, \"text\": \"0.893\", \"x\": \"wideResnet_hist\", \"xref\": \"x\", \"y\": \"CNNBatchNorm_hist_dataAug\", \"yref\": \"y\"}, {\"font\": {\"color\": \"#000000\"}, \"showarrow\": false, \"text\": \"0.681\", \"x\": \"simpleInception_hist_dataAug\", \"xref\": \"x\", \"y\": \"CNNBatchNorm_hist_dataAug\", \"yref\": \"y\"}, {\"font\": {\"color\": \"#000000\"}, \"showarrow\": false, \"text\": \"0.908\", \"x\": \"simpleResnet_hist\", \"xref\": \"x\", \"y\": \"CNNBatchNorm_hist_dataAug\", \"yref\": \"y\"}, {\"font\": {\"color\": \"#000000\"}, \"showarrow\": false, \"text\": \"0.916\", \"x\": \"simpleVGG_hist\", \"xref\": \"x\", \"y\": \"CNNBatchNorm_hist_dataAug\", \"yref\": \"y\"}, {\"font\": {\"color\": \"#000000\"}, \"showarrow\": false, \"text\": \"0.906\", \"x\": \"simpleInception_hist\", \"xref\": \"x\", \"y\": \"CNNBatchNorm_hist_dataAug\", \"yref\": \"y\"}, {\"font\": {\"color\": \"#FFFFFF\"}, \"showarrow\": false, \"text\": \"0.0\", \"x\": \"CNNDropout_hist_dataAug\", \"xref\": \"x\", \"y\": \"simpleCNN_hist\", \"yref\": \"y\"}, {\"font\": {\"color\": \"#FFFFFF\"}, \"showarrow\": false, \"text\": \"0.0\", \"x\": \"mobileNetV2_hist_dataAug\", \"xref\": \"x\", \"y\": \"simpleCNN_hist\", \"yref\": \"y\"}, {\"font\": {\"color\": \"#FFFFFF\"}, \"showarrow\": false, \"text\": \"0.0\", \"x\": \"mobileNetV2_hist\", \"xref\": \"x\", \"y\": \"simpleCNN_hist\", \"yref\": \"y\"}, {\"font\": {\"color\": \"#FFFFFF\"}, \"showarrow\": false, \"text\": \"0.0\", \"x\": \"mlp_hist\", \"xref\": \"x\", \"y\": \"simpleCNN_hist\", \"yref\": \"y\"}, {\"font\": {\"color\": \"#FFFFFF\"}, \"showarrow\": false, \"text\": \"0.0\", \"x\": \"simpleVGG_hist_dataAug\", \"xref\": \"x\", \"y\": \"simpleCNN_hist\", \"yref\": \"y\"}, {\"font\": {\"color\": \"#FFFFFF\"}, \"showarrow\": false, \"text\": \"0.0\", \"x\": \"CNNDropout_hist\", \"xref\": \"x\", \"y\": \"simpleCNN_hist\", \"yref\": \"y\"}, {\"font\": {\"color\": \"#FFFFFF\"}, \"showarrow\": false, \"text\": \"0.0\", \"x\": \"wideResnet_hist_dataAug\", \"xref\": \"x\", \"y\": \"simpleCNN_hist\", \"yref\": \"y\"}, {\"font\": {\"color\": \"#FFFFFF\"}, \"showarrow\": false, \"text\": \"0.0\", \"x\": \"CNNBatchNorm_hist\", \"xref\": \"x\", \"y\": \"simpleCNN_hist\", \"yref\": \"y\"}, {\"font\": {\"color\": \"#FFFFFF\"}, \"showarrow\": false, \"text\": \"0.0\", \"x\": \"CNNBatchNorm_hist_dataAug\", \"xref\": \"x\", \"y\": \"simpleCNN_hist\", \"yref\": \"y\"}, {\"font\": {\"color\": \"#FFFFFF\"}, \"showarrow\": false, \"text\": \"0.0\", \"x\": \"simpleCNN_hist\", \"xref\": \"x\", \"y\": \"simpleCNN_hist\", \"yref\": \"y\"}, {\"font\": {\"color\": \"#000000\"}, \"showarrow\": false, \"text\": \"0.894\", \"x\": \"simpleCNN_hist_dataAug\", \"xref\": \"x\", \"y\": \"simpleCNN_hist\", \"yref\": \"y\"}, {\"font\": {\"color\": \"#000000\"}, \"showarrow\": false, \"text\": \"0.903\", \"x\": \"simpleResnet_hist_dataAug\", \"xref\": \"x\", \"y\": \"simpleCNN_hist\", \"yref\": \"y\"}, {\"font\": {\"color\": \"#000000\"}, \"showarrow\": false, \"text\": \"0.895\", \"x\": \"wideResnet_hist\", \"xref\": \"x\", \"y\": \"simpleCNN_hist\", \"yref\": \"y\"}, {\"font\": {\"color\": \"#000000\"}, \"showarrow\": false, \"text\": \"0.682\", \"x\": \"simpleInception_hist_dataAug\", \"xref\": \"x\", \"y\": \"simpleCNN_hist\", \"yref\": \"y\"}, {\"font\": {\"color\": \"#000000\"}, \"showarrow\": false, \"text\": \"0.901\", \"x\": \"simpleResnet_hist\", \"xref\": \"x\", \"y\": \"simpleCNN_hist\", \"yref\": \"y\"}, {\"font\": {\"color\": \"#000000\"}, \"showarrow\": false, \"text\": \"0.91\", \"x\": \"simpleVGG_hist\", \"xref\": \"x\", \"y\": \"simpleCNN_hist\", \"yref\": \"y\"}, {\"font\": {\"color\": \"#000000\"}, \"showarrow\": false, \"text\": \"0.896\", \"x\": \"simpleInception_hist\", \"xref\": \"x\", \"y\": \"simpleCNN_hist\", \"yref\": \"y\"}, {\"font\": {\"color\": \"#FFFFFF\"}, \"showarrow\": false, \"text\": \"0.0\", \"x\": \"CNNDropout_hist_dataAug\", \"xref\": \"x\", \"y\": \"simpleCNN_hist_dataAug\", \"yref\": \"y\"}, {\"font\": {\"color\": \"#FFFFFF\"}, \"showarrow\": false, \"text\": \"0.0\", \"x\": \"mobileNetV2_hist_dataAug\", \"xref\": \"x\", \"y\": \"simpleCNN_hist_dataAug\", \"yref\": \"y\"}, {\"font\": {\"color\": \"#FFFFFF\"}, \"showarrow\": false, \"text\": \"0.0\", \"x\": \"mobileNetV2_hist\", \"xref\": \"x\", \"y\": \"simpleCNN_hist_dataAug\", \"yref\": \"y\"}, {\"font\": {\"color\": \"#FFFFFF\"}, \"showarrow\": false, \"text\": \"0.0\", \"x\": \"mlp_hist\", \"xref\": \"x\", \"y\": \"simpleCNN_hist_dataAug\", \"yref\": \"y\"}, {\"font\": {\"color\": \"#FFFFFF\"}, \"showarrow\": false, \"text\": \"0.0\", \"x\": \"simpleVGG_hist_dataAug\", \"xref\": \"x\", \"y\": \"simpleCNN_hist_dataAug\", \"yref\": \"y\"}, {\"font\": {\"color\": \"#FFFFFF\"}, \"showarrow\": false, \"text\": \"0.0\", \"x\": \"CNNDropout_hist\", \"xref\": \"x\", \"y\": \"simpleCNN_hist_dataAug\", \"yref\": \"y\"}, {\"font\": {\"color\": \"#FFFFFF\"}, \"showarrow\": false, \"text\": \"0.0\", \"x\": \"wideResnet_hist_dataAug\", \"xref\": \"x\", \"y\": \"simpleCNN_hist_dataAug\", \"yref\": \"y\"}, {\"font\": {\"color\": \"#FFFFFF\"}, \"showarrow\": false, \"text\": \"0.0\", \"x\": \"CNNBatchNorm_hist\", \"xref\": \"x\", \"y\": \"simpleCNN_hist_dataAug\", \"yref\": \"y\"}, {\"font\": {\"color\": \"#FFFFFF\"}, \"showarrow\": false, \"text\": \"0.0\", \"x\": \"CNNBatchNorm_hist_dataAug\", \"xref\": \"x\", \"y\": \"simpleCNN_hist_dataAug\", \"yref\": \"y\"}, {\"font\": {\"color\": \"#FFFFFF\"}, \"showarrow\": false, \"text\": \"0.0\", \"x\": \"simpleCNN_hist\", \"xref\": \"x\", \"y\": \"simpleCNN_hist_dataAug\", \"yref\": \"y\"}, {\"font\": {\"color\": \"#FFFFFF\"}, \"showarrow\": false, \"text\": \"0.0\", \"x\": \"simpleCNN_hist_dataAug\", \"xref\": \"x\", \"y\": \"simpleCNN_hist_dataAug\", \"yref\": \"y\"}, {\"font\": {\"color\": \"#000000\"}, \"showarrow\": false, \"text\": \"0.913\", \"x\": \"simpleResnet_hist_dataAug\", \"xref\": \"x\", \"y\": \"simpleCNN_hist_dataAug\", \"yref\": \"y\"}, {\"font\": {\"color\": \"#000000\"}, \"showarrow\": false, \"text\": \"0.893\", \"x\": \"wideResnet_hist\", \"xref\": \"x\", \"y\": \"simpleCNN_hist_dataAug\", \"yref\": \"y\"}, {\"font\": {\"color\": \"#000000\"}, \"showarrow\": false, \"text\": \"0.688\", \"x\": \"simpleInception_hist_dataAug\", \"xref\": \"x\", \"y\": \"simpleCNN_hist_dataAug\", \"yref\": \"y\"}, {\"font\": {\"color\": \"#000000\"}, \"showarrow\": false, \"text\": \"0.907\", \"x\": \"simpleResnet_hist\", \"xref\": \"x\", \"y\": \"simpleCNN_hist_dataAug\", \"yref\": \"y\"}, {\"font\": {\"color\": \"#000000\"}, \"showarrow\": false, \"text\": \"0.912\", \"x\": \"simpleVGG_hist\", \"xref\": \"x\", \"y\": \"simpleCNN_hist_dataAug\", \"yref\": \"y\"}, {\"font\": {\"color\": \"#000000\"}, \"showarrow\": false, \"text\": \"0.903\", \"x\": \"simpleInception_hist\", \"xref\": \"x\", \"y\": \"simpleCNN_hist_dataAug\", \"yref\": \"y\"}, {\"font\": {\"color\": \"#FFFFFF\"}, \"showarrow\": false, \"text\": \"0.0\", \"x\": \"CNNDropout_hist_dataAug\", \"xref\": \"x\", \"y\": \"simpleResnet_hist_dataAug\", \"yref\": \"y\"}, {\"font\": {\"color\": \"#FFFFFF\"}, \"showarrow\": false, \"text\": \"0.0\", \"x\": \"mobileNetV2_hist_dataAug\", \"xref\": \"x\", \"y\": \"simpleResnet_hist_dataAug\", \"yref\": \"y\"}, {\"font\": {\"color\": \"#FFFFFF\"}, \"showarrow\": false, \"text\": \"0.0\", \"x\": \"mobileNetV2_hist\", \"xref\": \"x\", \"y\": \"simpleResnet_hist_dataAug\", \"yref\": \"y\"}, {\"font\": {\"color\": \"#FFFFFF\"}, \"showarrow\": false, \"text\": \"0.0\", \"x\": \"mlp_hist\", \"xref\": \"x\", \"y\": \"simpleResnet_hist_dataAug\", \"yref\": \"y\"}, {\"font\": {\"color\": \"#FFFFFF\"}, \"showarrow\": false, \"text\": \"0.0\", \"x\": \"simpleVGG_hist_dataAug\", \"xref\": \"x\", \"y\": \"simpleResnet_hist_dataAug\", \"yref\": \"y\"}, {\"font\": {\"color\": \"#FFFFFF\"}, \"showarrow\": false, \"text\": \"0.0\", \"x\": \"CNNDropout_hist\", \"xref\": \"x\", \"y\": \"simpleResnet_hist_dataAug\", \"yref\": \"y\"}, {\"font\": {\"color\": \"#FFFFFF\"}, \"showarrow\": false, \"text\": \"0.0\", \"x\": \"wideResnet_hist_dataAug\", \"xref\": \"x\", \"y\": \"simpleResnet_hist_dataAug\", \"yref\": \"y\"}, {\"font\": {\"color\": \"#FFFFFF\"}, \"showarrow\": false, \"text\": \"0.0\", \"x\": \"CNNBatchNorm_hist\", \"xref\": \"x\", \"y\": \"simpleResnet_hist_dataAug\", \"yref\": \"y\"}, {\"font\": {\"color\": \"#FFFFFF\"}, \"showarrow\": false, \"text\": \"0.0\", \"x\": \"CNNBatchNorm_hist_dataAug\", \"xref\": \"x\", \"y\": \"simpleResnet_hist_dataAug\", \"yref\": \"y\"}, {\"font\": {\"color\": \"#FFFFFF\"}, \"showarrow\": false, \"text\": \"0.0\", \"x\": \"simpleCNN_hist\", \"xref\": \"x\", \"y\": \"simpleResnet_hist_dataAug\", \"yref\": \"y\"}, {\"font\": {\"color\": \"#FFFFFF\"}, \"showarrow\": false, \"text\": \"0.0\", \"x\": \"simpleCNN_hist_dataAug\", \"xref\": \"x\", \"y\": \"simpleResnet_hist_dataAug\", \"yref\": \"y\"}, {\"font\": {\"color\": \"#FFFFFF\"}, \"showarrow\": false, \"text\": \"0.0\", \"x\": \"simpleResnet_hist_dataAug\", \"xref\": \"x\", \"y\": \"simpleResnet_hist_dataAug\", \"yref\": \"y\"}, {\"font\": {\"color\": \"#000000\"}, \"showarrow\": false, \"text\": \"0.916\", \"x\": \"wideResnet_hist\", \"xref\": \"x\", \"y\": \"simpleResnet_hist_dataAug\", \"yref\": \"y\"}, {\"font\": {\"color\": \"#000000\"}, \"showarrow\": false, \"text\": \"0.701\", \"x\": \"simpleInception_hist_dataAug\", \"xref\": \"x\", \"y\": \"simpleResnet_hist_dataAug\", \"yref\": \"y\"}, {\"font\": {\"color\": \"#000000\"}, \"showarrow\": false, \"text\": \"0.935\", \"x\": \"simpleResnet_hist\", \"xref\": \"x\", \"y\": \"simpleResnet_hist_dataAug\", \"yref\": \"y\"}, {\"font\": {\"color\": \"#000000\"}, \"showarrow\": false, \"text\": \"0.929\", \"x\": \"simpleVGG_hist\", \"xref\": \"x\", \"y\": \"simpleResnet_hist_dataAug\", \"yref\": \"y\"}, {\"font\": {\"color\": \"#000000\"}, \"showarrow\": false, \"text\": \"0.927\", \"x\": \"simpleInception_hist\", \"xref\": \"x\", \"y\": \"simpleResnet_hist_dataAug\", \"yref\": \"y\"}, {\"font\": {\"color\": \"#FFFFFF\"}, \"showarrow\": false, \"text\": \"0.0\", \"x\": \"CNNDropout_hist_dataAug\", \"xref\": \"x\", \"y\": \"wideResnet_hist\", \"yref\": \"y\"}, {\"font\": {\"color\": \"#FFFFFF\"}, \"showarrow\": false, \"text\": \"0.0\", \"x\": \"mobileNetV2_hist_dataAug\", \"xref\": \"x\", \"y\": \"wideResnet_hist\", \"yref\": \"y\"}, {\"font\": {\"color\": \"#FFFFFF\"}, \"showarrow\": false, \"text\": \"0.0\", \"x\": \"mobileNetV2_hist\", \"xref\": \"x\", \"y\": \"wideResnet_hist\", \"yref\": \"y\"}, {\"font\": {\"color\": \"#FFFFFF\"}, \"showarrow\": false, \"text\": \"0.0\", \"x\": \"mlp_hist\", \"xref\": \"x\", \"y\": \"wideResnet_hist\", \"yref\": \"y\"}, {\"font\": {\"color\": \"#FFFFFF\"}, \"showarrow\": false, \"text\": \"0.0\", \"x\": \"simpleVGG_hist_dataAug\", \"xref\": \"x\", \"y\": \"wideResnet_hist\", \"yref\": \"y\"}, {\"font\": {\"color\": \"#FFFFFF\"}, \"showarrow\": false, \"text\": \"0.0\", \"x\": \"CNNDropout_hist\", \"xref\": \"x\", \"y\": \"wideResnet_hist\", \"yref\": \"y\"}, {\"font\": {\"color\": \"#FFFFFF\"}, \"showarrow\": false, \"text\": \"0.0\", \"x\": \"wideResnet_hist_dataAug\", \"xref\": \"x\", \"y\": \"wideResnet_hist\", \"yref\": \"y\"}, {\"font\": {\"color\": \"#FFFFFF\"}, \"showarrow\": false, \"text\": \"0.0\", \"x\": \"CNNBatchNorm_hist\", \"xref\": \"x\", \"y\": \"wideResnet_hist\", \"yref\": \"y\"}, {\"font\": {\"color\": \"#FFFFFF\"}, \"showarrow\": false, \"text\": \"0.0\", \"x\": \"CNNBatchNorm_hist_dataAug\", \"xref\": \"x\", \"y\": \"wideResnet_hist\", \"yref\": \"y\"}, {\"font\": {\"color\": \"#FFFFFF\"}, \"showarrow\": false, \"text\": \"0.0\", \"x\": \"simpleCNN_hist\", \"xref\": \"x\", \"y\": \"wideResnet_hist\", \"yref\": \"y\"}, {\"font\": {\"color\": \"#FFFFFF\"}, \"showarrow\": false, \"text\": \"0.0\", \"x\": \"simpleCNN_hist_dataAug\", \"xref\": \"x\", \"y\": \"wideResnet_hist\", \"yref\": \"y\"}, {\"font\": {\"color\": \"#FFFFFF\"}, \"showarrow\": false, \"text\": \"0.0\", \"x\": \"simpleResnet_hist_dataAug\", \"xref\": \"x\", \"y\": \"wideResnet_hist\", \"yref\": \"y\"}, {\"font\": {\"color\": \"#FFFFFF\"}, \"showarrow\": false, \"text\": \"0.0\", \"x\": \"wideResnet_hist\", \"xref\": \"x\", \"y\": \"wideResnet_hist\", \"yref\": \"y\"}, {\"font\": {\"color\": \"#000000\"}, \"showarrow\": false, \"text\": \"0.689\", \"x\": \"simpleInception_hist_dataAug\", \"xref\": \"x\", \"y\": \"wideResnet_hist\", \"yref\": \"y\"}, {\"font\": {\"color\": \"#000000\"}, \"showarrow\": false, \"text\": \"0.907\", \"x\": \"simpleResnet_hist\", \"xref\": \"x\", \"y\": \"wideResnet_hist\", \"yref\": \"y\"}, {\"font\": {\"color\": \"#000000\"}, \"showarrow\": false, \"text\": \"0.925\", \"x\": \"simpleVGG_hist\", \"xref\": \"x\", \"y\": \"wideResnet_hist\", \"yref\": \"y\"}, {\"font\": {\"color\": \"#000000\"}, \"showarrow\": false, \"text\": \"0.908\", \"x\": \"simpleInception_hist\", \"xref\": \"x\", \"y\": \"wideResnet_hist\", \"yref\": \"y\"}, {\"font\": {\"color\": \"#FFFFFF\"}, \"showarrow\": false, \"text\": \"0.0\", \"x\": \"CNNDropout_hist_dataAug\", \"xref\": \"x\", \"y\": \"simpleInception_hist_dataAug\", \"yref\": \"y\"}, {\"font\": {\"color\": \"#FFFFFF\"}, \"showarrow\": false, \"text\": \"0.0\", \"x\": \"mobileNetV2_hist_dataAug\", \"xref\": \"x\", \"y\": \"simpleInception_hist_dataAug\", \"yref\": \"y\"}, {\"font\": {\"color\": \"#FFFFFF\"}, \"showarrow\": false, \"text\": \"0.0\", \"x\": \"mobileNetV2_hist\", \"xref\": \"x\", \"y\": \"simpleInception_hist_dataAug\", \"yref\": \"y\"}, {\"font\": {\"color\": \"#FFFFFF\"}, \"showarrow\": false, \"text\": \"0.0\", \"x\": \"mlp_hist\", \"xref\": \"x\", \"y\": \"simpleInception_hist_dataAug\", \"yref\": \"y\"}, {\"font\": {\"color\": \"#FFFFFF\"}, \"showarrow\": false, \"text\": \"0.0\", \"x\": \"simpleVGG_hist_dataAug\", \"xref\": \"x\", \"y\": \"simpleInception_hist_dataAug\", \"yref\": \"y\"}, {\"font\": {\"color\": \"#FFFFFF\"}, \"showarrow\": false, \"text\": \"0.0\", \"x\": \"CNNDropout_hist\", \"xref\": \"x\", \"y\": \"simpleInception_hist_dataAug\", \"yref\": \"y\"}, {\"font\": {\"color\": \"#FFFFFF\"}, \"showarrow\": false, \"text\": \"0.0\", \"x\": \"wideResnet_hist_dataAug\", \"xref\": \"x\", \"y\": \"simpleInception_hist_dataAug\", \"yref\": \"y\"}, {\"font\": {\"color\": \"#FFFFFF\"}, \"showarrow\": false, \"text\": \"0.0\", \"x\": \"CNNBatchNorm_hist\", \"xref\": \"x\", \"y\": \"simpleInception_hist_dataAug\", \"yref\": \"y\"}, {\"font\": {\"color\": \"#FFFFFF\"}, \"showarrow\": false, \"text\": \"0.0\", \"x\": \"CNNBatchNorm_hist_dataAug\", \"xref\": \"x\", \"y\": \"simpleInception_hist_dataAug\", \"yref\": \"y\"}, {\"font\": {\"color\": \"#FFFFFF\"}, \"showarrow\": false, \"text\": \"0.0\", \"x\": \"simpleCNN_hist\", \"xref\": \"x\", \"y\": \"simpleInception_hist_dataAug\", \"yref\": \"y\"}, {\"font\": {\"color\": \"#FFFFFF\"}, \"showarrow\": false, \"text\": \"0.0\", \"x\": \"simpleCNN_hist_dataAug\", \"xref\": \"x\", \"y\": \"simpleInception_hist_dataAug\", \"yref\": \"y\"}, {\"font\": {\"color\": \"#FFFFFF\"}, \"showarrow\": false, \"text\": \"0.0\", \"x\": \"simpleResnet_hist_dataAug\", \"xref\": \"x\", \"y\": \"simpleInception_hist_dataAug\", \"yref\": \"y\"}, {\"font\": {\"color\": \"#FFFFFF\"}, \"showarrow\": false, \"text\": \"0.0\", \"x\": \"wideResnet_hist\", \"xref\": \"x\", \"y\": \"simpleInception_hist_dataAug\", \"yref\": \"y\"}, {\"font\": {\"color\": \"#FFFFFF\"}, \"showarrow\": false, \"text\": \"0.0\", \"x\": \"simpleInception_hist_dataAug\", \"xref\": \"x\", \"y\": \"simpleInception_hist_dataAug\", \"yref\": \"y\"}, {\"font\": {\"color\": \"#000000\"}, \"showarrow\": false, \"text\": \"0.698\", \"x\": \"simpleResnet_hist\", \"xref\": \"x\", \"y\": \"simpleInception_hist_dataAug\", \"yref\": \"y\"}, {\"font\": {\"color\": \"#000000\"}, \"showarrow\": false, \"text\": \"0.698\", \"x\": \"simpleVGG_hist\", \"xref\": \"x\", \"y\": \"simpleInception_hist_dataAug\", \"yref\": \"y\"}, {\"font\": {\"color\": \"#000000\"}, \"showarrow\": false, \"text\": \"0.695\", \"x\": \"simpleInception_hist\", \"xref\": \"x\", \"y\": \"simpleInception_hist_dataAug\", \"yref\": \"y\"}, {\"font\": {\"color\": \"#FFFFFF\"}, \"showarrow\": false, \"text\": \"0.0\", \"x\": \"CNNDropout_hist_dataAug\", \"xref\": \"x\", \"y\": \"simpleResnet_hist\", \"yref\": \"y\"}, {\"font\": {\"color\": \"#FFFFFF\"}, \"showarrow\": false, \"text\": \"0.0\", \"x\": \"mobileNetV2_hist_dataAug\", \"xref\": \"x\", \"y\": \"simpleResnet_hist\", \"yref\": \"y\"}, {\"font\": {\"color\": \"#FFFFFF\"}, \"showarrow\": false, \"text\": \"0.0\", \"x\": \"mobileNetV2_hist\", \"xref\": \"x\", \"y\": \"simpleResnet_hist\", \"yref\": \"y\"}, {\"font\": {\"color\": \"#FFFFFF\"}, \"showarrow\": false, \"text\": \"0.0\", \"x\": \"mlp_hist\", \"xref\": \"x\", \"y\": \"simpleResnet_hist\", \"yref\": \"y\"}, {\"font\": {\"color\": \"#FFFFFF\"}, \"showarrow\": false, \"text\": \"0.0\", \"x\": \"simpleVGG_hist_dataAug\", \"xref\": \"x\", \"y\": \"simpleResnet_hist\", \"yref\": \"y\"}, {\"font\": {\"color\": \"#FFFFFF\"}, \"showarrow\": false, \"text\": \"0.0\", \"x\": \"CNNDropout_hist\", \"xref\": \"x\", \"y\": \"simpleResnet_hist\", \"yref\": \"y\"}, {\"font\": {\"color\": \"#FFFFFF\"}, \"showarrow\": false, \"text\": \"0.0\", \"x\": \"wideResnet_hist_dataAug\", \"xref\": \"x\", \"y\": \"simpleResnet_hist\", \"yref\": \"y\"}, {\"font\": {\"color\": \"#FFFFFF\"}, \"showarrow\": false, \"text\": \"0.0\", \"x\": \"CNNBatchNorm_hist\", \"xref\": \"x\", \"y\": \"simpleResnet_hist\", \"yref\": \"y\"}, {\"font\": {\"color\": \"#FFFFFF\"}, \"showarrow\": false, \"text\": \"0.0\", \"x\": \"CNNBatchNorm_hist_dataAug\", \"xref\": \"x\", \"y\": \"simpleResnet_hist\", \"yref\": \"y\"}, {\"font\": {\"color\": \"#FFFFFF\"}, \"showarrow\": false, \"text\": \"0.0\", \"x\": \"simpleCNN_hist\", \"xref\": \"x\", \"y\": \"simpleResnet_hist\", \"yref\": \"y\"}, {\"font\": {\"color\": \"#FFFFFF\"}, \"showarrow\": false, \"text\": \"0.0\", \"x\": \"simpleCNN_hist_dataAug\", \"xref\": \"x\", \"y\": \"simpleResnet_hist\", \"yref\": \"y\"}, {\"font\": {\"color\": \"#FFFFFF\"}, \"showarrow\": false, \"text\": \"0.0\", \"x\": \"simpleResnet_hist_dataAug\", \"xref\": \"x\", \"y\": \"simpleResnet_hist\", \"yref\": \"y\"}, {\"font\": {\"color\": \"#FFFFFF\"}, \"showarrow\": false, \"text\": \"0.0\", \"x\": \"wideResnet_hist\", \"xref\": \"x\", \"y\": \"simpleResnet_hist\", \"yref\": \"y\"}, {\"font\": {\"color\": \"#FFFFFF\"}, \"showarrow\": false, \"text\": \"0.0\", \"x\": \"simpleInception_hist_dataAug\", \"xref\": \"x\", \"y\": \"simpleResnet_hist\", \"yref\": \"y\"}, {\"font\": {\"color\": \"#FFFFFF\"}, \"showarrow\": false, \"text\": \"0.0\", \"x\": \"simpleResnet_hist\", \"xref\": \"x\", \"y\": \"simpleResnet_hist\", \"yref\": \"y\"}, {\"font\": {\"color\": \"#000000\"}, \"showarrow\": false, \"text\": \"0.925\", \"x\": \"simpleVGG_hist\", \"xref\": \"x\", \"y\": \"simpleResnet_hist\", \"yref\": \"y\"}, {\"font\": {\"color\": \"#000000\"}, \"showarrow\": false, \"text\": \"0.924\", \"x\": \"simpleInception_hist\", \"xref\": \"x\", \"y\": \"simpleResnet_hist\", \"yref\": \"y\"}, {\"font\": {\"color\": \"#FFFFFF\"}, \"showarrow\": false, \"text\": \"0.0\", \"x\": \"CNNDropout_hist_dataAug\", \"xref\": \"x\", \"y\": \"simpleVGG_hist\", \"yref\": \"y\"}, {\"font\": {\"color\": \"#FFFFFF\"}, \"showarrow\": false, \"text\": \"0.0\", \"x\": \"mobileNetV2_hist_dataAug\", \"xref\": \"x\", \"y\": \"simpleVGG_hist\", \"yref\": \"y\"}, {\"font\": {\"color\": \"#FFFFFF\"}, \"showarrow\": false, \"text\": \"0.0\", \"x\": \"mobileNetV2_hist\", \"xref\": \"x\", \"y\": \"simpleVGG_hist\", \"yref\": \"y\"}, {\"font\": {\"color\": \"#FFFFFF\"}, \"showarrow\": false, \"text\": \"0.0\", \"x\": \"mlp_hist\", \"xref\": \"x\", \"y\": \"simpleVGG_hist\", \"yref\": \"y\"}, {\"font\": {\"color\": \"#FFFFFF\"}, \"showarrow\": false, \"text\": \"0.0\", \"x\": \"simpleVGG_hist_dataAug\", \"xref\": \"x\", \"y\": \"simpleVGG_hist\", \"yref\": \"y\"}, {\"font\": {\"color\": \"#FFFFFF\"}, \"showarrow\": false, \"text\": \"0.0\", \"x\": \"CNNDropout_hist\", \"xref\": \"x\", \"y\": \"simpleVGG_hist\", \"yref\": \"y\"}, {\"font\": {\"color\": \"#FFFFFF\"}, \"showarrow\": false, \"text\": \"0.0\", \"x\": \"wideResnet_hist_dataAug\", \"xref\": \"x\", \"y\": \"simpleVGG_hist\", \"yref\": \"y\"}, {\"font\": {\"color\": \"#FFFFFF\"}, \"showarrow\": false, \"text\": \"0.0\", \"x\": \"CNNBatchNorm_hist\", \"xref\": \"x\", \"y\": \"simpleVGG_hist\", \"yref\": \"y\"}, {\"font\": {\"color\": \"#FFFFFF\"}, \"showarrow\": false, \"text\": \"0.0\", \"x\": \"CNNBatchNorm_hist_dataAug\", \"xref\": \"x\", \"y\": \"simpleVGG_hist\", \"yref\": \"y\"}, {\"font\": {\"color\": \"#FFFFFF\"}, \"showarrow\": false, \"text\": \"0.0\", \"x\": \"simpleCNN_hist\", \"xref\": \"x\", \"y\": \"simpleVGG_hist\", \"yref\": \"y\"}, {\"font\": {\"color\": \"#FFFFFF\"}, \"showarrow\": false, \"text\": \"0.0\", \"x\": \"simpleCNN_hist_dataAug\", \"xref\": \"x\", \"y\": \"simpleVGG_hist\", \"yref\": \"y\"}, {\"font\": {\"color\": \"#FFFFFF\"}, \"showarrow\": false, \"text\": \"0.0\", \"x\": \"simpleResnet_hist_dataAug\", \"xref\": \"x\", \"y\": \"simpleVGG_hist\", \"yref\": \"y\"}, {\"font\": {\"color\": \"#FFFFFF\"}, \"showarrow\": false, \"text\": \"0.0\", \"x\": \"wideResnet_hist\", \"xref\": \"x\", \"y\": \"simpleVGG_hist\", \"yref\": \"y\"}, {\"font\": {\"color\": \"#FFFFFF\"}, \"showarrow\": false, \"text\": \"0.0\", \"x\": \"simpleInception_hist_dataAug\", \"xref\": \"x\", \"y\": \"simpleVGG_hist\", \"yref\": \"y\"}, {\"font\": {\"color\": \"#FFFFFF\"}, \"showarrow\": false, \"text\": \"0.0\", \"x\": \"simpleResnet_hist\", \"xref\": \"x\", \"y\": \"simpleVGG_hist\", \"yref\": \"y\"}, {\"font\": {\"color\": \"#FFFFFF\"}, \"showarrow\": false, \"text\": \"0.0\", \"x\": \"simpleVGG_hist\", \"xref\": \"x\", \"y\": \"simpleVGG_hist\", \"yref\": \"y\"}, {\"font\": {\"color\": \"#000000\"}, \"showarrow\": false, \"text\": \"0.923\", \"x\": \"simpleInception_hist\", \"xref\": \"x\", \"y\": \"simpleVGG_hist\", \"yref\": \"y\"}, {\"font\": {\"color\": \"#FFFFFF\"}, \"showarrow\": false, \"text\": \"0.0\", \"x\": \"CNNDropout_hist_dataAug\", \"xref\": \"x\", \"y\": \"simpleInception_hist\", \"yref\": \"y\"}, {\"font\": {\"color\": \"#FFFFFF\"}, \"showarrow\": false, \"text\": \"0.0\", \"x\": \"mobileNetV2_hist_dataAug\", \"xref\": \"x\", \"y\": \"simpleInception_hist\", \"yref\": \"y\"}, {\"font\": {\"color\": \"#FFFFFF\"}, \"showarrow\": false, \"text\": \"0.0\", \"x\": \"mobileNetV2_hist\", \"xref\": \"x\", \"y\": \"simpleInception_hist\", \"yref\": \"y\"}, {\"font\": {\"color\": \"#FFFFFF\"}, \"showarrow\": false, \"text\": \"0.0\", \"x\": \"mlp_hist\", \"xref\": \"x\", \"y\": \"simpleInception_hist\", \"yref\": \"y\"}, {\"font\": {\"color\": \"#FFFFFF\"}, \"showarrow\": false, \"text\": \"0.0\", \"x\": \"simpleVGG_hist_dataAug\", \"xref\": \"x\", \"y\": \"simpleInception_hist\", \"yref\": \"y\"}, {\"font\": {\"color\": \"#FFFFFF\"}, \"showarrow\": false, \"text\": \"0.0\", \"x\": \"CNNDropout_hist\", \"xref\": \"x\", \"y\": \"simpleInception_hist\", \"yref\": \"y\"}, {\"font\": {\"color\": \"#FFFFFF\"}, \"showarrow\": false, \"text\": \"0.0\", \"x\": \"wideResnet_hist_dataAug\", \"xref\": \"x\", \"y\": \"simpleInception_hist\", \"yref\": \"y\"}, {\"font\": {\"color\": \"#FFFFFF\"}, \"showarrow\": false, \"text\": \"0.0\", \"x\": \"CNNBatchNorm_hist\", \"xref\": \"x\", \"y\": \"simpleInception_hist\", \"yref\": \"y\"}, {\"font\": {\"color\": \"#FFFFFF\"}, \"showarrow\": false, \"text\": \"0.0\", \"x\": \"CNNBatchNorm_hist_dataAug\", \"xref\": \"x\", \"y\": \"simpleInception_hist\", \"yref\": \"y\"}, {\"font\": {\"color\": \"#FFFFFF\"}, \"showarrow\": false, \"text\": \"0.0\", \"x\": \"simpleCNN_hist\", \"xref\": \"x\", \"y\": \"simpleInception_hist\", \"yref\": \"y\"}, {\"font\": {\"color\": \"#FFFFFF\"}, \"showarrow\": false, \"text\": \"0.0\", \"x\": \"simpleCNN_hist_dataAug\", \"xref\": \"x\", \"y\": \"simpleInception_hist\", \"yref\": \"y\"}, {\"font\": {\"color\": \"#FFFFFF\"}, \"showarrow\": false, \"text\": \"0.0\", \"x\": \"simpleResnet_hist_dataAug\", \"xref\": \"x\", \"y\": \"simpleInception_hist\", \"yref\": \"y\"}, {\"font\": {\"color\": \"#FFFFFF\"}, \"showarrow\": false, \"text\": \"0.0\", \"x\": \"wideResnet_hist\", \"xref\": \"x\", \"y\": \"simpleInception_hist\", \"yref\": \"y\"}, {\"font\": {\"color\": \"#FFFFFF\"}, \"showarrow\": false, \"text\": \"0.0\", \"x\": \"simpleInception_hist_dataAug\", \"xref\": \"x\", \"y\": \"simpleInception_hist\", \"yref\": \"y\"}, {\"font\": {\"color\": \"#FFFFFF\"}, \"showarrow\": false, \"text\": \"0.0\", \"x\": \"simpleResnet_hist\", \"xref\": \"x\", \"y\": \"simpleInception_hist\", \"yref\": \"y\"}, {\"font\": {\"color\": \"#FFFFFF\"}, \"showarrow\": false, \"text\": \"0.0\", \"x\": \"simpleVGG_hist\", \"xref\": \"x\", \"y\": \"simpleInception_hist\", \"yref\": \"y\"}, {\"font\": {\"color\": \"#FFFFFF\"}, \"showarrow\": false, \"text\": \"0.0\", \"x\": \"simpleInception_hist\", \"xref\": \"x\", \"y\": \"simpleInception_hist\", \"yref\": \"y\"}], \"xaxis\": {\"dtick\": 1, \"gridcolor\": \"rgb(0, 0, 0)\", \"side\": \"top\", \"ticks\": \"\"}, \"yaxis\": {\"dtick\": 1, \"ticks\": \"\", \"ticksuffix\": \"  \"}}, {\"showLink\": false, \"linkText\": \"Export to plot.ly\", \"plotlyServerURL\": \"https://plot.ly\"})});</script><script type=\"text/javascript\">window.addEventListener(\"resize\", function(){window._Plotly.Plots.resize(document.getElementById(\"90a41569-3845-4955-8ffe-126c8cf7de2e\"));});</script>"
      ]
     },
     "metadata": {},
     "output_type": "display_data"
    }
   ],
   "source": [
    "import plotly.graph_objs as go\n",
    "import plotly.figure_factory as ff\n",
    "from plotly.offline import download_plotlyjs, init_notebook_mode, plot, iplot\n",
    "from plotly import tools\n",
    "\n",
    "x = list(test_pred_df.columns)\n",
    "y = list(test_pred_df.columns)\n",
    "\n",
    "fig = ff.create_annotated_heatmap(kohen_matrix, x=x, y=y)\n",
    "layout = go.Layout(title = model_name)\n",
    "\n",
    "fig = go.Figure(data=fig, layout=layout)\n",
    "iplot(fig)"
   ]
  }
 ],
 "metadata": {
  "kernelspec": {
   "display_name": "Python 3",
   "language": "python",
   "name": "python3"
  },
  "language_info": {
   "codemirror_mode": {
    "name": "ipython",
    "version": 3
   },
   "file_extension": ".py",
   "mimetype": "text/x-python",
   "name": "python",
   "nbconvert_exporter": "python",
   "pygments_lexer": "ipython3",
   "version": "3.6.8"
  }
 },
 "nbformat": 4,
 "nbformat_minor": 2
}
